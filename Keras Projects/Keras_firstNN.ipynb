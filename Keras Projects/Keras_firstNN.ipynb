{
 "cells": [
  {
   "cell_type": "markdown",
   "id": "48cdeebb-d5be-4cfe-b7fd-339ea511eb45",
   "metadata": {},
   "source": [
    "# First NN with Keras"
   ]
  },
  {
   "cell_type": "code",
   "execution_count": 123,
   "id": "c8897d26-bcc8-450b-95e9-d32bd753d5b9",
   "metadata": {},
   "outputs": [],
   "source": [
    "import numpy as np\n",
    "import tensorflow as tf\n",
    "from tensorflow import keras\n",
    "from tensorflow.keras.models import Sequential\n",
    "from tensorflow.keras.layers import Activation, Dense, Flatten, BatchNormalization, Conv2D, MaxPool2D\n",
    "from tensorflow.keras.optimizers import Adam\n",
    "from tensorflow.keras.metrics import categorical_crossentropy\n",
    "from tensorflow.keras.preprocessing.image import ImageDataGenerator\n",
    "from sklearn.metrics import confusion_matrix\n",
    "import itertools\n",
    "import os\n",
    "import shutil\n",
    "import random\n",
    "import glob\n",
    "import matplotlib.pyplot as plt\n",
    "import warnings\n",
    "warnings.simplefilter(action='ignore', category=FutureWarning)\n",
    "%matplotlib inline"
   ]
  },
  {
   "cell_type": "markdown",
   "id": "473c978f-3111-4309-8f4b-fc1b55b58642",
   "metadata": {},
   "source": [
    "#### Let's create 4 lists the first one will hold the input data the other one the target data and the last 2 are are going to do the same but with test data."
   ]
  },
  {
   "cell_type": "code",
   "execution_count": 90,
   "id": "23e765e4-179a-40d8-a9a3-153a34326745",
   "metadata": {},
   "outputs": [],
   "source": [
    "train_labels = []\n",
    "train_samples = []\n",
    "test_samples = []\n",
    "test_labels = []"
   ]
  },
  {
   "cell_type": "markdown",
   "id": "837150c5-14a6-4fff-9310-6de1be3881c1",
   "metadata": {},
   "source": [
    "# Data Creation"
   ]
  },
  {
   "cell_type": "markdown",
   "id": "55395564-e5fc-4caa-b36f-f91585804dd3",
   "metadata": {},
   "source": [
    "For this task, I'll be creating my own example data set.\n",
    "\n",
    "As motivation for this data, let's suppose that an experimental drug was tested on individuals ranging from age 13 to 100 in a clinical trial. The trial had 2100 participants. Half of the participants were under 65 years old, and the other half was 65 years of age or older.\n",
    "\n",
    "The trial showed that around 95% of patients 65 or older experienced side effects from the drug, and around 95% of patients under 65 experienced no side effects, generally showing that elderly individuals were more likely to experience side effects.\n",
    "\n",
    "Ultimately, I want to build a model to tell us whether or not a patient will experience side effects solely based on the patient's age. The judgement of the model will be based on the training data."
   ]
  },
  {
   "cell_type": "code",
   "execution_count": 91,
   "id": "9c7e8da5-0891-409b-aaf5-7ad5edf7ab0a",
   "metadata": {},
   "outputs": [],
   "source": [
    "for i in range(50):\n",
    "    # The ~5% of younger individuals who did experience side effects\n",
    "    random_younger = randint(13,64)\n",
    "    train_samples.append(random_younger)\n",
    "    train_labels.append(1)\n",
    "\n",
    "    # The ~5% of older individuals who did not experience side effects\n",
    "    random_older = randint(65,100)\n",
    "    train_samples.append(random_older)\n",
    "    train_labels.append(0)\n",
    "\n",
    "for i in range(1000):\n",
    "    # The ~95% of younger individuals who did not experience side effects\n",
    "    random_younger = randint(13,64)\n",
    "    train_samples.append(random_younger)\n",
    "    train_labels.append(0)\n",
    "\n",
    "    # The ~95% of older individuals who did experience side effects\n",
    "    random_older = randint(65,100)\n",
    "    train_samples.append(random_older)\n",
    "    train_labels.append(1)\n",
    "\n"
   ]
  },
  {
   "cell_type": "markdown",
   "id": "335b6a14-1e38-4809-b24f-ce71cde821bb",
   "metadata": {},
   "source": [
    "##### `train_labels` A 0 indicates that an individual did not experience a side effect, and a 1 indicates that an individual did experience a side effect."
   ]
  },
  {
   "cell_type": "markdown",
   "id": "7fa1f811-f4cf-4a33-a9df-13ae194981d6",
   "metadata": {},
   "source": [
    "# Data Processing"
   ]
  },
  {
   "cell_type": "markdown",
   "id": "7455fc6b-b17c-4a44-961f-bd80076310a6",
   "metadata": {},
   "source": [
    "#### The Data needs to be formated to an array so the .fit function could work"
   ]
  },
  {
   "cell_type": "code",
   "execution_count": 92,
   "id": "297e02a6-a63f-485d-b72f-5f909c2f663a",
   "metadata": {},
   "outputs": [],
   "source": [
    "train_labels = np.array(train_labels)\n",
    "train_samples = np.array(train_samples)\n",
    "train_labels, train_samples = shuffle(train_labels, train_samples)"
   ]
  },
  {
   "cell_type": "markdown",
   "id": "623b4e42-d4bc-48db-9a36-cc6717cb512f",
   "metadata": {},
   "source": [
    "#### I'll use scikit-learn's MinMaxScaler class to scale all of the data down from a scale ranging from 13 to 100 to be on a scale from 0 to 1. I reshape the data as a technical requirement just since the fit_transforma() function doesn't accept 1D data by default."
   ]
  },
  {
   "cell_type": "code",
   "execution_count": 93,
   "id": "51628903-3a41-4806-a3d0-731107d8d831",
   "metadata": {},
   "outputs": [],
   "source": [
    "scaler = MinMaxScaler(feature_range=(0,1))\n",
    "scaled_train_samples = scaler.fit_transform(train_samples.reshape(-1,1))"
   ]
  },
  {
   "cell_type": "markdown",
   "id": "0b8ccfe3-2c14-4aa7-9e71-c6d30f8c9e4b",
   "metadata": {},
   "source": [
    "##### Let's now create our model. First, I create a variable named model and define it as follows."
   ]
  },
  {
   "cell_type": "code",
   "execution_count": 95,
   "id": "7ac3289f-ef8e-4e17-9b0c-fa54c92151af",
   "metadata": {},
   "outputs": [],
   "source": [
    "model = Sequential([\n",
    "    Dense(units=16, input_shape=(1,), activation='relu'),\n",
    "    Dense(units=32, activation='relu'),\n",
    "    Dense(units=2, activation='softmax')\n",
    "])"
   ]
  },
  {
   "cell_type": "markdown",
   "id": "c79835cb-9e8f-49f8-935d-9f20db010716",
   "metadata": {},
   "source": [
    "### First Hidden Layer\n",
    "Our first layer is a Dense layer. This type of layer is our standard fully-connected or densely-connected neural network layer. The first required parameter that the Dense layer expects is the number of neurons or units the layer has, and I've arbitrarily set this to 16.\n",
    "\n",
    "Additionally, the model needs to know the shape of the input data. For this reason, I specify the shape of the input data in the first hidden layer in the model. I used the parameter called input_shape to specify this.\n",
    "\n",
    "I'll be training the network on the data generated and processed. The input_shape parameter expects a tuple of integers that matches the shape of the input data, so I correspondingly specify (1,) as the input_shape of the  1-D data.\n",
    "\n",
    "The way I specify the input_shape here as acting as an implicit input layer. The input layer of a neural network is the underlying raw data itself, therefore I don't create an explicit input layer. This first Dense layer that I was working with now is actually the first hidden layer.\n",
    "\n",
    "Lastly, an optional parameter that I'll set for the Dense layer is the activation function to use after this layer. In this case I'll use the popular choice of **relu**. \n",
    "\n",
    "### Second Hidden Layer\n",
    "\n",
    "The layer will also be a Dense layer, and this one will have 32 nodes. The choice of how many neurons this node has is also arbitrary, as the idea is to create a simple model, and then test and experiment with it. If I notice that it is insufficient, then at that time, i can troubleshoot the \n",
    "\n",
    "issue and begin experimenting with changing parameters, like number of layers, nodes, etc.\n",
    "\n",
    "This Dense layer will also use relu as its activation function.\n",
    "\n",
    "### Output Layer\n",
    "\n",
    "Lastly, I specify the output layer. This layer is also a Dense layer, and it will have 2 neurons. This is because I have two possible outputs: either a patient experienced side effects, or the patient did not experience side effects.\n",
    "\n",
    "This time, the activation function I going to be **softmax** , which will give me a probability distribution among the possible outputs."
   ]
  },
  {
   "cell_type": "markdown",
   "id": "806914a8-36bc-44dd-993a-6fb91af97f7f",
   "metadata": {},
   "source": [
    "##### I can call summary()  to get a quick visualization of the model"
   ]
  },
  {
   "cell_type": "code",
   "execution_count": 96,
   "id": "9c2df64d-4ffb-4a79-942d-fe2f93b95a10",
   "metadata": {},
   "outputs": [
    {
     "name": "stdout",
     "output_type": "stream",
     "text": [
      "Model: \"sequential_4\"\n",
      "_________________________________________________________________\n",
      "Layer (type)                 Output Shape              Param #   \n",
      "=================================================================\n",
      "dense_12 (Dense)             (None, 16)                32        \n",
      "_________________________________________________________________\n",
      "dense_13 (Dense)             (None, 32)                544       \n",
      "_________________________________________________________________\n",
      "dense_14 (Dense)             (None, 2)                 66        \n",
      "=================================================================\n",
      "Total params: 642\n",
      "Trainable params: 642\n",
      "Non-trainable params: 0\n",
      "_________________________________________________________________\n"
     ]
    }
   ],
   "source": [
    "model.summary()"
   ]
  },
  {
   "cell_type": "markdown",
   "id": "cab594db-fab1-4f4d-92e3-72d60981600d",
   "metadata": {},
   "source": [
    "# Compiling The Model"
   ]
  },
  {
   "cell_type": "markdown",
   "id": "17164765-6b38-4487-bd92-4a8d96cc25d3",
   "metadata": {},
   "source": [
    "#### The first thing I need to do to get the model ready for training is call the compile() function on it."
   ]
  },
  {
   "cell_type": "code",
   "execution_count": 97,
   "id": "a98740c9-399d-4b32-89eb-b19e8da8bd25",
   "metadata": {},
   "outputs": [],
   "source": [
    "model.compile(optimizer=Adam(learning_rate=0.0001), loss='sparse_categorical_crossentropy', metrics=['accuracy'])"
   ]
  },
  {
   "cell_type": "markdown",
   "id": "28a66f58-5619-400f-a6d9-3af5c76b3478",
   "metadata": {},
   "source": [
    "This function configures the model for training and expects a number of parameters. First, I specify the optimizer Adam. Adam accepts an optional parameter learning_rate, which I'll set to 0.0001.\n",
    "\n",
    "Adam optimization is a stochastic gradient descent (SGD) method"
   ]
  },
  {
   "cell_type": "markdown",
   "id": "185b01ee-3602-463f-8e70-c284eba195d2",
   "metadata": {},
   "source": [
    "The next parameter I specify is loss. I'll be using sparse_categorical_crossentropy.\n",
    "\n",
    "Note: That I have only two classes, I could instead configure our output layer to have only one output, rather than two, and use binary_crossentropy as our loss, rather than categorical_crossentropy. Both options work equally well and achieve the exact same result.\n",
    "\n",
    "With binary_crossentropy, however, the last layer would need to use sigmoid, rather than softmax, as it's activation function."
   ]
  },
  {
   "cell_type": "markdown",
   "id": "687fa8df-c429-4ef6-826d-f5fed933674b",
   "metadata": {},
   "source": [
    "The last parameter I specify in compile() is metrics. This parameter expects a list of metrics that I'd like to be evaluated by the model during training and testing. I'll set this to a list that contains the string `accuracy`."
   ]
  },
  {
   "cell_type": "markdown",
   "id": "a635a46e-9f68-46bd-87cb-35b7ec1d447d",
   "metadata": {},
   "source": [
    "# Training The Model"
   ]
  },
  {
   "cell_type": "markdown",
   "id": "9c10e278-ce65-4981-a2ff-8846d037ce3c",
   "metadata": {},
   "source": [
    "### Now that the model is compiled, I can train it using the fit() function."
   ]
  },
  {
   "cell_type": "markdown",
   "id": "1a2f55ec-185c-4f6c-b4fc-bcf7423a26a9",
   "metadata": {},
   "source": [
    "The first item that I pass in to the fit() function is the training set x. \n",
    "\n",
    "The next parameter that I set is the labels for the training set y, which `train_labels` .\n",
    "\n",
    "I then specify the batch_size.\n",
    "\n",
    "Next, specify how many epochs I want to run. I decide set this to 30. An epoch is a single pass of all the data to the network.\n"
   ]
  },
  {
   "cell_type": "code",
   "execution_count": 98,
   "id": "ba12e132-d3bc-4c42-ad97-1416fe125fe2",
   "metadata": {
    "tags": []
   },
   "outputs": [
    {
     "name": "stdout",
     "output_type": "stream",
     "text": [
      "Epoch 1/30\n",
      "210/210 [==============================] - 0s 718us/step - loss: 0.7021 - accuracy: 0.4333\n",
      "Epoch 2/30\n",
      "210/210 [==============================] - 0s 708us/step - loss: 0.6657 - accuracy: 0.5738\n",
      "Epoch 3/30\n",
      "210/210 [==============================] - 0s 742us/step - loss: 0.6343 - accuracy: 0.6643\n",
      "Epoch 4/30\n",
      "210/210 [==============================] - 0s 699us/step - loss: 0.5986 - accuracy: 0.7448\n",
      "Epoch 5/30\n",
      "210/210 [==============================] - 0s 708us/step - loss: 0.5633 - accuracy: 0.7805\n",
      "Epoch 6/30\n",
      "210/210 [==============================] - 0s 699us/step - loss: 0.5275 - accuracy: 0.8119\n",
      "Epoch 7/30\n",
      "210/210 [==============================] - 0s 713us/step - loss: 0.4928 - accuracy: 0.8367\n",
      "Epoch 8/30\n",
      "210/210 [==============================] - 0s 704us/step - loss: 0.4603 - accuracy: 0.8590\n",
      "Epoch 9/30\n",
      "210/210 [==============================] - 0s 684us/step - loss: 0.4311 - accuracy: 0.8743\n",
      "Epoch 10/30\n",
      "210/210 [==============================] - 0s 699us/step - loss: 0.4052 - accuracy: 0.8871\n",
      "Epoch 11/30\n",
      "210/210 [==============================] - 0s 689us/step - loss: 0.3826 - accuracy: 0.8952\n",
      "Epoch 12/30\n",
      "210/210 [==============================] - 0s 689us/step - loss: 0.3631 - accuracy: 0.9014\n",
      "Epoch 13/30\n",
      "210/210 [==============================] - 0s 694us/step - loss: 0.3463 - accuracy: 0.9095\n",
      "Epoch 14/30\n",
      "210/210 [==============================] - 0s 689us/step - loss: 0.3322 - accuracy: 0.9114\n",
      "Epoch 15/30\n",
      "210/210 [==============================] - 0s 684us/step - loss: 0.3207 - accuracy: 0.9148\n",
      "Epoch 16/30\n",
      "210/210 [==============================] - 0s 689us/step - loss: 0.3110 - accuracy: 0.9214\n",
      "Epoch 17/30\n",
      "210/210 [==============================] - 0s 679us/step - loss: 0.3030 - accuracy: 0.9229\n",
      "Epoch 18/30\n",
      "210/210 [==============================] - 0s 689us/step - loss: 0.2965 - accuracy: 0.9238\n",
      "Epoch 19/30\n",
      "210/210 [==============================] - 0s 708us/step - loss: 0.2909 - accuracy: 0.9248\n",
      "Epoch 20/30\n",
      "210/210 [==============================] - 0s 713us/step - loss: 0.2862 - accuracy: 0.9252\n",
      "Epoch 21/30\n",
      "210/210 [==============================] - 0s 694us/step - loss: 0.2827 - accuracy: 0.9262\n",
      "Epoch 22/30\n",
      "210/210 [==============================] - 0s 685us/step - loss: 0.2791 - accuracy: 0.9252\n",
      "Epoch 23/30\n",
      "210/210 [==============================] - 0s 689us/step - loss: 0.2765 - accuracy: 0.9329\n",
      "Epoch 24/30\n",
      "210/210 [==============================] - 0s 684us/step - loss: 0.2740 - accuracy: 0.9324\n",
      "Epoch 25/30\n",
      "210/210 [==============================] - 0s 686us/step - loss: 0.2719 - accuracy: 0.9319\n",
      "Epoch 26/30\n",
      "210/210 [==============================] - 0s 699us/step - loss: 0.2701 - accuracy: 0.9310\n",
      "Epoch 27/30\n",
      "210/210 [==============================] - 0s 692us/step - loss: 0.2683 - accuracy: 0.9267\n",
      "Epoch 28/30\n",
      "210/210 [==============================] - 0s 674us/step - loss: 0.2670 - accuracy: 0.9348\n",
      "Epoch 29/30\n",
      "210/210 [==============================] - 0s 677us/step - loss: 0.2657 - accuracy: 0.9348\n",
      "Epoch 30/30\n",
      "210/210 [==============================] - 0s 761us/step - loss: 0.2646 - accuracy: 0.9333\n"
     ]
    },
    {
     "data": {
      "text/plain": [
       "<keras.callbacks.History at 0x1c2512ca3a0>"
      ]
     },
     "execution_count": 98,
     "metadata": {},
     "output_type": "execute_result"
    }
   ],
   "source": [
    "model.fit(x=scaled_train_samples, y=train_labels, batch_size=10, epochs=30)"
   ]
  },
  {
   "cell_type": "markdown",
   "id": "a72f2f18-3509-4716-8c7c-a8c6d74693fd",
   "metadata": {},
   "source": [
    "I can see corresponding output for each of the 30 epochs. Judging by the loss and accuracy, I can see that both metrics steadily improve over time with accuracy reaching almost 93% and loss steadily decreasing until it reaches 0.27.\n",
    "Note that although this is a very simple model trained on simple data, I was able to reach pretty good results in a relatively quick manner of time."
   ]
  },
  {
   "cell_type": "markdown",
   "id": "17c3588a-75d3-4450-8228-1c7720995dfa",
   "metadata": {},
   "source": [
    "# Build A Validation Set"
   ]
  },
  {
   "cell_type": "markdown",
   "id": "dc546589-6f2f-44fd-ae5b-c7fa0997c9c8",
   "metadata": {},
   "source": [
    "I can call model.fit(), and set a value for the **validation_split**  parameter. It expects a fractional number between 0 and 1. I set this parameter to 0.1."
   ]
  },
  {
   "cell_type": "code",
   "execution_count": 99,
   "id": "5349817b-f7a3-4636-ac51-ecdf963bc90c",
   "metadata": {
    "tags": []
   },
   "outputs": [
    {
     "name": "stdout",
     "output_type": "stream",
     "text": [
      "Epoch 1/30\n",
      "189/189 - 0s - loss: 0.2622 - accuracy: 0.9349 - val_loss: 0.2752 - val_accuracy: 0.9333\n",
      "Epoch 2/30\n",
      "189/189 - 0s - loss: 0.2612 - accuracy: 0.9328 - val_loss: 0.2743 - val_accuracy: 0.9333\n",
      "Epoch 3/30\n",
      "189/189 - 0s - loss: 0.2607 - accuracy: 0.9339 - val_loss: 0.2737 - val_accuracy: 0.9333\n",
      "Epoch 4/30\n",
      "189/189 - 0s - loss: 0.2597 - accuracy: 0.9323 - val_loss: 0.2730 - val_accuracy: 0.9333\n",
      "Epoch 5/30\n",
      "189/189 - 0s - loss: 0.2589 - accuracy: 0.9376 - val_loss: 0.2727 - val_accuracy: 0.9333\n",
      "Epoch 6/30\n",
      "189/189 - 0s - loss: 0.2582 - accuracy: 0.9349 - val_loss: 0.2720 - val_accuracy: 0.9333\n",
      "Epoch 7/30\n",
      "189/189 - 0s - loss: 0.2576 - accuracy: 0.9333 - val_loss: 0.2714 - val_accuracy: 0.9333\n",
      "Epoch 8/30\n",
      "189/189 - 0s - loss: 0.2569 - accuracy: 0.9349 - val_loss: 0.2711 - val_accuracy: 0.9333\n",
      "Epoch 9/30\n",
      "189/189 - 0s - loss: 0.2566 - accuracy: 0.9344 - val_loss: 0.2705 - val_accuracy: 0.9333\n",
      "Epoch 10/30\n",
      "189/189 - 0s - loss: 0.2558 - accuracy: 0.9349 - val_loss: 0.2703 - val_accuracy: 0.9333\n",
      "Epoch 11/30\n",
      "189/189 - 0s - loss: 0.2552 - accuracy: 0.9307 - val_loss: 0.2696 - val_accuracy: 0.9333\n",
      "Epoch 12/30\n",
      "189/189 - 0s - loss: 0.2548 - accuracy: 0.9397 - val_loss: 0.2693 - val_accuracy: 0.9333\n",
      "Epoch 13/30\n",
      "189/189 - 0s - loss: 0.2543 - accuracy: 0.9349 - val_loss: 0.2690 - val_accuracy: 0.9333\n",
      "Epoch 14/30\n",
      "189/189 - 0s - loss: 0.2538 - accuracy: 0.9349 - val_loss: 0.2686 - val_accuracy: 0.9333\n",
      "Epoch 15/30\n",
      "189/189 - 0s - loss: 0.2534 - accuracy: 0.9349 - val_loss: 0.2680 - val_accuracy: 0.9333\n",
      "Epoch 16/30\n",
      "189/189 - 0s - loss: 0.2530 - accuracy: 0.9349 - val_loss: 0.2677 - val_accuracy: 0.9333\n",
      "Epoch 17/30\n",
      "189/189 - 0s - loss: 0.2525 - accuracy: 0.9354 - val_loss: 0.2675 - val_accuracy: 0.9333\n",
      "Epoch 18/30\n",
      "189/189 - 0s - loss: 0.2522 - accuracy: 0.9349 - val_loss: 0.2669 - val_accuracy: 0.9333\n",
      "Epoch 19/30\n",
      "189/189 - 0s - loss: 0.2517 - accuracy: 0.9349 - val_loss: 0.2663 - val_accuracy: 0.9333\n",
      "Epoch 20/30\n",
      "189/189 - 0s - loss: 0.2513 - accuracy: 0.9365 - val_loss: 0.2661 - val_accuracy: 0.9333\n",
      "Epoch 21/30\n",
      "189/189 - 0s - loss: 0.2510 - accuracy: 0.9328 - val_loss: 0.2654 - val_accuracy: 0.9333\n",
      "Epoch 22/30\n",
      "189/189 - 0s - loss: 0.2507 - accuracy: 0.9354 - val_loss: 0.2650 - val_accuracy: 0.9333\n",
      "Epoch 23/30\n",
      "189/189 - 0s - loss: 0.2503 - accuracy: 0.9349 - val_loss: 0.2647 - val_accuracy: 0.9333\n",
      "Epoch 24/30\n",
      "189/189 - 0s - loss: 0.2499 - accuracy: 0.9365 - val_loss: 0.2645 - val_accuracy: 0.9333\n",
      "Epoch 25/30\n",
      "189/189 - 0s - loss: 0.2496 - accuracy: 0.9349 - val_loss: 0.2641 - val_accuracy: 0.9333\n",
      "Epoch 26/30\n",
      "189/189 - 0s - loss: 0.2492 - accuracy: 0.9360 - val_loss: 0.2635 - val_accuracy: 0.9333\n",
      "Epoch 27/30\n",
      "189/189 - 0s - loss: 0.2488 - accuracy: 0.9370 - val_loss: 0.2635 - val_accuracy: 0.9333\n",
      "Epoch 28/30\n",
      "189/189 - 0s - loss: 0.2484 - accuracy: 0.9349 - val_loss: 0.2629 - val_accuracy: 0.9333\n",
      "Epoch 29/30\n",
      "189/189 - 0s - loss: 0.2481 - accuracy: 0.9349 - val_loss: 0.2625 - val_accuracy: 0.9333\n",
      "Epoch 30/30\n",
      "189/189 - 0s - loss: 0.2477 - accuracy: 0.9365 - val_loss: 0.2623 - val_accuracy: 0.9333\n"
     ]
    },
    {
     "data": {
      "text/plain": [
       "<keras.callbacks.History at 0x1c251448a90>"
      ]
     },
     "execution_count": 99,
     "metadata": {},
     "output_type": "execute_result"
    }
   ],
   "source": [
    "model.fit(\n",
    "      x=scaled_train_samples\n",
    "    , y=train_labels\n",
    "    , validation_split=0.1\n",
    "    , batch_size=10\n",
    "    , epochs=30\n",
    "    , verbose=2\n",
    ")"
   ]
  },
  {
   "cell_type": "markdown",
   "id": "85b556d1-ef83-4948-923a-aa3e20f97609",
   "metadata": {},
   "source": [
    "With this parameter specified, Keras will split apart a fraction (10% in this example) of the training data to be used as validation data. The model will set apart this fraction of the training data, will not train on it, and will evaluate the loss and any model metrics on this data at the end of each epoch.\n",
    "Note that the fit() function shuffles the data before each epoch by default. When specifying the validation_split parameter, however, the validation data is selected from the last samples in the x and y data before shuffling."
   ]
  },
  {
   "cell_type": "markdown",
   "id": "9505ce36-ced9-43db-9bbb-07c008e4d8ec",
   "metadata": {},
   "source": [
    "I can now see not only how well our model is learning the features of the training data, but also how well the model is generalizing to new, unseen data from the validation set. Next, we'll see how to use our model for inference."
   ]
  },
  {
   "cell_type": "markdown",
   "id": "8bc28db3-d4a9-440d-931d-c94129d34385",
   "metadata": {},
   "source": [
    "# Evaluating The Test Set"
   ]
  },
  {
   "cell_type": "markdown",
   "id": "165a286a-b113-4e87-aca5-f8019abdfbdb",
   "metadata": {},
   "source": [
    "#### Creating Test Set"
   ]
  },
  {
   "cell_type": "code",
   "execution_count": 102,
   "id": "1a1b3dc3-1583-4967-a4fa-101fb7051604",
   "metadata": {},
   "outputs": [],
   "source": [
    "test_labels =  []\n",
    "test_samples = []\n",
    "\n",
    "for i in range(10):\n",
    "    # The 5% of younger individuals who did experience side effects\n",
    "    random_younger = randint(13,64)\n",
    "    test_samples.append(random_younger)\n",
    "    test_labels.append(1)\n",
    "\n",
    "    # The 5% of older individuals who did not experience side effects\n",
    "    random_older = randint(65,100)\n",
    "    test_samples.append(random_older)\n",
    "    test_labels.append(0)\n",
    "\n",
    "for i in range(200):\n",
    "    # The 95% of younger individuals who did not experience side effects\n",
    "    random_younger = randint(13,64)\n",
    "    test_samples.append(random_younger)\n",
    "    test_labels.append(0)\n",
    "\n",
    "    # The 95% of older individuals who did experience side effects\n",
    "    random_older = randint(65,100)\n",
    "    test_samples.append(random_older)\n",
    "    test_labels.append(1)\n",
    "\n",
    "test_labels = np.array(test_labels)\n",
    "test_samples = np.array(test_samples)\n",
    "test_labels, test_samples = shuffle(test_labels, test_samples)\n",
    "\n",
    "scaled_test_samples = scaler.fit_transform(test_samples.reshape(-1,1))\n"
   ]
  },
  {
   "cell_type": "code",
   "execution_count": 103,
   "id": "476f18c9-7b71-41c7-befe-78bdab37a42e",
   "metadata": {},
   "outputs": [],
   "source": [
    "predictions = model.predict(\n",
    "      x=scaled_test_samples\n",
    "    , batch_size=10\n",
    "    , verbose=0\n",
    ")"
   ]
  },
  {
   "cell_type": "code",
   "execution_count": 104,
   "id": "22e17502-a25c-4ef4-9bd6-a451e0458cbc",
   "metadata": {
    "collapsed": true,
    "jupyter": {
     "outputs_hidden": true
    },
    "tags": []
   },
   "outputs": [
    {
     "name": "stdout",
     "output_type": "stream",
     "text": [
      "[0.251666   0.74833393]\n",
      "[0.04910346 0.95089656]\n",
      "[0.9698342  0.03016575]\n",
      "[0.09566211 0.90433794]\n",
      "[0.9617622  0.03823782]\n",
      "[0.06621905 0.93378097]\n",
      "[0.03911392 0.960886  ]\n",
      "[0.9710944  0.02890561]\n",
      "[0.96957594 0.0304241 ]\n",
      "[0.0287882 0.9712118]\n",
      "[0.9258982  0.07410187]\n",
      "[0.04553036 0.9544696 ]\n",
      "[0.29133505 0.70866495]\n",
      "[0.08874368 0.9112563 ]\n",
      "[0.07129446 0.9287055 ]\n",
      "[0.97091514 0.02908484]\n",
      "[0.01808571 0.98191434]\n",
      "[0.04220573 0.95779425]\n",
      "[0.02665194 0.97334814]\n",
      "[0.67211986 0.32788014]\n",
      "[0.15600173 0.8439983 ]\n",
      "[0.97034454 0.02965543]\n",
      "[0.13930608 0.86069393]\n",
      "[0.96825176 0.03174829]\n",
      "[0.97292656 0.02707338]\n",
      "[0.08874368 0.9112563 ]\n",
      "[0.87245166 0.12754829]\n",
      "[0.971584   0.02841597]\n",
      "[0.9720968 0.0279032]\n",
      "[0.03356993 0.96643007]\n",
      "[0.03109021 0.9689098 ]\n",
      "[0.96931547 0.03068458]\n",
      "[0.02665194 0.97334814]\n",
      "[0.52878726 0.47121274]\n",
      "[0.9723034  0.02769659]\n",
      "[0.7538891 0.2461109]\n",
      "[0.29133505 0.70866495]\n",
      "[0.01672996 0.98327005]\n",
      "[0.9698342  0.03016575]\n",
      "[0.29133505 0.70866495]\n",
      "[0.96798027 0.03201973]\n",
      "[0.7892317  0.21076828]\n",
      "[0.97034454 0.02965543]\n",
      "[0.67211986 0.32788014]\n",
      "[0.97255874 0.02744124]\n",
      "[0.01808571 0.98191434]\n",
      "[0.97059655 0.02940342]\n",
      "[0.04910346 0.95089656]\n",
      "[0.52878726 0.47121274]\n",
      "[0.9715182  0.02848175]\n",
      "[0.578377   0.42162293]\n",
      "[0.0767269 0.9232731]\n",
      "[0.05706131 0.9429387 ]\n",
      "[0.9698342  0.03016575]\n",
      "[0.9695311  0.03046891]\n",
      "[0.06148105 0.93851894]\n",
      "[0.05706131 0.9429387 ]\n",
      "[0.95214534 0.04785469]\n",
      "[0.0767269 0.9232731]\n",
      "[0.97292656 0.02707338]\n",
      "[0.97255874 0.02744124]\n",
      "[0.05294138 0.9470587 ]\n",
      "[0.52878726 0.47121274]\n",
      "[0.07129446 0.9287055 ]\n",
      "[0.96957594 0.0304241 ]\n",
      "[0.89318055 0.10681941]\n",
      "[0.9710944  0.02890561]\n",
      "[0.01672996 0.98327005]\n",
      "[0.03356993 0.96643007]\n",
      "[0.07129446 0.9287055 ]\n",
      "[0.97034454 0.02965543]\n",
      "[0.15600173 0.8439983 ]\n",
      "[0.97034454 0.02965543]\n",
      "[0.11126694 0.888733  ]\n",
      "[0.9698342  0.03016575]\n",
      "[0.89318055 0.10681941]\n",
      "[0.21575399 0.78424597]\n",
      "[0.97009045 0.02990954]\n",
      "[0.12935594 0.8706441 ]\n",
      "[0.12935594 0.8706441 ]\n",
      "[0.7892317  0.21076828]\n",
      "[0.95214534 0.04785469]\n",
      "[0.93731916 0.06268081]\n",
      "[0.04910346 0.95089656]\n",
      "[0.87245166 0.12754829]\n",
      "[0.96798027 0.03201973]\n",
      "[0.03109021 0.9689098 ]\n",
      "[0.97059655 0.02940342]\n",
      "[0.96798027 0.03201973]\n",
      "[0.9732897  0.02671031]\n",
      "[0.96798027 0.03201973]\n",
      "[0.87245166 0.12754829]\n",
      "[0.97034454 0.02965543]\n",
      "[0.05706131 0.9429387 ]\n",
      "[0.03624004 0.96375996]\n",
      "[0.97134024 0.02865977]\n",
      "[0.96852094 0.03147906]\n",
      "[0.96931547 0.03068458]\n",
      "[0.03911392 0.960886  ]\n",
      "[0.97182584 0.02817418]\n",
      "[0.03624004 0.96375996]\n",
      "[0.96852094 0.03147906]\n",
      "[0.97292656 0.02707338]\n",
      "[0.97292656 0.02707338]\n",
      "[0.29133505 0.70866495]\n",
      "[0.97206557 0.02793439]\n",
      "[0.9730051  0.02699491]\n",
      "[0.12001749 0.8799825 ]\n",
      "[0.9454468  0.05455319]\n",
      "[0.96540636 0.03459359]\n",
      "[0.29133505 0.70866495]\n",
      "[0.96801335 0.03198669]\n",
      "[0.03624004 0.96375996]\n",
      "[0.05706131 0.9429387 ]\n",
      "[0.9710944  0.02890561]\n",
      "[0.9258982  0.07410187]\n",
      "[0.01954913 0.98045087]\n",
      "[0.0287882 0.9712118]\n",
      "[0.0287882 0.9712118]\n",
      "[0.07129446 0.9287055 ]\n",
      "[0.9723034  0.02769659]\n",
      "[0.09566211 0.90433794]\n",
      "[0.21575399 0.78424597]\n",
      "[0.96878797 0.03121204]\n",
      "[0.97277313 0.02722686]\n",
      "[0.97182584 0.02817418]\n",
      "[0.251666   0.74833393]\n",
      "[0.95214534 0.04785469]\n",
      "[0.9698342  0.03016575]\n",
      "[0.9730051  0.02699491]\n",
      "[0.97091514 0.02908484]\n",
      "[0.12935594 0.8706441 ]\n",
      "[0.97134024 0.02865977]\n",
      "[0.9454468  0.05455319]\n",
      "[0.06621905 0.93378097]\n",
      "[0.02112843 0.9788715 ]\n",
      "[0.05706131 0.9429387 ]\n",
      "[0.18370856 0.8162914 ]\n",
      "[0.10308077 0.8969192 ]\n",
      "[0.03356993 0.96643007]\n",
      "[0.04220573 0.95779425]\n",
      "[0.03109021 0.9689098 ]\n",
      "[0.9715182  0.02848175]\n",
      "[0.9710944  0.02890561]\n",
      "[0.13930608 0.86069393]\n",
      "[0.95214534 0.04785469]\n",
      "[0.12001749 0.8799825 ]\n",
      "[0.11126694 0.888733  ]\n",
      "[0.42888597 0.571114  ]\n",
      "[0.9702997  0.02970029]\n",
      "[0.97253925 0.02746074]\n",
      "[0.9695311  0.03046891]\n",
      "[0.03109021 0.9689098 ]\n",
      "[0.97134024 0.02865977]\n",
      "[0.21575399 0.78424597]\n",
      "[0.96852094 0.03147906]\n",
      "[0.9710944  0.02890561]\n",
      "[0.9720968 0.0279032]\n",
      "[0.97292656 0.02707338]\n",
      "[0.01954913 0.98045087]\n",
      "[0.05706131 0.9429387 ]\n",
      "[0.05706131 0.9429387 ]\n",
      "[0.9454468  0.05455319]\n",
      "[0.12001749 0.8799825 ]\n",
      "[0.06621905 0.93378097]\n",
      "[0.15600173 0.8439983 ]\n",
      "[0.08874368 0.9112563 ]\n",
      "[0.02283233 0.97716767]\n",
      "[0.02112843 0.9788715 ]\n",
      "[0.02467019 0.9753298 ]\n",
      "[0.0287882 0.9712118]\n",
      "[0.15600173 0.8439983 ]\n",
      "[0.12001749 0.8799825 ]\n",
      "[0.9720968 0.0279032]\n",
      "[0.9702997  0.02970029]\n",
      "[0.06148105 0.93851894]\n",
      "[0.12001749 0.8799825 ]\n",
      "[0.9723034  0.02769659]\n",
      "[0.0825365 0.9174635]\n",
      "[0.0825365 0.9174635]\n",
      "[0.0767269 0.9232731]\n",
      "[0.9730051  0.02699491]\n",
      "[0.96852094 0.03147906]\n",
      "[0.02283233 0.97716767]\n",
      "[0.96825176 0.03174829]\n",
      "[0.9723034  0.02769659]\n",
      "[0.33446205 0.66553795]\n",
      "[0.04910346 0.95089656]\n",
      "[0.03109021 0.9689098 ]\n",
      "[0.15600173 0.8439983 ]\n",
      "[0.9577356  0.04226439]\n",
      "[0.09566211 0.90433794]\n",
      "[0.9695311  0.03046891]\n",
      "[0.97009045 0.02990954]\n",
      "[0.0767269 0.9232731]\n",
      "[0.15600173 0.8439983 ]\n",
      "[0.04220573 0.95779425]\n",
      "[0.578377   0.42162293]\n",
      "[0.0767269 0.9232731]\n",
      "[0.03356993 0.96643007]\n",
      "[0.9732897  0.02671031]\n",
      "[0.96801335 0.03198669]\n",
      "[0.03109021 0.9689098 ]\n",
      "[0.15600173 0.8439983 ]\n",
      "[0.33446205 0.66553795]\n",
      "[0.9715182  0.02848175]\n",
      "[0.09566211 0.90433794]\n",
      "[0.29133505 0.70866495]\n",
      "[0.9723034  0.02769659]\n",
      "[0.9617622  0.03823782]\n",
      "[0.04910346 0.95089656]\n",
      "[0.07129446 0.9287055 ]\n",
      "[0.09566211 0.90433794]\n",
      "[0.13930608 0.86069393]\n",
      "[0.67211986 0.32788014]\n",
      "[0.01808571 0.98191434]\n",
      "[0.11126694 0.888733  ]\n",
      "[0.02283233 0.97716767]\n",
      "[0.67211986 0.32788014]\n",
      "[0.0825365 0.9174635]\n",
      "[0.9617622  0.03823782]\n",
      "[0.10308077 0.8969192 ]\n",
      "[0.89318055 0.10681941]\n",
      "[0.0287882 0.9712118]\n",
      "[0.9454468  0.05455319]\n",
      "[0.97292656 0.02707338]\n",
      "[0.9732351  0.02676488]\n",
      "[0.38054526 0.61945474]\n",
      "[0.9732351  0.02676488]\n",
      "[0.9723034  0.02769659]\n",
      "[0.9695311  0.03046891]\n",
      "[0.95214534 0.04785469]\n",
      "[0.12935594 0.8706441 ]\n",
      "[0.03911392 0.960886  ]\n",
      "[0.97206557 0.02793439]\n",
      "[0.18370856 0.8162914 ]\n",
      "[0.97206557 0.02793439]\n",
      "[0.13930608 0.86069393]\n",
      "[0.07129446 0.9287055 ]\n",
      "[0.42888597 0.571114  ]\n",
      "[0.97134024 0.02865977]\n",
      "[0.21575399 0.78424597]\n",
      "[0.06621905 0.93378097]\n",
      "[0.01808571 0.98191434]\n",
      "[0.97084653 0.02915348]\n",
      "[0.10308077 0.8969192 ]\n",
      "[0.96957594 0.0304241 ]\n",
      "[0.97277313 0.02722686]\n",
      "[0.38054526 0.61945474]\n",
      "[0.06621905 0.93378097]\n",
      "[0.02112843 0.9788715 ]\n",
      "[0.0767269 0.9232731]\n",
      "[0.02467019 0.9753298 ]\n",
      "[0.06621905 0.93378097]\n",
      "[0.09566211 0.90433794]\n",
      "[0.93731916 0.06268081]\n",
      "[0.21575399 0.78424597]\n",
      "[0.09566211 0.90433794]\n",
      "[0.02283233 0.97716767]\n",
      "[0.9732351  0.02676488]\n",
      "[0.01672996 0.98327005]\n",
      "[0.9577356  0.04226439]\n",
      "[0.96540636 0.03459359]\n",
      "[0.96957594 0.0304241 ]\n",
      "[0.02112843 0.9788715 ]\n",
      "[0.03356993 0.96643007]\n",
      "[0.67211986 0.32788014]\n",
      "[0.11126694 0.888733  ]\n",
      "[0.0287882 0.9712118]\n",
      "[0.02665194 0.97334814]\n",
      "[0.12001749 0.8799825 ]\n",
      "[0.03911392 0.960886  ]\n",
      "[0.0287882 0.9712118]\n",
      "[0.12935594 0.8706441 ]\n",
      "[0.02283233 0.97716767]\n",
      "[0.9617622  0.03823782]\n",
      "[0.97182584 0.02817418]\n",
      "[0.9710944  0.02890561]\n",
      "[0.97253925 0.02746074]\n",
      "[0.03356993 0.96643007]\n",
      "[0.03109021 0.9689098 ]\n",
      "[0.87245166 0.12754829]\n",
      "[0.05294138 0.9470587 ]\n",
      "[0.11126694 0.888733  ]\n",
      "[0.04553036 0.9544696 ]\n",
      "[0.21575399 0.78424597]\n",
      "[0.07129446 0.9287055 ]\n",
      "[0.96931547 0.03068458]\n",
      "[0.03109021 0.9689098 ]\n",
      "[0.7538891 0.2461109]\n",
      "[0.05294138 0.9470587 ]\n",
      "[0.12001749 0.8799825 ]\n",
      "[0.87245166 0.12754829]\n",
      "[0.18370856 0.8162914 ]\n",
      "[0.07129446 0.9287055 ]\n",
      "[0.11126694 0.888733  ]\n",
      "[0.9730051  0.02699491]\n",
      "[0.96540636 0.03459359]\n",
      "[0.03624004 0.96375996]\n",
      "[0.96801335 0.03198669]\n",
      "[0.01808571 0.98191434]\n",
      "[0.97091514 0.02908484]\n",
      "[0.9710944  0.02890561]\n",
      "[0.0767269 0.9232731]\n",
      "[0.87245166 0.12754829]\n",
      "[0.97034454 0.02965543]\n",
      "[0.12935594 0.8706441 ]\n",
      "[0.9730051  0.02699491]\n",
      "[0.38054526 0.61945474]\n",
      "[0.9732351  0.02676488]\n",
      "[0.9732351  0.02676488]\n",
      "[0.93731916 0.06268081]\n",
      "[0.9698342  0.03016575]\n",
      "[0.02665194 0.97334814]\n",
      "[0.97292656 0.02707338]\n",
      "[0.05706131 0.9429387 ]\n",
      "[0.82070595 0.179294  ]\n",
      "[0.96878797 0.03121204]\n",
      "[0.0825365 0.9174635]\n",
      "[0.03911392 0.960886  ]\n",
      "[0.9454468  0.05455319]\n",
      "[0.9617622  0.03823782]\n",
      "[0.82070595 0.179294  ]\n",
      "[0.02112843 0.9788715 ]\n",
      "[0.251666   0.74833393]\n",
      "[0.97182584 0.02817418]\n",
      "[0.95214534 0.04785469]\n",
      "[0.96905273 0.03094723]\n",
      "[0.02112843 0.9788715 ]\n",
      "[0.97253925 0.02746074]\n",
      "[0.9258982  0.07410187]\n",
      "[0.9454468  0.05455319]\n",
      "[0.96931547 0.03068458]\n",
      "[0.9577356  0.04226439]\n",
      "[0.10308077 0.8969192 ]\n",
      "[0.67211986 0.32788014]\n",
      "[0.89318055 0.10681941]\n",
      "[0.08874368 0.9112563 ]\n",
      "[0.971584   0.02841597]\n",
      "[0.97084653 0.02915348]\n",
      "[0.971584   0.02841597]\n",
      "[0.251666   0.74833393]\n",
      "[0.96852094 0.03147906]\n",
      "[0.21575399 0.78424597]\n",
      "[0.97206557 0.02793439]\n",
      "[0.06148105 0.93851894]\n",
      "[0.97277313 0.02722686]\n",
      "[0.02283233 0.97716767]\n",
      "[0.578377   0.42162293]\n",
      "[0.97034454 0.02965543]\n",
      "[0.01954913 0.98045087]\n",
      "[0.11126694 0.888733  ]\n",
      "[0.04910346 0.95089656]\n",
      "[0.33446205 0.66553795]\n",
      "[0.04220573 0.95779425]\n",
      "[0.01672996 0.98327005]\n",
      "[0.9732351  0.02676488]\n",
      "[0.97206557 0.02793439]\n",
      "[0.03624004 0.96375996]\n",
      "[0.7892317  0.21076828]\n",
      "[0.84838307 0.15161698]\n",
      "[0.9698342  0.03016575]\n",
      "[0.15600173 0.8439983 ]\n",
      "[0.9698342  0.03016575]\n",
      "[0.08874368 0.9112563 ]\n",
      "[0.9730051  0.02699491]\n",
      "[0.91088486 0.08911519]\n",
      "[0.97034454 0.02965543]\n",
      "[0.9720968 0.0279032]\n",
      "[0.82070595 0.179294  ]\n",
      "[0.0767269 0.9232731]\n",
      "[0.03624004 0.96375996]\n",
      "[0.578377   0.42162293]\n",
      "[0.96852094 0.03147906]\n",
      "[0.62643474 0.3735653 ]\n",
      "[0.97253925 0.02746074]\n",
      "[0.12935594 0.8706441 ]\n",
      "[0.09566211 0.90433794]\n",
      "[0.97034454 0.02965543]\n",
      "[0.9730051  0.02699491]\n",
      "[0.0825365 0.9174635]\n",
      "[0.38054526 0.61945474]\n",
      "[0.97253925 0.02746074]\n",
      "[0.05706131 0.9429387 ]\n",
      "[0.03109021 0.9689098 ]\n",
      "[0.97034454 0.02965543]\n",
      "[0.9617622  0.03823782]\n",
      "[0.52878726 0.47121274]\n",
      "[0.38054526 0.61945474]\n",
      "[0.03624004 0.96375996]\n",
      "[0.82070595 0.179294  ]\n",
      "[0.9577356  0.04226439]\n",
      "[0.9720968 0.0279032]\n",
      "[0.12935594 0.8706441 ]\n",
      "[0.9710944  0.02890561]\n",
      "[0.05706131 0.9429387 ]\n",
      "[0.0825365 0.9174635]\n",
      "[0.9617622  0.03823782]\n",
      "[0.97292656 0.02707338]\n",
      "[0.10308077 0.8969192 ]\n",
      "[0.89318055 0.10681941]\n",
      "[0.03109021 0.9689098 ]\n",
      "[0.07129446 0.9287055 ]\n",
      "[0.09566211 0.90433794]\n",
      "[0.02467019 0.9753298 ]\n",
      "[0.7538891 0.2461109]\n",
      "[0.97009045 0.02990954]\n",
      "[0.96905273 0.03094723]\n",
      "[0.03109021 0.9689098 ]\n",
      "[0.01954913 0.98045087]\n",
      "[0.96905273 0.03094723]\n",
      "[0.96852094 0.03147906]\n",
      "[0.12935594 0.8706441 ]\n",
      "[0.12935594 0.8706441 ]\n",
      "[0.91088486 0.08911519]\n",
      "[0.03911392 0.960886  ]\n",
      "[0.9720968 0.0279032]\n",
      "[0.12001749 0.8799825 ]\n",
      "[0.67211986 0.32788014]\n",
      "[0.82070595 0.179294  ]\n"
     ]
    }
   ],
   "source": [
    "for i in predictions:\n",
    "    print(i)"
   ]
  },
  {
   "cell_type": "markdown",
   "id": "5de8cd85-52ca-4192-a0f3-df0939742d01",
   "metadata": {},
   "source": [
    "Each element in the predictions list is itself a list of length 2. The sum of the two values in each list is 1. The reason for this is because the two columns contain probabilities for each possible output: experienced side effects and did not experience side effects. Each element in the predictions list is a probability distribution over all possible outputs.\n",
    "\n",
    "The first column contains the probability for each patient not experiencing side effects, which is represented by a 0. The second column contains the probability for each patient experiencing side effects, which is represented by a 1."
   ]
  },
  {
   "cell_type": "code",
   "execution_count": 107,
   "id": "3101956c-e7d5-4de4-8246-bbb70555343d",
   "metadata": {
    "collapsed": true,
    "jupyter": {
     "outputs_hidden": true
    },
    "tags": []
   },
   "outputs": [
    {
     "name": "stdout",
     "output_type": "stream",
     "text": [
      "1\n",
      "1\n",
      "0\n",
      "1\n",
      "0\n",
      "1\n",
      "1\n",
      "0\n",
      "0\n",
      "1\n",
      "0\n",
      "1\n",
      "1\n",
      "1\n",
      "1\n",
      "0\n",
      "1\n",
      "1\n",
      "1\n",
      "0\n",
      "1\n",
      "0\n",
      "1\n",
      "0\n",
      "0\n",
      "1\n",
      "0\n",
      "0\n",
      "0\n",
      "1\n",
      "1\n",
      "0\n",
      "1\n",
      "0\n",
      "0\n",
      "0\n",
      "1\n",
      "1\n",
      "0\n",
      "1\n",
      "0\n",
      "0\n",
      "0\n",
      "0\n",
      "0\n",
      "1\n",
      "0\n",
      "1\n",
      "0\n",
      "0\n",
      "0\n",
      "1\n",
      "1\n",
      "0\n",
      "0\n",
      "1\n",
      "1\n",
      "0\n",
      "1\n",
      "0\n",
      "0\n",
      "1\n",
      "0\n",
      "1\n",
      "0\n",
      "0\n",
      "0\n",
      "1\n",
      "1\n",
      "1\n",
      "0\n",
      "1\n",
      "0\n",
      "1\n",
      "0\n",
      "0\n",
      "1\n",
      "0\n",
      "1\n",
      "1\n",
      "0\n",
      "0\n",
      "0\n",
      "1\n",
      "0\n",
      "0\n",
      "1\n",
      "0\n",
      "0\n",
      "0\n",
      "0\n",
      "0\n",
      "0\n",
      "1\n",
      "1\n",
      "0\n",
      "0\n",
      "0\n",
      "1\n",
      "0\n",
      "1\n",
      "0\n",
      "0\n",
      "0\n",
      "1\n",
      "0\n",
      "0\n",
      "1\n",
      "0\n",
      "0\n",
      "1\n",
      "0\n",
      "1\n",
      "1\n",
      "0\n",
      "0\n",
      "1\n",
      "1\n",
      "1\n",
      "1\n",
      "0\n",
      "1\n",
      "1\n",
      "0\n",
      "0\n",
      "0\n",
      "1\n",
      "0\n",
      "0\n",
      "0\n",
      "0\n",
      "1\n",
      "0\n",
      "0\n",
      "1\n",
      "1\n",
      "1\n",
      "1\n",
      "1\n",
      "1\n",
      "1\n",
      "1\n",
      "0\n",
      "0\n",
      "1\n",
      "0\n",
      "1\n",
      "1\n",
      "1\n",
      "0\n",
      "0\n",
      "0\n",
      "1\n",
      "0\n",
      "1\n",
      "0\n",
      "0\n",
      "0\n",
      "0\n",
      "1\n",
      "1\n",
      "1\n",
      "0\n",
      "1\n",
      "1\n",
      "1\n",
      "1\n",
      "1\n",
      "1\n",
      "1\n",
      "1\n",
      "1\n",
      "1\n",
      "0\n",
      "0\n",
      "1\n",
      "1\n",
      "0\n",
      "1\n",
      "1\n",
      "1\n",
      "0\n",
      "0\n",
      "1\n",
      "0\n",
      "0\n",
      "1\n",
      "1\n",
      "1\n",
      "1\n",
      "0\n",
      "1\n",
      "0\n",
      "0\n",
      "1\n",
      "1\n",
      "1\n",
      "0\n",
      "1\n",
      "1\n",
      "0\n",
      "0\n",
      "1\n",
      "1\n",
      "1\n",
      "0\n",
      "1\n",
      "1\n",
      "0\n",
      "0\n",
      "1\n",
      "1\n",
      "1\n",
      "1\n",
      "0\n",
      "1\n",
      "1\n",
      "1\n",
      "0\n",
      "1\n",
      "0\n",
      "1\n",
      "0\n",
      "1\n",
      "0\n",
      "0\n",
      "0\n",
      "1\n",
      "0\n",
      "0\n",
      "0\n",
      "0\n",
      "1\n",
      "1\n",
      "0\n",
      "1\n",
      "0\n",
      "1\n",
      "1\n",
      "1\n",
      "0\n",
      "1\n",
      "1\n",
      "1\n",
      "0\n",
      "1\n",
      "0\n",
      "0\n",
      "1\n",
      "1\n",
      "1\n",
      "1\n",
      "1\n",
      "1\n",
      "1\n",
      "0\n",
      "1\n",
      "1\n",
      "1\n",
      "0\n",
      "1\n",
      "0\n",
      "0\n",
      "0\n",
      "1\n",
      "1\n",
      "0\n",
      "1\n",
      "1\n",
      "1\n",
      "1\n",
      "1\n",
      "1\n",
      "1\n",
      "1\n",
      "0\n",
      "0\n",
      "0\n",
      "0\n",
      "1\n",
      "1\n",
      "0\n",
      "1\n",
      "1\n",
      "1\n",
      "1\n",
      "1\n",
      "0\n",
      "1\n",
      "0\n",
      "1\n",
      "1\n",
      "0\n",
      "1\n",
      "1\n",
      "1\n",
      "0\n",
      "0\n",
      "1\n",
      "0\n",
      "1\n",
      "0\n",
      "0\n",
      "1\n",
      "0\n",
      "0\n",
      "1\n",
      "0\n",
      "1\n",
      "0\n",
      "0\n",
      "0\n",
      "0\n",
      "1\n",
      "0\n",
      "1\n",
      "0\n",
      "0\n",
      "1\n",
      "1\n",
      "0\n",
      "0\n",
      "0\n",
      "1\n",
      "1\n",
      "0\n",
      "0\n",
      "0\n",
      "1\n",
      "0\n",
      "0\n",
      "0\n",
      "0\n",
      "0\n",
      "1\n",
      "0\n",
      "0\n",
      "1\n",
      "0\n",
      "0\n",
      "0\n",
      "1\n",
      "0\n",
      "1\n",
      "0\n",
      "1\n",
      "0\n",
      "1\n",
      "0\n",
      "0\n",
      "1\n",
      "1\n",
      "1\n",
      "1\n",
      "1\n",
      "1\n",
      "0\n",
      "0\n",
      "1\n",
      "0\n",
      "0\n",
      "0\n",
      "1\n",
      "0\n",
      "1\n",
      "0\n",
      "0\n",
      "0\n",
      "0\n",
      "0\n",
      "1\n",
      "1\n",
      "0\n",
      "0\n",
      "0\n",
      "0\n",
      "1\n",
      "1\n",
      "0\n",
      "0\n",
      "1\n",
      "1\n",
      "0\n",
      "1\n",
      "1\n",
      "0\n",
      "0\n",
      "0\n",
      "1\n",
      "1\n",
      "0\n",
      "0\n",
      "0\n",
      "1\n",
      "0\n",
      "1\n",
      "1\n",
      "0\n",
      "0\n",
      "1\n",
      "0\n",
      "1\n",
      "1\n",
      "1\n",
      "1\n",
      "0\n",
      "0\n",
      "0\n",
      "1\n",
      "1\n",
      "0\n",
      "0\n",
      "1\n",
      "1\n",
      "0\n",
      "1\n",
      "0\n",
      "1\n",
      "0\n",
      "0\n"
     ]
    }
   ],
   "source": [
    "rounded_predictions = np.argmax(predictions, axis=-1)\n",
    "\n",
    "for i in rounded_predictions:\n",
    "    print(i)"
   ]
  },
  {
   "cell_type": "markdown",
   "id": "e301471e-5b27-461c-b67d-abece12584a1",
   "metadata": {},
   "source": [
    "With Argmax we can see the recommendation but not the probablity"
   ]
  },
  {
   "cell_type": "markdown",
   "id": "b341dbf0-1654-4489-8b4b-139ede078809",
   "metadata": {},
   "source": [
    "# Create A Confusion Matrix For Neural Network Predictions"
   ]
  },
  {
   "cell_type": "markdown",
   "id": "ff595978-52b5-415a-97bf-f82a5aff85cd",
   "metadata": {},
   "source": [
    "With a confusion matrix, we'll be able to visually observe how well the model predicts on test data."
   ]
  },
  {
   "cell_type": "code",
   "execution_count": 105,
   "id": "56df6506-9f4f-4130-81e7-233aebdd844d",
   "metadata": {},
   "outputs": [],
   "source": [
    "%matplotlib inline\n",
    "from sklearn.metrics import confusion_matrix\n",
    "import itertools\n",
    "import matplotlib.pyplot as plt"
   ]
  },
  {
   "cell_type": "code",
   "execution_count": 108,
   "id": "806ebc7e-5a2a-42c1-89b3-6ddf3e382278",
   "metadata": {},
   "outputs": [],
   "source": [
    "cm = confusion_matrix(y_true=test_labels, y_pred=rounded_predictions)"
   ]
  },
  {
   "cell_type": "markdown",
   "id": "34f058bc-978d-46e9-a0a8-9cee20df759a",
   "metadata": {},
   "source": [
    "This funtion comes from scikit official page."
   ]
  },
  {
   "cell_type": "code",
   "execution_count": 109,
   "id": "44d15f0b-5481-4b70-bfea-daeb1c7e3938",
   "metadata": {},
   "outputs": [],
   "source": [
    "def plot_confusion_matrix(cm, classes,\n",
    "                        normalize=False,\n",
    "                        title='Confusion matrix',\n",
    "                        cmap=plt.cm.Blues):\n",
    "    \"\"\"\n",
    "    This function prints and plots the confusion matrix.\n",
    "    Normalization can be applied by setting `normalize=True`.\n",
    "    \"\"\"\n",
    "    plt.imshow(cm, interpolation='nearest', cmap=cmap)\n",
    "    plt.title(title)\n",
    "    plt.colorbar()\n",
    "    tick_marks = np.arange(len(classes))\n",
    "    plt.xticks(tick_marks, classes, rotation=45)\n",
    "    plt.yticks(tick_marks, classes)\n",
    "\n",
    "    if normalize:\n",
    "        cm = cm.astype('float') / cm.sum(axis=1)[:, np.newaxis]\n",
    "        print(\"Normalized confusion matrix\")\n",
    "    else:\n",
    "        print('Confusion matrix, without normalization')\n",
    "\n",
    "    print(cm)\n",
    "\n",
    "    thresh = cm.max() / 2.\n",
    "    for i, j in itertools.product(range(cm.shape[0]), range(cm.shape[1])):\n",
    "        plt.text(j, i, cm[i, j],\n",
    "            horizontalalignment=\"center\",\n",
    "            color=\"white\" if cm[i, j] > thresh else \"black\")\n",
    "\n",
    "    plt.tight_layout()\n",
    "    plt.ylabel('True label')\n",
    "    plt.xlabel('Predicted label')"
   ]
  },
  {
   "cell_type": "code",
   "execution_count": 110,
   "id": "7c595249-235e-4638-82db-420fc317c6a1",
   "metadata": {},
   "outputs": [],
   "source": [
    "cm_plot_labels = ['no_side_effects','had_side_effects']\n"
   ]
  },
  {
   "cell_type": "code",
   "execution_count": 111,
   "id": "f5dc1bfc-1bee-4b80-9fe8-bfa3b5ba90a0",
   "metadata": {},
   "outputs": [
    {
     "name": "stdout",
     "output_type": "stream",
     "text": [
      "Confusion matrix, without normalization\n",
      "[[198  12]\n",
      " [ 10 200]]\n"
     ]
    },
    {
     "data": {
      "image/png": "[encoded data removed]",
      "text/plain": [
       "<Figure size 432x288 with 2 Axes>"
      ]
     },
     "metadata": {
      "needs_background": "light"
     },
     "output_type": "display_data"
    }
   ],
   "source": [
    "plot_confusion_matrix(cm=cm, classes=cm_plot_labels, title='Confusion Matrix')"
   ]
  },
  {
   "cell_type": "markdown",
   "id": "c5ea86e1-a5ed-4c7d-8127-64572dc5af50",
   "metadata": {},
   "source": [
    "# How to save a model"
   ]
  },
  {
   "cell_type": "code",
   "execution_count": 112,
   "id": "04801638-019c-41f0-b1b9-d02c9bd1e3ea",
   "metadata": {},
   "outputs": [],
   "source": [
    "model.save('models/medical_trial_model.h5')\n"
   ]
  },
  {
   "cell_type": "markdown",
   "id": "02e36ddd-dd64-486a-8e6f-970627cb6200",
   "metadata": {},
   "source": [
    "Note, this function also allows for saving the model as a Tensorflow SavedModel as well if you'd prefer.\n",
    "\n",
    "This method of saving will save everything about the model – the architecture, the weights, the optimizer, the state of the optimizer, the learning rate, the loss, etc.\n",
    "\n",
    "Now that we have this model saved, we can load the model at a later time.\n",
    "\n",
    "To do so, we first import the load_model() function. Then, we can call the function to load the model by pointing to the saved model on disk."
   ]
  },
  {
   "cell_type": "code",
   "execution_count": 113,
   "id": "8c92f166-3fd8-4950-a19e-841fee873cd8",
   "metadata": {},
   "outputs": [],
   "source": [
    "from tensorflow.keras.models import load_model\n",
    "new_model = load_model('models/medical_trial_model.h5')\n"
   ]
  },
  {
   "cell_type": "code",
   "execution_count": 114,
   "id": "dd919453-6be7-40db-b6ff-0222cd71bf8d",
   "metadata": {},
   "outputs": [
    {
     "name": "stdout",
     "output_type": "stream",
     "text": [
      "Model: \"sequential_4\"\n",
      "_________________________________________________________________\n",
      "Layer (type)                 Output Shape              Param #   \n",
      "=================================================================\n",
      "dense_12 (Dense)             (None, 16)                32        \n",
      "_________________________________________________________________\n",
      "dense_13 (Dense)             (None, 32)                544       \n",
      "_________________________________________________________________\n",
      "dense_14 (Dense)             (None, 2)                 66        \n",
      "=================================================================\n",
      "Total params: 642\n",
      "Trainable params: 642\n",
      "Non-trainable params: 0\n",
      "_________________________________________________________________\n"
     ]
    }
   ],
   "source": [
    "new_model.summary()\n"
   ]
  },
  {
   "cell_type": "markdown",
   "id": "a6f2661e-8028-46bd-b098-3509744878fc",
   "metadata": {},
   "source": [
    "### Saving And Loading Only The Architecture Of The Model"
   ]
  },
  {
   "cell_type": "markdown",
   "id": "f2046b27-5d3a-404f-ac35-f032f091bf4c",
   "metadata": {},
   "source": [
    "There is another way we save only the architecture of the model. This will not save the model weights, configurations, optimizer, loss or anything else. This only saves the architecture of the model."
   ]
  },
  {
   "cell_type": "code",
   "execution_count": 115,
   "id": "2d33589c-8703-4ff2-af7a-cdfce4ffb94b",
   "metadata": {},
   "outputs": [
    {
     "data": {
      "text/plain": [
       "'{\"class_name\": \"Sequential\", \"config\": {\"name\": \"sequential_4\", \"layers\": [{\"class_name\": \"InputLayer\", \"config\": {\"batch_input_shape\": [null, 1], \"dtype\": \"float32\", \"sparse\": false, \"ragged\": false, \"name\": \"dense_12_input\"}}, {\"class_name\": \"Dense\", \"config\": {\"name\": \"dense_12\", \"trainable\": true, \"batch_input_shape\": [null, 1], \"dtype\": \"float32\", \"units\": 16, \"activation\": \"relu\", \"use_bias\": true, \"kernel_initializer\": {\"class_name\": \"GlorotUniform\", \"config\": {\"seed\": null}}, \"bias_initializer\": {\"class_name\": \"Zeros\", \"config\": {}}, \"kernel_regularizer\": null, \"bias_regularizer\": null, \"activity_regularizer\": null, \"kernel_constraint\": null, \"bias_constraint\": null}}, {\"class_name\": \"Dense\", \"config\": {\"name\": \"dense_13\", \"trainable\": true, \"dtype\": \"float32\", \"units\": 32, \"activation\": \"relu\", \"use_bias\": true, \"kernel_initializer\": {\"class_name\": \"GlorotUniform\", \"config\": {\"seed\": null}}, \"bias_initializer\": {\"class_name\": \"Zeros\", \"config\": {}}, \"kernel_regularizer\": null, \"bias_regularizer\": null, \"activity_regularizer\": null, \"kernel_constraint\": null, \"bias_constraint\": null}}, {\"class_name\": \"Dense\", \"config\": {\"name\": \"dense_14\", \"trainable\": true, \"dtype\": \"float32\", \"units\": 2, \"activation\": \"softmax\", \"use_bias\": true, \"kernel_initializer\": {\"class_name\": \"GlorotUniform\", \"config\": {\"seed\": null}}, \"bias_initializer\": {\"class_name\": \"Zeros\", \"config\": {}}, \"kernel_regularizer\": null, \"bias_regularizer\": null, \"activity_regularizer\": null, \"kernel_constraint\": null, \"bias_constraint\": null}}]}, \"keras_version\": \"2.6.0\", \"backend\": \"tensorflow\"}'"
      ]
     },
     "execution_count": 115,
     "metadata": {},
     "output_type": "execute_result"
    }
   ],
   "source": [
    "json_string = model.to_json()\n",
    "json_string"
   ]
  },
  {
   "cell_type": "markdown",
   "id": "80713210-a2d0-4c99-9936-e60624b01910",
   "metadata": {},
   "source": [
    "Now that we have this saved, we can create a new model from it. First we'll import the needed model_from_json function, and then we can load the model architecture."
   ]
  },
  {
   "cell_type": "code",
   "execution_count": 116,
   "id": "0d7e2314-b8ea-4ef0-ad0f-a3149f27ca62",
   "metadata": {},
   "outputs": [],
   "source": [
    "from tensorflow.keras.models import model_from_json\n",
    "model_architecture = model_from_json(json_string)"
   ]
  },
  {
   "cell_type": "code",
   "execution_count": 117,
   "id": "b76c3366-02cd-4f44-9440-34aa38ef5332",
   "metadata": {},
   "outputs": [
    {
     "name": "stdout",
     "output_type": "stream",
     "text": [
      "Model: \"sequential_4\"\n",
      "_________________________________________________________________\n",
      "Layer (type)                 Output Shape              Param #   \n",
      "=================================================================\n",
      "dense_12 (Dense)             (None, 16)                32        \n",
      "_________________________________________________________________\n",
      "dense_13 (Dense)             (None, 32)                544       \n",
      "_________________________________________________________________\n",
      "dense_14 (Dense)             (None, 2)                 66        \n",
      "=================================================================\n",
      "Total params: 642\n",
      "Trainable params: 642\n",
      "Non-trainable params: 0\n",
      "_________________________________________________________________\n"
     ]
    }
   ],
   "source": [
    "model_architecture.summary()"
   ]
  },
  {
   "cell_type": "code",
   "execution_count": 118,
   "id": "f965afea-a7b4-4fa2-9686-131e2e67f236",
   "metadata": {},
   "outputs": [],
   "source": [
    "model.save_weights('models/my_model_weights.h5')"
   ]
  },
  {
   "cell_type": "markdown",
   "id": "b572a985-556e-4f5a-8be6-90f0cff1d6d0",
   "metadata": {},
   "source": [
    "# Image Preparation For A Convolutional Neural Network With TensorFlow's Keras API"
   ]
  },
  {
   "cell_type": "markdown",
   "id": "f871fb98-94f5-46bd-8546-94a5fac4b7ec",
   "metadata": {},
   "source": [
    "Shutil module offers high-level operation on a file like a copy, create, and remote operation on the file. It comes under Python's standard utility modules. This module helps in automating the process of copying and removal of files and directories.\n",
    "\n",
    "The glob module is used to retrieve files/pathnames matching a specified pattern. The pattern rules of glob follow standard Unix path expansion rules. It is also predicted that according to benchmarks it is faster than other methods to match pathnames in directories."
   ]
  },
  {
   "cell_type": "code",
   "execution_count": 124,
   "id": "39fea892-7a14-47dd-9cbb-e3994d40f070",
   "metadata": {},
   "outputs": [],
   "source": [
    "# Organize data into train, valid, test dirs\n",
    "os.chdir('C:/Users/andre/Desktop/Image_classifier/dogs-vs-cats')\n",
    "if os.path.isdir('train/dog') is False:\n",
    "    os.makedirs('train/dog')\n",
    "    os.makedirs('train/cat')\n",
    "    os.makedirs('valid/dog')\n",
    "    os.makedirs('valid/cat')\n",
    "    os.makedirs('test/dog')\n",
    "    os.makedirs('test/cat')\n",
    "\n",
    "    for i in random.sample(glob.glob('cat*'), 500):\n",
    "        shutil.move(i, 'train/cat')      \n",
    "    for i in random.sample(glob.glob('dog*'), 500):\n",
    "        shutil.move(i, 'train/dog')\n",
    "    for i in random.sample(glob.glob('cat*'), 100):\n",
    "        shutil.move(i, 'valid/cat')        \n",
    "    for i in random.sample(glob.glob('dog*'), 100):\n",
    "        shutil.move(i, 'valid/dog')\n",
    "    for i in random.sample(glob.glob('cat*'), 50):\n",
    "        shutil.move(i, 'test/cat')      \n",
    "    for i in random.sample(glob.glob('dog*'), 50):\n",
    "        shutil.move(i, 'test/dog')\n",
    "\n",
    "os.chdir('../../')"
   ]
  },
  {
   "cell_type": "markdown",
   "id": "20f91e5e-04a7-4c5c-91b3-253ba4d50c34",
   "metadata": {},
   "source": [
    "We first check to see if the directory structure is already in place. If it's not, we proceed with the script. The script first makes train, valid, and test directories, which each contain sub-directories called dog and cat.\n",
    "\n",
    "The full data set contains 25,000 images, half of which are cats, and half are dogs. We don't need nearly this much data for the tasks we'll be carrying out, so we're going to work with a subset. The remainder of the script moves 1000 samples into the training set, 200 samples into the validation set, and 100 samples into the test set. Each set has have an equal amount of cats and dogs.\n",
    "\n",
    "The remainder of the unused data will remain in the base dogs-vs-cats directory. Feel free to remove this data if you'd like."
   ]
  },
  {
   "cell_type": "code",
   "execution_count": 125,
   "id": "6bd924c3-fa16-46cf-a307-a90a4c062195",
   "metadata": {},
   "outputs": [],
   "source": [
    "train_path = 'C:/Users/andre/Desktop/Image_classifier/dogs-vs-cats/train'\n",
    "valid_path = 'C:/Users/andre/Desktop/Image_classifier/dogs-vs-cats/valid'\n",
    "test_path = 'C:/Users/andre/Desktop/Image_classifier/dogs-vs-cats/test'"
   ]
  },
  {
   "cell_type": "code",
   "execution_count": 126,
   "id": "ea65ca38-f345-44a3-8e60-1ab5474f5180",
   "metadata": {},
   "outputs": [
    {
     "name": "stdout",
     "output_type": "stream",
     "text": [
      "Found 1000 images belonging to 2 classes.\n",
      "Found 200 images belonging to 2 classes.\n",
      "Found 100 images belonging to 2 classes.\n"
     ]
    }
   ],
   "source": [
    "train_batches = ImageDataGenerator(preprocessing_function=tf.keras.applications.vgg16.preprocess_input) \\\n",
    "    .flow_from_directory(directory=train_path, target_size=(224,224), classes=['cat', 'dog'], batch_size=10)\n",
    "valid_batches = ImageDataGenerator(preprocessing_function=tf.keras.applications.vgg16.preprocess_input) \\\n",
    "    .flow_from_directory(directory=valid_path, target_size=(224,224), classes=['cat', 'dog'], batch_size=10)\n",
    "test_batches = ImageDataGenerator(preprocessing_function=tf.keras.applications.vgg16.preprocess_input) \\\n",
    "    .flow_from_directory(directory=test_path, target_size=(224,224), classes=['cat', 'dog'], batch_size=10, shuffle=False)"
   ]
  },
  {
   "cell_type": "markdown",
   "id": "a2f8b170-0507-4883-94b2-a13acdd35bcb",
   "metadata": {},
   "source": [
    "ImageDataGenerator.flow_from_directory() creates a DirectoryIterator, which generates batches of normalized tensor image data from the respective data directories.\n",
    "ImageDataGenerator for each of the data sets, we specify preprocessing_function=tf.keras.applications.vgg16.preprocess_input\n",
    "To flow_from_directory(), we first specify the path for the data. We then specify the target_size of the images, which will resize all images to the specified size. The size we specify here is determined by the input size that the neural network expects.\n",
    "\n",
    "The classes parameter expects a list that contains the underlying class names, and lastly, we specify the batch_size.\n",
    "We also specify shuffle=False only for test_batches. That's because, later when we plot the evaluation results from the model to a confusion matrix, we'll need to able to access the unshuffled labels for the test set. By default, the data sets are shuffled."
   ]
  },
  {
   "cell_type": "markdown",
   "id": "2480b492-735f-449c-b2a5-a1e1f0e4e0d8",
   "metadata": {},
   "source": [
    "# Visualize The Data"
   ]
  },
  {
   "cell_type": "markdown",
   "id": "b16d7e48-259d-4824-ac82-520f63612014",
   "metadata": {},
   "source": [
    "We now call next(train_batches) to generate a batch of images and labels from the training set. "
   ]
  },
  {
   "cell_type": "code",
   "execution_count": 127,
   "id": "afd41738-e379-410a-9490-908e01023254",
   "metadata": {},
   "outputs": [],
   "source": [
    "imgs, labels = next(train_batches)"
   ]
  },
  {
   "cell_type": "code",
   "execution_count": 128,
   "id": "b20095c2-0ca4-4d8f-a93c-54a035ac8984",
   "metadata": {},
   "outputs": [],
   "source": [
    "def plotImages(images_arr):\n",
    "    fig, axes = plt.subplots(1, 10, figsize=(20,20))\n",
    "    axes = axes.flatten()\n",
    "    for img, ax in zip( images_arr, axes):\n",
    "        ax.imshow(img)\n",
    "        ax.axis('off')\n",
    "    plt.tight_layout()\n",
    "    plt.show()"
   ]
  },
  {
   "cell_type": "code",
   "execution_count": 130,
   "id": "7f03fe14-0879-4e01-98f7-5fb24bc07a17",
   "metadata": {},
   "outputs": [
    {
     "name": "stderr",
     "output_type": "stream",
     "text": [
      "Clipping input data to the valid range for imshow with RGB data ([0..1] for floats or [0..255] for integers).\n",
      "Clipping input data to the valid range for imshow with RGB data ([0..1] for floats or [0..255] for integers).\n",
      "Clipping input data to the valid range for imshow with RGB data ([0..1] for floats or [0..255] for integers).\n",
      "Clipping input data to the valid range for imshow with RGB data ([0..1] for floats or [0..255] for integers).\n",
      "Clipping input data to the valid range for imshow with RGB data ([0..1] for floats or [0..255] for integers).\n",
      "Clipping input data to the valid range for imshow with RGB data ([0..1] for floats or [0..255] for integers).\n",
      "Clipping input data to the valid range for imshow with RGB data ([0..1] for floats or [0..255] for integers).\n",
      "Clipping input data to the valid range for imshow with RGB data ([0..1] for floats or [0..255] for integers).\n",
      "Clipping input data to the valid range for imshow with RGB data ([0..1] for floats or [0..255] for integers).\n",
      "Clipping input data to the valid range for imshow with RGB data ([0..1] for floats or [0..255] for integers).\n"
     ]
    },
    {
     "data": {
      "image/png": "[encoded data removed]",
      "text/plain": [
       "<Figure size 1440x1440 with 10 Axes>"
      ]
     },
     "metadata": {
      "needs_background": "light"
     },
     "output_type": "display_data"
    },
    {
     "name": "stdout",
     "output_type": "stream",
     "text": [
      "[[0. 1.]\n",
      " [0. 1.]\n",
      " [1. 0.]\n",
      " [1. 0.]\n",
      " [0. 1.]\n",
      " [0. 1.]\n",
      " [1. 0.]\n",
      " [1. 0.]\n",
      " [1. 0.]\n",
      " [0. 1.]]\n"
     ]
    }
   ],
   "source": [
    "plotImages(imgs)\n",
    "print(labels)"
   ]
  },
  {
   "cell_type": "markdown",
   "id": "18062fab-c66e-4eaa-90b2-75f323a648f6",
   "metadata": {},
   "source": [
    "This is what the first processed random batch from the training set looks like. Notice that the color appears to be distorted. This has to do with the VGG16 processing we applied to the data sets.\n",
    "Note that dogs are represented with the one-hot encoding of [0,1], and cats are represented by [1,0]."
   ]
  },
  {
   "cell_type": "markdown",
   "id": "69ced847-a606-4485-b3db-a1759566cb8a",
   "metadata": {},
   "source": [
    "# Code Update For CNN Training With TensorFlow's Keras API\n"
   ]
  },
  {
   "cell_type": "markdown",
   "id": "f89e6258-e4d2-4328-840c-feabe169a94a",
   "metadata": {},
   "source": [
    "We've seen how this was done when our training data was stored in a simple numpy array, but in the  CNN , we'll see how this is done specifically for our training data that we stored in a DirectoryIterator.\n",
    "Recently, there was a change introduced by TensorFlow that now requires us to pass in another parameter to the fit() function when our data is stored in an infinitely repeating data set, like a DirectoryIterator.\n",
    "Note that a DirectoryIterator is indeed an infinitely repeating data set, as the batches of data generated by the iterator will continue to come infinitely as long as we want them to. You can see this by passing the iterator to the built-in Python next() function and running it over and over again to infinitely generate new batches of data.\n",
    "Now, back to the parameter that is required to be passed to the fit() function for this type of data. This parameter is called **steps_per_epoch** and should be set to the number of steps (batches of samples) to yield from the training set before declaring one epoch finished and starting the next epoch.\n",
    "This is typically set to be equal to the number of samples in our training set divided by the batch size. For example, if we have 100 training images, and our batch size is 5, then we would set steps_per_epoch=20.\n",
    "Note that in addition to steps_per_epoch that we specify regarding the training data when we call model.fit(), we also need to specify a parameter called validation_steps if we are also passing in validation data to the model. This parameter acts in the exact same way as steps_per_epoch, except for on our validation set.Lastly, when we use the model for inference by calling predict() on the model and passing in the test set, we need to also specify the parameter called steps here. In this case, this is the number of steps (batches of samples) to yield from the test set before declaring the prediction round finished.\n"
   ]
  },
  {
   "cell_type": "markdown",
   "id": "30bf55a7-41b7-4367-9980-61b7be3dd2e0",
   "metadata": {},
   "source": [
    "# Build A Simple CNN\n"
   ]
  },
  {
   "cell_type": "code",
   "execution_count": 131,
   "id": "bede32f8-15a7-46da-9d05-8a4c1d1a62e5",
   "metadata": {},
   "outputs": [],
   "source": [
    "model = Sequential([\n",
    "    Conv2D(filters=32, kernel_size=(3, 3), activation='relu', padding = 'same', input_shape=(224,224,3)),\n",
    "    MaxPool2D(pool_size=(2, 2), strides=2),\n",
    "    Conv2D(filters=64, kernel_size=(3, 3), activation='relu', padding = 'same'),\n",
    "    MaxPool2D(pool_size=(2, 2), strides=2),\n",
    "    Flatten(),\n",
    "    Dense(units=2, activation='softmax')\n",
    "])"
   ]
  },
  {
   "cell_type": "markdown",
   "id": "d3879bb9-39ee-4773-ab37-e10bc4fe2855",
   "metadata": {},
   "source": [
    "The first layer in the model is a 2-dimensional convolutional layer. This layer will have 32 output filters each with a kernel size of 3x3, and we'll use the relu activation function.\n",
    "\n",
    "Note that the choice for the number of output filters specified is arbitrary, and the chosen kernel size of 3x3 is generally a very common size to use. You can experiment by choosing different values for these parameters.\n",
    "\n",
    "We enable zero-padding by specifying padding = 'same'.\n",
    "\n",
    "On the first layer only, we also specify the input_shape, which is the shape of our data. Our images are 224 pixels high and 224 pixels wide and have 3 color channels: RGB. This gives us an input_shape of (224,224,3).\n",
    "\n",
    "We then add a max pooling layer to pool and reduce the dimensionality of the data. Note, to gain a fundamental understanding of max pooling, zero padding, convolutional filters, and convolutional neural networks, check out the Deep Learning Fundamentals course.\n",
    "\n",
    "We follow this by adding another convolutional layer with the exact specs as the earlier one, except for this second Conv2D layer has 64 filters. The choice of 64 here is again arbitrary, but the general choice of having more filters in later layers than in earlier ones is common. This layer is again followed by the same type of MaxPool2D layer.\n",
    "\n",
    "We then Flatten the output from the convolutional layer and pass it to a Dense layer. This Dense layer is the output layer of the network, and so it has 2 nodes, one for cat and one for dog. We'll use the softmax activation function on our output so that the output for each sample is a probability distribution over the outputs of cat and dog.\n",
    "\n",
    "We can check out a summary of the model by calling model.summary()."
   ]
  },
  {
   "cell_type": "code",
   "execution_count": 132,
   "id": "f834f464-556b-4854-bf2b-a2d8aa4bc4e8",
   "metadata": {},
   "outputs": [
    {
     "name": "stdout",
     "output_type": "stream",
     "text": [
      "Model: \"sequential_5\"\n",
      "_________________________________________________________________\n",
      "Layer (type)                 Output Shape              Param #   \n",
      "=================================================================\n",
      "conv2d (Conv2D)              (None, 224, 224, 32)      896       \n",
      "_________________________________________________________________\n",
      "max_pooling2d (MaxPooling2D) (None, 112, 112, 32)      0         \n",
      "_________________________________________________________________\n",
      "conv2d_1 (Conv2D)            (None, 112, 112, 64)      18496     \n",
      "_________________________________________________________________\n",
      "max_pooling2d_1 (MaxPooling2 (None, 56, 56, 64)        0         \n",
      "_________________________________________________________________\n",
      "flatten (Flatten)            (None, 200704)            0         \n",
      "_________________________________________________________________\n",
      "dense_15 (Dense)             (None, 2)                 401410    \n",
      "=================================================================\n",
      "Total params: 420,802\n",
      "Trainable params: 420,802\n",
      "Non-trainable params: 0\n",
      "_________________________________________________________________\n"
     ]
    }
   ],
   "source": [
    "model.summary()"
   ]
  },
  {
   "cell_type": "markdown",
   "id": "193ba3a8-9af6-4989-be0d-fc264dc1289d",
   "metadata": {},
   "source": [
    "Now that the model is built, we compile the model using the Adam optimizer with a learning rate of 0.0001, a loss of categorical_cross_entropy, and we'll look at accuracy as our performance metric. Again, if you need a fundamental understanding of any of these topics, check out the Deep Learning Fundamentals course."
   ]
  },
  {
   "cell_type": "code",
   "execution_count": 133,
   "id": "9899173e-5738-4380-8fdb-7d7bdb4ca9e4",
   "metadata": {},
   "outputs": [],
   "source": [
    "model.compile(optimizer = Adam(learning_rate=0.0001), loss = 'categorical_crossentropy', metrics = ['accuracy'] )"
   ]
  },
  {
   "cell_type": "markdown",
   "id": "c52a28cd-ed81-46c1-8c26-b56ca0d51ca9",
   "metadata": {},
   "source": [
    "Now it's time to train the model."
   ]
  },
  {
   "cell_type": "code",
   "execution_count": 135,
   "id": "50f7b411-57fd-4161-9622-c8a8d6d8233c",
   "metadata": {},
   "outputs": [
    {
     "name": "stdout",
     "output_type": "stream",
     "text": [
      "Epoch 1/10\n",
      "100/100 - 21s - loss: 22.2911 - accuracy: 0.5510 - val_loss: 5.0402 - val_accuracy: 0.6300\n",
      "Epoch 2/10\n",
      "100/100 - 19s - loss: 2.4832 - accuracy: 0.7300 - val_loss: 3.1734 - val_accuracy: 0.6000\n",
      "Epoch 3/10\n",
      "100/100 - 19s - loss: 0.4360 - accuracy: 0.8990 - val_loss: 3.2651 - val_accuracy: 0.6150\n",
      "Epoch 4/10\n",
      "100/100 - 19s - loss: 0.1317 - accuracy: 0.9610 - val_loss: 2.8598 - val_accuracy: 0.6150\n",
      "Epoch 5/10\n",
      "100/100 - 19s - loss: 0.0102 - accuracy: 0.9960 - val_loss: 2.7842 - val_accuracy: 0.6050\n",
      "Epoch 6/10\n",
      "100/100 - 19s - loss: 0.0039 - accuracy: 0.9990 - val_loss: 2.6344 - val_accuracy: 0.6300\n",
      "Epoch 7/10\n",
      "100/100 - 19s - loss: 0.0012 - accuracy: 1.0000 - val_loss: 2.6373 - val_accuracy: 0.6300\n",
      "Epoch 8/10\n",
      "100/100 - 19s - loss: 7.9486e-04 - accuracy: 1.0000 - val_loss: 2.6682 - val_accuracy: 0.6250\n",
      "Epoch 9/10\n",
      "100/100 - 19s - loss: 6.7915e-04 - accuracy: 1.0000 - val_loss: 2.6615 - val_accuracy: 0.6300\n",
      "Epoch 10/10\n",
      "100/100 - 19s - loss: 5.9271e-04 - accuracy: 1.0000 - val_loss: 2.6834 - val_accuracy: 0.6250\n"
     ]
    },
    {
     "data": {
      "text/plain": [
       "<keras.callbacks.History at 0x1c253fef3a0>"
      ]
     },
     "execution_count": 135,
     "metadata": {},
     "output_type": "execute_result"
    }
   ],
   "source": [
    "model.fit( x=train_batches,steps_per_epoch=len(train_batches), validation_data = valid_batches, validation_steps=len(valid_batches), epochs = 10, verbose=2)"
   ]
  },
  {
   "cell_type": "markdown",
   "id": "7148154b-4e47-4411-bf8f-f4b4e0e957a5",
   "metadata": {},
   "source": [
    "We need to specify steps_per_epoch to indicate how many batches of samples from our training set should be passed to the model before declaring one epoch complete. Since we have 1000 samples in our training set, and our batch size is 10, then we set steps_per_epoch to be 100, since 100 batches of 10 samples each will encompass our entire training set.\n",
    "\n",
    "We're able to use len(train_batches) as a more general way to specify this value, as the length of train_batches is equal to 100 since it is made up of 100 batches of 10 samples. Similarly, we specify validation_steps in the same fashion but with using valid_batches.\n",
    "\n",
    "From this output, we can see the performance of this simple model on the training set is great, with accuracy reaching 100% and loss nearing 0, however, by comparing these results to the validation metrics, we can see that our model is vastly **overfitting** to the training data."
   ]
  },
  {
   "cell_type": "markdown",
   "id": "143e82ed-80d9-4e3a-829e-1437ebe45498",
   "metadata": {},
   "source": [
    "# Convolutional Neural Network Predictions \n"
   ]
  },
  {
   "cell_type": "code",
   "execution_count": 136,
   "id": "4bece198-4dea-4494-8238-db78d8170fb6",
   "metadata": {},
   "outputs": [],
   "source": [
    "predictions = model.predict(x=test_batches, steps=len(test_batches), verbose=0)\n"
   ]
  },
  {
   "cell_type": "code",
   "execution_count": 137,
   "id": "58b71b67-1c1d-4b68-9c11-0c77133ef3bd",
   "metadata": {
    "collapsed": true,
    "jupyter": {
     "outputs_hidden": true
    },
    "tags": []
   },
   "outputs": [
    {
     "data": {
      "text/plain": [
       "array([[0., 1.],\n",
       "       [1., 0.],\n",
       "       [1., 0.],\n",
       "       [1., 0.],\n",
       "       [1., 0.],\n",
       "       [1., 0.],\n",
       "       [1., 0.],\n",
       "       [1., 0.],\n",
       "       [0., 1.],\n",
       "       [1., 0.],\n",
       "       [1., 0.],\n",
       "       [1., 0.],\n",
       "       [0., 1.],\n",
       "       [0., 1.],\n",
       "       [0., 1.],\n",
       "       [1., 0.],\n",
       "       [1., 0.],\n",
       "       [0., 1.],\n",
       "       [0., 1.],\n",
       "       [1., 0.],\n",
       "       [0., 1.],\n",
       "       [1., 0.],\n",
       "       [0., 1.],\n",
       "       [1., 0.],\n",
       "       [0., 1.],\n",
       "       [1., 0.],\n",
       "       [1., 0.],\n",
       "       [0., 1.],\n",
       "       [1., 0.],\n",
       "       [1., 0.],\n",
       "       [1., 0.],\n",
       "       [1., 0.],\n",
       "       [0., 1.],\n",
       "       [0., 1.],\n",
       "       [1., 0.],\n",
       "       [1., 0.],\n",
       "       [1., 0.],\n",
       "       [1., 0.],\n",
       "       [1., 0.],\n",
       "       [1., 0.],\n",
       "       [1., 0.],\n",
       "       [0., 1.],\n",
       "       [1., 0.],\n",
       "       [1., 0.],\n",
       "       [0., 1.],\n",
       "       [0., 1.],\n",
       "       [1., 0.],\n",
       "       [0., 1.],\n",
       "       [1., 0.],\n",
       "       [1., 0.],\n",
       "       [1., 0.],\n",
       "       [0., 1.],\n",
       "       [1., 0.],\n",
       "       [0., 1.],\n",
       "       [0., 1.],\n",
       "       [1., 0.],\n",
       "       [0., 1.],\n",
       "       [0., 1.],\n",
       "       [0., 1.],\n",
       "       [0., 1.],\n",
       "       [1., 0.],\n",
       "       [1., 0.],\n",
       "       [0., 1.],\n",
       "       [0., 1.],\n",
       "       [0., 1.],\n",
       "       [1., 0.],\n",
       "       [0., 1.],\n",
       "       [1., 0.],\n",
       "       [0., 1.],\n",
       "       [1., 0.],\n",
       "       [1., 0.],\n",
       "       [1., 0.],\n",
       "       [0., 1.],\n",
       "       [0., 1.],\n",
       "       [0., 1.],\n",
       "       [0., 1.],\n",
       "       [0., 1.],\n",
       "       [1., 0.],\n",
       "       [1., 0.],\n",
       "       [1., 0.],\n",
       "       [0., 1.],\n",
       "       [0., 1.],\n",
       "       [1., 0.],\n",
       "       [0., 1.],\n",
       "       [1., 0.],\n",
       "       [0., 1.],\n",
       "       [1., 0.],\n",
       "       [1., 0.],\n",
       "       [1., 0.],\n",
       "       [0., 1.],\n",
       "       [1., 0.],\n",
       "       [0., 1.],\n",
       "       [1., 0.],\n",
       "       [0., 1.],\n",
       "       [1., 0.],\n",
       "       [0., 1.],\n",
       "       [0., 1.],\n",
       "       [1., 0.],\n",
       "       [0., 1.],\n",
       "       [0., 1.]], dtype=float32)"
      ]
     },
     "execution_count": 137,
     "metadata": {},
     "output_type": "execute_result"
    }
   ],
   "source": [
    "np.round(predictions)"
   ]
  },
  {
   "cell_type": "markdown",
   "id": "c244cfa1-bc91-4603-8740-1bf4e3abed44",
   "metadata": {},
   "source": [
    "# Plotting Predictions With A Confusion Matrix"
   ]
  },
  {
   "cell_type": "code",
   "execution_count": 138,
   "id": "b40ef618-7445-4d26-9dd1-63023b5d6fe8",
   "metadata": {},
   "outputs": [],
   "source": [
    "cm = confusion_matrix(y_true=test_batches.classes, y_pred=np.argmax(predictions, axis=-1))\n"
   ]
  },
  {
   "cell_type": "code",
   "execution_count": 139,
   "id": "d4970e6f-7987-4776-b05a-07fb7730b39f",
   "metadata": {},
   "outputs": [],
   "source": [
    "def plot_confusion_matrix(cm, classes,\n",
    "                          normalize=False,\n",
    "                          title='Confusion matrix',\n",
    "                          cmap=plt.cm.Blues):\n",
    "    \"\"\"\n",
    "    This function prints and plots the confusion matrix.\n",
    "    Normalization can be applied by setting `normalize=True`.\n",
    "    \"\"\"\n",
    "    plt.imshow(cm, interpolation='nearest', cmap=cmap)\n",
    "    plt.title(title)\n",
    "    plt.colorbar()\n",
    "    tick_marks = np.arange(len(classes))\n",
    "    plt.xticks(tick_marks, classes, rotation=45)\n",
    "    plt.yticks(tick_marks, classes)\n",
    "\n",
    "    if normalize:\n",
    "        cm = cm.astype('float') / cm.sum(axis=1)[:, np.newaxis]\n",
    "        print(\"Normalized confusion matrix\")\n",
    "    else:\n",
    "        print('Confusion matrix, without normalization')\n",
    "\n",
    "    print(cm)\n",
    "\n",
    "    thresh = cm.max() / 2.\n",
    "    for i, j in itertools.product(range(cm.shape[0]), range(cm.shape[1])):\n",
    "        plt.text(j, i, cm[i, j],\n",
    "            horizontalalignment=\"center\",\n",
    "            color=\"white\" if cm[i, j] > thresh else \"black\")\n",
    "\n",
    "    plt.tight_layout()\n",
    "    plt.ylabel('True label')\n",
    "    plt.xlabel('Predicted label')"
   ]
  },
  {
   "cell_type": "code",
   "execution_count": 140,
   "id": "03ea96f6-c286-4516-ac84-a070729f38ab",
   "metadata": {},
   "outputs": [
    {
     "data": {
      "text/plain": [
       "{'cat': 0, 'dog': 1}"
      ]
     },
     "execution_count": 140,
     "metadata": {},
     "output_type": "execute_result"
    }
   ],
   "source": [
    "test_batches.class_indices\n"
   ]
  },
  {
   "cell_type": "code",
   "execution_count": 141,
   "id": "25869726-1348-4504-b44e-86fbe868fac5",
   "metadata": {},
   "outputs": [
    {
     "name": "stdout",
     "output_type": "stream",
     "text": [
      "Confusion matrix, without normalization\n",
      "[[33 17]\n",
      " [22 28]]\n"
     ]
    },
    {
     "data": {
      "image/png": "[encoded data removed]",
      "text/plain": [
       "<Figure size 432x288 with 2 Axes>"
      ]
     },
     "metadata": {
      "needs_background": "light"
     },
     "output_type": "display_data"
    }
   ],
   "source": [
    "cm_plot_labels = ['cat','dog']\n",
    "plot_confusion_matrix(cm=cm, classes=cm_plot_labels, title='Confusion Matrix')"
   ]
  },
  {
   "cell_type": "markdown",
   "id": "974663a4-7919-4c34-98e1-8a0083dd0a07",
   "metadata": {},
   "source": [
    "# Build A Fine-Tuned Neural Network With TensorFlow's Keras API\n"
   ]
  },
  {
   "cell_type": "markdown",
   "id": "396ff9d0-2584-455a-9382-d769fdbcf76b",
   "metadata": {},
   "source": [
    "Importing the model"
   ]
  },
  {
   "cell_type": "code",
   "execution_count": 142,
   "id": "b86fb746-8cb4-4636-91e2-dafa33bd1e51",
   "metadata": {},
   "outputs": [
    {
     "name": "stdout",
     "output_type": "stream",
     "text": [
      "Downloading data from https://storage.googleapis.com/tensorflow/keras-applications/vgg16/vgg16_weights_tf_dim_ordering_tf_kernels.h5\n",
      "553467904/553467096 [==============================] - 78s 0us/step\n",
      "553476096/553467096 [==============================] - 78s 0us/step\n"
     ]
    }
   ],
   "source": [
    "vgg16_model = tf.keras.applications.vgg16.VGG16()\n"
   ]
  },
  {
   "cell_type": "code",
   "execution_count": 143,
   "id": "4827b729-4537-4eed-b8ad-d49bd43d9555",
   "metadata": {
    "collapsed": true,
    "jupyter": {
     "outputs_hidden": true
    },
    "tags": []
   },
   "outputs": [
    {
     "name": "stdout",
     "output_type": "stream",
     "text": [
      "Model: \"vgg16\"\n",
      "_________________________________________________________________\n",
      "Layer (type)                 Output Shape              Param #   \n",
      "=================================================================\n",
      "input_1 (InputLayer)         [(None, 224, 224, 3)]     0         \n",
      "_________________________________________________________________\n",
      "block1_conv1 (Conv2D)        (None, 224, 224, 64)      1792      \n",
      "_________________________________________________________________\n",
      "block1_conv2 (Conv2D)        (None, 224, 224, 64)      36928     \n",
      "_________________________________________________________________\n",
      "block1_pool (MaxPooling2D)   (None, 112, 112, 64)      0         \n",
      "_________________________________________________________________\n",
      "block2_conv1 (Conv2D)        (None, 112, 112, 128)     73856     \n",
      "_________________________________________________________________\n",
      "block2_conv2 (Conv2D)        (None, 112, 112, 128)     147584    \n",
      "_________________________________________________________________\n",
      "block2_pool (MaxPooling2D)   (None, 56, 56, 128)       0         \n",
      "_________________________________________________________________\n",
      "block3_conv1 (Conv2D)        (None, 56, 56, 256)       295168    \n",
      "_________________________________________________________________\n",
      "block3_conv2 (Conv2D)        (None, 56, 56, 256)       590080    \n",
      "_________________________________________________________________\n",
      "block3_conv3 (Conv2D)        (None, 56, 56, 256)       590080    \n",
      "_________________________________________________________________\n",
      "block3_pool (MaxPooling2D)   (None, 28, 28, 256)       0         \n",
      "_________________________________________________________________\n",
      "block4_conv1 (Conv2D)        (None, 28, 28, 512)       1180160   \n",
      "_________________________________________________________________\n",
      "block4_conv2 (Conv2D)        (None, 28, 28, 512)       2359808   \n",
      "_________________________________________________________________\n",
      "block4_conv3 (Conv2D)        (None, 28, 28, 512)       2359808   \n",
      "_________________________________________________________________\n",
      "block4_pool (MaxPooling2D)   (None, 14, 14, 512)       0         \n",
      "_________________________________________________________________\n",
      "block5_conv1 (Conv2D)        (None, 14, 14, 512)       2359808   \n",
      "_________________________________________________________________\n",
      "block5_conv2 (Conv2D)        (None, 14, 14, 512)       2359808   \n",
      "_________________________________________________________________\n",
      "block5_conv3 (Conv2D)        (None, 14, 14, 512)       2359808   \n",
      "_________________________________________________________________\n",
      "block5_pool (MaxPooling2D)   (None, 7, 7, 512)         0         \n",
      "_________________________________________________________________\n",
      "flatten (Flatten)            (None, 25088)             0         \n",
      "_________________________________________________________________\n",
      "fc1 (Dense)                  (None, 4096)              102764544 \n",
      "_________________________________________________________________\n",
      "fc2 (Dense)                  (None, 4096)              16781312  \n",
      "_________________________________________________________________\n",
      "predictions (Dense)          (None, 1000)              4097000   \n",
      "=================================================================\n",
      "Total params: 138,357,544\n",
      "Trainable params: 138,357,544\n",
      "Non-trainable params: 0\n",
      "_________________________________________________________________\n"
     ]
    }
   ],
   "source": [
    "vgg16_model.summary()\n"
   ]
  },
  {
   "cell_type": "markdown",
   "id": "4e89f19c-7356-4b71-8a65-033d708900b0",
   "metadata": {},
   "source": [
    "In contrast, recall how much simpler the CNN was that we worked with in the last episode. VGG16 is much more complex and sophisticated and has many more layers than our previous model.\n",
    "\n",
    "Notice that the last Dense layer of VGG16 has 1000 outputs. These outputs correspond to the 1000 categories in the ImageNet library.\n",
    "\n",
    "Since we're only going to be classifying two categories, cats and dogs, we need to modify this model in order for it to do what we want it to do, which is to only classify cats and dogs.\n",
    "\n",
    "Before we do that, note that the type of Keras models we've been working with so far in this series have been of type Sequential.\n",
    "\n",
    "If we check out the type of model vgg16_model is, we see that it is of type Model, which is from the Keras' Functional API."
   ]
  },
  {
   "cell_type": "markdown",
   "id": "950d46fb-bf64-408e-a5e9-30566dc590a7",
   "metadata": {},
   "source": [
    "For now, we're going to go through a process to convert the Functional model to a Sequential model, so that it will be easier for us to work with given our current knowledge.\n",
    "\n",
    "We first create a new model of type Sequential. We then iterate over each of the layers in vgg16_model, except for the last layer, and add each layer to the new Sequential model."
   ]
  },
  {
   "cell_type": "code",
   "execution_count": 145,
   "id": "4d1e6875-e201-4b96-9c0a-caae84eacd67",
   "metadata": {},
   "outputs": [],
   "source": [
    "model = Sequential()\n",
    "for layer in vgg16_model.layers[:-1]:\n",
    "    model.add(layer)"
   ]
  },
  {
   "cell_type": "markdown",
   "id": "6ff26c75-a671-4034-9e2d-56e3e98f3ff8",
   "metadata": {},
   "source": [
    "Now, we have replicated the entire vgg16_model (excluding the output layer) to a new Sequential model, which we've just given the name model.\n",
    "\n",
    "Next, we'll iterate over each of the layers in our new Sequential model and set them to be non-trainable. This freezes the weights and other trainable parameters in each layer so that they will not be trained or updated when we later pass in our images of cats and dogs.\n",
    "\n"
   ]
  },
  {
   "cell_type": "code",
   "execution_count": 146,
   "id": "4a088c5e-babc-4924-bd5d-a60c41fb3a53",
   "metadata": {},
   "outputs": [],
   "source": [
    "for layer in model.layers:\n",
    "    layer.trainable = False"
   ]
  },
  {
   "cell_type": "markdown",
   "id": "2a6a03f7-d9c6-4e80-96ac-829576ef420f",
   "metadata": {},
   "source": [
    "The reason we don't want to retrain these layers is because, as mentioned earlier, cats and dogs were already included in the original ImageNet library. So, VGG16 already does a nice job at classifying these categories. We only want to modify the model such that the output layer understands only how to classify cats and dogs and nothing else. Therefore, we don't want any re-training to occur on the earlier layers.\n",
    "\n",
    "Next, we add our new output layer, consisting of only 2 nodes that correspond to cat and dog. This output layer will be the only trainable layer in the model."
   ]
  },
  {
   "cell_type": "code",
   "execution_count": 147,
   "id": "79a0a4a5-f753-474c-979e-e38364d8c895",
   "metadata": {},
   "outputs": [],
   "source": [
    "model.add(Dense(units=2, activation='softmax'))\n"
   ]
  },
  {
   "cell_type": "markdown",
   "id": "524b5aeb-0da6-4e68-b053-c2755e58dbd8",
   "metadata": {},
   "source": [
    "We can now check out a summary of our model and see that everything is exactly the same as the original vgg16_model, except for now, the output layer has only 2 nodes, rather than 1000, and the number of trainable parameters has drastically decreased since we froze all the parameters in the earlier layers.\n"
   ]
  },
  {
   "cell_type": "code",
   "execution_count": 148,
   "id": "c75c9b99-fd25-41dc-887f-72519e716c5a",
   "metadata": {
    "collapsed": true,
    "jupyter": {
     "outputs_hidden": true
    },
    "tags": []
   },
   "outputs": [
    {
     "name": "stdout",
     "output_type": "stream",
     "text": [
      "Model: \"sequential_6\"\n",
      "_________________________________________________________________\n",
      "Layer (type)                 Output Shape              Param #   \n",
      "=================================================================\n",
      "block1_conv1 (Conv2D)        (None, 224, 224, 64)      1792      \n",
      "_________________________________________________________________\n",
      "block1_conv2 (Conv2D)        (None, 224, 224, 64)      36928     \n",
      "_________________________________________________________________\n",
      "block1_pool (MaxPooling2D)   (None, 112, 112, 64)      0         \n",
      "_________________________________________________________________\n",
      "block2_conv1 (Conv2D)        (None, 112, 112, 128)     73856     \n",
      "_________________________________________________________________\n",
      "block2_conv2 (Conv2D)        (None, 112, 112, 128)     147584    \n",
      "_________________________________________________________________\n",
      "block2_pool (MaxPooling2D)   (None, 56, 56, 128)       0         \n",
      "_________________________________________________________________\n",
      "block3_conv1 (Conv2D)        (None, 56, 56, 256)       295168    \n",
      "_________________________________________________________________\n",
      "block3_conv2 (Conv2D)        (None, 56, 56, 256)       590080    \n",
      "_________________________________________________________________\n",
      "block3_conv3 (Conv2D)        (None, 56, 56, 256)       590080    \n",
      "_________________________________________________________________\n",
      "block3_pool (MaxPooling2D)   (None, 28, 28, 256)       0         \n",
      "_________________________________________________________________\n",
      "block4_conv1 (Conv2D)        (None, 28, 28, 512)       1180160   \n",
      "_________________________________________________________________\n",
      "block4_conv2 (Conv2D)        (None, 28, 28, 512)       2359808   \n",
      "_________________________________________________________________\n",
      "block4_conv3 (Conv2D)        (None, 28, 28, 512)       2359808   \n",
      "_________________________________________________________________\n",
      "block4_pool (MaxPooling2D)   (None, 14, 14, 512)       0         \n",
      "_________________________________________________________________\n",
      "block5_conv1 (Conv2D)        (None, 14, 14, 512)       2359808   \n",
      "_________________________________________________________________\n",
      "block5_conv2 (Conv2D)        (None, 14, 14, 512)       2359808   \n",
      "_________________________________________________________________\n",
      "block5_conv3 (Conv2D)        (None, 14, 14, 512)       2359808   \n",
      "_________________________________________________________________\n",
      "block5_pool (MaxPooling2D)   (None, 7, 7, 512)         0         \n",
      "_________________________________________________________________\n",
      "flatten (Flatten)            (None, 25088)             0         \n",
      "_________________________________________________________________\n",
      "fc1 (Dense)                  (None, 4096)              102764544 \n",
      "_________________________________________________________________\n",
      "fc2 (Dense)                  (None, 4096)              16781312  \n",
      "_________________________________________________________________\n",
      "dense_16 (Dense)             (None, 2)                 8194      \n",
      "=================================================================\n",
      "Total params: 134,268,738\n",
      "Trainable params: 8,194\n",
      "Non-trainable params: 134,260,544\n",
      "_________________________________________________________________\n"
     ]
    }
   ],
   "source": [
    "model.summary()"
   ]
  },
  {
   "cell_type": "markdown",
   "id": "99336baf-8f4e-4f98-96c8-afedaa454b18",
   "metadata": {},
   "source": [
    "Using our new model, the first thing we'll do is compile it.\n",
    "\n"
   ]
  },
  {
   "cell_type": "code",
   "execution_count": 149,
   "id": "7e0c0e97-fcef-48ad-b058-00e92064cbf4",
   "metadata": {},
   "outputs": [],
   "source": [
    "model.compile(optimizer=Adam(learning_rate=0.0001), loss='categorical_crossentropy', metrics=['accuracy'])\n"
   ]
  },
  {
   "cell_type": "code",
   "execution_count": 150,
   "id": "2df73525-d2a0-4204-99cb-fae1633f54b1",
   "metadata": {},
   "outputs": [
    {
     "name": "stdout",
     "output_type": "stream",
     "text": [
      "Epoch 1/5\n",
      "100/100 - 85s - loss: 0.5438 - accuracy: 0.7840 - val_loss: 0.2422 - val_accuracy: 0.9100\n",
      "Epoch 2/5\n",
      "100/100 - 85s - loss: 0.1115 - accuracy: 0.9690 - val_loss: 0.1584 - val_accuracy: 0.9350\n",
      "Epoch 3/5\n",
      "100/100 - 86s - loss: 0.0673 - accuracy: 0.9770 - val_loss: 0.1280 - val_accuracy: 0.9550\n",
      "Epoch 4/5\n",
      "100/100 - 91s - loss: 0.0465 - accuracy: 0.9810 - val_loss: 0.1148 - val_accuracy: 0.9600\n",
      "Epoch 5/5\n",
      "100/100 - 94s - loss: 0.0347 - accuracy: 0.9890 - val_loss: 0.0999 - val_accuracy: 0.9700\n"
     ]
    },
    {
     "data": {
      "text/plain": [
       "<keras.callbacks.History at 0x1c2538448e0>"
      ]
     },
     "execution_count": 150,
     "metadata": {},
     "output_type": "execute_result"
    }
   ],
   "source": [
    "model.fit(x=train_batches,\n",
    "          steps_per_epoch=len(train_batches),\n",
    "          validation_data=valid_batches,\n",
    "          validation_steps=len(valid_batches),\n",
    "          epochs=5,\n",
    "          verbose=2\n",
    ")"
   ]
  },
  {
   "cell_type": "markdown",
   "id": "84159970-84ad-4bf7-9a3c-9f229f27df8a",
   "metadata": {},
   "source": [
    "Looking at the results from training, we can see just after 5 epochs, we have some pretty outstanding results, especially when you compare it to the results we got from our original model."
   ]
  },
  {
   "cell_type": "markdown",
   "id": "f44eb149-bb28-4325-92b9-0534a1de717c",
   "metadata": {},
   "source": [
    "The most noticeable improvement is that this model is generalizing very well to the validation data, unlike the CNN we build from scratch previously."
   ]
  },
  {
   "cell_type": "code",
   "execution_count": 151,
   "id": "a0ce2333-aa60-4a9b-812c-2fbc7243aad4",
   "metadata": {},
   "outputs": [],
   "source": [
    "predictions = model.predict(x=test_batches, steps=len(test_batches), verbose=0)\n"
   ]
  },
  {
   "cell_type": "code",
   "execution_count": 152,
   "id": "aa1c8ee9-e1a6-4282-badf-c4a0e1b10f16",
   "metadata": {},
   "outputs": [
    {
     "name": "stdout",
     "output_type": "stream",
     "text": [
      "Confusion matrix, without normalization\n",
      "[[48  2]\n",
      " [ 1 49]]\n"
     ]
    },
    {
     "data": {
      "image/png": "[encoded data removed]",
      "text/plain": [
       "<Figure size 432x288 with 2 Axes>"
      ]
     },
     "metadata": {
      "needs_background": "light"
     },
     "output_type": "display_data"
    }
   ],
   "source": [
    "cm = confusion_matrix(y_true=test_batches.classes, y_pred=np.argmax(predictions, axis=-1))\n",
    "cm_plot_labels = ['cat','dog']\n",
    "plot_confusion_matrix(cm=cm, classes=cm_plot_labels, title='Confusion Matrix')"
   ]
  },
  {
   "cell_type": "markdown",
   "id": "af9f5929-4312-4a1c-a51b-264ffb85a163",
   "metadata": {},
   "source": [
    "We can see that the model incorrectly predicted only 3 samples out of 100. This gives us 97% accuracy on the test set, proving this model to be much more capable of generalizing than the previous CNN we built from scratch."
   ]
  },
  {
   "cell_type": "markdown",
   "id": "9ea50400-f1f1-47fd-b34a-8beceade7d81",
   "metadata": {},
   "source": [
    "# MobileNet Image Classification"
   ]
  },
  {
   "cell_type": "markdown",
   "id": "200cbc39-8ad4-4899-b9cf-1f9ab3bb7a4f",
   "metadata": {},
   "source": [
    "MobileNets are a class of small, low-latency, low-power models that can be used for classification, detection, and other common tasks convolutional neural networks are good for. Because of their small size, these are considered great deep learning models to be used on mobile devices."
   ]
  },
  {
   "cell_type": "markdown",
   "id": "937a56fd-eb52-4c8f-8d45-87ad5fda7d37",
   "metadata": {},
   "source": [
    "Model\tSize\tParameters\n",
    "VGG16\t553 MB\t138,000,000\n",
    "Mobile Net\t17 MB\t4,200,000\n"
   ]
  },
  {
   "cell_type": "markdown",
   "id": "b0f88350-c550-49fb-a3a3-bfb457a3dbb3",
   "metadata": {},
   "source": [
    "This vast size difference is due to the number of parameters within these networks. For example, VGG16 has 138 million parameters, while the 17 megabyte MobileNet we just mentioned has only 4.2 million.\n",
    "\n",
    "Aside from the size of the networks on disk, the size of the networks in memory also grows as the number of network parameters grow. In later episodes, we're going to test and demonstrate the performance differences between these models, so stay tuned for that.\n",
    "\n",
    "Now, while MobileNets are faster and smaller than other major networks, like VGG16, for example, there is a tradeoff. That tradeoff is accuracy.\n",
    "Yes, MobileNets typically aren't as accurate as these other large, resource-heavy models, but they still actually perform very well, with really only a relatively small reduction in accuracy."
   ]
  },
  {
   "cell_type": "code",
   "execution_count": 153,
   "id": "97021475-1174-4a86-a3d2-18135d522217",
   "metadata": {},
   "outputs": [],
   "source": [
    "import numpy as np\n",
    "import tensorflow as tf\n",
    "from tensorflow import keras\n",
    "from tensorflow.keras.layers import Dense, Activation\n",
    "from tensorflow.keras.optimizers import Adam\n",
    "from tensorflow.keras.metrics import categorical_crossentropy\n",
    "from tensorflow.keras.preprocessing.image import ImageDataGenerator\n",
    "from tensorflow.keras.preprocessing import image\n",
    "from tensorflow.keras.models import Model\n",
    "from tensorflow.keras.applications import imagenet_utils\n",
    "from sklearn.metrics import confusion_matrix\n",
    "import itertools\n",
    "import os\n",
    "import shutil\n",
    "import random\n",
    "import matplotlib.pyplot as plt\n",
    "%matplotlib inline"
   ]
  },
  {
   "cell_type": "code",
   "execution_count": 154,
   "id": "0fb4f6e8-29c1-4545-b611-b19f8ba619c8",
   "metadata": {},
   "outputs": [],
   "source": [
    "mobile = tf.keras.applications.mobilenet.MobileNet()\n"
   ]
  },
  {
   "cell_type": "markdown",
   "id": "45f2852d-b0c1-40e7-95fa-69d7ede50149",
   "metadata": {},
   "source": [
    "Next, we have a function called prepare_image() that accepts an image file, and processes the image to get it in a format that the model expects. We'll be passing each of our images to this function before we use MobileNet to predict on it, so let's see what exactly this function is doing.\n",
    "\n",
    "\n"
   ]
  },
  {
   "cell_type": "code",
   "execution_count": 164,
   "id": "4c0a508b-8678-4424-856f-7a745352edeb",
   "metadata": {},
   "outputs": [],
   "source": [
    "def prepare_image(file):\n",
    "    img_path = 'C:/Users/andre/Desktop/Image_classifier/dogs-vs-cats/'\n",
    "    img = image.load_img(img_path + file, target_size=(224, 224))\n",
    "    img_array = image.img_to_array(img)\n",
    "    img_array_expanded_dims = np.expand_dims(img_array, axis=0)\n",
    "    return tf.keras.applications.mobilenet.preprocess_input(img_array_expanded_dims)"
   ]
  },
  {
   "cell_type": "markdown",
   "id": "a2acbb2a-7f9c-4489-8bc8-312f855a5f74",
   "metadata": {},
   "source": [
    "Within this function, we first define the relative path to the images. I have all the sample images we'll be using stored in data/MobileNet-samples.\n",
    "\n",
    "We then call the Keras function image.load_img() which accepts the image file and a target_size for the image, which we're setting to (224,224) (which is the default size for MobileNet). load_img() returns an instance of a PIL image.\n",
    "\n",
    "We then convert the PIL image into an array with the Keras img_to_array() function, and then we expand the dimensions of that array by using numpy's expand_dims().\n",
    "\n",
    "Lastly, we're calling preprocess_input() from tf.keras.applications.mobilenet, which preprocesses the given image data to be in the same format as the images that MobileNet was originally trained on. Specifically, it's scaling the pixel values in the image between -1 and 1, and this function will return the preprocessed image data as a numpy array.\n",
    "\n",
    "This result is what we're returning within this overall prepare_image() function."
   ]
  },
  {
   "cell_type": "code",
   "execution_count": 159,
   "id": "7156c6ff-f4ce-431c-8234-e95be42d3a2b",
   "metadata": {
    "tags": []
   },
   "outputs": [
    {
     "data": {
      "image/jpeg": "[encoded data removed]",
      "text/plain": [
       "<IPython.core.display.Image object>"
      ]
     },
     "execution_count": 159,
     "metadata": {
      "image/jpeg": {
       "height": 200,
       "width": 300
      }
     },
     "output_type": "execute_result"
    }
   ],
   "source": [
    "from IPython.display import Image\n",
    "Image(filename='C:/Users/andre/Desktop/Image_classifier/dogs-vs-cats/cat.1.jpg', width=300,height=200) "
   ]
  },
  {
   "cell_type": "code",
   "execution_count": 165,
   "id": "857a16f1-5116-4466-80a8-f7bb314904db",
   "metadata": {},
   "outputs": [],
   "source": [
    "preprocessed_image = prepare_image('cat.1.jpg')\n",
    "predictions = mobile.predict(preprocessed_image)"
   ]
  },
  {
   "cell_type": "code",
   "execution_count": 167,
   "id": "324aeece-d45e-433b-b25d-632e866f0ca6",
   "metadata": {},
   "outputs": [
    {
     "data": {
      "text/plain": [
       "[[('n02123045', 'tabby', 0.743644),\n",
       "  ('n02124075', 'Egyptian_cat', 0.13137066),\n",
       "  ('n02123159', 'tiger_cat', 0.12038947),\n",
       "  ('n02127052', 'lynx', 0.003032933),\n",
       "  ('n04589890', 'window_screen', 0.00043909045)]]"
      ]
     },
     "execution_count": 167,
     "metadata": {},
     "output_type": "execute_result"
    }
   ],
   "source": [
    "results = imagenet_utils.decode_predictions(predictions)\n",
    "results"
   ]
  },
  {
   "cell_type": "markdown",
   "id": "42e9e893-ea6c-4fb2-ac54-5406c03d4bd6",
   "metadata": {},
   "source": [
    "It's a really nice prediction!"
   ]
  },
  {
   "cell_type": "code",
   "execution_count": null,
   "id": "34283a54-17ad-4ddb-b3f8-d0d14dbe9905",
   "metadata": {},
   "outputs": [],
   "source": []
  },
  {
   "cell_type": "markdown",
   "id": "e584c4f5-d2a8-438e-bf6e-67c89b7984f6",
   "metadata": {},
   "source": [
    "The new data set we'll be working with now does not have classes that were included in ImageNet, nor very similar to the ImageNet classes that MobileNet was originally trained on. We'll later go through the process together for tuning the model to predict on this new data.\n",
    "\n"
   ]
  },
  {
   "cell_type": "code",
   "execution_count": null,
   "id": "45e3bf10-389a-41fb-95fa-780a408dba52",
   "metadata": {},
   "outputs": [],
   "source": []
  },
  {
   "cell_type": "code",
   "execution_count": null,
   "id": "cd3c5b25-29dd-413b-a541-54da2f272d60",
   "metadata": {},
   "outputs": [],
   "source": []
  }
 ],
 "metadata": {
  "kernelspec": {
   "display_name": "Python 3",
   "language": "python",
   "name": "python3"
  },
  "language_info": {
   "codemirror_mode": {
    "name": "ipython",
    "version": 3
   },
   "file_extension": ".py",
   "mimetype": "text/x-python",
   "name": "python",
   "nbconvert_exporter": "python",
   "pygments_lexer": "ipython3",
   "version": "3.8.8"
  }
 },
 "nbformat": 4,
 "nbformat_minor": 5
}
