{
 "cells": [
  {
   "cell_type": "markdown",
   "id": "96a8c504-6119-4cc1-acb3-4a492083eae5",
   "metadata": {},
   "source": [
    "# Project Bike Demand Forecasting "
   ]
  },
  {
   "cell_type": "markdown",
   "id": "a9ce0955-18dd-47ef-a3a9-f846e338664f",
   "metadata": {},
   "source": [
    "# Goal: Try to predict the demand of bikes for the next Saturday at 2 p.m. "
   ]
  },
  {
   "cell_type": "code",
   "execution_count": 1,
   "id": "7c7fe508-2800-415e-9095-abb126b9b9a0",
   "metadata": {
    "tags": []
   },
   "outputs": [],
   "source": [
    "import pandas as pd\n",
    "import seaborn as sns\n",
    "import numpy as np\n",
    "import matplotlib.pyplot as plt"
   ]
  },
  {
   "cell_type": "code",
   "execution_count": 2,
   "id": "fac1a6cc-5258-4b61-8af8-f154fff8fb4f",
   "metadata": {
    "tags": []
   },
   "outputs": [
    {
     "data": {
      "text/html": [
       "<div>\n",
       "<style scoped>\n",
       "    .dataframe tbody tr th:only-of-type {\n",
       "        vertical-align: middle;\n",
       "    }\n",
       "\n",
       "    .dataframe tbody tr th {\n",
       "        vertical-align: top;\n",
       "    }\n",
       "\n",
       "    .dataframe thead th {\n",
       "        text-align: right;\n",
       "    }\n",
       "</style>\n",
       "<table border=\"1\" class=\"dataframe\">\n",
       "  <thead>\n",
       "    <tr style=\"text-align: right;\">\n",
       "      <th></th>\n",
       "      <th>season</th>\n",
       "      <th>holiday</th>\n",
       "      <th>workingday</th>\n",
       "      <th>weather</th>\n",
       "      <th>temp</th>\n",
       "      <th>atemp</th>\n",
       "      <th>humidity</th>\n",
       "      <th>windspeed</th>\n",
       "      <th>casual</th>\n",
       "      <th>registered</th>\n",
       "      <th>count</th>\n",
       "    </tr>\n",
       "    <tr>\n",
       "      <th>datetime</th>\n",
       "      <th></th>\n",
       "      <th></th>\n",
       "      <th></th>\n",
       "      <th></th>\n",
       "      <th></th>\n",
       "      <th></th>\n",
       "      <th></th>\n",
       "      <th></th>\n",
       "      <th></th>\n",
       "      <th></th>\n",
       "      <th></th>\n",
       "    </tr>\n",
       "  </thead>\n",
       "  <tbody>\n",
       "    <tr>\n",
       "      <th>2011-10-06 14:00:00</th>\n",
       "      <td>4</td>\n",
       "      <td>0</td>\n",
       "      <td>1</td>\n",
       "      <td>1</td>\n",
       "      <td>23.78</td>\n",
       "      <td>27.275</td>\n",
       "      <td>43</td>\n",
       "      <td>6.0032</td>\n",
       "      <td>56</td>\n",
       "      <td>139</td>\n",
       "      <td>195</td>\n",
       "    </tr>\n",
       "    <tr>\n",
       "      <th>2011-12-03 20:00:00</th>\n",
       "      <td>4</td>\n",
       "      <td>0</td>\n",
       "      <td>0</td>\n",
       "      <td>1</td>\n",
       "      <td>12.30</td>\n",
       "      <td>15.910</td>\n",
       "      <td>61</td>\n",
       "      <td>6.0032</td>\n",
       "      <td>17</td>\n",
       "      <td>110</td>\n",
       "      <td>127</td>\n",
       "    </tr>\n",
       "    <tr>\n",
       "      <th>2011-02-06 21:00:00</th>\n",
       "      <td>1</td>\n",
       "      <td>0</td>\n",
       "      <td>0</td>\n",
       "      <td>1</td>\n",
       "      <td>10.66</td>\n",
       "      <td>15.150</td>\n",
       "      <td>60</td>\n",
       "      <td>0.0000</td>\n",
       "      <td>5</td>\n",
       "      <td>22</td>\n",
       "      <td>27</td>\n",
       "    </tr>\n",
       "    <tr>\n",
       "      <th>2011-05-04 18:00:00</th>\n",
       "      <td>2</td>\n",
       "      <td>0</td>\n",
       "      <td>1</td>\n",
       "      <td>1</td>\n",
       "      <td>17.22</td>\n",
       "      <td>21.210</td>\n",
       "      <td>67</td>\n",
       "      <td>16.9979</td>\n",
       "      <td>29</td>\n",
       "      <td>367</td>\n",
       "      <td>396</td>\n",
       "    </tr>\n",
       "    <tr>\n",
       "      <th>2011-12-03 07:00:00</th>\n",
       "      <td>4</td>\n",
       "      <td>0</td>\n",
       "      <td>0</td>\n",
       "      <td>1</td>\n",
       "      <td>9.02</td>\n",
       "      <td>12.880</td>\n",
       "      <td>75</td>\n",
       "      <td>6.0032</td>\n",
       "      <td>2</td>\n",
       "      <td>24</td>\n",
       "      <td>26</td>\n",
       "    </tr>\n",
       "    <tr>\n",
       "      <th>2011-04-10 09:00:00</th>\n",
       "      <td>2</td>\n",
       "      <td>0</td>\n",
       "      <td>0</td>\n",
       "      <td>2</td>\n",
       "      <td>15.58</td>\n",
       "      <td>19.695</td>\n",
       "      <td>94</td>\n",
       "      <td>8.9981</td>\n",
       "      <td>31</td>\n",
       "      <td>50</td>\n",
       "      <td>81</td>\n",
       "    </tr>\n",
       "    <tr>\n",
       "      <th>2012-08-10 02:00:00</th>\n",
       "      <td>3</td>\n",
       "      <td>0</td>\n",
       "      <td>1</td>\n",
       "      <td>1</td>\n",
       "      <td>28.70</td>\n",
       "      <td>33.335</td>\n",
       "      <td>74</td>\n",
       "      <td>11.0014</td>\n",
       "      <td>6</td>\n",
       "      <td>14</td>\n",
       "      <td>20</td>\n",
       "    </tr>\n",
       "    <tr>\n",
       "      <th>2012-07-14 17:00:00</th>\n",
       "      <td>3</td>\n",
       "      <td>0</td>\n",
       "      <td>0</td>\n",
       "      <td>3</td>\n",
       "      <td>28.70</td>\n",
       "      <td>33.335</td>\n",
       "      <td>79</td>\n",
       "      <td>11.0014</td>\n",
       "      <td>199</td>\n",
       "      <td>259</td>\n",
       "      <td>458</td>\n",
       "    </tr>\n",
       "    <tr>\n",
       "      <th>2011-10-14 13:00:00</th>\n",
       "      <td>4</td>\n",
       "      <td>0</td>\n",
       "      <td>1</td>\n",
       "      <td>1</td>\n",
       "      <td>22.96</td>\n",
       "      <td>26.515</td>\n",
       "      <td>73</td>\n",
       "      <td>23.9994</td>\n",
       "      <td>18</td>\n",
       "      <td>114</td>\n",
       "      <td>132</td>\n",
       "    </tr>\n",
       "    <tr>\n",
       "      <th>2012-03-04 19:00:00</th>\n",
       "      <td>1</td>\n",
       "      <td>0</td>\n",
       "      <td>0</td>\n",
       "      <td>1</td>\n",
       "      <td>12.30</td>\n",
       "      <td>12.880</td>\n",
       "      <td>36</td>\n",
       "      <td>32.9975</td>\n",
       "      <td>12</td>\n",
       "      <td>120</td>\n",
       "      <td>132</td>\n",
       "    </tr>\n",
       "  </tbody>\n",
       "</table>\n",
       "</div>"
      ],
      "text/plain": [
       "                     season  holiday  workingday  weather   temp   atemp  \\\n",
       "datetime                                                                   \n",
       "2011-10-06 14:00:00       4        0           1        1  23.78  27.275   \n",
       "2011-12-03 20:00:00       4        0           0        1  12.30  15.910   \n",
       "2011-02-06 21:00:00       1        0           0        1  10.66  15.150   \n",
       "2011-05-04 18:00:00       2        0           1        1  17.22  21.210   \n",
       "2011-12-03 07:00:00       4        0           0        1   9.02  12.880   \n",
       "2011-04-10 09:00:00       2        0           0        2  15.58  19.695   \n",
       "2012-08-10 02:00:00       3        0           1        1  28.70  33.335   \n",
       "2012-07-14 17:00:00       3        0           0        3  28.70  33.335   \n",
       "2011-10-14 13:00:00       4        0           1        1  22.96  26.515   \n",
       "2012-03-04 19:00:00       1        0           0        1  12.30  12.880   \n",
       "\n",
       "                     humidity  windspeed  casual  registered  count  \n",
       "datetime                                                             \n",
       "2011-10-06 14:00:00        43     6.0032      56         139    195  \n",
       "2011-12-03 20:00:00        61     6.0032      17         110    127  \n",
       "2011-02-06 21:00:00        60     0.0000       5          22     27  \n",
       "2011-05-04 18:00:00        67    16.9979      29         367    396  \n",
       "2011-12-03 07:00:00        75     6.0032       2          24     26  \n",
       "2011-04-10 09:00:00        94     8.9981      31          50     81  \n",
       "2012-08-10 02:00:00        74    11.0014       6          14     20  \n",
       "2012-07-14 17:00:00        79    11.0014     199         259    458  \n",
       "2011-10-14 13:00:00        73    23.9994      18         114    132  \n",
       "2012-03-04 19:00:00        36    32.9975      12         120    132  "
      ]
     },
     "execution_count": 2,
     "metadata": {},
     "output_type": "execute_result"
    }
   ],
   "source": [
    "df=pd.read_csv('C:/Users/andre/Documents/SPICED/unsupervised-lemon-encounter-notes/week_03/data/train.csv', sep=',', parse_dates=True, index_col=0)\n",
    "df.sample(10)"
   ]
  },
  {
   "cell_type": "code",
   "execution_count": 3,
   "id": "0e2e0931-0e4a-4dcc-9cb0-ff99c7d98690",
   "metadata": {},
   "outputs": [
    {
     "data": {
      "text/plain": [
       "(10886, 11)"
      ]
     },
     "execution_count": 3,
     "metadata": {},
     "output_type": "execute_result"
    }
   ],
   "source": [
    "df.shape"
   ]
  },
  {
   "cell_type": "code",
   "execution_count": 4,
   "id": "a6975bbc-3c8b-4df9-9c65-92c99fe0d425",
   "metadata": {},
   "outputs": [
    {
     "name": "stdout",
     "output_type": "stream",
     "text": [
      "<class 'pandas.core.frame.DataFrame'>\n",
      "DatetimeIndex: 10886 entries, 2011-01-01 00:00:00 to 2012-12-19 23:00:00\n",
      "Data columns (total 11 columns):\n",
      " #   Column      Non-Null Count  Dtype  \n",
      "---  ------      --------------  -----  \n",
      " 0   season      10886 non-null  int64  \n",
      " 1   holiday     10886 non-null  int64  \n",
      " 2   workingday  10886 non-null  int64  \n",
      " 3   weather     10886 non-null  int64  \n",
      " 4   temp        10886 non-null  float64\n",
      " 5   atemp       10886 non-null  float64\n",
      " 6   humidity    10886 non-null  int64  \n",
      " 7   windspeed   10886 non-null  float64\n",
      " 8   casual      10886 non-null  int64  \n",
      " 9   registered  10886 non-null  int64  \n",
      " 10  count       10886 non-null  int64  \n",
      "dtypes: float64(3), int64(8)\n",
      "memory usage: 1020.6 KB\n"
     ]
    }
   ],
   "source": [
    "df.info()"
   ]
  },
  {
   "cell_type": "code",
   "execution_count": 5,
   "id": "9f0fa665-031b-4508-9450-4b0b422ef47b",
   "metadata": {},
   "outputs": [
    {
     "data": {
      "text/html": [
       "<div>\n",
       "<style scoped>\n",
       "    .dataframe tbody tr th:only-of-type {\n",
       "        vertical-align: middle;\n",
       "    }\n",
       "\n",
       "    .dataframe tbody tr th {\n",
       "        vertical-align: top;\n",
       "    }\n",
       "\n",
       "    .dataframe thead th {\n",
       "        text-align: right;\n",
       "    }\n",
       "</style>\n",
       "<table border=\"1\" class=\"dataframe\">\n",
       "  <thead>\n",
       "    <tr style=\"text-align: right;\">\n",
       "      <th></th>\n",
       "      <th>season</th>\n",
       "      <th>holiday</th>\n",
       "      <th>workingday</th>\n",
       "      <th>weather</th>\n",
       "      <th>temp</th>\n",
       "      <th>atemp</th>\n",
       "      <th>humidity</th>\n",
       "      <th>windspeed</th>\n",
       "      <th>casual</th>\n",
       "      <th>registered</th>\n",
       "      <th>count</th>\n",
       "    </tr>\n",
       "  </thead>\n",
       "  <tbody>\n",
       "    <tr>\n",
       "      <th>count</th>\n",
       "      <td>10886.000000</td>\n",
       "      <td>10886.000000</td>\n",
       "      <td>10886.000000</td>\n",
       "      <td>10886.000000</td>\n",
       "      <td>10886.00000</td>\n",
       "      <td>10886.000000</td>\n",
       "      <td>10886.000000</td>\n",
       "      <td>10886.000000</td>\n",
       "      <td>10886.000000</td>\n",
       "      <td>10886.000000</td>\n",
       "      <td>10886.000000</td>\n",
       "    </tr>\n",
       "    <tr>\n",
       "      <th>mean</th>\n",
       "      <td>2.506614</td>\n",
       "      <td>0.028569</td>\n",
       "      <td>0.680875</td>\n",
       "      <td>1.418427</td>\n",
       "      <td>20.23086</td>\n",
       "      <td>23.655084</td>\n",
       "      <td>61.886460</td>\n",
       "      <td>12.799395</td>\n",
       "      <td>36.021955</td>\n",
       "      <td>155.552177</td>\n",
       "      <td>191.574132</td>\n",
       "    </tr>\n",
       "    <tr>\n",
       "      <th>std</th>\n",
       "      <td>1.116174</td>\n",
       "      <td>0.166599</td>\n",
       "      <td>0.466159</td>\n",
       "      <td>0.633839</td>\n",
       "      <td>7.79159</td>\n",
       "      <td>8.474601</td>\n",
       "      <td>19.245033</td>\n",
       "      <td>8.164537</td>\n",
       "      <td>49.960477</td>\n",
       "      <td>151.039033</td>\n",
       "      <td>181.144454</td>\n",
       "    </tr>\n",
       "    <tr>\n",
       "      <th>min</th>\n",
       "      <td>1.000000</td>\n",
       "      <td>0.000000</td>\n",
       "      <td>0.000000</td>\n",
       "      <td>1.000000</td>\n",
       "      <td>0.82000</td>\n",
       "      <td>0.760000</td>\n",
       "      <td>0.000000</td>\n",
       "      <td>0.000000</td>\n",
       "      <td>0.000000</td>\n",
       "      <td>0.000000</td>\n",
       "      <td>1.000000</td>\n",
       "    </tr>\n",
       "    <tr>\n",
       "      <th>25%</th>\n",
       "      <td>2.000000</td>\n",
       "      <td>0.000000</td>\n",
       "      <td>0.000000</td>\n",
       "      <td>1.000000</td>\n",
       "      <td>13.94000</td>\n",
       "      <td>16.665000</td>\n",
       "      <td>47.000000</td>\n",
       "      <td>7.001500</td>\n",
       "      <td>4.000000</td>\n",
       "      <td>36.000000</td>\n",
       "      <td>42.000000</td>\n",
       "    </tr>\n",
       "    <tr>\n",
       "      <th>50%</th>\n",
       "      <td>3.000000</td>\n",
       "      <td>0.000000</td>\n",
       "      <td>1.000000</td>\n",
       "      <td>1.000000</td>\n",
       "      <td>20.50000</td>\n",
       "      <td>24.240000</td>\n",
       "      <td>62.000000</td>\n",
       "      <td>12.998000</td>\n",
       "      <td>17.000000</td>\n",
       "      <td>118.000000</td>\n",
       "      <td>145.000000</td>\n",
       "    </tr>\n",
       "    <tr>\n",
       "      <th>75%</th>\n",
       "      <td>4.000000</td>\n",
       "      <td>0.000000</td>\n",
       "      <td>1.000000</td>\n",
       "      <td>2.000000</td>\n",
       "      <td>26.24000</td>\n",
       "      <td>31.060000</td>\n",
       "      <td>77.000000</td>\n",
       "      <td>16.997900</td>\n",
       "      <td>49.000000</td>\n",
       "      <td>222.000000</td>\n",
       "      <td>284.000000</td>\n",
       "    </tr>\n",
       "    <tr>\n",
       "      <th>max</th>\n",
       "      <td>4.000000</td>\n",
       "      <td>1.000000</td>\n",
       "      <td>1.000000</td>\n",
       "      <td>4.000000</td>\n",
       "      <td>41.00000</td>\n",
       "      <td>45.455000</td>\n",
       "      <td>100.000000</td>\n",
       "      <td>56.996900</td>\n",
       "      <td>367.000000</td>\n",
       "      <td>886.000000</td>\n",
       "      <td>977.000000</td>\n",
       "    </tr>\n",
       "  </tbody>\n",
       "</table>\n",
       "</div>"
      ],
      "text/plain": [
       "             season       holiday    workingday       weather         temp  \\\n",
       "count  10886.000000  10886.000000  10886.000000  10886.000000  10886.00000   \n",
       "mean       2.506614      0.028569      0.680875      1.418427     20.23086   \n",
       "std        1.116174      0.166599      0.466159      0.633839      7.79159   \n",
       "min        1.000000      0.000000      0.000000      1.000000      0.82000   \n",
       "25%        2.000000      0.000000      0.000000      1.000000     13.94000   \n",
       "50%        3.000000      0.000000      1.000000      1.000000     20.50000   \n",
       "75%        4.000000      0.000000      1.000000      2.000000     26.24000   \n",
       "max        4.000000      1.000000      1.000000      4.000000     41.00000   \n",
       "\n",
       "              atemp      humidity     windspeed        casual    registered  \\\n",
       "count  10886.000000  10886.000000  10886.000000  10886.000000  10886.000000   \n",
       "mean      23.655084     61.886460     12.799395     36.021955    155.552177   \n",
       "std        8.474601     19.245033      8.164537     49.960477    151.039033   \n",
       "min        0.760000      0.000000      0.000000      0.000000      0.000000   \n",
       "25%       16.665000     47.000000      7.001500      4.000000     36.000000   \n",
       "50%       24.240000     62.000000     12.998000     17.000000    118.000000   \n",
       "75%       31.060000     77.000000     16.997900     49.000000    222.000000   \n",
       "max       45.455000    100.000000     56.996900    367.000000    886.000000   \n",
       "\n",
       "              count  \n",
       "count  10886.000000  \n",
       "mean     191.574132  \n",
       "std      181.144454  \n",
       "min        1.000000  \n",
       "25%       42.000000  \n",
       "50%      145.000000  \n",
       "75%      284.000000  \n",
       "max      977.000000  "
      ]
     },
     "execution_count": 5,
     "metadata": {},
     "output_type": "execute_result"
    }
   ],
   "source": [
    "df.describe()"
   ]
  },
  {
   "cell_type": "markdown",
   "id": "1253bf33-d506-4695-ba77-1b134edc5403",
   "metadata": {},
   "source": [
    "## Definition of the variables:\n",
    "\n",
    "   * `season` from 1 to 4\n",
    "   \n",
    "     * 1 = Spring\n",
    "     * 2 = Summer\n",
    "     * 3 = Fall\n",
    "     * 4 = Winter\n",
    "   * `holiday`: weather day is holiday or not \n",
    "   * `weekday`: Day of the week\n",
    "   * `workingday`: If day is neither weekend nor holiday is 1, otherwise is 0.\n",
    "   * `weather`:\n",
    "   \n",
    "        * 1: Clear, Few clouds, Partly cloudy, Partly cloudy\n",
    "        \n",
    "        * 2: Mist + Cloudy, Mist + Broken clouds, Mist + Few clouds, Mist\n",
    "        \n",
    "        * 3: Light Snow, Light Rain + Thunderstorm + Scattered clouds, Light Rain + Scattered clouds\n",
    "        \n",
    "        * 4: Heavy Rain + Ice Pallets + Thunderstorm + Mist, Snow + Fog\n",
    "        \n",
    "   * `temp`: Normalized temperature in Celsius. The values are derived via (t-tmin)/(tmax-tmin), tmin=-8, t_max=+39 (only in hourly scale)\n",
    "   * `atemp`: Normalized feeling temperature in Celsius. The values are derived via (t-tmin)/(tmax-tmin), tmin=-16, t_max=+50 (only in hourly scale)\n",
    "   * `humidity`: Normalized humidity. The values are divided to 100 (max)\n",
    "   * `windspeed`: Normalized wind speed. The values are divided to 67 (max)\n",
    "   * `casual`: count of casual users Count = 367 \n",
    "   * `registered`: count of registered users Count = 886\n",
    "   * `count`: count of total rental bikes including both casual and registered Count = 977"
   ]
  },
  {
   "cell_type": "code",
   "execution_count": 6,
   "id": "5b86569b-8b4e-4bcd-9168-5d7906ea1838",
   "metadata": {},
   "outputs": [
    {
     "data": {
      "text/html": [
       "<div>\n",
       "<style scoped>\n",
       "    .dataframe tbody tr th:only-of-type {\n",
       "        vertical-align: middle;\n",
       "    }\n",
       "\n",
       "    .dataframe tbody tr th {\n",
       "        vertical-align: top;\n",
       "    }\n",
       "\n",
       "    .dataframe thead th {\n",
       "        text-align: right;\n",
       "    }\n",
       "</style>\n",
       "<table border=\"1\" class=\"dataframe\">\n",
       "  <thead>\n",
       "    <tr style=\"text-align: right;\">\n",
       "      <th></th>\n",
       "      <th>season</th>\n",
       "      <th>holiday</th>\n",
       "      <th>workingday</th>\n",
       "      <th>weather</th>\n",
       "      <th>temp</th>\n",
       "      <th>atemp</th>\n",
       "      <th>humidity</th>\n",
       "      <th>windspeed</th>\n",
       "      <th>registered</th>\n",
       "      <th>count</th>\n",
       "    </tr>\n",
       "    <tr>\n",
       "      <th>casual</th>\n",
       "      <th></th>\n",
       "      <th></th>\n",
       "      <th></th>\n",
       "      <th></th>\n",
       "      <th></th>\n",
       "      <th></th>\n",
       "      <th></th>\n",
       "      <th></th>\n",
       "      <th></th>\n",
       "      <th></th>\n",
       "    </tr>\n",
       "  </thead>\n",
       "  <tbody>\n",
       "    <tr>\n",
       "      <th>0</th>\n",
       "      <td>986</td>\n",
       "      <td>986</td>\n",
       "      <td>986</td>\n",
       "      <td>986</td>\n",
       "      <td>986</td>\n",
       "      <td>986</td>\n",
       "      <td>986</td>\n",
       "      <td>986</td>\n",
       "      <td>986</td>\n",
       "      <td>986</td>\n",
       "    </tr>\n",
       "    <tr>\n",
       "      <th>1</th>\n",
       "      <td>667</td>\n",
       "      <td>667</td>\n",
       "      <td>667</td>\n",
       "      <td>667</td>\n",
       "      <td>667</td>\n",
       "      <td>667</td>\n",
       "      <td>667</td>\n",
       "      <td>667</td>\n",
       "      <td>667</td>\n",
       "      <td>667</td>\n",
       "    </tr>\n",
       "    <tr>\n",
       "      <th>2</th>\n",
       "      <td>487</td>\n",
       "      <td>487</td>\n",
       "      <td>487</td>\n",
       "      <td>487</td>\n",
       "      <td>487</td>\n",
       "      <td>487</td>\n",
       "      <td>487</td>\n",
       "      <td>487</td>\n",
       "      <td>487</td>\n",
       "      <td>487</td>\n",
       "    </tr>\n",
       "    <tr>\n",
       "      <th>3</th>\n",
       "      <td>438</td>\n",
       "      <td>438</td>\n",
       "      <td>438</td>\n",
       "      <td>438</td>\n",
       "      <td>438</td>\n",
       "      <td>438</td>\n",
       "      <td>438</td>\n",
       "      <td>438</td>\n",
       "      <td>438</td>\n",
       "      <td>438</td>\n",
       "    </tr>\n",
       "    <tr>\n",
       "      <th>4</th>\n",
       "      <td>354</td>\n",
       "      <td>354</td>\n",
       "      <td>354</td>\n",
       "      <td>354</td>\n",
       "      <td>354</td>\n",
       "      <td>354</td>\n",
       "      <td>354</td>\n",
       "      <td>354</td>\n",
       "      <td>354</td>\n",
       "      <td>354</td>\n",
       "    </tr>\n",
       "    <tr>\n",
       "      <th>...</th>\n",
       "      <td>...</td>\n",
       "      <td>...</td>\n",
       "      <td>...</td>\n",
       "      <td>...</td>\n",
       "      <td>...</td>\n",
       "      <td>...</td>\n",
       "      <td>...</td>\n",
       "      <td>...</td>\n",
       "      <td>...</td>\n",
       "      <td>...</td>\n",
       "    </tr>\n",
       "    <tr>\n",
       "      <th>356</th>\n",
       "      <td>1</td>\n",
       "      <td>1</td>\n",
       "      <td>1</td>\n",
       "      <td>1</td>\n",
       "      <td>1</td>\n",
       "      <td>1</td>\n",
       "      <td>1</td>\n",
       "      <td>1</td>\n",
       "      <td>1</td>\n",
       "      <td>1</td>\n",
       "    </tr>\n",
       "    <tr>\n",
       "      <th>357</th>\n",
       "      <td>1</td>\n",
       "      <td>1</td>\n",
       "      <td>1</td>\n",
       "      <td>1</td>\n",
       "      <td>1</td>\n",
       "      <td>1</td>\n",
       "      <td>1</td>\n",
       "      <td>1</td>\n",
       "      <td>1</td>\n",
       "      <td>1</td>\n",
       "    </tr>\n",
       "    <tr>\n",
       "      <th>361</th>\n",
       "      <td>1</td>\n",
       "      <td>1</td>\n",
       "      <td>1</td>\n",
       "      <td>1</td>\n",
       "      <td>1</td>\n",
       "      <td>1</td>\n",
       "      <td>1</td>\n",
       "      <td>1</td>\n",
       "      <td>1</td>\n",
       "      <td>1</td>\n",
       "    </tr>\n",
       "    <tr>\n",
       "      <th>362</th>\n",
       "      <td>1</td>\n",
       "      <td>1</td>\n",
       "      <td>1</td>\n",
       "      <td>1</td>\n",
       "      <td>1</td>\n",
       "      <td>1</td>\n",
       "      <td>1</td>\n",
       "      <td>1</td>\n",
       "      <td>1</td>\n",
       "      <td>1</td>\n",
       "    </tr>\n",
       "    <tr>\n",
       "      <th>367</th>\n",
       "      <td>1</td>\n",
       "      <td>1</td>\n",
       "      <td>1</td>\n",
       "      <td>1</td>\n",
       "      <td>1</td>\n",
       "      <td>1</td>\n",
       "      <td>1</td>\n",
       "      <td>1</td>\n",
       "      <td>1</td>\n",
       "      <td>1</td>\n",
       "    </tr>\n",
       "  </tbody>\n",
       "</table>\n",
       "<p>309 rows × 10 columns</p>\n",
       "</div>"
      ],
      "text/plain": [
       "        season  holiday  workingday  weather  temp  atemp  humidity  \\\n",
       "casual                                                                \n",
       "0          986      986         986      986   986    986       986   \n",
       "1          667      667         667      667   667    667       667   \n",
       "2          487      487         487      487   487    487       487   \n",
       "3          438      438         438      438   438    438       438   \n",
       "4          354      354         354      354   354    354       354   \n",
       "...        ...      ...         ...      ...   ...    ...       ...   \n",
       "356          1        1           1        1     1      1         1   \n",
       "357          1        1           1        1     1      1         1   \n",
       "361          1        1           1        1     1      1         1   \n",
       "362          1        1           1        1     1      1         1   \n",
       "367          1        1           1        1     1      1         1   \n",
       "\n",
       "        windspeed  registered  count  \n",
       "casual                                \n",
       "0             986         986    986  \n",
       "1             667         667    667  \n",
       "2             487         487    487  \n",
       "3             438         438    438  \n",
       "4             354         354    354  \n",
       "...           ...         ...    ...  \n",
       "356             1           1      1  \n",
       "357             1           1      1  \n",
       "361             1           1      1  \n",
       "362             1           1      1  \n",
       "367             1           1      1  \n",
       "\n",
       "[309 rows x 10 columns]"
      ]
     },
     "execution_count": 6,
     "metadata": {},
     "output_type": "execute_result"
    }
   ],
   "source": [
    "df.groupby('casual').count()"
   ]
  },
  {
   "cell_type": "code",
   "execution_count": 7,
   "id": "1cce9c2b-60f9-41a5-b631-882fb270c044",
   "metadata": {},
   "outputs": [
    {
     "data": {
      "text/plain": [
       "0      986\n",
       "1      667\n",
       "2      487\n",
       "3      438\n",
       "4      354\n",
       "      ... \n",
       "283      1\n",
       "259      1\n",
       "362      1\n",
       "354      1\n",
       "367      1\n",
       "Name: casual, Length: 309, dtype: int64"
      ]
     },
     "execution_count": 7,
     "metadata": {},
     "output_type": "execute_result"
    }
   ],
   "source": [
    "df.casual.value_counts()"
   ]
  },
  {
   "cell_type": "markdown",
   "id": "4d04a180-bcf6-45d0-b40f-7cdc1175d535",
   "metadata": {},
   "source": [
    "## Let's check the NaN's?"
   ]
  },
  {
   "cell_type": "code",
   "execution_count": 8,
   "id": "cd199a83-acd6-4d43-bf6e-2bbaa202cb7c",
   "metadata": {},
   "outputs": [],
   "source": [
    "import missingno as mn"
   ]
  },
  {
   "cell_type": "code",
   "execution_count": 9,
   "id": "43f8a1d6-c6ee-43d2-96da-ec6898c24903",
   "metadata": {
    "tags": []
   },
   "outputs": [
    {
     "data": {
      "text/plain": [
       "season        0\n",
       "holiday       0\n",
       "workingday    0\n",
       "weather       0\n",
       "temp          0\n",
       "atemp         0\n",
       "humidity      0\n",
       "windspeed     0\n",
       "casual        0\n",
       "registered    0\n",
       "count         0\n",
       "dtype: int64"
      ]
     },
     "execution_count": 9,
     "metadata": {},
     "output_type": "execute_result"
    }
   ],
   "source": [
    "df.isna().sum()"
   ]
  },
  {
   "cell_type": "code",
   "execution_count": 10,
   "id": "9f7f8af5-62c0-4304-a016-9340dc7628f1",
   "metadata": {
    "tags": []
   },
   "outputs": [
    {
     "data": {
      "image/png": "[encoded data removed]",
      "text/plain": [
       "<Figure size 1800x720 with 2 Axes>"
      ]
     },
     "metadata": {
      "needs_background": "light"
     },
     "output_type": "display_data"
    }
   ],
   "source": [
    "mn.matrix(df);"
   ]
  },
  {
   "cell_type": "markdown",
   "id": "8ffaf1b2-4c05-4f72-a459-4c4f4774aa8e",
   "metadata": {},
   "source": [
    "#### Great the there is no \"holes\" in the information"
   ]
  },
  {
   "cell_type": "markdown",
   "id": "190c6fd0-7ffa-4d0e-a760-888ed329aa07",
   "metadata": {},
   "source": [
    "# Data Wrangling"
   ]
  },
  {
   "cell_type": "code",
   "execution_count": 11,
   "id": "4a8fc758-b64d-4cd2-82d0-a52e3d855a91",
   "metadata": {},
   "outputs": [],
   "source": [
    "df['hour'] = df.index.hour\n",
    "df['day'] = df.index.day\n",
    "df['month'] = df.index.month\n",
    "df['year'] = df.index.year"
   ]
  },
  {
   "cell_type": "code",
   "execution_count": 12,
   "id": "8a2bc60b-ac8f-4b7d-b5cf-55f3345fee01",
   "metadata": {},
   "outputs": [
    {
     "data": {
      "text/html": [
       "<div>\n",
       "<style scoped>\n",
       "    .dataframe tbody tr th:only-of-type {\n",
       "        vertical-align: middle;\n",
       "    }\n",
       "\n",
       "    .dataframe tbody tr th {\n",
       "        vertical-align: top;\n",
       "    }\n",
       "\n",
       "    .dataframe thead th {\n",
       "        text-align: right;\n",
       "    }\n",
       "</style>\n",
       "<table border=\"1\" class=\"dataframe\">\n",
       "  <thead>\n",
       "    <tr style=\"text-align: right;\">\n",
       "      <th></th>\n",
       "      <th>season</th>\n",
       "      <th>holiday</th>\n",
       "      <th>workingday</th>\n",
       "      <th>weather</th>\n",
       "      <th>temp</th>\n",
       "      <th>atemp</th>\n",
       "      <th>humidity</th>\n",
       "      <th>windspeed</th>\n",
       "      <th>casual</th>\n",
       "      <th>registered</th>\n",
       "      <th>count</th>\n",
       "      <th>hour</th>\n",
       "      <th>day</th>\n",
       "      <th>month</th>\n",
       "      <th>year</th>\n",
       "    </tr>\n",
       "    <tr>\n",
       "      <th>datetime</th>\n",
       "      <th></th>\n",
       "      <th></th>\n",
       "      <th></th>\n",
       "      <th></th>\n",
       "      <th></th>\n",
       "      <th></th>\n",
       "      <th></th>\n",
       "      <th></th>\n",
       "      <th></th>\n",
       "      <th></th>\n",
       "      <th></th>\n",
       "      <th></th>\n",
       "      <th></th>\n",
       "      <th></th>\n",
       "      <th></th>\n",
       "    </tr>\n",
       "  </thead>\n",
       "  <tbody>\n",
       "    <tr>\n",
       "      <th>2011-01-01 00:00:00</th>\n",
       "      <td>1</td>\n",
       "      <td>0</td>\n",
       "      <td>0</td>\n",
       "      <td>1</td>\n",
       "      <td>9.84</td>\n",
       "      <td>14.395</td>\n",
       "      <td>81</td>\n",
       "      <td>0.0000</td>\n",
       "      <td>3</td>\n",
       "      <td>13</td>\n",
       "      <td>16</td>\n",
       "      <td>0</td>\n",
       "      <td>1</td>\n",
       "      <td>1</td>\n",
       "      <td>2011</td>\n",
       "    </tr>\n",
       "    <tr>\n",
       "      <th>2011-01-01 01:00:00</th>\n",
       "      <td>1</td>\n",
       "      <td>0</td>\n",
       "      <td>0</td>\n",
       "      <td>1</td>\n",
       "      <td>9.02</td>\n",
       "      <td>13.635</td>\n",
       "      <td>80</td>\n",
       "      <td>0.0000</td>\n",
       "      <td>8</td>\n",
       "      <td>32</td>\n",
       "      <td>40</td>\n",
       "      <td>1</td>\n",
       "      <td>1</td>\n",
       "      <td>1</td>\n",
       "      <td>2011</td>\n",
       "    </tr>\n",
       "    <tr>\n",
       "      <th>2011-01-01 02:00:00</th>\n",
       "      <td>1</td>\n",
       "      <td>0</td>\n",
       "      <td>0</td>\n",
       "      <td>1</td>\n",
       "      <td>9.02</td>\n",
       "      <td>13.635</td>\n",
       "      <td>80</td>\n",
       "      <td>0.0000</td>\n",
       "      <td>5</td>\n",
       "      <td>27</td>\n",
       "      <td>32</td>\n",
       "      <td>2</td>\n",
       "      <td>1</td>\n",
       "      <td>1</td>\n",
       "      <td>2011</td>\n",
       "    </tr>\n",
       "    <tr>\n",
       "      <th>2011-01-01 03:00:00</th>\n",
       "      <td>1</td>\n",
       "      <td>0</td>\n",
       "      <td>0</td>\n",
       "      <td>1</td>\n",
       "      <td>9.84</td>\n",
       "      <td>14.395</td>\n",
       "      <td>75</td>\n",
       "      <td>0.0000</td>\n",
       "      <td>3</td>\n",
       "      <td>10</td>\n",
       "      <td>13</td>\n",
       "      <td>3</td>\n",
       "      <td>1</td>\n",
       "      <td>1</td>\n",
       "      <td>2011</td>\n",
       "    </tr>\n",
       "    <tr>\n",
       "      <th>2011-01-01 04:00:00</th>\n",
       "      <td>1</td>\n",
       "      <td>0</td>\n",
       "      <td>0</td>\n",
       "      <td>1</td>\n",
       "      <td>9.84</td>\n",
       "      <td>14.395</td>\n",
       "      <td>75</td>\n",
       "      <td>0.0000</td>\n",
       "      <td>0</td>\n",
       "      <td>1</td>\n",
       "      <td>1</td>\n",
       "      <td>4</td>\n",
       "      <td>1</td>\n",
       "      <td>1</td>\n",
       "      <td>2011</td>\n",
       "    </tr>\n",
       "    <tr>\n",
       "      <th>...</th>\n",
       "      <td>...</td>\n",
       "      <td>...</td>\n",
       "      <td>...</td>\n",
       "      <td>...</td>\n",
       "      <td>...</td>\n",
       "      <td>...</td>\n",
       "      <td>...</td>\n",
       "      <td>...</td>\n",
       "      <td>...</td>\n",
       "      <td>...</td>\n",
       "      <td>...</td>\n",
       "      <td>...</td>\n",
       "      <td>...</td>\n",
       "      <td>...</td>\n",
       "      <td>...</td>\n",
       "    </tr>\n",
       "    <tr>\n",
       "      <th>2012-12-19 19:00:00</th>\n",
       "      <td>4</td>\n",
       "      <td>0</td>\n",
       "      <td>1</td>\n",
       "      <td>1</td>\n",
       "      <td>15.58</td>\n",
       "      <td>19.695</td>\n",
       "      <td>50</td>\n",
       "      <td>26.0027</td>\n",
       "      <td>7</td>\n",
       "      <td>329</td>\n",
       "      <td>336</td>\n",
       "      <td>19</td>\n",
       "      <td>19</td>\n",
       "      <td>12</td>\n",
       "      <td>2012</td>\n",
       "    </tr>\n",
       "    <tr>\n",
       "      <th>2012-12-19 20:00:00</th>\n",
       "      <td>4</td>\n",
       "      <td>0</td>\n",
       "      <td>1</td>\n",
       "      <td>1</td>\n",
       "      <td>14.76</td>\n",
       "      <td>17.425</td>\n",
       "      <td>57</td>\n",
       "      <td>15.0013</td>\n",
       "      <td>10</td>\n",
       "      <td>231</td>\n",
       "      <td>241</td>\n",
       "      <td>20</td>\n",
       "      <td>19</td>\n",
       "      <td>12</td>\n",
       "      <td>2012</td>\n",
       "    </tr>\n",
       "    <tr>\n",
       "      <th>2012-12-19 21:00:00</th>\n",
       "      <td>4</td>\n",
       "      <td>0</td>\n",
       "      <td>1</td>\n",
       "      <td>1</td>\n",
       "      <td>13.94</td>\n",
       "      <td>15.910</td>\n",
       "      <td>61</td>\n",
       "      <td>15.0013</td>\n",
       "      <td>4</td>\n",
       "      <td>164</td>\n",
       "      <td>168</td>\n",
       "      <td>21</td>\n",
       "      <td>19</td>\n",
       "      <td>12</td>\n",
       "      <td>2012</td>\n",
       "    </tr>\n",
       "    <tr>\n",
       "      <th>2012-12-19 22:00:00</th>\n",
       "      <td>4</td>\n",
       "      <td>0</td>\n",
       "      <td>1</td>\n",
       "      <td>1</td>\n",
       "      <td>13.94</td>\n",
       "      <td>17.425</td>\n",
       "      <td>61</td>\n",
       "      <td>6.0032</td>\n",
       "      <td>12</td>\n",
       "      <td>117</td>\n",
       "      <td>129</td>\n",
       "      <td>22</td>\n",
       "      <td>19</td>\n",
       "      <td>12</td>\n",
       "      <td>2012</td>\n",
       "    </tr>\n",
       "    <tr>\n",
       "      <th>2012-12-19 23:00:00</th>\n",
       "      <td>4</td>\n",
       "      <td>0</td>\n",
       "      <td>1</td>\n",
       "      <td>1</td>\n",
       "      <td>13.12</td>\n",
       "      <td>16.665</td>\n",
       "      <td>66</td>\n",
       "      <td>8.9981</td>\n",
       "      <td>4</td>\n",
       "      <td>84</td>\n",
       "      <td>88</td>\n",
       "      <td>23</td>\n",
       "      <td>19</td>\n",
       "      <td>12</td>\n",
       "      <td>2012</td>\n",
       "    </tr>\n",
       "  </tbody>\n",
       "</table>\n",
       "<p>10886 rows × 15 columns</p>\n",
       "</div>"
      ],
      "text/plain": [
       "                     season  holiday  workingday  weather   temp   atemp  \\\n",
       "datetime                                                                   \n",
       "2011-01-01 00:00:00       1        0           0        1   9.84  14.395   \n",
       "2011-01-01 01:00:00       1        0           0        1   9.02  13.635   \n",
       "2011-01-01 02:00:00       1        0           0        1   9.02  13.635   \n",
       "2011-01-01 03:00:00       1        0           0        1   9.84  14.395   \n",
       "2011-01-01 04:00:00       1        0           0        1   9.84  14.395   \n",
       "...                     ...      ...         ...      ...    ...     ...   \n",
       "2012-12-19 19:00:00       4        0           1        1  15.58  19.695   \n",
       "2012-12-19 20:00:00       4        0           1        1  14.76  17.425   \n",
       "2012-12-19 21:00:00       4        0           1        1  13.94  15.910   \n",
       "2012-12-19 22:00:00       4        0           1        1  13.94  17.425   \n",
       "2012-12-19 23:00:00       4        0           1        1  13.12  16.665   \n",
       "\n",
       "                     humidity  windspeed  casual  registered  count  hour  \\\n",
       "datetime                                                                    \n",
       "2011-01-01 00:00:00        81     0.0000       3          13     16     0   \n",
       "2011-01-01 01:00:00        80     0.0000       8          32     40     1   \n",
       "2011-01-01 02:00:00        80     0.0000       5          27     32     2   \n",
       "2011-01-01 03:00:00        75     0.0000       3          10     13     3   \n",
       "2011-01-01 04:00:00        75     0.0000       0           1      1     4   \n",
       "...                       ...        ...     ...         ...    ...   ...   \n",
       "2012-12-19 19:00:00        50    26.0027       7         329    336    19   \n",
       "2012-12-19 20:00:00        57    15.0013      10         231    241    20   \n",
       "2012-12-19 21:00:00        61    15.0013       4         164    168    21   \n",
       "2012-12-19 22:00:00        61     6.0032      12         117    129    22   \n",
       "2012-12-19 23:00:00        66     8.9981       4          84     88    23   \n",
       "\n",
       "                     day  month  year  \n",
       "datetime                               \n",
       "2011-01-01 00:00:00    1      1  2011  \n",
       "2011-01-01 01:00:00    1      1  2011  \n",
       "2011-01-01 02:00:00    1      1  2011  \n",
       "2011-01-01 03:00:00    1      1  2011  \n",
       "2011-01-01 04:00:00    1      1  2011  \n",
       "...                  ...    ...   ...  \n",
       "2012-12-19 19:00:00   19     12  2012  \n",
       "2012-12-19 20:00:00   19     12  2012  \n",
       "2012-12-19 21:00:00   19     12  2012  \n",
       "2012-12-19 22:00:00   19     12  2012  \n",
       "2012-12-19 23:00:00   19     12  2012  \n",
       "\n",
       "[10886 rows x 15 columns]"
      ]
     },
     "execution_count": 12,
     "metadata": {},
     "output_type": "execute_result"
    }
   ],
   "source": [
    "df"
   ]
  },
  {
   "cell_type": "markdown",
   "id": "e3385f0a-d6fd-4e4c-aba1-a64cd6a436ae",
   "metadata": {},
   "source": [
    "#### Setting the `season` and `weather` to be easier to read"
   ]
  },
  {
   "cell_type": "code",
   "execution_count": 13,
   "id": "70f0a468-6169-48b9-8044-130117b47880",
   "metadata": {},
   "outputs": [],
   "source": [
    "codes_season = {1:'Spring',2:'Summer',3:'Fall',4:'Winter'}\n",
    "df['season'] = df['season'].map(codes_season)"
   ]
  },
  {
   "cell_type": "code",
   "execution_count": 14,
   "id": "d07f67ca-ec0b-4d9f-a93a-1cdc273725ce",
   "metadata": {},
   "outputs": [],
   "source": [
    "codes_weather = {1:'Clear',2:'Mist',3:'Light Snow',4:'Heavy Rain'}\n",
    "df['weather'] = df['weather'].map(codes_weather)"
   ]
  },
  {
   "cell_type": "code",
   "execution_count": 15,
   "id": "c2ea0177-fd9f-476e-a321-a604994960f2",
   "metadata": {},
   "outputs": [
    {
     "data": {
      "text/html": [
       "<div>\n",
       "<style scoped>\n",
       "    .dataframe tbody tr th:only-of-type {\n",
       "        vertical-align: middle;\n",
       "    }\n",
       "\n",
       "    .dataframe tbody tr th {\n",
       "        vertical-align: top;\n",
       "    }\n",
       "\n",
       "    .dataframe thead th {\n",
       "        text-align: right;\n",
       "    }\n",
       "</style>\n",
       "<table border=\"1\" class=\"dataframe\">\n",
       "  <thead>\n",
       "    <tr style=\"text-align: right;\">\n",
       "      <th></th>\n",
       "      <th>season</th>\n",
       "      <th>holiday</th>\n",
       "      <th>workingday</th>\n",
       "      <th>weather</th>\n",
       "      <th>temp</th>\n",
       "      <th>atemp</th>\n",
       "      <th>humidity</th>\n",
       "      <th>windspeed</th>\n",
       "      <th>casual</th>\n",
       "      <th>registered</th>\n",
       "      <th>count</th>\n",
       "      <th>hour</th>\n",
       "      <th>day</th>\n",
       "      <th>month</th>\n",
       "      <th>year</th>\n",
       "    </tr>\n",
       "    <tr>\n",
       "      <th>datetime</th>\n",
       "      <th></th>\n",
       "      <th></th>\n",
       "      <th></th>\n",
       "      <th></th>\n",
       "      <th></th>\n",
       "      <th></th>\n",
       "      <th></th>\n",
       "      <th></th>\n",
       "      <th></th>\n",
       "      <th></th>\n",
       "      <th></th>\n",
       "      <th></th>\n",
       "      <th></th>\n",
       "      <th></th>\n",
       "      <th></th>\n",
       "    </tr>\n",
       "  </thead>\n",
       "  <tbody>\n",
       "    <tr>\n",
       "      <th>2011-01-01 00:00:00</th>\n",
       "      <td>Spring</td>\n",
       "      <td>0</td>\n",
       "      <td>0</td>\n",
       "      <td>Clear</td>\n",
       "      <td>9.84</td>\n",
       "      <td>14.395</td>\n",
       "      <td>81</td>\n",
       "      <td>0.0000</td>\n",
       "      <td>3</td>\n",
       "      <td>13</td>\n",
       "      <td>16</td>\n",
       "      <td>0</td>\n",
       "      <td>1</td>\n",
       "      <td>1</td>\n",
       "      <td>2011</td>\n",
       "    </tr>\n",
       "    <tr>\n",
       "      <th>2011-01-01 01:00:00</th>\n",
       "      <td>Spring</td>\n",
       "      <td>0</td>\n",
       "      <td>0</td>\n",
       "      <td>Clear</td>\n",
       "      <td>9.02</td>\n",
       "      <td>13.635</td>\n",
       "      <td>80</td>\n",
       "      <td>0.0000</td>\n",
       "      <td>8</td>\n",
       "      <td>32</td>\n",
       "      <td>40</td>\n",
       "      <td>1</td>\n",
       "      <td>1</td>\n",
       "      <td>1</td>\n",
       "      <td>2011</td>\n",
       "    </tr>\n",
       "    <tr>\n",
       "      <th>2011-01-01 02:00:00</th>\n",
       "      <td>Spring</td>\n",
       "      <td>0</td>\n",
       "      <td>0</td>\n",
       "      <td>Clear</td>\n",
       "      <td>9.02</td>\n",
       "      <td>13.635</td>\n",
       "      <td>80</td>\n",
       "      <td>0.0000</td>\n",
       "      <td>5</td>\n",
       "      <td>27</td>\n",
       "      <td>32</td>\n",
       "      <td>2</td>\n",
       "      <td>1</td>\n",
       "      <td>1</td>\n",
       "      <td>2011</td>\n",
       "    </tr>\n",
       "    <tr>\n",
       "      <th>2011-01-01 03:00:00</th>\n",
       "      <td>Spring</td>\n",
       "      <td>0</td>\n",
       "      <td>0</td>\n",
       "      <td>Clear</td>\n",
       "      <td>9.84</td>\n",
       "      <td>14.395</td>\n",
       "      <td>75</td>\n",
       "      <td>0.0000</td>\n",
       "      <td>3</td>\n",
       "      <td>10</td>\n",
       "      <td>13</td>\n",
       "      <td>3</td>\n",
       "      <td>1</td>\n",
       "      <td>1</td>\n",
       "      <td>2011</td>\n",
       "    </tr>\n",
       "    <tr>\n",
       "      <th>2011-01-01 04:00:00</th>\n",
       "      <td>Spring</td>\n",
       "      <td>0</td>\n",
       "      <td>0</td>\n",
       "      <td>Clear</td>\n",
       "      <td>9.84</td>\n",
       "      <td>14.395</td>\n",
       "      <td>75</td>\n",
       "      <td>0.0000</td>\n",
       "      <td>0</td>\n",
       "      <td>1</td>\n",
       "      <td>1</td>\n",
       "      <td>4</td>\n",
       "      <td>1</td>\n",
       "      <td>1</td>\n",
       "      <td>2011</td>\n",
       "    </tr>\n",
       "    <tr>\n",
       "      <th>...</th>\n",
       "      <td>...</td>\n",
       "      <td>...</td>\n",
       "      <td>...</td>\n",
       "      <td>...</td>\n",
       "      <td>...</td>\n",
       "      <td>...</td>\n",
       "      <td>...</td>\n",
       "      <td>...</td>\n",
       "      <td>...</td>\n",
       "      <td>...</td>\n",
       "      <td>...</td>\n",
       "      <td>...</td>\n",
       "      <td>...</td>\n",
       "      <td>...</td>\n",
       "      <td>...</td>\n",
       "    </tr>\n",
       "    <tr>\n",
       "      <th>2012-12-19 19:00:00</th>\n",
       "      <td>Winter</td>\n",
       "      <td>0</td>\n",
       "      <td>1</td>\n",
       "      <td>Clear</td>\n",
       "      <td>15.58</td>\n",
       "      <td>19.695</td>\n",
       "      <td>50</td>\n",
       "      <td>26.0027</td>\n",
       "      <td>7</td>\n",
       "      <td>329</td>\n",
       "      <td>336</td>\n",
       "      <td>19</td>\n",
       "      <td>19</td>\n",
       "      <td>12</td>\n",
       "      <td>2012</td>\n",
       "    </tr>\n",
       "    <tr>\n",
       "      <th>2012-12-19 20:00:00</th>\n",
       "      <td>Winter</td>\n",
       "      <td>0</td>\n",
       "      <td>1</td>\n",
       "      <td>Clear</td>\n",
       "      <td>14.76</td>\n",
       "      <td>17.425</td>\n",
       "      <td>57</td>\n",
       "      <td>15.0013</td>\n",
       "      <td>10</td>\n",
       "      <td>231</td>\n",
       "      <td>241</td>\n",
       "      <td>20</td>\n",
       "      <td>19</td>\n",
       "      <td>12</td>\n",
       "      <td>2012</td>\n",
       "    </tr>\n",
       "    <tr>\n",
       "      <th>2012-12-19 21:00:00</th>\n",
       "      <td>Winter</td>\n",
       "      <td>0</td>\n",
       "      <td>1</td>\n",
       "      <td>Clear</td>\n",
       "      <td>13.94</td>\n",
       "      <td>15.910</td>\n",
       "      <td>61</td>\n",
       "      <td>15.0013</td>\n",
       "      <td>4</td>\n",
       "      <td>164</td>\n",
       "      <td>168</td>\n",
       "      <td>21</td>\n",
       "      <td>19</td>\n",
       "      <td>12</td>\n",
       "      <td>2012</td>\n",
       "    </tr>\n",
       "    <tr>\n",
       "      <th>2012-12-19 22:00:00</th>\n",
       "      <td>Winter</td>\n",
       "      <td>0</td>\n",
       "      <td>1</td>\n",
       "      <td>Clear</td>\n",
       "      <td>13.94</td>\n",
       "      <td>17.425</td>\n",
       "      <td>61</td>\n",
       "      <td>6.0032</td>\n",
       "      <td>12</td>\n",
       "      <td>117</td>\n",
       "      <td>129</td>\n",
       "      <td>22</td>\n",
       "      <td>19</td>\n",
       "      <td>12</td>\n",
       "      <td>2012</td>\n",
       "    </tr>\n",
       "    <tr>\n",
       "      <th>2012-12-19 23:00:00</th>\n",
       "      <td>Winter</td>\n",
       "      <td>0</td>\n",
       "      <td>1</td>\n",
       "      <td>Clear</td>\n",
       "      <td>13.12</td>\n",
       "      <td>16.665</td>\n",
       "      <td>66</td>\n",
       "      <td>8.9981</td>\n",
       "      <td>4</td>\n",
       "      <td>84</td>\n",
       "      <td>88</td>\n",
       "      <td>23</td>\n",
       "      <td>19</td>\n",
       "      <td>12</td>\n",
       "      <td>2012</td>\n",
       "    </tr>\n",
       "  </tbody>\n",
       "</table>\n",
       "<p>10886 rows × 15 columns</p>\n",
       "</div>"
      ],
      "text/plain": [
       "                     season  holiday  workingday weather   temp   atemp  \\\n",
       "datetime                                                                  \n",
       "2011-01-01 00:00:00  Spring        0           0   Clear   9.84  14.395   \n",
       "2011-01-01 01:00:00  Spring        0           0   Clear   9.02  13.635   \n",
       "2011-01-01 02:00:00  Spring        0           0   Clear   9.02  13.635   \n",
       "2011-01-01 03:00:00  Spring        0           0   Clear   9.84  14.395   \n",
       "2011-01-01 04:00:00  Spring        0           0   Clear   9.84  14.395   \n",
       "...                     ...      ...         ...     ...    ...     ...   \n",
       "2012-12-19 19:00:00  Winter        0           1   Clear  15.58  19.695   \n",
       "2012-12-19 20:00:00  Winter        0           1   Clear  14.76  17.425   \n",
       "2012-12-19 21:00:00  Winter        0           1   Clear  13.94  15.910   \n",
       "2012-12-19 22:00:00  Winter        0           1   Clear  13.94  17.425   \n",
       "2012-12-19 23:00:00  Winter        0           1   Clear  13.12  16.665   \n",
       "\n",
       "                     humidity  windspeed  casual  registered  count  hour  \\\n",
       "datetime                                                                    \n",
       "2011-01-01 00:00:00        81     0.0000       3          13     16     0   \n",
       "2011-01-01 01:00:00        80     0.0000       8          32     40     1   \n",
       "2011-01-01 02:00:00        80     0.0000       5          27     32     2   \n",
       "2011-01-01 03:00:00        75     0.0000       3          10     13     3   \n",
       "2011-01-01 04:00:00        75     0.0000       0           1      1     4   \n",
       "...                       ...        ...     ...         ...    ...   ...   \n",
       "2012-12-19 19:00:00        50    26.0027       7         329    336    19   \n",
       "2012-12-19 20:00:00        57    15.0013      10         231    241    20   \n",
       "2012-12-19 21:00:00        61    15.0013       4         164    168    21   \n",
       "2012-12-19 22:00:00        61     6.0032      12         117    129    22   \n",
       "2012-12-19 23:00:00        66     8.9981       4          84     88    23   \n",
       "\n",
       "                     day  month  year  \n",
       "datetime                               \n",
       "2011-01-01 00:00:00    1      1  2011  \n",
       "2011-01-01 01:00:00    1      1  2011  \n",
       "2011-01-01 02:00:00    1      1  2011  \n",
       "2011-01-01 03:00:00    1      1  2011  \n",
       "2011-01-01 04:00:00    1      1  2011  \n",
       "...                  ...    ...   ...  \n",
       "2012-12-19 19:00:00   19     12  2012  \n",
       "2012-12-19 20:00:00   19     12  2012  \n",
       "2012-12-19 21:00:00   19     12  2012  \n",
       "2012-12-19 22:00:00   19     12  2012  \n",
       "2012-12-19 23:00:00   19     12  2012  \n",
       "\n",
       "[10886 rows x 15 columns]"
      ]
     },
     "execution_count": 15,
     "metadata": {},
     "output_type": "execute_result"
    }
   ],
   "source": [
    "df"
   ]
  },
  {
   "cell_type": "code",
   "execution_count": 16,
   "id": "cf1710bc-4de7-427d-b09c-d4975fa55fcc",
   "metadata": {},
   "outputs": [],
   "source": [
    "casual_bin = df[df['casual']==0]"
   ]
  },
  {
   "cell_type": "code",
   "execution_count": 17,
   "id": "96d14c1a-da69-4d01-9aa5-8cd3e779ec54",
   "metadata": {},
   "outputs": [
    {
     "data": {
      "text/html": [
       "<div>\n",
       "<style scoped>\n",
       "    .dataframe tbody tr th:only-of-type {\n",
       "        vertical-align: middle;\n",
       "    }\n",
       "\n",
       "    .dataframe tbody tr th {\n",
       "        vertical-align: top;\n",
       "    }\n",
       "\n",
       "    .dataframe thead th {\n",
       "        text-align: right;\n",
       "    }\n",
       "</style>\n",
       "<table border=\"1\" class=\"dataframe\">\n",
       "  <thead>\n",
       "    <tr style=\"text-align: right;\">\n",
       "      <th></th>\n",
       "      <th>season</th>\n",
       "      <th>holiday</th>\n",
       "      <th>workingday</th>\n",
       "      <th>weather</th>\n",
       "      <th>temp</th>\n",
       "      <th>atemp</th>\n",
       "      <th>humidity</th>\n",
       "      <th>windspeed</th>\n",
       "      <th>casual</th>\n",
       "      <th>registered</th>\n",
       "      <th>count</th>\n",
       "      <th>hour</th>\n",
       "      <th>day</th>\n",
       "      <th>month</th>\n",
       "      <th>year</th>\n",
       "    </tr>\n",
       "    <tr>\n",
       "      <th>datetime</th>\n",
       "      <th></th>\n",
       "      <th></th>\n",
       "      <th></th>\n",
       "      <th></th>\n",
       "      <th></th>\n",
       "      <th></th>\n",
       "      <th></th>\n",
       "      <th></th>\n",
       "      <th></th>\n",
       "      <th></th>\n",
       "      <th></th>\n",
       "      <th></th>\n",
       "      <th></th>\n",
       "      <th></th>\n",
       "      <th></th>\n",
       "    </tr>\n",
       "  </thead>\n",
       "  <tbody>\n",
       "    <tr>\n",
       "      <th>2011-01-01 04:00:00</th>\n",
       "      <td>Spring</td>\n",
       "      <td>0</td>\n",
       "      <td>0</td>\n",
       "      <td>Clear</td>\n",
       "      <td>9.84</td>\n",
       "      <td>14.395</td>\n",
       "      <td>75</td>\n",
       "      <td>0.0000</td>\n",
       "      <td>0</td>\n",
       "      <td>1</td>\n",
       "      <td>1</td>\n",
       "      <td>4</td>\n",
       "      <td>1</td>\n",
       "      <td>1</td>\n",
       "      <td>2011</td>\n",
       "    </tr>\n",
       "    <tr>\n",
       "      <th>2011-01-01 05:00:00</th>\n",
       "      <td>Spring</td>\n",
       "      <td>0</td>\n",
       "      <td>0</td>\n",
       "      <td>Mist</td>\n",
       "      <td>9.84</td>\n",
       "      <td>12.880</td>\n",
       "      <td>75</td>\n",
       "      <td>6.0032</td>\n",
       "      <td>0</td>\n",
       "      <td>1</td>\n",
       "      <td>1</td>\n",
       "      <td>5</td>\n",
       "      <td>1</td>\n",
       "      <td>1</td>\n",
       "      <td>2011</td>\n",
       "    </tr>\n",
       "    <tr>\n",
       "      <th>2011-01-02 06:00:00</th>\n",
       "      <td>Spring</td>\n",
       "      <td>0</td>\n",
       "      <td>0</td>\n",
       "      <td>Light Snow</td>\n",
       "      <td>17.22</td>\n",
       "      <td>21.210</td>\n",
       "      <td>77</td>\n",
       "      <td>19.9995</td>\n",
       "      <td>0</td>\n",
       "      <td>2</td>\n",
       "      <td>2</td>\n",
       "      <td>6</td>\n",
       "      <td>2</td>\n",
       "      <td>1</td>\n",
       "      <td>2011</td>\n",
       "    </tr>\n",
       "    <tr>\n",
       "      <th>2011-01-02 07:00:00</th>\n",
       "      <td>Spring</td>\n",
       "      <td>0</td>\n",
       "      <td>0</td>\n",
       "      <td>Mist</td>\n",
       "      <td>16.40</td>\n",
       "      <td>20.455</td>\n",
       "      <td>76</td>\n",
       "      <td>12.9980</td>\n",
       "      <td>0</td>\n",
       "      <td>1</td>\n",
       "      <td>1</td>\n",
       "      <td>7</td>\n",
       "      <td>2</td>\n",
       "      <td>1</td>\n",
       "      <td>2011</td>\n",
       "    </tr>\n",
       "    <tr>\n",
       "      <th>2011-01-02 08:00:00</th>\n",
       "      <td>Spring</td>\n",
       "      <td>0</td>\n",
       "      <td>0</td>\n",
       "      <td>Light Snow</td>\n",
       "      <td>16.40</td>\n",
       "      <td>20.455</td>\n",
       "      <td>71</td>\n",
       "      <td>15.0013</td>\n",
       "      <td>0</td>\n",
       "      <td>8</td>\n",
       "      <td>8</td>\n",
       "      <td>8</td>\n",
       "      <td>2</td>\n",
       "      <td>1</td>\n",
       "      <td>2011</td>\n",
       "    </tr>\n",
       "    <tr>\n",
       "      <th>...</th>\n",
       "      <td>...</td>\n",
       "      <td>...</td>\n",
       "      <td>...</td>\n",
       "      <td>...</td>\n",
       "      <td>...</td>\n",
       "      <td>...</td>\n",
       "      <td>...</td>\n",
       "      <td>...</td>\n",
       "      <td>...</td>\n",
       "      <td>...</td>\n",
       "      <td>...</td>\n",
       "      <td>...</td>\n",
       "      <td>...</td>\n",
       "      <td>...</td>\n",
       "      <td>...</td>\n",
       "    </tr>\n",
       "    <tr>\n",
       "      <th>2012-12-18 00:00:00</th>\n",
       "      <td>Winter</td>\n",
       "      <td>0</td>\n",
       "      <td>1</td>\n",
       "      <td>Mist</td>\n",
       "      <td>18.04</td>\n",
       "      <td>21.970</td>\n",
       "      <td>94</td>\n",
       "      <td>8.9981</td>\n",
       "      <td>0</td>\n",
       "      <td>18</td>\n",
       "      <td>18</td>\n",
       "      <td>0</td>\n",
       "      <td>18</td>\n",
       "      <td>12</td>\n",
       "      <td>2012</td>\n",
       "    </tr>\n",
       "    <tr>\n",
       "      <th>2012-12-18 01:00:00</th>\n",
       "      <td>Winter</td>\n",
       "      <td>0</td>\n",
       "      <td>1</td>\n",
       "      <td>Mist</td>\n",
       "      <td>18.04</td>\n",
       "      <td>21.970</td>\n",
       "      <td>94</td>\n",
       "      <td>8.9981</td>\n",
       "      <td>0</td>\n",
       "      <td>15</td>\n",
       "      <td>15</td>\n",
       "      <td>1</td>\n",
       "      <td>18</td>\n",
       "      <td>12</td>\n",
       "      <td>2012</td>\n",
       "    </tr>\n",
       "    <tr>\n",
       "      <th>2012-12-18 03:00:00</th>\n",
       "      <td>Winter</td>\n",
       "      <td>0</td>\n",
       "      <td>1</td>\n",
       "      <td>Clear</td>\n",
       "      <td>17.22</td>\n",
       "      <td>21.210</td>\n",
       "      <td>88</td>\n",
       "      <td>12.9980</td>\n",
       "      <td>0</td>\n",
       "      <td>5</td>\n",
       "      <td>5</td>\n",
       "      <td>3</td>\n",
       "      <td>18</td>\n",
       "      <td>12</td>\n",
       "      <td>2012</td>\n",
       "    </tr>\n",
       "    <tr>\n",
       "      <th>2012-12-18 05:00:00</th>\n",
       "      <td>Winter</td>\n",
       "      <td>0</td>\n",
       "      <td>1</td>\n",
       "      <td>Clear</td>\n",
       "      <td>15.58</td>\n",
       "      <td>19.695</td>\n",
       "      <td>87</td>\n",
       "      <td>6.0032</td>\n",
       "      <td>0</td>\n",
       "      <td>36</td>\n",
       "      <td>36</td>\n",
       "      <td>5</td>\n",
       "      <td>18</td>\n",
       "      <td>12</td>\n",
       "      <td>2012</td>\n",
       "    </tr>\n",
       "    <tr>\n",
       "      <th>2012-12-19 03:00:00</th>\n",
       "      <td>Winter</td>\n",
       "      <td>0</td>\n",
       "      <td>1</td>\n",
       "      <td>Clear</td>\n",
       "      <td>10.66</td>\n",
       "      <td>13.635</td>\n",
       "      <td>75</td>\n",
       "      <td>8.9981</td>\n",
       "      <td>0</td>\n",
       "      <td>5</td>\n",
       "      <td>5</td>\n",
       "      <td>3</td>\n",
       "      <td>19</td>\n",
       "      <td>12</td>\n",
       "      <td>2012</td>\n",
       "    </tr>\n",
       "  </tbody>\n",
       "</table>\n",
       "<p>986 rows × 15 columns</p>\n",
       "</div>"
      ],
      "text/plain": [
       "                     season  holiday  workingday     weather   temp   atemp  \\\n",
       "datetime                                                                      \n",
       "2011-01-01 04:00:00  Spring        0           0       Clear   9.84  14.395   \n",
       "2011-01-01 05:00:00  Spring        0           0        Mist   9.84  12.880   \n",
       "2011-01-02 06:00:00  Spring        0           0  Light Snow  17.22  21.210   \n",
       "2011-01-02 07:00:00  Spring        0           0        Mist  16.40  20.455   \n",
       "2011-01-02 08:00:00  Spring        0           0  Light Snow  16.40  20.455   \n",
       "...                     ...      ...         ...         ...    ...     ...   \n",
       "2012-12-18 00:00:00  Winter        0           1        Mist  18.04  21.970   \n",
       "2012-12-18 01:00:00  Winter        0           1        Mist  18.04  21.970   \n",
       "2012-12-18 03:00:00  Winter        0           1       Clear  17.22  21.210   \n",
       "2012-12-18 05:00:00  Winter        0           1       Clear  15.58  19.695   \n",
       "2012-12-19 03:00:00  Winter        0           1       Clear  10.66  13.635   \n",
       "\n",
       "                     humidity  windspeed  casual  registered  count  hour  \\\n",
       "datetime                                                                    \n",
       "2011-01-01 04:00:00        75     0.0000       0           1      1     4   \n",
       "2011-01-01 05:00:00        75     6.0032       0           1      1     5   \n",
       "2011-01-02 06:00:00        77    19.9995       0           2      2     6   \n",
       "2011-01-02 07:00:00        76    12.9980       0           1      1     7   \n",
       "2011-01-02 08:00:00        71    15.0013       0           8      8     8   \n",
       "...                       ...        ...     ...         ...    ...   ...   \n",
       "2012-12-18 00:00:00        94     8.9981       0          18     18     0   \n",
       "2012-12-18 01:00:00        94     8.9981       0          15     15     1   \n",
       "2012-12-18 03:00:00        88    12.9980       0           5      5     3   \n",
       "2012-12-18 05:00:00        87     6.0032       0          36     36     5   \n",
       "2012-12-19 03:00:00        75     8.9981       0           5      5     3   \n",
       "\n",
       "                     day  month  year  \n",
       "datetime                               \n",
       "2011-01-01 04:00:00    1      1  2011  \n",
       "2011-01-01 05:00:00    1      1  2011  \n",
       "2011-01-02 06:00:00    2      1  2011  \n",
       "2011-01-02 07:00:00    2      1  2011  \n",
       "2011-01-02 08:00:00    2      1  2011  \n",
       "...                  ...    ...   ...  \n",
       "2012-12-18 00:00:00   18     12  2012  \n",
       "2012-12-18 01:00:00   18     12  2012  \n",
       "2012-12-18 03:00:00   18     12  2012  \n",
       "2012-12-18 05:00:00   18     12  2012  \n",
       "2012-12-19 03:00:00   19     12  2012  \n",
       "\n",
       "[986 rows x 15 columns]"
      ]
     },
     "execution_count": 17,
     "metadata": {},
     "output_type": "execute_result"
    }
   ],
   "source": [
    "casual_bin"
   ]
  },
  {
   "cell_type": "code",
   "execution_count": 18,
   "id": "a0350577-975d-4e33-8370-c1451a02a0f2",
   "metadata": {},
   "outputs": [
    {
     "data": {
      "text/plain": [
       "0.0905750505236083"
      ]
     },
     "execution_count": 18,
     "metadata": {},
     "output_type": "execute_result"
    }
   ],
   "source": [
    "len(casual_bin)/len(df)"
   ]
  },
  {
   "cell_type": "code",
   "execution_count": 19,
   "id": "a71ec2b4-acb7-4d83-ad1c-62753d165741",
   "metadata": {},
   "outputs": [
    {
     "data": {
      "text/plain": [
       "(15, 15)"
      ]
     },
     "execution_count": 19,
     "metadata": {},
     "output_type": "execute_result"
    }
   ],
   "source": [
    "registered_bin = df[df['registered']==0]\n",
    "registered_bin.shape"
   ]
  },
  {
   "cell_type": "code",
   "execution_count": 20,
   "id": "1213b2f8-9dfc-46c2-9c3b-c92c1ea6eb05",
   "metadata": {},
   "outputs": [
    {
     "data": {
      "text/plain": [
       "0.001377916590115745"
      ]
     },
     "execution_count": 20,
     "metadata": {},
     "output_type": "execute_result"
    }
   ],
   "source": [
    "len(registered_bin)/len(df)"
   ]
  },
  {
   "cell_type": "code",
   "execution_count": 21,
   "id": "da0017da-5fa0-477a-9a6d-c02de644a300",
   "metadata": {},
   "outputs": [
    {
     "data": {
      "text/plain": [
       "(9885, 15)"
      ]
     },
     "execution_count": 21,
     "metadata": {},
     "output_type": "execute_result"
    }
   ],
   "source": [
    "neue_df=df[ (df['registered']!=0) & (df['casual']!=0)]\n",
    "neue_df.shape\n"
   ]
  },
  {
   "cell_type": "code",
   "execution_count": 22,
   "id": "1688109b-bd8f-4c99-85ac-768c04a44572",
   "metadata": {},
   "outputs": [
    {
     "data": {
      "text/plain": [
       "0.908047032886276"
      ]
     },
     "execution_count": 22,
     "metadata": {},
     "output_type": "execute_result"
    }
   ],
   "source": [
    "len(neue_df)/len(df)"
   ]
  },
  {
   "cell_type": "markdown",
   "id": "741ba1bb-be2f-4664-a392-8d4660492236",
   "metadata": {},
   "source": [
    "#### Almost all the `registered` are in the `count` column and less than the 10% of the `casual` column are = 0 so I assume that the predictive power of this columns  is not going to be determinant and I'll try to predict `count`."
   ]
  },
  {
   "cell_type": "markdown",
   "id": "18cd78c4-89dd-4087-820e-97c17aeb10fa",
   "metadata": {},
   "source": [
    "# Exploratory Data Analysis"
   ]
  },
  {
   "cell_type": "code",
   "execution_count": 23,
   "id": "2192b689-e10e-424d-a135-6b747bdb5147",
   "metadata": {},
   "outputs": [],
   "source": [
    "from matplotlib import pyplot as plt"
   ]
  },
  {
   "cell_type": "code",
   "execution_count": 24,
   "id": "5a067fd6-ca30-46be-9f1d-a8704d404187",
   "metadata": {},
   "outputs": [
    {
     "data": {
      "image/png": "[encoded data removed]",
      "text/plain": [
       "<Figure size 432x288 with 1 Axes>"
      ]
     },
     "metadata": {
      "needs_background": "light"
     },
     "output_type": "display_data"
    }
   ],
   "source": [
    "ax = sns.countplot(x='season',data=df)\n",
    "ax.set_title('Count vs Season', fontsize=14)\n",
    "for p in ax.patches:\n",
    "    ax.annotate(f'\\n{p.get_height()}', (p.get_x()+0.4, p.get_height()), ha='center', va='top', color='white', size=11)\n",
    "plt.show();"
   ]
  },
  {
   "cell_type": "markdown",
   "id": "3c3f227c-20c3-4881-aab1-fb53ab2bea5b",
   "metadata": {},
   "source": [
    "#### There is no important impact of the `season`  in the total count"
   ]
  },
  {
   "cell_type": "code",
   "execution_count": 25,
   "id": "d0c1e1dc-548e-49ff-aa03-d656cb5f44d8",
   "metadata": {},
   "outputs": [
    {
     "data": {
      "image/png": "[encoded data removed]",
      "text/plain": [
       "<Figure size 432x288 with 1 Axes>"
      ]
     },
     "metadata": {
      "needs_background": "light"
     },
     "output_type": "display_data"
    }
   ],
   "source": [
    "ax = sns.countplot(x='weather',data=df)\n",
    "ax.set_title('Count vs Weather', fontsize=14)\n",
    "for p in ax.patches:\n",
    "    ax.annotate(f'\\n{p.get_height()}', (p.get_x()+0.4, p.get_height()), ha='center', va='top', color='black', size=11)\n",
    "plt.show();"
   ]
  },
  {
   "cell_type": "markdown",
   "id": "0faec0dc-4595-40eb-9b5a-3778e216c1c0",
   "metadata": {},
   "source": [
    "#### "
   ]
  },
  {
   "cell_type": "code",
   "execution_count": 26,
   "id": "1e43098b-728b-4b8d-aceb-6ed7de93016e",
   "metadata": {},
   "outputs": [
    {
     "name": "stdout",
     "output_type": "stream",
     "text": [
      "92.1 %\n"
     ]
    }
   ],
   "source": [
    "df_by_weather = df.groupby('weather').count()\n",
    "print(round(((df_by_weather.loc['Clear']['season']+df_by_weather.loc['Mist']['season'])/df_by_weather.iloc[:]['season'].sum())*100,2),'%')"
   ]
  },
  {
   "cell_type": "markdown",
   "id": "b0344c24-3298-47cd-8a17-6905abb82e85",
   "metadata": {},
   "source": [
    "#### The 92,1% of the data is just Clear and Mist weather"
   ]
  },
  {
   "cell_type": "code",
   "execution_count": 27,
   "id": "fb066f9b-62cc-49d7-8e10-7af3d2bda191",
   "metadata": {},
   "outputs": [
    {
     "data": {
      "image/png": "[encoded data removed]",
      "text/plain": [
       "<Figure size 432x288 with 1 Axes>"
      ]
     },
     "metadata": {
      "needs_background": "light"
     },
     "output_type": "display_data"
    }
   ],
   "source": [
    "ax = sns.countplot(x='holiday',data=df)\n",
    "ax.set_title('Count vs Holiday', fontsize=14)\n",
    "for p in ax.patches:\n",
    "    ax.annotate(f'\\n{p.get_height()}', (p.get_x()+0.4, p.get_height()), ha='center', va='top', color='black', size=11)\n",
    "plt.show();"
   ]
  },
  {
   "cell_type": "code",
   "execution_count": 28,
   "id": "274d6d3b-c9d6-4810-b50f-a3d9c3710179",
   "metadata": {},
   "outputs": [
    {
     "name": "stdout",
     "output_type": "stream",
     "text": [
      "97.143 %\n"
     ]
    }
   ],
   "source": [
    "df_by_holiday = df.groupby('holiday').count()\n",
    "\n",
    "print(round((df_by_holiday.iloc[0]['season']/df_by_holiday.iloc[:]['season'].sum())*100,3),'%')"
   ]
  },
  {
   "cell_type": "markdown",
   "id": "80e80dce-37cf-4462-a1b4-a4cc24c140ba",
   "metadata": {},
   "source": [
    "#### Holiday is almost totally \"non-holiday\" so I assume that the predictive power is going to be low. I'll see that after with the matrix of correlations and evaluate if i drop this column"
   ]
  },
  {
   "cell_type": "code",
   "execution_count": 29,
   "id": "3335f0f0-fb82-490b-9788-62aa3411b817",
   "metadata": {},
   "outputs": [
    {
     "data": {
      "image/png": "[encoded data removed]",
      "text/plain": [
       "<Figure size 432x288 with 1 Axes>"
      ]
     },
     "metadata": {
      "needs_background": "light"
     },
     "output_type": "display_data"
    }
   ],
   "source": [
    "ax = sns.countplot(x='workingday',data=df)\n",
    "ax.set_title('Count vs Working day', fontsize=14)\n",
    "for p in ax.patches:\n",
    "    ax.annotate(f'\\n{p.get_height()}', (p.get_x()+0.4, p.get_height()), ha='center', va='top', color='black', size=11)\n",
    "plt.show();"
   ]
  },
  {
   "cell_type": "code",
   "execution_count": 30,
   "id": "14c74e18-8aea-43a4-9145-149619a538f6",
   "metadata": {},
   "outputs": [
    {
     "data": {
      "text/html": [
       "<div>\n",
       "<style scoped>\n",
       "    .dataframe tbody tr th:only-of-type {\n",
       "        vertical-align: middle;\n",
       "    }\n",
       "\n",
       "    .dataframe tbody tr th {\n",
       "        vertical-align: top;\n",
       "    }\n",
       "\n",
       "    .dataframe thead th {\n",
       "        text-align: right;\n",
       "    }\n",
       "</style>\n",
       "<table border=\"1\" class=\"dataframe\">\n",
       "  <thead>\n",
       "    <tr style=\"text-align: right;\">\n",
       "      <th></th>\n",
       "      <th>season</th>\n",
       "      <th>holiday</th>\n",
       "      <th>weather</th>\n",
       "      <th>temp</th>\n",
       "      <th>atemp</th>\n",
       "      <th>humidity</th>\n",
       "      <th>windspeed</th>\n",
       "      <th>casual</th>\n",
       "      <th>registered</th>\n",
       "      <th>count</th>\n",
       "      <th>hour</th>\n",
       "      <th>day</th>\n",
       "      <th>month</th>\n",
       "      <th>year</th>\n",
       "    </tr>\n",
       "    <tr>\n",
       "      <th>workingday</th>\n",
       "      <th></th>\n",
       "      <th></th>\n",
       "      <th></th>\n",
       "      <th></th>\n",
       "      <th></th>\n",
       "      <th></th>\n",
       "      <th></th>\n",
       "      <th></th>\n",
       "      <th></th>\n",
       "      <th></th>\n",
       "      <th></th>\n",
       "      <th></th>\n",
       "      <th></th>\n",
       "      <th></th>\n",
       "    </tr>\n",
       "  </thead>\n",
       "  <tbody>\n",
       "    <tr>\n",
       "      <th>0</th>\n",
       "      <td>3474</td>\n",
       "      <td>3474</td>\n",
       "      <td>3474</td>\n",
       "      <td>3474</td>\n",
       "      <td>3474</td>\n",
       "      <td>3474</td>\n",
       "      <td>3474</td>\n",
       "      <td>3474</td>\n",
       "      <td>3474</td>\n",
       "      <td>3474</td>\n",
       "      <td>3474</td>\n",
       "      <td>3474</td>\n",
       "      <td>3474</td>\n",
       "      <td>3474</td>\n",
       "    </tr>\n",
       "    <tr>\n",
       "      <th>1</th>\n",
       "      <td>7412</td>\n",
       "      <td>7412</td>\n",
       "      <td>7412</td>\n",
       "      <td>7412</td>\n",
       "      <td>7412</td>\n",
       "      <td>7412</td>\n",
       "      <td>7412</td>\n",
       "      <td>7412</td>\n",
       "      <td>7412</td>\n",
       "      <td>7412</td>\n",
       "      <td>7412</td>\n",
       "      <td>7412</td>\n",
       "      <td>7412</td>\n",
       "      <td>7412</td>\n",
       "    </tr>\n",
       "  </tbody>\n",
       "</table>\n",
       "</div>"
      ],
      "text/plain": [
       "            season  holiday  weather  temp  atemp  humidity  windspeed  \\\n",
       "workingday                                                               \n",
       "0             3474     3474     3474  3474   3474      3474       3474   \n",
       "1             7412     7412     7412  7412   7412      7412       7412   \n",
       "\n",
       "            casual  registered  count  hour   day  month  year  \n",
       "workingday                                                      \n",
       "0             3474        3474   3474  3474  3474   3474  3474  \n",
       "1             7412        7412   7412  7412  7412   7412  7412  "
      ]
     },
     "execution_count": 30,
     "metadata": {},
     "output_type": "execute_result"
    }
   ],
   "source": [
    " df.groupby('workingday').count()\n"
   ]
  },
  {
   "cell_type": "code",
   "execution_count": 31,
   "id": "51a21a7b-efc3-42e9-b5e9-58faaff4c6d9",
   "metadata": {},
   "outputs": [
    {
     "name": "stdout",
     "output_type": "stream",
     "text": [
      "213.356 %\n"
     ]
    }
   ],
   "source": [
    "df_by_workingday = df.groupby('workingday').count()\n",
    "\n",
    "print(round((df_by_workingday.iloc[1]['season']/df_by_workingday.iloc[0]['season'].sum())*100,3),'%')"
   ]
  },
  {
   "cell_type": "markdown",
   "id": "333b6928-d9bb-4f24-abd2-54f18fae2028",
   "metadata": {},
   "source": [
    "#### The app is used twice more during the week rather than the weekends. This effect has to take into account that the working days are 5 between 2 of the typical week. So I taking that proportion into account."
   ]
  },
  {
   "cell_type": "code",
   "execution_count": 32,
   "id": "a8bd0e83-4667-49eb-a1fd-6dc31607f026",
   "metadata": {},
   "outputs": [
    {
     "name": "stdout",
     "output_type": "stream",
     "text": [
      "85.343 %\n"
     ]
    }
   ],
   "source": [
    "print(round(((df_by_workingday.iloc[1]['season']/df_by_workingday.iloc[0]['season'].sum())/2.5)*100,3),'%')"
   ]
  },
  {
   "cell_type": "markdown",
   "id": "e162fac1-7ff1-41b5-bdb8-b9b6465d0487",
   "metadata": {},
   "source": [
    "#### It looks like there is more use during the weekends than during the week. "
   ]
  },
  {
   "cell_type": "code",
   "execution_count": 33,
   "id": "cf989723-07bf-4bfd-bf44-ebdf94e951fc",
   "metadata": {
    "tags": []
   },
   "outputs": [
    {
     "data": {
      "image/png": "[encoded data removed]",
      "text/plain": [
       "<Figure size 432x288 with 1 Axes>"
      ]
     },
     "metadata": {
      "needs_background": "light"
     },
     "output_type": "display_data"
    }
   ],
   "source": [
    "df['count'].plot();"
   ]
  },
  {
   "cell_type": "markdown",
   "id": "bf9b7868-5a26-4e98-9a00-17d87eb5161e",
   "metadata": {},
   "source": [
    "#### There is an increase in the registered people across the 2 years"
   ]
  },
  {
   "cell_type": "code",
   "execution_count": 34,
   "id": "a2807372-5a59-4444-bd6c-e155695c00b0",
   "metadata": {},
   "outputs": [
    {
     "data": {
      "image/png": "[encoded data removed]",
      "text/plain": [
       "<Figure size 432x288 with 1 Axes>"
      ]
     },
     "metadata": {
      "needs_background": "light"
     },
     "output_type": "display_data"
    }
   ],
   "source": [
    "df['temp'].plot();"
   ]
  },
  {
   "cell_type": "markdown",
   "id": "8da119d2-5ed9-4780-ad46-95821cc21f66",
   "metadata": {},
   "source": [
    "#### There is a VERY clear stationality of the temperature."
   ]
  },
  {
   "cell_type": "code",
   "execution_count": 35,
   "id": "98194987-1fae-4ae7-9b3a-95267cb76719",
   "metadata": {},
   "outputs": [
    {
     "data": {
      "image/png": "[encoded data removed]",
      "text/plain": [
       "<Figure size 432x288 with 1 Axes>"
      ]
     },
     "metadata": {
      "needs_background": "light"
     },
     "output_type": "display_data"
    }
   ],
   "source": [
    "df['humidity'].plot();"
   ]
  },
  {
   "cell_type": "markdown",
   "id": "9a696b91-f695-41b2-b0da-73df080fe7fa",
   "metadata": {},
   "source": [
    "## Let's see how behaves the demand along 1 day"
   ]
  },
  {
   "cell_type": "code",
   "execution_count": 37,
   "id": "e5d956b5-96dd-4b40-a78a-641816ce48f2",
   "metadata": {
    "tags": []
   },
   "outputs": [
    {
     "data": {
      "image/png": "[encoded data removed]",
      "text/plain": [
       "<Figure size 432x288 with 1 Axes>"
      ]
     },
     "metadata": {
      "needs_background": "light"
     },
     "output_type": "display_data"
    }
   ],
   "source": [
    "\n",
    "df.groupby('hour')['count'].mean().plot(kind='bar');"
   ]
  },
  {
   "cell_type": "markdown",
   "id": "41e623b7-c690-4988-a841-911ec72bd98a",
   "metadata": {},
   "source": [
    "#### There is a very clear 2 \"rush hours\" usually when the people go to work and when they come back."
   ]
  },
  {
   "cell_type": "markdown",
   "id": "1a11dd90-fca8-46cb-b398-441c146e09d6",
   "metadata": {},
   "source": [
    "## Is there any Correlation between the labels?"
   ]
  },
  {
   "cell_type": "code",
   "execution_count": 38,
   "id": "2c62f11b-95db-4fe9-8800-957d33072850",
   "metadata": {
    "tags": []
   },
   "outputs": [
    {
     "data": {
      "image/png": "[encoded data removed]",
      "text/plain": [
       "<Figure size 864x576 with 2 Axes>"
      ]
     },
     "metadata": {
      "needs_background": "light"
     },
     "output_type": "display_data"
    }
   ],
   "source": [
    "ax =plt.subplots(figsize=(12,8))\n",
    "pearsoncorr = df.corr(method='pearson')\n",
    "sns.heatmap(pearsoncorr, \n",
    "            xticklabels=pearsoncorr.columns,\n",
    "            yticklabels=pearsoncorr.columns,\n",
    "            cmap='Reds',\n",
    "            annot=True);"
   ]
  },
  {
   "cell_type": "markdown",
   "id": "38cbde18-3148-4287-8c03-5370ef14dc2c",
   "metadata": {},
   "source": [
    "* There is some interesting positive correlation between `count`, `temperature` and `humidity`.\n",
    "* Negative correlation with `humidity`, `windspeed`. \n",
    "* `holiday` and Season seem relatively independent of the demand.\n",
    "* `workingday` has an interesting correlation with `casual` and `registered`.\n",
    "\n",
    "## In conclusion I'm going to use the following variables to model the total `count`: \n",
    "* `temp`\n",
    "* `humidity`\n",
    "* `workingday`"
   ]
  },
  {
   "cell_type": "markdown",
   "id": "5b3782d3-a421-405b-ae07-c021dc331161",
   "metadata": {},
   "source": [
    "#### Given that atemp and temp are highly correlated between each other. I'll drop atemp because it's slightly less correlated and has different definitions in different countries."
   ]
  },
  {
   "cell_type": "code",
   "execution_count": 39,
   "id": "8f2de041-98fd-4a84-bc9b-32a17e5b6961",
   "metadata": {},
   "outputs": [],
   "source": [
    "df.drop('atemp', axis=1, inplace=True)"
   ]
  },
  {
   "cell_type": "markdown",
   "id": "f7c0dbda-d961-491f-8452-48657ff88ba3",
   "metadata": {},
   "source": [
    "## Split Training"
   ]
  },
  {
   "cell_type": "code",
   "execution_count": 221,
   "id": "57483dbb-6bb3-41cd-8f97-2504342e0741",
   "metadata": {
    "tags": []
   },
   "outputs": [],
   "source": [
    "from sklearn.model_selection import train_test_split"
   ]
  },
  {
   "cell_type": "code",
   "execution_count": 222,
   "id": "4b568ea0-009a-4d8f-81dd-e00a2da5187f",
   "metadata": {
    "tags": []
   },
   "outputs": [],
   "source": [
    "x = df.iloc[:,:7]"
   ]
  },
  {
   "cell_type": "code",
   "execution_count": 223,
   "id": "c26e7b6b-bb18-45f8-ba14-e1b9eab100fc",
   "metadata": {
    "tags": []
   },
   "outputs": [],
   "source": [
    "y = df.iloc[:,7:]"
   ]
  },
  {
   "cell_type": "code",
   "execution_count": 224,
   "id": "da588fce-95f9-4ace-b7f9-3da75126a68b",
   "metadata": {
    "tags": []
   },
   "outputs": [],
   "source": [
    "X_train, X_test, y_train, y_test = train_test_split(x,y, test_size=0.2, random_state=101)"
   ]
  },
  {
   "cell_type": "markdown",
   "id": "3a40a092-958b-4109-9586-03982f0b8553",
   "metadata": {
    "tags": []
   },
   "source": [
    "#### I leave 20% of the data base as test and I split between predictors and the variables I want to predict"
   ]
  },
  {
   "cell_type": "code",
   "execution_count": 225,
   "id": "061e601d-77cb-4b53-8ffb-7d94f6e8ab83",
   "metadata": {
    "tags": []
   },
   "outputs": [
    {
     "data": {
      "text/html": [
       "<div>\n",
       "<style scoped>\n",
       "    .dataframe tbody tr th:only-of-type {\n",
       "        vertical-align: middle;\n",
       "    }\n",
       "\n",
       "    .dataframe tbody tr th {\n",
       "        vertical-align: top;\n",
       "    }\n",
       "\n",
       "    .dataframe thead th {\n",
       "        text-align: right;\n",
       "    }\n",
       "</style>\n",
       "<table border=\"1\" class=\"dataframe\">\n",
       "  <thead>\n",
       "    <tr style=\"text-align: right;\">\n",
       "      <th></th>\n",
       "      <th>season</th>\n",
       "      <th>holiday</th>\n",
       "      <th>workingday</th>\n",
       "      <th>weather</th>\n",
       "      <th>temp</th>\n",
       "      <th>humidity</th>\n",
       "      <th>windspeed</th>\n",
       "    </tr>\n",
       "    <tr>\n",
       "      <th>datetime</th>\n",
       "      <th></th>\n",
       "      <th></th>\n",
       "      <th></th>\n",
       "      <th></th>\n",
       "      <th></th>\n",
       "      <th></th>\n",
       "      <th></th>\n",
       "    </tr>\n",
       "  </thead>\n",
       "  <tbody>\n",
       "    <tr>\n",
       "      <th>2011-06-18 19:00:00</th>\n",
       "      <td>Summer</td>\n",
       "      <td>0</td>\n",
       "      <td>0</td>\n",
       "      <td>Mist</td>\n",
       "      <td>30.34</td>\n",
       "      <td>51</td>\n",
       "      <td>7.0015</td>\n",
       "    </tr>\n",
       "    <tr>\n",
       "      <th>2012-09-08 17:00:00</th>\n",
       "      <td>Fall</td>\n",
       "      <td>0</td>\n",
       "      <td>0</td>\n",
       "      <td>Light Snow</td>\n",
       "      <td>23.78</td>\n",
       "      <td>83</td>\n",
       "      <td>12.9980</td>\n",
       "    </tr>\n",
       "    <tr>\n",
       "      <th>2011-05-01 17:00:00</th>\n",
       "      <td>Summer</td>\n",
       "      <td>0</td>\n",
       "      <td>0</td>\n",
       "      <td>Mist</td>\n",
       "      <td>19.68</td>\n",
       "      <td>82</td>\n",
       "      <td>16.9979</td>\n",
       "    </tr>\n",
       "    <tr>\n",
       "      <th>2012-11-19 00:00:00</th>\n",
       "      <td>Winter</td>\n",
       "      <td>0</td>\n",
       "      <td>1</td>\n",
       "      <td>Clear</td>\n",
       "      <td>14.76</td>\n",
       "      <td>66</td>\n",
       "      <td>15.0013</td>\n",
       "    </tr>\n",
       "    <tr>\n",
       "      <th>2011-05-16 09:00:00</th>\n",
       "      <td>Summer</td>\n",
       "      <td>0</td>\n",
       "      <td>1</td>\n",
       "      <td>Clear</td>\n",
       "      <td>24.60</td>\n",
       "      <td>69</td>\n",
       "      <td>12.9980</td>\n",
       "    </tr>\n",
       "    <tr>\n",
       "      <th>...</th>\n",
       "      <td>...</td>\n",
       "      <td>...</td>\n",
       "      <td>...</td>\n",
       "      <td>...</td>\n",
       "      <td>...</td>\n",
       "      <td>...</td>\n",
       "      <td>...</td>\n",
       "    </tr>\n",
       "    <tr>\n",
       "      <th>2011-02-08 03:00:00</th>\n",
       "      <td>Spring</td>\n",
       "      <td>0</td>\n",
       "      <td>1</td>\n",
       "      <td>Light Snow</td>\n",
       "      <td>11.48</td>\n",
       "      <td>93</td>\n",
       "      <td>11.0014</td>\n",
       "    </tr>\n",
       "    <tr>\n",
       "      <th>2012-01-12 11:00:00</th>\n",
       "      <td>Spring</td>\n",
       "      <td>0</td>\n",
       "      <td>1</td>\n",
       "      <td>Mist</td>\n",
       "      <td>13.94</td>\n",
       "      <td>81</td>\n",
       "      <td>7.0015</td>\n",
       "    </tr>\n",
       "    <tr>\n",
       "      <th>2012-06-13 23:00:00</th>\n",
       "      <td>Summer</td>\n",
       "      <td>0</td>\n",
       "      <td>1</td>\n",
       "      <td>Clear</td>\n",
       "      <td>25.42</td>\n",
       "      <td>50</td>\n",
       "      <td>19.0012</td>\n",
       "    </tr>\n",
       "    <tr>\n",
       "      <th>2011-04-02 14:00:00</th>\n",
       "      <td>Summer</td>\n",
       "      <td>0</td>\n",
       "      <td>0</td>\n",
       "      <td>Light Snow</td>\n",
       "      <td>13.12</td>\n",
       "      <td>76</td>\n",
       "      <td>22.0028</td>\n",
       "    </tr>\n",
       "    <tr>\n",
       "      <th>2011-04-10 08:00:00</th>\n",
       "      <td>Summer</td>\n",
       "      <td>0</td>\n",
       "      <td>0</td>\n",
       "      <td>Mist</td>\n",
       "      <td>15.58</td>\n",
       "      <td>94</td>\n",
       "      <td>6.0032</td>\n",
       "    </tr>\n",
       "  </tbody>\n",
       "</table>\n",
       "<p>8708 rows × 7 columns</p>\n",
       "</div>"
      ],
      "text/plain": [
       "                     season  holiday  workingday     weather   temp  humidity  \\\n",
       "datetime                                                                        \n",
       "2011-06-18 19:00:00  Summer        0           0        Mist  30.34        51   \n",
       "2012-09-08 17:00:00    Fall        0           0  Light Snow  23.78        83   \n",
       "2011-05-01 17:00:00  Summer        0           0        Mist  19.68        82   \n",
       "2012-11-19 00:00:00  Winter        0           1       Clear  14.76        66   \n",
       "2011-05-16 09:00:00  Summer        0           1       Clear  24.60        69   \n",
       "...                     ...      ...         ...         ...    ...       ...   \n",
       "2011-02-08 03:00:00  Spring        0           1  Light Snow  11.48        93   \n",
       "2012-01-12 11:00:00  Spring        0           1        Mist  13.94        81   \n",
       "2012-06-13 23:00:00  Summer        0           1       Clear  25.42        50   \n",
       "2011-04-02 14:00:00  Summer        0           0  Light Snow  13.12        76   \n",
       "2011-04-10 08:00:00  Summer        0           0        Mist  15.58        94   \n",
       "\n",
       "                     windspeed  \n",
       "datetime                        \n",
       "2011-06-18 19:00:00     7.0015  \n",
       "2012-09-08 17:00:00    12.9980  \n",
       "2011-05-01 17:00:00    16.9979  \n",
       "2012-11-19 00:00:00    15.0013  \n",
       "2011-05-16 09:00:00    12.9980  \n",
       "...                        ...  \n",
       "2011-02-08 03:00:00    11.0014  \n",
       "2012-01-12 11:00:00     7.0015  \n",
       "2012-06-13 23:00:00    19.0012  \n",
       "2011-04-02 14:00:00    22.0028  \n",
       "2011-04-10 08:00:00     6.0032  \n",
       "\n",
       "[8708 rows x 7 columns]"
      ]
     },
     "execution_count": 225,
     "metadata": {},
     "output_type": "execute_result"
    }
   ],
   "source": [
    "X_train "
   ]
  },
  {
   "cell_type": "code",
   "execution_count": 226,
   "id": "12eac452-098e-408b-b85a-ddcfea0c4dad",
   "metadata": {
    "tags": []
   },
   "outputs": [
    {
     "data": {
      "text/html": [
       "<div>\n",
       "<style scoped>\n",
       "    .dataframe tbody tr th:only-of-type {\n",
       "        vertical-align: middle;\n",
       "    }\n",
       "\n",
       "    .dataframe tbody tr th {\n",
       "        vertical-align: top;\n",
       "    }\n",
       "\n",
       "    .dataframe thead th {\n",
       "        text-align: right;\n",
       "    }\n",
       "</style>\n",
       "<table border=\"1\" class=\"dataframe\">\n",
       "  <thead>\n",
       "    <tr style=\"text-align: right;\">\n",
       "      <th></th>\n",
       "      <th>casual</th>\n",
       "      <th>registered</th>\n",
       "      <th>count</th>\n",
       "      <th>hour</th>\n",
       "      <th>day</th>\n",
       "      <th>month</th>\n",
       "      <th>year</th>\n",
       "    </tr>\n",
       "    <tr>\n",
       "      <th>datetime</th>\n",
       "      <th></th>\n",
       "      <th></th>\n",
       "      <th></th>\n",
       "      <th></th>\n",
       "      <th></th>\n",
       "      <th></th>\n",
       "      <th></th>\n",
       "    </tr>\n",
       "  </thead>\n",
       "  <tbody>\n",
       "    <tr>\n",
       "      <th>2011-06-18 19:00:00</th>\n",
       "      <td>99</td>\n",
       "      <td>227</td>\n",
       "      <td>326</td>\n",
       "      <td>19</td>\n",
       "      <td>18</td>\n",
       "      <td>6</td>\n",
       "      <td>2011</td>\n",
       "    </tr>\n",
       "    <tr>\n",
       "      <th>2012-09-08 17:00:00</th>\n",
       "      <td>52</td>\n",
       "      <td>119</td>\n",
       "      <td>171</td>\n",
       "      <td>17</td>\n",
       "      <td>8</td>\n",
       "      <td>9</td>\n",
       "      <td>2012</td>\n",
       "    </tr>\n",
       "    <tr>\n",
       "      <th>2011-05-01 17:00:00</th>\n",
       "      <td>60</td>\n",
       "      <td>136</td>\n",
       "      <td>196</td>\n",
       "      <td>17</td>\n",
       "      <td>1</td>\n",
       "      <td>5</td>\n",
       "      <td>2011</td>\n",
       "    </tr>\n",
       "    <tr>\n",
       "      <th>2012-11-19 00:00:00</th>\n",
       "      <td>5</td>\n",
       "      <td>22</td>\n",
       "      <td>27</td>\n",
       "      <td>0</td>\n",
       "      <td>19</td>\n",
       "      <td>11</td>\n",
       "      <td>2012</td>\n",
       "    </tr>\n",
       "    <tr>\n",
       "      <th>2011-05-16 09:00:00</th>\n",
       "      <td>38</td>\n",
       "      <td>156</td>\n",
       "      <td>194</td>\n",
       "      <td>9</td>\n",
       "      <td>16</td>\n",
       "      <td>5</td>\n",
       "      <td>2011</td>\n",
       "    </tr>\n",
       "    <tr>\n",
       "      <th>...</th>\n",
       "      <td>...</td>\n",
       "      <td>...</td>\n",
       "      <td>...</td>\n",
       "      <td>...</td>\n",
       "      <td>...</td>\n",
       "      <td>...</td>\n",
       "      <td>...</td>\n",
       "    </tr>\n",
       "    <tr>\n",
       "      <th>2011-02-08 03:00:00</th>\n",
       "      <td>0</td>\n",
       "      <td>1</td>\n",
       "      <td>1</td>\n",
       "      <td>3</td>\n",
       "      <td>8</td>\n",
       "      <td>2</td>\n",
       "      <td>2011</td>\n",
       "    </tr>\n",
       "    <tr>\n",
       "      <th>2012-01-12 11:00:00</th>\n",
       "      <td>18</td>\n",
       "      <td>101</td>\n",
       "      <td>119</td>\n",
       "      <td>11</td>\n",
       "      <td>12</td>\n",
       "      <td>1</td>\n",
       "      <td>2012</td>\n",
       "    </tr>\n",
       "    <tr>\n",
       "      <th>2012-06-13 23:00:00</th>\n",
       "      <td>25</td>\n",
       "      <td>128</td>\n",
       "      <td>153</td>\n",
       "      <td>23</td>\n",
       "      <td>13</td>\n",
       "      <td>6</td>\n",
       "      <td>2012</td>\n",
       "    </tr>\n",
       "    <tr>\n",
       "      <th>2011-04-02 14:00:00</th>\n",
       "      <td>97</td>\n",
       "      <td>93</td>\n",
       "      <td>190</td>\n",
       "      <td>14</td>\n",
       "      <td>2</td>\n",
       "      <td>4</td>\n",
       "      <td>2011</td>\n",
       "    </tr>\n",
       "    <tr>\n",
       "      <th>2011-04-10 08:00:00</th>\n",
       "      <td>17</td>\n",
       "      <td>38</td>\n",
       "      <td>55</td>\n",
       "      <td>8</td>\n",
       "      <td>10</td>\n",
       "      <td>4</td>\n",
       "      <td>2011</td>\n",
       "    </tr>\n",
       "  </tbody>\n",
       "</table>\n",
       "<p>8708 rows × 7 columns</p>\n",
       "</div>"
      ],
      "text/plain": [
       "                     casual  registered  count  hour  day  month  year\n",
       "datetime                                                              \n",
       "2011-06-18 19:00:00      99         227    326    19   18      6  2011\n",
       "2012-09-08 17:00:00      52         119    171    17    8      9  2012\n",
       "2011-05-01 17:00:00      60         136    196    17    1      5  2011\n",
       "2012-11-19 00:00:00       5          22     27     0   19     11  2012\n",
       "2011-05-16 09:00:00      38         156    194     9   16      5  2011\n",
       "...                     ...         ...    ...   ...  ...    ...   ...\n",
       "2011-02-08 03:00:00       0           1      1     3    8      2  2011\n",
       "2012-01-12 11:00:00      18         101    119    11   12      1  2012\n",
       "2012-06-13 23:00:00      25         128    153    23   13      6  2012\n",
       "2011-04-02 14:00:00      97          93    190    14    2      4  2011\n",
       "2011-04-10 08:00:00      17          38     55     8   10      4  2011\n",
       "\n",
       "[8708 rows x 7 columns]"
      ]
     },
     "execution_count": 226,
     "metadata": {},
     "output_type": "execute_result"
    }
   ],
   "source": [
    "y_train"
   ]
  },
  {
   "cell_type": "code",
   "execution_count": 227,
   "id": "4e68d243-b081-4591-9abb-dae66764aa81",
   "metadata": {},
   "outputs": [
    {
     "name": "stderr",
     "output_type": "stream",
     "text": [
      "<ipython-input-227-a635439658a9>:2: SettingWithCopyWarning: \n",
      "A value is trying to be set on a copy of a slice from a DataFrame.\n",
      "Try using .loc[row_indexer,col_indexer] = value instead\n",
      "\n",
      "See the caveats in the documentation: https://pandas.pydata.org/pandas-docs/stable/user_guide/indexing.html#returning-a-view-versus-a-copy\n",
      "  X_train['hour'] = X_train.index.hour\n",
      "<ipython-input-227-a635439658a9>:3: SettingWithCopyWarning: \n",
      "A value is trying to be set on a copy of a slice from a DataFrame.\n",
      "Try using .loc[row_indexer,col_indexer] = value instead\n",
      "\n",
      "See the caveats in the documentation: https://pandas.pydata.org/pandas-docs/stable/user_guide/indexing.html#returning-a-view-versus-a-copy\n",
      "  y_train['hour'] = y_train.index.hour\n"
     ]
    }
   ],
   "source": [
    "df['hour']= df.index.hour\n",
    "X_train['hour'] = X_train.index.hour\n",
    "y_train['hour'] = y_train.index.hour\n",
    "df_hour= df['hour']"
   ]
  },
  {
   "cell_type": "code",
   "execution_count": 228,
   "id": "5f32a07e-6426-4c33-85fa-a0afdf0d59fb",
   "metadata": {
    "tags": []
   },
   "outputs": [],
   "source": [
    "from sklearn.linear_model import LinearRegression\n",
    "from sklearn.preprocessing import OneHotEncoder\n",
    "from sklearn.preprocessing import PolynomialFeatures"
   ]
  },
  {
   "cell_type": "markdown",
   "id": "4534f97e-b708-4d82-85d4-bdcc80d275ab",
   "metadata": {},
   "source": [
    "## Linear Regression"
   ]
  },
  {
   "cell_type": "code",
   "execution_count": 229,
   "id": "727db47e-d1d8-4514-a385-e8288302da95",
   "metadata": {
    "tags": []
   },
   "outputs": [
    {
     "data": {
      "text/html": [
       "<div>\n",
       "<style scoped>\n",
       "    .dataframe tbody tr th:only-of-type {\n",
       "        vertical-align: middle;\n",
       "    }\n",
       "\n",
       "    .dataframe tbody tr th {\n",
       "        vertical-align: top;\n",
       "    }\n",
       "\n",
       "    .dataframe thead th {\n",
       "        text-align: right;\n",
       "    }\n",
       "</style>\n",
       "<table border=\"1\" class=\"dataframe\">\n",
       "  <thead>\n",
       "    <tr style=\"text-align: right;\">\n",
       "      <th></th>\n",
       "      <th>season</th>\n",
       "      <th>holiday</th>\n",
       "      <th>workingday</th>\n",
       "      <th>weather</th>\n",
       "      <th>temp</th>\n",
       "      <th>humidity</th>\n",
       "      <th>windspeed</th>\n",
       "      <th>casual</th>\n",
       "      <th>registered</th>\n",
       "      <th>count</th>\n",
       "      <th>hour</th>\n",
       "      <th>day</th>\n",
       "      <th>month</th>\n",
       "      <th>year</th>\n",
       "    </tr>\n",
       "    <tr>\n",
       "      <th>datetime</th>\n",
       "      <th></th>\n",
       "      <th></th>\n",
       "      <th></th>\n",
       "      <th></th>\n",
       "      <th></th>\n",
       "      <th></th>\n",
       "      <th></th>\n",
       "      <th></th>\n",
       "      <th></th>\n",
       "      <th></th>\n",
       "      <th></th>\n",
       "      <th></th>\n",
       "      <th></th>\n",
       "      <th></th>\n",
       "    </tr>\n",
       "  </thead>\n",
       "  <tbody>\n",
       "    <tr>\n",
       "      <th>2011-01-01 00:00:00</th>\n",
       "      <td>Spring</td>\n",
       "      <td>0</td>\n",
       "      <td>0</td>\n",
       "      <td>Clear</td>\n",
       "      <td>9.84</td>\n",
       "      <td>81</td>\n",
       "      <td>0.0</td>\n",
       "      <td>3</td>\n",
       "      <td>13</td>\n",
       "      <td>16</td>\n",
       "      <td>0</td>\n",
       "      <td>1</td>\n",
       "      <td>1</td>\n",
       "      <td>2011</td>\n",
       "    </tr>\n",
       "    <tr>\n",
       "      <th>2011-01-01 01:00:00</th>\n",
       "      <td>Spring</td>\n",
       "      <td>0</td>\n",
       "      <td>0</td>\n",
       "      <td>Clear</td>\n",
       "      <td>9.02</td>\n",
       "      <td>80</td>\n",
       "      <td>0.0</td>\n",
       "      <td>8</td>\n",
       "      <td>32</td>\n",
       "      <td>40</td>\n",
       "      <td>1</td>\n",
       "      <td>1</td>\n",
       "      <td>1</td>\n",
       "      <td>2011</td>\n",
       "    </tr>\n",
       "    <tr>\n",
       "      <th>2011-01-01 02:00:00</th>\n",
       "      <td>Spring</td>\n",
       "      <td>0</td>\n",
       "      <td>0</td>\n",
       "      <td>Clear</td>\n",
       "      <td>9.02</td>\n",
       "      <td>80</td>\n",
       "      <td>0.0</td>\n",
       "      <td>5</td>\n",
       "      <td>27</td>\n",
       "      <td>32</td>\n",
       "      <td>2</td>\n",
       "      <td>1</td>\n",
       "      <td>1</td>\n",
       "      <td>2011</td>\n",
       "    </tr>\n",
       "    <tr>\n",
       "      <th>2011-01-01 03:00:00</th>\n",
       "      <td>Spring</td>\n",
       "      <td>0</td>\n",
       "      <td>0</td>\n",
       "      <td>Clear</td>\n",
       "      <td>9.84</td>\n",
       "      <td>75</td>\n",
       "      <td>0.0</td>\n",
       "      <td>3</td>\n",
       "      <td>10</td>\n",
       "      <td>13</td>\n",
       "      <td>3</td>\n",
       "      <td>1</td>\n",
       "      <td>1</td>\n",
       "      <td>2011</td>\n",
       "    </tr>\n",
       "    <tr>\n",
       "      <th>2011-01-01 04:00:00</th>\n",
       "      <td>Spring</td>\n",
       "      <td>0</td>\n",
       "      <td>0</td>\n",
       "      <td>Clear</td>\n",
       "      <td>9.84</td>\n",
       "      <td>75</td>\n",
       "      <td>0.0</td>\n",
       "      <td>0</td>\n",
       "      <td>1</td>\n",
       "      <td>1</td>\n",
       "      <td>4</td>\n",
       "      <td>1</td>\n",
       "      <td>1</td>\n",
       "      <td>2011</td>\n",
       "    </tr>\n",
       "  </tbody>\n",
       "</table>\n",
       "</div>"
      ],
      "text/plain": [
       "                     season  holiday  workingday weather  temp  humidity  \\\n",
       "datetime                                                                   \n",
       "2011-01-01 00:00:00  Spring        0           0   Clear  9.84        81   \n",
       "2011-01-01 01:00:00  Spring        0           0   Clear  9.02        80   \n",
       "2011-01-01 02:00:00  Spring        0           0   Clear  9.02        80   \n",
       "2011-01-01 03:00:00  Spring        0           0   Clear  9.84        75   \n",
       "2011-01-01 04:00:00  Spring        0           0   Clear  9.84        75   \n",
       "\n",
       "                     windspeed  casual  registered  count  hour  day  month  \\\n",
       "datetime                                                                      \n",
       "2011-01-01 00:00:00        0.0       3          13     16     0    1      1   \n",
       "2011-01-01 01:00:00        0.0       8          32     40     1    1      1   \n",
       "2011-01-01 02:00:00        0.0       5          27     32     2    1      1   \n",
       "2011-01-01 03:00:00        0.0       3          10     13     3    1      1   \n",
       "2011-01-01 04:00:00        0.0       0           1      1     4    1      1   \n",
       "\n",
       "                     year  \n",
       "datetime                   \n",
       "2011-01-01 00:00:00  2011  \n",
       "2011-01-01 01:00:00  2011  \n",
       "2011-01-01 02:00:00  2011  \n",
       "2011-01-01 03:00:00  2011  \n",
       "2011-01-01 04:00:00  2011  "
      ]
     },
     "execution_count": 229,
     "metadata": {},
     "output_type": "execute_result"
    }
   ],
   "source": [
    "df.head(5)"
   ]
  },
  {
   "cell_type": "code",
   "execution_count": 230,
   "id": "56a5d8f3-a15b-405e-ae25-e7b028c22c2e",
   "metadata": {},
   "outputs": [],
   "source": [
    "x = X_train[['hour','workingday','temp','humidity']]"
   ]
  },
  {
   "cell_type": "code",
   "execution_count": 257,
   "id": "26f1344b-9b59-4978-b49d-c96712e0f696",
   "metadata": {},
   "outputs": [
    {
     "data": {
      "text/html": [
       "<div>\n",
       "<style scoped>\n",
       "    .dataframe tbody tr th:only-of-type {\n",
       "        vertical-align: middle;\n",
       "    }\n",
       "\n",
       "    .dataframe tbody tr th {\n",
       "        vertical-align: top;\n",
       "    }\n",
       "\n",
       "    .dataframe thead th {\n",
       "        text-align: right;\n",
       "    }\n",
       "</style>\n",
       "<table border=\"1\" class=\"dataframe\">\n",
       "  <thead>\n",
       "    <tr style=\"text-align: right;\">\n",
       "      <th></th>\n",
       "      <th>hour</th>\n",
       "      <th>workingday</th>\n",
       "      <th>temp</th>\n",
       "      <th>humidity</th>\n",
       "    </tr>\n",
       "    <tr>\n",
       "      <th>datetime</th>\n",
       "      <th></th>\n",
       "      <th></th>\n",
       "      <th></th>\n",
       "      <th></th>\n",
       "    </tr>\n",
       "  </thead>\n",
       "  <tbody>\n",
       "    <tr>\n",
       "      <th>2011-06-18 19:00:00</th>\n",
       "      <td>19</td>\n",
       "      <td>0</td>\n",
       "      <td>30.34</td>\n",
       "      <td>51</td>\n",
       "    </tr>\n",
       "    <tr>\n",
       "      <th>2012-09-08 17:00:00</th>\n",
       "      <td>17</td>\n",
       "      <td>0</td>\n",
       "      <td>23.78</td>\n",
       "      <td>83</td>\n",
       "    </tr>\n",
       "    <tr>\n",
       "      <th>2011-05-01 17:00:00</th>\n",
       "      <td>17</td>\n",
       "      <td>0</td>\n",
       "      <td>19.68</td>\n",
       "      <td>82</td>\n",
       "    </tr>\n",
       "    <tr>\n",
       "      <th>2012-11-19 00:00:00</th>\n",
       "      <td>0</td>\n",
       "      <td>1</td>\n",
       "      <td>14.76</td>\n",
       "      <td>66</td>\n",
       "    </tr>\n",
       "    <tr>\n",
       "      <th>2011-05-16 09:00:00</th>\n",
       "      <td>9</td>\n",
       "      <td>1</td>\n",
       "      <td>24.60</td>\n",
       "      <td>69</td>\n",
       "    </tr>\n",
       "    <tr>\n",
       "      <th>...</th>\n",
       "      <td>...</td>\n",
       "      <td>...</td>\n",
       "      <td>...</td>\n",
       "      <td>...</td>\n",
       "    </tr>\n",
       "    <tr>\n",
       "      <th>2011-02-08 03:00:00</th>\n",
       "      <td>3</td>\n",
       "      <td>1</td>\n",
       "      <td>11.48</td>\n",
       "      <td>93</td>\n",
       "    </tr>\n",
       "    <tr>\n",
       "      <th>2012-01-12 11:00:00</th>\n",
       "      <td>11</td>\n",
       "      <td>1</td>\n",
       "      <td>13.94</td>\n",
       "      <td>81</td>\n",
       "    </tr>\n",
       "    <tr>\n",
       "      <th>2012-06-13 23:00:00</th>\n",
       "      <td>23</td>\n",
       "      <td>1</td>\n",
       "      <td>25.42</td>\n",
       "      <td>50</td>\n",
       "    </tr>\n",
       "    <tr>\n",
       "      <th>2011-04-02 14:00:00</th>\n",
       "      <td>14</td>\n",
       "      <td>0</td>\n",
       "      <td>13.12</td>\n",
       "      <td>76</td>\n",
       "    </tr>\n",
       "    <tr>\n",
       "      <th>2011-04-10 08:00:00</th>\n",
       "      <td>8</td>\n",
       "      <td>0</td>\n",
       "      <td>15.58</td>\n",
       "      <td>94</td>\n",
       "    </tr>\n",
       "  </tbody>\n",
       "</table>\n",
       "<p>8708 rows × 4 columns</p>\n",
       "</div>"
      ],
      "text/plain": [
       "                     hour  workingday   temp  humidity\n",
       "datetime                                              \n",
       "2011-06-18 19:00:00    19           0  30.34        51\n",
       "2012-09-08 17:00:00    17           0  23.78        83\n",
       "2011-05-01 17:00:00    17           0  19.68        82\n",
       "2012-11-19 00:00:00     0           1  14.76        66\n",
       "2011-05-16 09:00:00     9           1  24.60        69\n",
       "...                   ...         ...    ...       ...\n",
       "2011-02-08 03:00:00     3           1  11.48        93\n",
       "2012-01-12 11:00:00    11           1  13.94        81\n",
       "2012-06-13 23:00:00    23           1  25.42        50\n",
       "2011-04-02 14:00:00    14           0  13.12        76\n",
       "2011-04-10 08:00:00     8           0  15.58        94\n",
       "\n",
       "[8708 rows x 4 columns]"
      ]
     },
     "execution_count": 257,
     "metadata": {},
     "output_type": "execute_result"
    }
   ],
   "source": [
    "x"
   ]
  },
  {
   "cell_type": "code",
   "execution_count": 258,
   "id": "19a95bc5-52d5-4a2e-9883-c7c30d6faeec",
   "metadata": {},
   "outputs": [],
   "source": [
    "poly_2 = PolynomialFeatures(degree=16) # I try several degrees and see which one fits good without overfitting."
   ]
  },
  {
   "cell_type": "code",
   "execution_count": 259,
   "id": "422a0c0f-617d-4114-bb6b-39bf8155e793",
   "metadata": {},
   "outputs": [
    {
     "data": {
      "text/plain": [
       "PolynomialFeatures(degree=16)"
      ]
     },
     "execution_count": 259,
     "metadata": {},
     "output_type": "execute_result"
    }
   ],
   "source": [
    "poly_2.fit(x)"
   ]
  },
  {
   "cell_type": "code",
   "execution_count": 260,
   "id": "e713ebc8-d18d-4733-a311-dd8be3c50e8c",
   "metadata": {
    "tags": []
   },
   "outputs": [],
   "source": [
    "from sklearn.preprocessing import MinMaxScaler, StandardScaler\n",
    "from sklearn.preprocessing import KBinsDiscretizer\n",
    "from sklearn.pipeline import Pipeline\n",
    "from sklearn.compose import ColumnTransformer"
   ]
  },
  {
   "cell_type": "code",
   "execution_count": 261,
   "id": "ce60771e-57ba-44b1-93b6-20c2d61429ec",
   "metadata": {},
   "outputs": [],
   "source": [
    "Xpoly = poly_2.transform(x).astype(int)"
   ]
  },
  {
   "cell_type": "code",
   "execution_count": 262,
   "id": "9f31d41f-1b8f-4f17-a0e2-ffc1f96887b1",
   "metadata": {},
   "outputs": [
    {
     "data": {
      "text/plain": [
       "LinearRegression()"
      ]
     },
     "execution_count": 262,
     "metadata": {},
     "output_type": "execute_result"
    }
   ],
   "source": [
    "m.fit(Xpoly, y_train['count'])"
   ]
  },
  {
   "cell_type": "code",
   "execution_count": 263,
   "id": "b7093675-b675-44da-a988-f1b6736bc921",
   "metadata": {
    "tags": []
   },
   "outputs": [
    {
     "data": {
      "text/plain": [
       "(8708, 4845)"
      ]
     },
     "execution_count": 263,
     "metadata": {},
     "output_type": "execute_result"
    }
   ],
   "source": [
    "Xpoly.shape"
   ]
  },
  {
   "cell_type": "code",
   "execution_count": 264,
   "id": "a0f3df3e-9428-4a40-9491-6f0c347d2ba4",
   "metadata": {
    "tags": []
   },
   "outputs": [
    {
     "name": "stderr",
     "output_type": "stream",
     "text": [
      "<ipython-input-264-811f4c958336>:1: SettingWithCopyWarning: \n",
      "A value is trying to be set on a copy of a slice from a DataFrame.\n",
      "Try using .loc[row_indexer,col_indexer] = value instead\n",
      "\n",
      "See the caveats in the documentation: https://pandas.pydata.org/pandas-docs/stable/user_guide/indexing.html#returning-a-view-versus-a-copy\n",
      "  y_train['ypred_Xpoly'] = m.predict(Xpoly)\n"
     ]
    }
   ],
   "source": [
    "y_train['ypred_Xpoly'] = m.predict(Xpoly)"
   ]
  },
  {
   "cell_type": "code",
   "execution_count": 265,
   "id": "79bb8ce8-8daa-41df-977c-91f6da18e550",
   "metadata": {},
   "outputs": [
    {
     "data": {
      "text/plain": [
       "0.8007813283045611"
      ]
     },
     "execution_count": 265,
     "metadata": {},
     "output_type": "execute_result"
    }
   ],
   "source": [
    "m.score(Xpoly, y_train['count'])"
   ]
  },
  {
   "cell_type": "code",
   "execution_count": 266,
   "id": "1b7650a4-5b32-47ac-b620-5ee92c7eea6a",
   "metadata": {},
   "outputs": [
    {
     "data": {
      "image/png": "[encoded data removed]",
      "text/plain": [
       "<Figure size 432x288 with 1 Axes>"
      ]
     },
     "metadata": {
      "needs_background": "light"
     },
     "output_type": "display_data"
    }
   ],
   "source": [
    "y_train.groupby('hour')['ypred_Xpoly'].mean().plot();\n",
    "y_train.groupby('hour')['count'].mean().plot();\n",
    "plt.legend();"
   ]
  },
  {
   "cell_type": "markdown",
   "id": "fde144fe-3976-4331-b013-81d4ca905bb7",
   "metadata": {},
   "source": [
    "#### The graph seems to fit relatively good, but it could be overffiting... "
   ]
  },
  {
   "cell_type": "markdown",
   "id": "8a2a3873-38f1-401e-bbf6-34638ecab2ce",
   "metadata": {},
   "source": [
    "## Scoretest"
   ]
  },
  {
   "cell_type": "code",
   "execution_count": 267,
   "id": "0454f05b-ad8d-4798-b319-818f996fe039",
   "metadata": {
    "tags": []
   },
   "outputs": [
    {
     "name": "stderr",
     "output_type": "stream",
     "text": [
      "<ipython-input-267-9d6e0f6bb5cf>:1: SettingWithCopyWarning: \n",
      "A value is trying to be set on a copy of a slice from a DataFrame.\n",
      "Try using .loc[row_indexer,col_indexer] = value instead\n",
      "\n",
      "See the caveats in the documentation: https://pandas.pydata.org/pandas-docs/stable/user_guide/indexing.html#returning-a-view-versus-a-copy\n",
      "  y_test['hour']=y_test.index.hour\n"
     ]
    }
   ],
   "source": [
    "y_test['hour']=y_test.index.hour"
   ]
  },
  {
   "cell_type": "code",
   "execution_count": 268,
   "id": "b0fa48d8-e767-4ad7-935e-50e7d8355929",
   "metadata": {},
   "outputs": [
    {
     "data": {
      "text/html": [
       "<div>\n",
       "<style scoped>\n",
       "    .dataframe tbody tr th:only-of-type {\n",
       "        vertical-align: middle;\n",
       "    }\n",
       "\n",
       "    .dataframe tbody tr th {\n",
       "        vertical-align: top;\n",
       "    }\n",
       "\n",
       "    .dataframe thead th {\n",
       "        text-align: right;\n",
       "    }\n",
       "</style>\n",
       "<table border=\"1\" class=\"dataframe\">\n",
       "  <thead>\n",
       "    <tr style=\"text-align: right;\">\n",
       "      <th></th>\n",
       "      <th>casual</th>\n",
       "      <th>registered</th>\n",
       "      <th>count</th>\n",
       "      <th>hour</th>\n",
       "      <th>day</th>\n",
       "      <th>month</th>\n",
       "      <th>year</th>\n",
       "      <th>ypred_Xpoly_test</th>\n",
       "    </tr>\n",
       "    <tr>\n",
       "      <th>datetime</th>\n",
       "      <th></th>\n",
       "      <th></th>\n",
       "      <th></th>\n",
       "      <th></th>\n",
       "      <th></th>\n",
       "      <th></th>\n",
       "      <th></th>\n",
       "      <th></th>\n",
       "    </tr>\n",
       "  </thead>\n",
       "  <tbody>\n",
       "    <tr>\n",
       "      <th>2012-07-10 13:00:00</th>\n",
       "      <td>77</td>\n",
       "      <td>203</td>\n",
       "      <td>280</td>\n",
       "      <td>13</td>\n",
       "      <td>10</td>\n",
       "      <td>7</td>\n",
       "      <td>2012</td>\n",
       "      <td>221.768427</td>\n",
       "    </tr>\n",
       "    <tr>\n",
       "      <th>2012-10-07 13:00:00</th>\n",
       "      <td>80</td>\n",
       "      <td>240</td>\n",
       "      <td>320</td>\n",
       "      <td>13</td>\n",
       "      <td>7</td>\n",
       "      <td>10</td>\n",
       "      <td>2012</td>\n",
       "      <td>333.318720</td>\n",
       "    </tr>\n",
       "    <tr>\n",
       "      <th>2012-01-11 14:00:00</th>\n",
       "      <td>3</td>\n",
       "      <td>70</td>\n",
       "      <td>73</td>\n",
       "      <td>14</td>\n",
       "      <td>11</td>\n",
       "      <td>1</td>\n",
       "      <td>2012</td>\n",
       "      <td>135.604608</td>\n",
       "    </tr>\n",
       "    <tr>\n",
       "      <th>2012-09-19 21:00:00</th>\n",
       "      <td>25</td>\n",
       "      <td>324</td>\n",
       "      <td>349</td>\n",
       "      <td>21</td>\n",
       "      <td>19</td>\n",
       "      <td>9</td>\n",
       "      <td>2012</td>\n",
       "      <td>208.225946</td>\n",
       "    </tr>\n",
       "    <tr>\n",
       "      <th>2012-04-02 04:00:00</th>\n",
       "      <td>2</td>\n",
       "      <td>2</td>\n",
       "      <td>4</td>\n",
       "      <td>4</td>\n",
       "      <td>2</td>\n",
       "      <td>4</td>\n",
       "      <td>2012</td>\n",
       "      <td>76.538202</td>\n",
       "    </tr>\n",
       "    <tr>\n",
       "      <th>...</th>\n",
       "      <td>...</td>\n",
       "      <td>...</td>\n",
       "      <td>...</td>\n",
       "      <td>...</td>\n",
       "      <td>...</td>\n",
       "      <td>...</td>\n",
       "      <td>...</td>\n",
       "      <td>...</td>\n",
       "    </tr>\n",
       "    <tr>\n",
       "      <th>2012-05-10 06:00:00</th>\n",
       "      <td>9</td>\n",
       "      <td>130</td>\n",
       "      <td>139</td>\n",
       "      <td>6</td>\n",
       "      <td>10</td>\n",
       "      <td>5</td>\n",
       "      <td>2012</td>\n",
       "      <td>159.470331</td>\n",
       "    </tr>\n",
       "    <tr>\n",
       "      <th>2011-07-10 21:00:00</th>\n",
       "      <td>65</td>\n",
       "      <td>162</td>\n",
       "      <td>227</td>\n",
       "      <td>21</td>\n",
       "      <td>10</td>\n",
       "      <td>7</td>\n",
       "      <td>2011</td>\n",
       "      <td>195.890497</td>\n",
       "    </tr>\n",
       "    <tr>\n",
       "      <th>2011-02-07 04:00:00</th>\n",
       "      <td>1</td>\n",
       "      <td>1</td>\n",
       "      <td>2</td>\n",
       "      <td>4</td>\n",
       "      <td>7</td>\n",
       "      <td>2</td>\n",
       "      <td>2011</td>\n",
       "      <td>-4.994513</td>\n",
       "    </tr>\n",
       "    <tr>\n",
       "      <th>2011-11-17 14:00:00</th>\n",
       "      <td>5</td>\n",
       "      <td>105</td>\n",
       "      <td>110</td>\n",
       "      <td>14</td>\n",
       "      <td>17</td>\n",
       "      <td>11</td>\n",
       "      <td>2011</td>\n",
       "      <td>187.891718</td>\n",
       "    </tr>\n",
       "    <tr>\n",
       "      <th>2011-01-01 00:00:00</th>\n",
       "      <td>3</td>\n",
       "      <td>13</td>\n",
       "      <td>16</td>\n",
       "      <td>0</td>\n",
       "      <td>1</td>\n",
       "      <td>1</td>\n",
       "      <td>2011</td>\n",
       "      <td>10.543329</td>\n",
       "    </tr>\n",
       "  </tbody>\n",
       "</table>\n",
       "<p>2178 rows × 8 columns</p>\n",
       "</div>"
      ],
      "text/plain": [
       "                     casual  registered  count  hour  day  month  year  \\\n",
       "datetime                                                                 \n",
       "2012-07-10 13:00:00      77         203    280    13   10      7  2012   \n",
       "2012-10-07 13:00:00      80         240    320    13    7     10  2012   \n",
       "2012-01-11 14:00:00       3          70     73    14   11      1  2012   \n",
       "2012-09-19 21:00:00      25         324    349    21   19      9  2012   \n",
       "2012-04-02 04:00:00       2           2      4     4    2      4  2012   \n",
       "...                     ...         ...    ...   ...  ...    ...   ...   \n",
       "2012-05-10 06:00:00       9         130    139     6   10      5  2012   \n",
       "2011-07-10 21:00:00      65         162    227    21   10      7  2011   \n",
       "2011-02-07 04:00:00       1           1      2     4    7      2  2011   \n",
       "2011-11-17 14:00:00       5         105    110    14   17     11  2011   \n",
       "2011-01-01 00:00:00       3          13     16     0    1      1  2011   \n",
       "\n",
       "                     ypred_Xpoly_test  \n",
       "datetime                               \n",
       "2012-07-10 13:00:00        221.768427  \n",
       "2012-10-07 13:00:00        333.318720  \n",
       "2012-01-11 14:00:00        135.604608  \n",
       "2012-09-19 21:00:00        208.225946  \n",
       "2012-04-02 04:00:00         76.538202  \n",
       "...                               ...  \n",
       "2012-05-10 06:00:00        159.470331  \n",
       "2011-07-10 21:00:00        195.890497  \n",
       "2011-02-07 04:00:00         -4.994513  \n",
       "2011-11-17 14:00:00        187.891718  \n",
       "2011-01-01 00:00:00         10.543329  \n",
       "\n",
       "[2178 rows x 8 columns]"
      ]
     },
     "execution_count": 268,
     "metadata": {},
     "output_type": "execute_result"
    }
   ],
   "source": [
    "y_test"
   ]
  },
  {
   "cell_type": "code",
   "execution_count": 269,
   "id": "9cfb4473-297d-47b5-b36a-7d1dda9c4b8f",
   "metadata": {},
   "outputs": [],
   "source": [
    "X_test['hour']=X_test.index.hour"
   ]
  },
  {
   "cell_type": "code",
   "execution_count": 270,
   "id": "60823552-2bdd-4f62-b593-fd4dc6cb6d2b",
   "metadata": {},
   "outputs": [],
   "source": [
    "xtest = X_test[['hour','workingday','temp','humidity']]"
   ]
  },
  {
   "cell_type": "code",
   "execution_count": 271,
   "id": "44875f63-b846-4311-b8dd-203762d96660",
   "metadata": {},
   "outputs": [],
   "source": [
    "poly_3 = PolynomialFeatures(degree=16)"
   ]
  },
  {
   "cell_type": "code",
   "execution_count": 272,
   "id": "688436f3-87b2-48d1-bd56-add48488994b",
   "metadata": {},
   "outputs": [
    {
     "data": {
      "text/plain": [
       "PolynomialFeatures(degree=16)"
      ]
     },
     "execution_count": 272,
     "metadata": {},
     "output_type": "execute_result"
    }
   ],
   "source": [
    "poly_3.fit(xtest)"
   ]
  },
  {
   "cell_type": "code",
   "execution_count": 273,
   "id": "444690a0-a52e-4248-b599-00faf630a17f",
   "metadata": {},
   "outputs": [],
   "source": [
    "Xpoly_test = poly_3.transform(xtest).astype(int)"
   ]
  },
  {
   "cell_type": "code",
   "execution_count": 274,
   "id": "a7b4e454-ffdb-4a9b-a2c3-5dd91015da48",
   "metadata": {},
   "outputs": [
    {
     "data": {
      "text/plain": [
       "LinearRegression()"
      ]
     },
     "execution_count": 274,
     "metadata": {},
     "output_type": "execute_result"
    }
   ],
   "source": [
    "m.fit(Xpoly_test, y_test['count'])"
   ]
  },
  {
   "cell_type": "code",
   "execution_count": 275,
   "id": "a2c319d4-bcba-477e-aef4-23bfc0e73230",
   "metadata": {
    "tags": []
   },
   "outputs": [
    {
     "name": "stderr",
     "output_type": "stream",
     "text": [
      "<ipython-input-275-3ff66a0148d8>:1: SettingWithCopyWarning: \n",
      "A value is trying to be set on a copy of a slice from a DataFrame.\n",
      "Try using .loc[row_indexer,col_indexer] = value instead\n",
      "\n",
      "See the caveats in the documentation: https://pandas.pydata.org/pandas-docs/stable/user_guide/indexing.html#returning-a-view-versus-a-copy\n",
      "  y_test['ypred_Xpoly_test'] = m.predict(Xpoly_test)\n"
     ]
    }
   ],
   "source": [
    "y_test['ypred_Xpoly_test'] = m.predict(Xpoly_test)"
   ]
  },
  {
   "cell_type": "code",
   "execution_count": 276,
   "id": "82ad20fc-e1b7-4e18-9c3a-8529ac2495cf",
   "metadata": {},
   "outputs": [
    {
     "data": {
      "text/plain": [
       "0.7995434837089346"
      ]
     },
     "execution_count": 276,
     "metadata": {},
     "output_type": "execute_result"
    }
   ],
   "source": [
    "m.score(Xpoly_test, y_test['count'])"
   ]
  },
  {
   "cell_type": "code",
   "execution_count": 277,
   "id": "4d14375c-04a3-42d5-a8b1-e4c28fc47d79",
   "metadata": {
    "tags": []
   },
   "outputs": [
    {
     "data": {
      "text/plain": [
       "(array([-7792.19847539,  1127.50250626, -8916.81903631, ...,\n",
       "          318.96688194,   318.96688194,   268.6972043 ]),\n",
       " 584297981251.2452)"
      ]
     },
     "execution_count": 277,
     "metadata": {},
     "output_type": "execute_result"
    }
   ],
   "source": [
    "m.coef_, m.intercept_"
   ]
  },
  {
   "cell_type": "code",
   "execution_count": 278,
   "id": "e36a12a7-1282-407b-bf3c-486105558805",
   "metadata": {},
   "outputs": [
    {
     "data": {
      "image/png": "[encoded data removed]",
      "text/plain": [
       "<Figure size 432x288 with 1 Axes>"
      ]
     },
     "metadata": {
      "needs_background": "light"
     },
     "output_type": "display_data"
    }
   ],
   "source": [
    "y_test.groupby('hour')['ypred_Xpoly_test'].mean().plot();\n",
    "y_test.groupby('hour')['count'].mean().plot();\n",
    "\n",
    "plt.legend();"
   ]
  },
  {
   "cell_type": "markdown",
   "id": "a7d25f32-801f-4163-ac18-f81c518a96ec",
   "metadata": {},
   "source": [
    "## It seems that needs some adjusment on the rush hours but there is no big difference in the acurracy (Scores) between test and train data sets (less 3%). No regularization needed."
   ]
  },
  {
   "cell_type": "markdown",
   "id": "be0dc756-2a33-444c-b4bb-3fbca0d2ecb0",
   "metadata": {
    "tags": []
   },
   "source": [
    "# Let's try to forecast Saturday 2pm"
   ]
  },
  {
   "cell_type": "code",
   "execution_count": 282,
   "id": "32013da4-3161-4c19-ac49-8e256ddebe2b",
   "metadata": {
    "tags": []
   },
   "outputs": [
    {
     "data": {
      "text/html": [
       "<div>\n",
       "<style scoped>\n",
       "    .dataframe tbody tr th:only-of-type {\n",
       "        vertical-align: middle;\n",
       "    }\n",
       "\n",
       "    .dataframe tbody tr th {\n",
       "        vertical-align: top;\n",
       "    }\n",
       "\n",
       "    .dataframe thead th {\n",
       "        text-align: right;\n",
       "    }\n",
       "</style>\n",
       "<table border=\"1\" class=\"dataframe\">\n",
       "  <thead>\n",
       "    <tr style=\"text-align: right;\">\n",
       "      <th></th>\n",
       "      <th>season</th>\n",
       "      <th>holiday</th>\n",
       "      <th>workingday</th>\n",
       "      <th>weather</th>\n",
       "      <th>temp</th>\n",
       "      <th>humidity</th>\n",
       "      <th>windspeed</th>\n",
       "      <th>hour</th>\n",
       "    </tr>\n",
       "    <tr>\n",
       "      <th>datetime</th>\n",
       "      <th></th>\n",
       "      <th></th>\n",
       "      <th></th>\n",
       "      <th></th>\n",
       "      <th></th>\n",
       "      <th></th>\n",
       "      <th></th>\n",
       "      <th></th>\n",
       "    </tr>\n",
       "  </thead>\n",
       "  <tbody>\n",
       "    <tr>\n",
       "      <th>2012-07-10 13:00:00</th>\n",
       "      <td>Fall</td>\n",
       "      <td>0</td>\n",
       "      <td>1</td>\n",
       "      <td>Clear</td>\n",
       "      <td>33.62</td>\n",
       "      <td>38</td>\n",
       "      <td>12.9980</td>\n",
       "      <td>13</td>\n",
       "    </tr>\n",
       "    <tr>\n",
       "      <th>2012-10-07 13:00:00</th>\n",
       "      <td>Winter</td>\n",
       "      <td>0</td>\n",
       "      <td>0</td>\n",
       "      <td>Mist</td>\n",
       "      <td>18.04</td>\n",
       "      <td>72</td>\n",
       "      <td>6.0032</td>\n",
       "      <td>13</td>\n",
       "    </tr>\n",
       "    <tr>\n",
       "      <th>2012-01-11 14:00:00</th>\n",
       "      <td>Spring</td>\n",
       "      <td>0</td>\n",
       "      <td>1</td>\n",
       "      <td>Light Snow</td>\n",
       "      <td>13.12</td>\n",
       "      <td>81</td>\n",
       "      <td>7.0015</td>\n",
       "      <td>14</td>\n",
       "    </tr>\n",
       "    <tr>\n",
       "      <th>2012-09-19 21:00:00</th>\n",
       "      <td>Fall</td>\n",
       "      <td>0</td>\n",
       "      <td>1</td>\n",
       "      <td>Clear</td>\n",
       "      <td>20.50</td>\n",
       "      <td>59</td>\n",
       "      <td>11.0014</td>\n",
       "      <td>21</td>\n",
       "    </tr>\n",
       "    <tr>\n",
       "      <th>2012-04-02 04:00:00</th>\n",
       "      <td>Summer</td>\n",
       "      <td>0</td>\n",
       "      <td>1</td>\n",
       "      <td>Clear</td>\n",
       "      <td>16.40</td>\n",
       "      <td>76</td>\n",
       "      <td>32.9975</td>\n",
       "      <td>4</td>\n",
       "    </tr>\n",
       "    <tr>\n",
       "      <th>...</th>\n",
       "      <td>...</td>\n",
       "      <td>...</td>\n",
       "      <td>...</td>\n",
       "      <td>...</td>\n",
       "      <td>...</td>\n",
       "      <td>...</td>\n",
       "      <td>...</td>\n",
       "      <td>...</td>\n",
       "    </tr>\n",
       "    <tr>\n",
       "      <th>2012-05-10 06:00:00</th>\n",
       "      <td>Summer</td>\n",
       "      <td>0</td>\n",
       "      <td>1</td>\n",
       "      <td>Clear</td>\n",
       "      <td>18.04</td>\n",
       "      <td>72</td>\n",
       "      <td>15.0013</td>\n",
       "      <td>6</td>\n",
       "    </tr>\n",
       "    <tr>\n",
       "      <th>2011-07-10 21:00:00</th>\n",
       "      <td>Fall</td>\n",
       "      <td>0</td>\n",
       "      <td>0</td>\n",
       "      <td>Clear</td>\n",
       "      <td>30.34</td>\n",
       "      <td>62</td>\n",
       "      <td>16.9979</td>\n",
       "      <td>21</td>\n",
       "    </tr>\n",
       "    <tr>\n",
       "      <th>2011-02-07 04:00:00</th>\n",
       "      <td>Spring</td>\n",
       "      <td>0</td>\n",
       "      <td>1</td>\n",
       "      <td>Clear</td>\n",
       "      <td>8.20</td>\n",
       "      <td>86</td>\n",
       "      <td>0.0000</td>\n",
       "      <td>4</td>\n",
       "    </tr>\n",
       "    <tr>\n",
       "      <th>2011-11-17 14:00:00</th>\n",
       "      <td>Winter</td>\n",
       "      <td>0</td>\n",
       "      <td>1</td>\n",
       "      <td>Mist</td>\n",
       "      <td>13.94</td>\n",
       "      <td>49</td>\n",
       "      <td>26.0027</td>\n",
       "      <td>14</td>\n",
       "    </tr>\n",
       "    <tr>\n",
       "      <th>2011-01-01 00:00:00</th>\n",
       "      <td>Spring</td>\n",
       "      <td>0</td>\n",
       "      <td>0</td>\n",
       "      <td>Clear</td>\n",
       "      <td>9.84</td>\n",
       "      <td>81</td>\n",
       "      <td>0.0000</td>\n",
       "      <td>0</td>\n",
       "    </tr>\n",
       "  </tbody>\n",
       "</table>\n",
       "<p>2178 rows × 8 columns</p>\n",
       "</div>"
      ],
      "text/plain": [
       "                     season  holiday  workingday     weather   temp  humidity  \\\n",
       "datetime                                                                        \n",
       "2012-07-10 13:00:00    Fall        0           1       Clear  33.62        38   \n",
       "2012-10-07 13:00:00  Winter        0           0        Mist  18.04        72   \n",
       "2012-01-11 14:00:00  Spring        0           1  Light Snow  13.12        81   \n",
       "2012-09-19 21:00:00    Fall        0           1       Clear  20.50        59   \n",
       "2012-04-02 04:00:00  Summer        0           1       Clear  16.40        76   \n",
       "...                     ...      ...         ...         ...    ...       ...   \n",
       "2012-05-10 06:00:00  Summer        0           1       Clear  18.04        72   \n",
       "2011-07-10 21:00:00    Fall        0           0       Clear  30.34        62   \n",
       "2011-02-07 04:00:00  Spring        0           1       Clear   8.20        86   \n",
       "2011-11-17 14:00:00  Winter        0           1        Mist  13.94        49   \n",
       "2011-01-01 00:00:00  Spring        0           0       Clear   9.84        81   \n",
       "\n",
       "                     windspeed  hour  \n",
       "datetime                              \n",
       "2012-07-10 13:00:00    12.9980    13  \n",
       "2012-10-07 13:00:00     6.0032    13  \n",
       "2012-01-11 14:00:00     7.0015    14  \n",
       "2012-09-19 21:00:00    11.0014    21  \n",
       "2012-04-02 04:00:00    32.9975     4  \n",
       "...                        ...   ...  \n",
       "2012-05-10 06:00:00    15.0013     6  \n",
       "2011-07-10 21:00:00    16.9979    21  \n",
       "2011-02-07 04:00:00     0.0000     4  \n",
       "2011-11-17 14:00:00    26.0027    14  \n",
       "2011-01-01 00:00:00     0.0000     0  \n",
       "\n",
       "[2178 rows x 8 columns]"
      ]
     },
     "execution_count": 282,
     "metadata": {},
     "output_type": "execute_result"
    }
   ],
   "source": [
    "X_test"
   ]
  },
  {
   "cell_type": "markdown",
   "id": "b8996f2b-a30c-4b21-9123-f5fc94314b58",
   "metadata": {},
   "source": [
    "## According to https://weather.com/weather/hourbyhour/l/57cc6eb02c4a08a4b126b05ffd2f41db82b40e54868394e6087105b9f5d4d83d#detailIndex4\n",
    "## Saturday 17th,2pm,  Berlin\n"
   ]
  },
  {
   "cell_type": "code",
   "execution_count": 305,
   "id": "6effb811-ae3f-4a6b-9058-1427d834ba6d",
   "metadata": {},
   "outputs": [],
   "source": [
    "temp_sat = 26\n",
    "humidity_sat = 68\n"
   ]
  },
  {
   "cell_type": "code",
   "execution_count": 306,
   "id": "230d9116-1abf-49f5-9dad-8c4b8f304b14",
   "metadata": {},
   "outputs": [
    {
     "data": {
      "text/plain": [
       "20.230859819952173"
      ]
     },
     "execution_count": 306,
     "metadata": {},
     "output_type": "execute_result"
    }
   ],
   "source": [
    "df['temp'].mean()"
   ]
  },
  {
   "cell_type": "code",
   "execution_count": 307,
   "id": "7bb68670-189c-4179-9f8b-b7559802d95b",
   "metadata": {},
   "outputs": [
    {
     "data": {
      "text/plain": [
       "61.88645967297446"
      ]
     },
     "execution_count": 307,
     "metadata": {},
     "output_type": "execute_result"
    }
   ],
   "source": [
    "df['humidity'].mean()"
   ]
  },
  {
   "cell_type": "code",
   "execution_count": 308,
   "id": "4d45a686-0a22-4f72-87f2-01363c6dd1ca",
   "metadata": {},
   "outputs": [],
   "source": [
    "x_dummy = {'hour':14,'workingday':0,'temp':temp_sat,'humidity':humidity_sat} # It's is going to be created to be able to add to the data set."
   ]
  },
  {
   "cell_type": "code",
   "execution_count": 309,
   "id": "6ee479e1-1242-46ce-8540-eb60187deb42",
   "metadata": {},
   "outputs": [],
   "source": [
    "x_dummy_df = pd.DataFrame(x_dummy, index=[len(df)])"
   ]
  },
  {
   "cell_type": "code",
   "execution_count": 310,
   "id": "bcd14c12-da9c-4379-9eef-5c8a5d662cc0",
   "metadata": {},
   "outputs": [
    {
     "data": {
      "text/html": [
       "<div>\n",
       "<style scoped>\n",
       "    .dataframe tbody tr th:only-of-type {\n",
       "        vertical-align: middle;\n",
       "    }\n",
       "\n",
       "    .dataframe tbody tr th {\n",
       "        vertical-align: top;\n",
       "    }\n",
       "\n",
       "    .dataframe thead th {\n",
       "        text-align: right;\n",
       "    }\n",
       "</style>\n",
       "<table border=\"1\" class=\"dataframe\">\n",
       "  <thead>\n",
       "    <tr style=\"text-align: right;\">\n",
       "      <th></th>\n",
       "      <th>hour</th>\n",
       "      <th>workingday</th>\n",
       "      <th>temp</th>\n",
       "      <th>humidity</th>\n",
       "    </tr>\n",
       "  </thead>\n",
       "  <tbody>\n",
       "    <tr>\n",
       "      <th>10886</th>\n",
       "      <td>14</td>\n",
       "      <td>0</td>\n",
       "      <td>26</td>\n",
       "      <td>68</td>\n",
       "    </tr>\n",
       "  </tbody>\n",
       "</table>\n",
       "</div>"
      ],
      "text/plain": [
       "       hour  workingday  temp  humidity\n",
       "10886    14           0    26        68"
      ]
     },
     "execution_count": 310,
     "metadata": {},
     "output_type": "execute_result"
    }
   ],
   "source": [
    "x_dummy_df"
   ]
  },
  {
   "cell_type": "code",
   "execution_count": 311,
   "id": "58bd3ccd-963c-40ab-99e9-5b8dbfd04a5b",
   "metadata": {},
   "outputs": [],
   "source": [
    "poly_4 = PolynomialFeatures(degree=16)"
   ]
  },
  {
   "cell_type": "code",
   "execution_count": 312,
   "id": "fee622fb-0024-4b1e-b242-cd6a59887430",
   "metadata": {},
   "outputs": [
    {
     "data": {
      "text/plain": [
       "PolynomialFeatures(degree=16)"
      ]
     },
     "execution_count": 312,
     "metadata": {},
     "output_type": "execute_result"
    }
   ],
   "source": [
    "poly_4.fit(x_dummy_df)"
   ]
  },
  {
   "cell_type": "code",
   "execution_count": 313,
   "id": "acac1f81-2226-45bc-987d-c22249f80f86",
   "metadata": {
    "tags": []
   },
   "outputs": [],
   "source": [
    "Xpoly_dummy = poly_4.transform(x_dummy_df).astype(int)"
   ]
  },
  {
   "cell_type": "code",
   "execution_count": 314,
   "id": "b3c2a0e9-a093-4ab1-8fa1-05179648cd08",
   "metadata": {
    "tags": []
   },
   "outputs": [],
   "source": [
    "ypred_sat= m.predict (Xpoly_dummy)"
   ]
  },
  {
   "cell_type": "code",
   "execution_count": 316,
   "id": "41f8cbb6-2789-4028-b391-8f1360a7fdbf",
   "metadata": {
    "tags": []
   },
   "outputs": [
    {
     "data": {
      "text/plain": [
       "array([528.59375])"
      ]
     },
     "execution_count": 316,
     "metadata": {},
     "output_type": "execute_result"
    }
   ],
   "source": [
    "ypred_sat"
   ]
  },
  {
   "cell_type": "markdown",
   "id": "3d9aa620-5466-43fd-a26f-57802ef51c53",
   "metadata": {},
   "source": [
    "# Under this conditions... \n",
    "* temp_sat = 26 \n",
    "* humidity_sat = 68 \n",
    "# The forecast says that it is expected **529** bycicles for that hour"
   ]
  },
  {
   "cell_type": "code",
   "execution_count": 318,
   "id": "97c67dd1-0836-4344-b2b8-d8d331722d15",
   "metadata": {},
   "outputs": [
    {
     "data": {
      "image/png": "[encoded data removed]",
      "text/plain": [
       "<Figure size 432x288 with 1 Axes>"
      ]
     },
     "metadata": {
      "needs_background": "light"
     },
     "output_type": "display_data"
    }
   ],
   "source": [
    "y_test.groupby('hour')['ypred_Xpoly_test'].mean().plot();\n",
    "y_test.groupby('hour')['count'].mean().plot();\n",
    "\n",
    "plt.scatter(df['hour'], df['count'], s=0.8);"
   ]
  },
  {
   "cell_type": "markdown",
   "id": "ba910a85-881a-4726-bd7e-d75384b52333",
   "metadata": {},
   "source": [
    "# RMSLE Train and Test "
   ]
  },
  {
   "cell_type": "code",
   "execution_count": 319,
   "id": "44e326ef-fa06-4429-b6f6-458102c8a280",
   "metadata": {},
   "outputs": [],
   "source": [
    "from sklearn.metrics import mean_squared_log_error\n"
   ]
  },
  {
   "cell_type": "code",
   "execution_count": 320,
   "id": "1d4ad85c-2904-4f10-af80-a3b75c5b6dfb",
   "metadata": {},
   "outputs": [],
   "source": [
    "def rmsle(p,a):\n",
    "    return np.sqrt(mean_squared_log_error(p,a))"
   ]
  },
  {
   "cell_type": "code",
   "execution_count": 321,
   "id": "128b3d94-c880-4006-98bd-c996a5c66a86",
   "metadata": {
    "tags": []
   },
   "outputs": [
    {
     "name": "stderr",
     "output_type": "stream",
     "text": [
      "<ipython-input-321-977b7e7e779b>:2: SettingWithCopyWarning: \n",
      "A value is trying to be set on a copy of a slice from a DataFrame\n",
      "\n",
      "See the caveats in the documentation: https://pandas.pydata.org/pandas-docs/stable/user_guide/indexing.html#returning-a-view-versus-a-copy\n",
      "  ypred_rmsle_train[ypred_rmsle_train < 0] = 0.0\n",
      "C:\\Users\\andre\\anaconda3\\lib\\site-packages\\pandas\\core\\series.py:992: SettingWithCopyWarning: \n",
      "A value is trying to be set on a copy of a slice from a DataFrame\n",
      "\n",
      "See the caveats in the documentation: https://pandas.pydata.org/pandas-docs/stable/user_guide/indexing.html#returning-a-view-versus-a-copy\n",
      "  self._where(~key, value, inplace=True)\n"
     ]
    }
   ],
   "source": [
    "ypred_rmsle_train= y_train['ypred_Xpoly']\n",
    "ypred_rmsle_train[ypred_rmsle_train < 0] = 0.0"
   ]
  },
  {
   "cell_type": "code",
   "execution_count": 322,
   "id": "34598b26-1d57-40aa-afcc-2bb7dd3c421b",
   "metadata": {},
   "outputs": [
    {
     "data": {
      "text/plain": [
       "0.8679759614221644"
      ]
     },
     "execution_count": 322,
     "metadata": {},
     "output_type": "execute_result"
    }
   ],
   "source": [
    "rmsle(y_train['count'],ypred_rmsle_train)"
   ]
  },
  {
   "cell_type": "code",
   "execution_count": 323,
   "id": "cfc0f86c-5e44-4776-981b-1cb5815b65c9",
   "metadata": {
    "tags": []
   },
   "outputs": [
    {
     "name": "stderr",
     "output_type": "stream",
     "text": [
      "<ipython-input-323-3dcd572f9f13>:2: SettingWithCopyWarning: \n",
      "A value is trying to be set on a copy of a slice from a DataFrame\n",
      "\n",
      "See the caveats in the documentation: https://pandas.pydata.org/pandas-docs/stable/user_guide/indexing.html#returning-a-view-versus-a-copy\n",
      "  ypred_rmsle_test[ypred_rmsle_test < 0] = 0.0\n",
      "C:\\Users\\andre\\anaconda3\\lib\\site-packages\\pandas\\core\\series.py:992: SettingWithCopyWarning: \n",
      "A value is trying to be set on a copy of a slice from a DataFrame\n",
      "\n",
      "See the caveats in the documentation: https://pandas.pydata.org/pandas-docs/stable/user_guide/indexing.html#returning-a-view-versus-a-copy\n",
      "  self._where(~key, value, inplace=True)\n"
     ]
    }
   ],
   "source": [
    "ypred_rmsle_test= y_test['ypred_Xpoly_test']\n",
    "ypred_rmsle_test[ypred_rmsle_test < 0] = 0.0"
   ]
  },
  {
   "cell_type": "code",
   "execution_count": 324,
   "id": "47d2ab9a-d6d8-4d75-a7ae-e4eb10f81688",
   "metadata": {},
   "outputs": [
    {
     "data": {
      "text/plain": [
       "1.1104878474111144"
      ]
     },
     "execution_count": 324,
     "metadata": {},
     "output_type": "execute_result"
    }
   ],
   "source": [
    "rmsle(y_test['count'],ypred_rmsle_test)"
   ]
  },
  {
   "cell_type": "markdown",
   "id": "5a19bf13-64ff-41fc-aab2-52e846fc4480",
   "metadata": {},
   "source": [
    "## Kaggle Submission"
   ]
  },
  {
   "cell_type": "code",
   "execution_count": 325,
   "id": "0ef54a5f-7c6c-4fdd-bfea-d5f5c876b1b2",
   "metadata": {
    "tags": []
   },
   "outputs": [
    {
     "data": {
      "text/html": [
       "<div>\n",
       "<style scoped>\n",
       "    .dataframe tbody tr th:only-of-type {\n",
       "        vertical-align: middle;\n",
       "    }\n",
       "\n",
       "    .dataframe tbody tr th {\n",
       "        vertical-align: top;\n",
       "    }\n",
       "\n",
       "    .dataframe thead th {\n",
       "        text-align: right;\n",
       "    }\n",
       "</style>\n",
       "<table border=\"1\" class=\"dataframe\">\n",
       "  <thead>\n",
       "    <tr style=\"text-align: right;\">\n",
       "      <th></th>\n",
       "      <th>season</th>\n",
       "      <th>holiday</th>\n",
       "      <th>workingday</th>\n",
       "      <th>weather</th>\n",
       "      <th>temp</th>\n",
       "      <th>atemp</th>\n",
       "      <th>humidity</th>\n",
       "      <th>windspeed</th>\n",
       "    </tr>\n",
       "    <tr>\n",
       "      <th>datetime</th>\n",
       "      <th></th>\n",
       "      <th></th>\n",
       "      <th></th>\n",
       "      <th></th>\n",
       "      <th></th>\n",
       "      <th></th>\n",
       "      <th></th>\n",
       "      <th></th>\n",
       "    </tr>\n",
       "  </thead>\n",
       "  <tbody>\n",
       "    <tr>\n",
       "      <th>2011-01-20 00:00:00</th>\n",
       "      <td>1</td>\n",
       "      <td>0</td>\n",
       "      <td>1</td>\n",
       "      <td>1</td>\n",
       "      <td>10.66</td>\n",
       "      <td>11.365</td>\n",
       "      <td>56</td>\n",
       "      <td>26.0027</td>\n",
       "    </tr>\n",
       "    <tr>\n",
       "      <th>2011-01-20 01:00:00</th>\n",
       "      <td>1</td>\n",
       "      <td>0</td>\n",
       "      <td>1</td>\n",
       "      <td>1</td>\n",
       "      <td>10.66</td>\n",
       "      <td>13.635</td>\n",
       "      <td>56</td>\n",
       "      <td>0.0000</td>\n",
       "    </tr>\n",
       "    <tr>\n",
       "      <th>2011-01-20 02:00:00</th>\n",
       "      <td>1</td>\n",
       "      <td>0</td>\n",
       "      <td>1</td>\n",
       "      <td>1</td>\n",
       "      <td>10.66</td>\n",
       "      <td>13.635</td>\n",
       "      <td>56</td>\n",
       "      <td>0.0000</td>\n",
       "    </tr>\n",
       "    <tr>\n",
       "      <th>2011-01-20 03:00:00</th>\n",
       "      <td>1</td>\n",
       "      <td>0</td>\n",
       "      <td>1</td>\n",
       "      <td>1</td>\n",
       "      <td>10.66</td>\n",
       "      <td>12.880</td>\n",
       "      <td>56</td>\n",
       "      <td>11.0014</td>\n",
       "    </tr>\n",
       "    <tr>\n",
       "      <th>2011-01-20 04:00:00</th>\n",
       "      <td>1</td>\n",
       "      <td>0</td>\n",
       "      <td>1</td>\n",
       "      <td>1</td>\n",
       "      <td>10.66</td>\n",
       "      <td>12.880</td>\n",
       "      <td>56</td>\n",
       "      <td>11.0014</td>\n",
       "    </tr>\n",
       "    <tr>\n",
       "      <th>...</th>\n",
       "      <td>...</td>\n",
       "      <td>...</td>\n",
       "      <td>...</td>\n",
       "      <td>...</td>\n",
       "      <td>...</td>\n",
       "      <td>...</td>\n",
       "      <td>...</td>\n",
       "      <td>...</td>\n",
       "    </tr>\n",
       "    <tr>\n",
       "      <th>2012-12-31 19:00:00</th>\n",
       "      <td>1</td>\n",
       "      <td>0</td>\n",
       "      <td>1</td>\n",
       "      <td>2</td>\n",
       "      <td>10.66</td>\n",
       "      <td>12.880</td>\n",
       "      <td>60</td>\n",
       "      <td>11.0014</td>\n",
       "    </tr>\n",
       "    <tr>\n",
       "      <th>2012-12-31 20:00:00</th>\n",
       "      <td>1</td>\n",
       "      <td>0</td>\n",
       "      <td>1</td>\n",
       "      <td>2</td>\n",
       "      <td>10.66</td>\n",
       "      <td>12.880</td>\n",
       "      <td>60</td>\n",
       "      <td>11.0014</td>\n",
       "    </tr>\n",
       "    <tr>\n",
       "      <th>2012-12-31 21:00:00</th>\n",
       "      <td>1</td>\n",
       "      <td>0</td>\n",
       "      <td>1</td>\n",
       "      <td>1</td>\n",
       "      <td>10.66</td>\n",
       "      <td>12.880</td>\n",
       "      <td>60</td>\n",
       "      <td>11.0014</td>\n",
       "    </tr>\n",
       "    <tr>\n",
       "      <th>2012-12-31 22:00:00</th>\n",
       "      <td>1</td>\n",
       "      <td>0</td>\n",
       "      <td>1</td>\n",
       "      <td>1</td>\n",
       "      <td>10.66</td>\n",
       "      <td>13.635</td>\n",
       "      <td>56</td>\n",
       "      <td>8.9981</td>\n",
       "    </tr>\n",
       "    <tr>\n",
       "      <th>2012-12-31 23:00:00</th>\n",
       "      <td>1</td>\n",
       "      <td>0</td>\n",
       "      <td>1</td>\n",
       "      <td>1</td>\n",
       "      <td>10.66</td>\n",
       "      <td>13.635</td>\n",
       "      <td>65</td>\n",
       "      <td>8.9981</td>\n",
       "    </tr>\n",
       "  </tbody>\n",
       "</table>\n",
       "<p>6493 rows × 8 columns</p>\n",
       "</div>"
      ],
      "text/plain": [
       "                     season  holiday  workingday  weather   temp   atemp  \\\n",
       "datetime                                                                   \n",
       "2011-01-20 00:00:00       1        0           1        1  10.66  11.365   \n",
       "2011-01-20 01:00:00       1        0           1        1  10.66  13.635   \n",
       "2011-01-20 02:00:00       1        0           1        1  10.66  13.635   \n",
       "2011-01-20 03:00:00       1        0           1        1  10.66  12.880   \n",
       "2011-01-20 04:00:00       1        0           1        1  10.66  12.880   \n",
       "...                     ...      ...         ...      ...    ...     ...   \n",
       "2012-12-31 19:00:00       1        0           1        2  10.66  12.880   \n",
       "2012-12-31 20:00:00       1        0           1        2  10.66  12.880   \n",
       "2012-12-31 21:00:00       1        0           1        1  10.66  12.880   \n",
       "2012-12-31 22:00:00       1        0           1        1  10.66  13.635   \n",
       "2012-12-31 23:00:00       1        0           1        1  10.66  13.635   \n",
       "\n",
       "                     humidity  windspeed  \n",
       "datetime                                  \n",
       "2011-01-20 00:00:00        56    26.0027  \n",
       "2011-01-20 01:00:00        56     0.0000  \n",
       "2011-01-20 02:00:00        56     0.0000  \n",
       "2011-01-20 03:00:00        56    11.0014  \n",
       "2011-01-20 04:00:00        56    11.0014  \n",
       "...                       ...        ...  \n",
       "2012-12-31 19:00:00        60    11.0014  \n",
       "2012-12-31 20:00:00        60    11.0014  \n",
       "2012-12-31 21:00:00        60    11.0014  \n",
       "2012-12-31 22:00:00        56     8.9981  \n",
       "2012-12-31 23:00:00        65     8.9981  \n",
       "\n",
       "[6493 rows x 8 columns]"
      ]
     },
     "execution_count": 325,
     "metadata": {},
     "output_type": "execute_result"
    }
   ],
   "source": [
    "df_kag=pd.read_csv('C:/Users/andre/Documents/SPICED/unsupervised-lemon-encounter-notes/week_03/data/test.csv', sep=',', parse_dates=True, index_col=0)\n",
    "df_kag"
   ]
  },
  {
   "cell_type": "code",
   "execution_count": 326,
   "id": "ac3d543b-5d54-4ed6-881a-e425462dcd71",
   "metadata": {},
   "outputs": [],
   "source": [
    "x_kag = df_kag.iloc[:,:7]"
   ]
  },
  {
   "cell_type": "code",
   "execution_count": 327,
   "id": "8c79dcb0-8ceb-42f5-b0db-a35a1a7731a9",
   "metadata": {},
   "outputs": [],
   "source": [
    "y_kag = df_kag.iloc[:,7:]"
   ]
  },
  {
   "cell_type": "code",
   "execution_count": 328,
   "id": "848fe230-86f4-4c80-8f38-85df1b01deb3",
   "metadata": {},
   "outputs": [],
   "source": [
    "x_kag['hour'] = x_kag.index.hour"
   ]
  },
  {
   "cell_type": "code",
   "execution_count": 329,
   "id": "4817dfd9-c9da-45ce-8d8f-08b58a876797",
   "metadata": {},
   "outputs": [],
   "source": [
    "x_kag_poly = x_kag[['hour','workingday','temp','humidity']]"
   ]
  },
  {
   "cell_type": "code",
   "execution_count": 330,
   "id": "7770cadc-311f-4a9c-a6e3-bc66b4ab10a4",
   "metadata": {},
   "outputs": [],
   "source": [
    "poly_kag = PolynomialFeatures(degree=16)"
   ]
  },
  {
   "cell_type": "code",
   "execution_count": 331,
   "id": "60d6e263-5f92-40f3-9ace-534a4558914b",
   "metadata": {},
   "outputs": [
    {
     "data": {
      "text/plain": [
       "PolynomialFeatures(degree=16)"
      ]
     },
     "execution_count": 331,
     "metadata": {},
     "output_type": "execute_result"
    }
   ],
   "source": [
    "poly_kag.fit(x_kag_poly)"
   ]
  },
  {
   "cell_type": "code",
   "execution_count": 332,
   "id": "c1c5de66-777f-4557-82d5-10e8722af943",
   "metadata": {},
   "outputs": [],
   "source": [
    "Xpoly_kag = poly_kag.transform(x_kag_poly).astype(int)"
   ]
  },
  {
   "cell_type": "code",
   "execution_count": 333,
   "id": "0d2ff0dc-9335-4a41-b68d-05901f0a5716",
   "metadata": {},
   "outputs": [],
   "source": [
    "y_pred_kag= m.predict(Xpoly_kag)"
   ]
  },
  {
   "cell_type": "code",
   "execution_count": 334,
   "id": "e11e1449-db68-4dee-ba30-dc7d9bce9043",
   "metadata": {
    "tags": []
   },
   "outputs": [
    {
     "name": "stderr",
     "output_type": "stream",
     "text": [
      "<ipython-input-334-ead50b5a1f94>:4: SettingWithCopyWarning: \n",
      "A value is trying to be set on a copy of a slice from a DataFrame\n",
      "\n",
      "See the caveats in the documentation: https://pandas.pydata.org/pandas-docs/stable/user_guide/indexing.html#returning-a-view-versus-a-copy\n",
      "  kag_df['count'][kag_df['count']<0] = 0.0\n"
     ]
    },
    {
     "data": {
      "text/html": [
       "<div>\n",
       "<style scoped>\n",
       "    .dataframe tbody tr th:only-of-type {\n",
       "        vertical-align: middle;\n",
       "    }\n",
       "\n",
       "    .dataframe tbody tr th {\n",
       "        vertical-align: top;\n",
       "    }\n",
       "\n",
       "    .dataframe thead th {\n",
       "        text-align: right;\n",
       "    }\n",
       "</style>\n",
       "<table border=\"1\" class=\"dataframe\">\n",
       "  <thead>\n",
       "    <tr style=\"text-align: right;\">\n",
       "      <th></th>\n",
       "      <th>datetime</th>\n",
       "      <th>count</th>\n",
       "    </tr>\n",
       "  </thead>\n",
       "  <tbody>\n",
       "    <tr>\n",
       "      <th>0</th>\n",
       "      <td>2011-01-20 00:00:00</td>\n",
       "      <td>0.000000</td>\n",
       "    </tr>\n",
       "    <tr>\n",
       "      <th>1</th>\n",
       "      <td>2011-01-20 01:00:00</td>\n",
       "      <td>10.227051</td>\n",
       "    </tr>\n",
       "    <tr>\n",
       "      <th>2</th>\n",
       "      <td>2011-01-20 02:00:00</td>\n",
       "      <td>0.000000</td>\n",
       "    </tr>\n",
       "    <tr>\n",
       "      <th>3</th>\n",
       "      <td>2011-01-20 03:00:00</td>\n",
       "      <td>1.443848</td>\n",
       "    </tr>\n",
       "    <tr>\n",
       "      <th>4</th>\n",
       "      <td>2011-01-20 04:00:00</td>\n",
       "      <td>0.000000</td>\n",
       "    </tr>\n",
       "    <tr>\n",
       "      <th>...</th>\n",
       "      <td>...</td>\n",
       "      <td>...</td>\n",
       "    </tr>\n",
       "    <tr>\n",
       "      <th>6488</th>\n",
       "      <td>2012-12-31 19:00:00</td>\n",
       "      <td>275.187988</td>\n",
       "    </tr>\n",
       "    <tr>\n",
       "      <th>6489</th>\n",
       "      <td>2012-12-31 20:00:00</td>\n",
       "      <td>191.266113</td>\n",
       "    </tr>\n",
       "    <tr>\n",
       "      <th>6490</th>\n",
       "      <td>2012-12-31 21:00:00</td>\n",
       "      <td>124.914551</td>\n",
       "    </tr>\n",
       "    <tr>\n",
       "      <th>6491</th>\n",
       "      <td>2012-12-31 22:00:00</td>\n",
       "      <td>116.236816</td>\n",
       "    </tr>\n",
       "    <tr>\n",
       "      <th>6492</th>\n",
       "      <td>2012-12-31 23:00:00</td>\n",
       "      <td>46.758301</td>\n",
       "    </tr>\n",
       "  </tbody>\n",
       "</table>\n",
       "<p>6493 rows × 2 columns</p>\n",
       "</div>"
      ],
      "text/plain": [
       "                datetime       count\n",
       "0    2011-01-20 00:00:00    0.000000\n",
       "1    2011-01-20 01:00:00   10.227051\n",
       "2    2011-01-20 02:00:00    0.000000\n",
       "3    2011-01-20 03:00:00    1.443848\n",
       "4    2011-01-20 04:00:00    0.000000\n",
       "...                  ...         ...\n",
       "6488 2012-12-31 19:00:00  275.187988\n",
       "6489 2012-12-31 20:00:00  191.266113\n",
       "6490 2012-12-31 21:00:00  124.914551\n",
       "6491 2012-12-31 22:00:00  116.236816\n",
       "6492 2012-12-31 23:00:00   46.758301\n",
       "\n",
       "[6493 rows x 2 columns]"
      ]
     },
     "execution_count": 334,
     "metadata": {},
     "output_type": "execute_result"
    }
   ],
   "source": [
    "kag_df = {\"datetime\": y_kag.index,\n",
    "                 \"count\": y_pred_kag}\n",
    "kag_df = pd.DataFrame(kag_df)\n",
    "kag_df['count'][kag_df['count']<0] = 0.0\n",
    "kag_df"
   ]
  },
  {
   "cell_type": "code",
   "execution_count": 335,
   "id": "0901612c-48ca-46c5-b7c8-dbe7e0321a37",
   "metadata": {},
   "outputs": [],
   "source": [
    "kag_df.to_csv(\"kag_df_bikes.csv\",index=False)"
   ]
  },
  {
   "cell_type": "code",
   "execution_count": null,
   "id": "46e9f82c-2ac8-41b2-b4a2-f3df640d3987",
   "metadata": {
    "tags": []
   },
   "outputs": [],
   "source": []
  },
  {
   "cell_type": "code",
   "execution_count": null,
   "id": "fa5a42d1-92ea-47ac-83cd-865a1c45cf8c",
   "metadata": {},
   "outputs": [],
   "source": []
  },
  {
   "cell_type": "code",
   "execution_count": null,
   "id": "ec41c4fe-1a02-4807-92d4-254f440882a2",
   "metadata": {},
   "outputs": [],
   "source": []
  },
  {
   "cell_type": "code",
   "execution_count": null,
   "id": "05833146-1d23-42b2-a307-68a2a71cd1b0",
   "metadata": {},
   "outputs": [],
   "source": []
  },
  {
   "cell_type": "code",
   "execution_count": null,
   "id": "6d5fe738-affe-4e37-979d-718fdd94a768",
   "metadata": {},
   "outputs": [],
   "source": []
  },
  {
   "cell_type": "code",
   "execution_count": null,
   "id": "35717bf9-9edd-4ac0-a39d-1e09342fd987",
   "metadata": {},
   "outputs": [],
   "source": []
  },
  {
   "cell_type": "code",
   "execution_count": null,
   "id": "b3d85b1b-64f3-4f35-9f30-7e04786b2ab7",
   "metadata": {},
   "outputs": [],
   "source": []
  }
 ],
 "metadata": {
  "kernelspec": {
   "display_name": "Python 3",
   "language": "python",
   "name": "python3"
  },
  "language_info": {
   "codemirror_mode": {
    "name": "ipython",
    "version": 3
   },
   "file_extension": ".py",
   "mimetype": "text/x-python",
   "name": "python",
   "nbconvert_exporter": "python",
   "pygments_lexer": "ipython3",
   "version": "3.8.8"
  }
 },
 "nbformat": 4,
 "nbformat_minor": 5
}
