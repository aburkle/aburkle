{
 "cells": [
  {
   "cell_type": "markdown",
   "id": "96a8c504-6119-4cc1-acb3-4a492083eae5",
   "metadata": {},
   "source": [
    "# Bike Project"
   ]
  },
  {
   "cell_type": "code",
   "execution_count": 7,
   "id": "7c7fe508-2800-415e-9095-abb126b9b9a0",
   "metadata": {
    "tags": []
   },
   "outputs": [],
   "source": [
    "import pandas as pd\n",
    "import seaborn as sns\n",
    "import numpy as np\n",
    "import matplotlib.pyplot as plt"
   ]
  },
  {
   "cell_type": "code",
   "execution_count": 8,
   "id": "fac1a6cc-5258-4b61-8af8-f154fff8fb4f",
   "metadata": {
    "tags": []
   },
   "outputs": [
    {
     "data": {
      "text/html": [
       "<div>\n",
       "<style scoped>\n",
       "    .dataframe tbody tr th:only-of-type {\n",
       "        vertical-align: middle;\n",
       "    }\n",
       "\n",
       "    .dataframe tbody tr th {\n",
       "        vertical-align: top;\n",
       "    }\n",
       "\n",
       "    .dataframe thead th {\n",
       "        text-align: right;\n",
       "    }\n",
       "</style>\n",
       "<table border=\"1\" class=\"dataframe\">\n",
       "  <thead>\n",
       "    <tr style=\"text-align: right;\">\n",
       "      <th></th>\n",
       "      <th>season</th>\n",
       "      <th>holiday</th>\n",
       "      <th>workingday</th>\n",
       "      <th>weather</th>\n",
       "      <th>temp</th>\n",
       "      <th>atemp</th>\n",
       "      <th>humidity</th>\n",
       "      <th>windspeed</th>\n",
       "      <th>casual</th>\n",
       "      <th>registered</th>\n",
       "      <th>count</th>\n",
       "    </tr>\n",
       "    <tr>\n",
       "      <th>datetime</th>\n",
       "      <th></th>\n",
       "      <th></th>\n",
       "      <th></th>\n",
       "      <th></th>\n",
       "      <th></th>\n",
       "      <th></th>\n",
       "      <th></th>\n",
       "      <th></th>\n",
       "      <th></th>\n",
       "      <th></th>\n",
       "      <th></th>\n",
       "    </tr>\n",
       "  </thead>\n",
       "  <tbody>\n",
       "    <tr>\n",
       "      <th>2011-01-01 00:00:00</th>\n",
       "      <td>1</td>\n",
       "      <td>0</td>\n",
       "      <td>0</td>\n",
       "      <td>1</td>\n",
       "      <td>9.84</td>\n",
       "      <td>14.395</td>\n",
       "      <td>81</td>\n",
       "      <td>0.0000</td>\n",
       "      <td>3</td>\n",
       "      <td>13</td>\n",
       "      <td>16</td>\n",
       "    </tr>\n",
       "    <tr>\n",
       "      <th>2011-01-01 01:00:00</th>\n",
       "      <td>1</td>\n",
       "      <td>0</td>\n",
       "      <td>0</td>\n",
       "      <td>1</td>\n",
       "      <td>9.02</td>\n",
       "      <td>13.635</td>\n",
       "      <td>80</td>\n",
       "      <td>0.0000</td>\n",
       "      <td>8</td>\n",
       "      <td>32</td>\n",
       "      <td>40</td>\n",
       "    </tr>\n",
       "    <tr>\n",
       "      <th>2011-01-01 02:00:00</th>\n",
       "      <td>1</td>\n",
       "      <td>0</td>\n",
       "      <td>0</td>\n",
       "      <td>1</td>\n",
       "      <td>9.02</td>\n",
       "      <td>13.635</td>\n",
       "      <td>80</td>\n",
       "      <td>0.0000</td>\n",
       "      <td>5</td>\n",
       "      <td>27</td>\n",
       "      <td>32</td>\n",
       "    </tr>\n",
       "    <tr>\n",
       "      <th>2011-01-01 03:00:00</th>\n",
       "      <td>1</td>\n",
       "      <td>0</td>\n",
       "      <td>0</td>\n",
       "      <td>1</td>\n",
       "      <td>9.84</td>\n",
       "      <td>14.395</td>\n",
       "      <td>75</td>\n",
       "      <td>0.0000</td>\n",
       "      <td>3</td>\n",
       "      <td>10</td>\n",
       "      <td>13</td>\n",
       "    </tr>\n",
       "    <tr>\n",
       "      <th>2011-01-01 04:00:00</th>\n",
       "      <td>1</td>\n",
       "      <td>0</td>\n",
       "      <td>0</td>\n",
       "      <td>1</td>\n",
       "      <td>9.84</td>\n",
       "      <td>14.395</td>\n",
       "      <td>75</td>\n",
       "      <td>0.0000</td>\n",
       "      <td>0</td>\n",
       "      <td>1</td>\n",
       "      <td>1</td>\n",
       "    </tr>\n",
       "    <tr>\n",
       "      <th>...</th>\n",
       "      <td>...</td>\n",
       "      <td>...</td>\n",
       "      <td>...</td>\n",
       "      <td>...</td>\n",
       "      <td>...</td>\n",
       "      <td>...</td>\n",
       "      <td>...</td>\n",
       "      <td>...</td>\n",
       "      <td>...</td>\n",
       "      <td>...</td>\n",
       "      <td>...</td>\n",
       "    </tr>\n",
       "    <tr>\n",
       "      <th>2012-12-19 19:00:00</th>\n",
       "      <td>4</td>\n",
       "      <td>0</td>\n",
       "      <td>1</td>\n",
       "      <td>1</td>\n",
       "      <td>15.58</td>\n",
       "      <td>19.695</td>\n",
       "      <td>50</td>\n",
       "      <td>26.0027</td>\n",
       "      <td>7</td>\n",
       "      <td>329</td>\n",
       "      <td>336</td>\n",
       "    </tr>\n",
       "    <tr>\n",
       "      <th>2012-12-19 20:00:00</th>\n",
       "      <td>4</td>\n",
       "      <td>0</td>\n",
       "      <td>1</td>\n",
       "      <td>1</td>\n",
       "      <td>14.76</td>\n",
       "      <td>17.425</td>\n",
       "      <td>57</td>\n",
       "      <td>15.0013</td>\n",
       "      <td>10</td>\n",
       "      <td>231</td>\n",
       "      <td>241</td>\n",
       "    </tr>\n",
       "    <tr>\n",
       "      <th>2012-12-19 21:00:00</th>\n",
       "      <td>4</td>\n",
       "      <td>0</td>\n",
       "      <td>1</td>\n",
       "      <td>1</td>\n",
       "      <td>13.94</td>\n",
       "      <td>15.910</td>\n",
       "      <td>61</td>\n",
       "      <td>15.0013</td>\n",
       "      <td>4</td>\n",
       "      <td>164</td>\n",
       "      <td>168</td>\n",
       "    </tr>\n",
       "    <tr>\n",
       "      <th>2012-12-19 22:00:00</th>\n",
       "      <td>4</td>\n",
       "      <td>0</td>\n",
       "      <td>1</td>\n",
       "      <td>1</td>\n",
       "      <td>13.94</td>\n",
       "      <td>17.425</td>\n",
       "      <td>61</td>\n",
       "      <td>6.0032</td>\n",
       "      <td>12</td>\n",
       "      <td>117</td>\n",
       "      <td>129</td>\n",
       "    </tr>\n",
       "    <tr>\n",
       "      <th>2012-12-19 23:00:00</th>\n",
       "      <td>4</td>\n",
       "      <td>0</td>\n",
       "      <td>1</td>\n",
       "      <td>1</td>\n",
       "      <td>13.12</td>\n",
       "      <td>16.665</td>\n",
       "      <td>66</td>\n",
       "      <td>8.9981</td>\n",
       "      <td>4</td>\n",
       "      <td>84</td>\n",
       "      <td>88</td>\n",
       "    </tr>\n",
       "  </tbody>\n",
       "</table>\n",
       "<p>10886 rows × 11 columns</p>\n",
       "</div>"
      ],
      "text/plain": [
       "                     season  holiday  workingday  weather   temp   atemp  \\\n",
       "datetime                                                                   \n",
       "2011-01-01 00:00:00       1        0           0        1   9.84  14.395   \n",
       "2011-01-01 01:00:00       1        0           0        1   9.02  13.635   \n",
       "2011-01-01 02:00:00       1        0           0        1   9.02  13.635   \n",
       "2011-01-01 03:00:00       1        0           0        1   9.84  14.395   \n",
       "2011-01-01 04:00:00       1        0           0        1   9.84  14.395   \n",
       "...                     ...      ...         ...      ...    ...     ...   \n",
       "2012-12-19 19:00:00       4        0           1        1  15.58  19.695   \n",
       "2012-12-19 20:00:00       4        0           1        1  14.76  17.425   \n",
       "2012-12-19 21:00:00       4        0           1        1  13.94  15.910   \n",
       "2012-12-19 22:00:00       4        0           1        1  13.94  17.425   \n",
       "2012-12-19 23:00:00       4        0           1        1  13.12  16.665   \n",
       "\n",
       "                     humidity  windspeed  casual  registered  count  \n",
       "datetime                                                             \n",
       "2011-01-01 00:00:00        81     0.0000       3          13     16  \n",
       "2011-01-01 01:00:00        80     0.0000       8          32     40  \n",
       "2011-01-01 02:00:00        80     0.0000       5          27     32  \n",
       "2011-01-01 03:00:00        75     0.0000       3          10     13  \n",
       "2011-01-01 04:00:00        75     0.0000       0           1      1  \n",
       "...                       ...        ...     ...         ...    ...  \n",
       "2012-12-19 19:00:00        50    26.0027       7         329    336  \n",
       "2012-12-19 20:00:00        57    15.0013      10         231    241  \n",
       "2012-12-19 21:00:00        61    15.0013       4         164    168  \n",
       "2012-12-19 22:00:00        61     6.0032      12         117    129  \n",
       "2012-12-19 23:00:00        66     8.9981       4          84     88  \n",
       "\n",
       "[10886 rows x 11 columns]"
      ]
     },
     "execution_count": 8,
     "metadata": {},
     "output_type": "execute_result"
    }
   ],
   "source": [
    "df=pd.read_csv('C:/Users/andre/Documents/SPICED/unsupervised-lemon-encounter-notes/week_03/data/train.csv', sep=',', parse_dates=True, index_col=0)\n",
    "df"
   ]
  },
  {
   "cell_type": "markdown",
   "id": "f7c0dbda-d961-491f-8452-48657ff88ba3",
   "metadata": {},
   "source": [
    "## Split Training"
   ]
  },
  {
   "cell_type": "code",
   "execution_count": 9,
   "id": "57483dbb-6bb3-41cd-8f97-2504342e0741",
   "metadata": {
    "tags": []
   },
   "outputs": [],
   "source": [
    "from sklearn.model_selection import train_test_split"
   ]
  },
  {
   "cell_type": "code",
   "execution_count": 15,
   "id": "4b568ea0-009a-4d8f-81dd-e00a2da5187f",
   "metadata": {
    "tags": []
   },
   "outputs": [],
   "source": [
    "x = df.iloc[:,:8]"
   ]
  },
  {
   "cell_type": "code",
   "execution_count": 16,
   "id": "c26e7b6b-bb18-45f8-ba14-e1b9eab100fc",
   "metadata": {
    "tags": []
   },
   "outputs": [],
   "source": [
    "y = df.iloc[:,8:]"
   ]
  },
  {
   "cell_type": "code",
   "execution_count": 17,
   "id": "da588fce-95f9-4ace-b7f9-3da75126a68b",
   "metadata": {
    "tags": []
   },
   "outputs": [],
   "source": [
    "X_train, X_test, y_train, y_test = train_test_split(x,y, test_size=0.2, random_state=101)"
   ]
  },
  {
   "cell_type": "code",
   "execution_count": 18,
   "id": "061e601d-77cb-4b53-8ffb-7d94f6e8ab83",
   "metadata": {
    "tags": []
   },
   "outputs": [
    {
     "data": {
      "text/html": [
       "<div>\n",
       "<style scoped>\n",
       "    .dataframe tbody tr th:only-of-type {\n",
       "        vertical-align: middle;\n",
       "    }\n",
       "\n",
       "    .dataframe tbody tr th {\n",
       "        vertical-align: top;\n",
       "    }\n",
       "\n",
       "    .dataframe thead th {\n",
       "        text-align: right;\n",
       "    }\n",
       "</style>\n",
       "<table border=\"1\" class=\"dataframe\">\n",
       "  <thead>\n",
       "    <tr style=\"text-align: right;\">\n",
       "      <th></th>\n",
       "      <th>season</th>\n",
       "      <th>holiday</th>\n",
       "      <th>workingday</th>\n",
       "      <th>weather</th>\n",
       "      <th>temp</th>\n",
       "      <th>atemp</th>\n",
       "      <th>humidity</th>\n",
       "      <th>windspeed</th>\n",
       "    </tr>\n",
       "    <tr>\n",
       "      <th>datetime</th>\n",
       "      <th></th>\n",
       "      <th></th>\n",
       "      <th></th>\n",
       "      <th></th>\n",
       "      <th></th>\n",
       "      <th></th>\n",
       "      <th></th>\n",
       "      <th></th>\n",
       "    </tr>\n",
       "  </thead>\n",
       "  <tbody>\n",
       "    <tr>\n",
       "      <th>2011-06-18 19:00:00</th>\n",
       "      <td>2</td>\n",
       "      <td>0</td>\n",
       "      <td>0</td>\n",
       "      <td>2</td>\n",
       "      <td>30.34</td>\n",
       "      <td>33.335</td>\n",
       "      <td>51</td>\n",
       "      <td>7.0015</td>\n",
       "    </tr>\n",
       "    <tr>\n",
       "      <th>2012-09-08 17:00:00</th>\n",
       "      <td>3</td>\n",
       "      <td>0</td>\n",
       "      <td>0</td>\n",
       "      <td>3</td>\n",
       "      <td>23.78</td>\n",
       "      <td>27.275</td>\n",
       "      <td>83</td>\n",
       "      <td>12.9980</td>\n",
       "    </tr>\n",
       "    <tr>\n",
       "      <th>2011-05-01 17:00:00</th>\n",
       "      <td>2</td>\n",
       "      <td>0</td>\n",
       "      <td>0</td>\n",
       "      <td>2</td>\n",
       "      <td>19.68</td>\n",
       "      <td>23.485</td>\n",
       "      <td>82</td>\n",
       "      <td>16.9979</td>\n",
       "    </tr>\n",
       "    <tr>\n",
       "      <th>2012-11-19 00:00:00</th>\n",
       "      <td>4</td>\n",
       "      <td>0</td>\n",
       "      <td>1</td>\n",
       "      <td>1</td>\n",
       "      <td>14.76</td>\n",
       "      <td>17.425</td>\n",
       "      <td>66</td>\n",
       "      <td>15.0013</td>\n",
       "    </tr>\n",
       "    <tr>\n",
       "      <th>2011-05-16 09:00:00</th>\n",
       "      <td>2</td>\n",
       "      <td>0</td>\n",
       "      <td>1</td>\n",
       "      <td>1</td>\n",
       "      <td>24.60</td>\n",
       "      <td>29.545</td>\n",
       "      <td>69</td>\n",
       "      <td>12.9980</td>\n",
       "    </tr>\n",
       "    <tr>\n",
       "      <th>...</th>\n",
       "      <td>...</td>\n",
       "      <td>...</td>\n",
       "      <td>...</td>\n",
       "      <td>...</td>\n",
       "      <td>...</td>\n",
       "      <td>...</td>\n",
       "      <td>...</td>\n",
       "      <td>...</td>\n",
       "    </tr>\n",
       "    <tr>\n",
       "      <th>2011-02-08 03:00:00</th>\n",
       "      <td>1</td>\n",
       "      <td>0</td>\n",
       "      <td>1</td>\n",
       "      <td>3</td>\n",
       "      <td>11.48</td>\n",
       "      <td>13.635</td>\n",
       "      <td>93</td>\n",
       "      <td>11.0014</td>\n",
       "    </tr>\n",
       "    <tr>\n",
       "      <th>2012-01-12 11:00:00</th>\n",
       "      <td>1</td>\n",
       "      <td>0</td>\n",
       "      <td>1</td>\n",
       "      <td>2</td>\n",
       "      <td>13.94</td>\n",
       "      <td>17.425</td>\n",
       "      <td>81</td>\n",
       "      <td>7.0015</td>\n",
       "    </tr>\n",
       "    <tr>\n",
       "      <th>2012-06-13 23:00:00</th>\n",
       "      <td>2</td>\n",
       "      <td>0</td>\n",
       "      <td>1</td>\n",
       "      <td>1</td>\n",
       "      <td>25.42</td>\n",
       "      <td>31.060</td>\n",
       "      <td>50</td>\n",
       "      <td>19.0012</td>\n",
       "    </tr>\n",
       "    <tr>\n",
       "      <th>2011-04-02 14:00:00</th>\n",
       "      <td>2</td>\n",
       "      <td>0</td>\n",
       "      <td>0</td>\n",
       "      <td>3</td>\n",
       "      <td>13.12</td>\n",
       "      <td>15.150</td>\n",
       "      <td>76</td>\n",
       "      <td>22.0028</td>\n",
       "    </tr>\n",
       "    <tr>\n",
       "      <th>2011-04-10 08:00:00</th>\n",
       "      <td>2</td>\n",
       "      <td>0</td>\n",
       "      <td>0</td>\n",
       "      <td>2</td>\n",
       "      <td>15.58</td>\n",
       "      <td>19.695</td>\n",
       "      <td>94</td>\n",
       "      <td>6.0032</td>\n",
       "    </tr>\n",
       "  </tbody>\n",
       "</table>\n",
       "<p>8708 rows × 8 columns</p>\n",
       "</div>"
      ],
      "text/plain": [
       "                     season  holiday  workingday  weather   temp   atemp  \\\n",
       "datetime                                                                   \n",
       "2011-06-18 19:00:00       2        0           0        2  30.34  33.335   \n",
       "2012-09-08 17:00:00       3        0           0        3  23.78  27.275   \n",
       "2011-05-01 17:00:00       2        0           0        2  19.68  23.485   \n",
       "2012-11-19 00:00:00       4        0           1        1  14.76  17.425   \n",
       "2011-05-16 09:00:00       2        0           1        1  24.60  29.545   \n",
       "...                     ...      ...         ...      ...    ...     ...   \n",
       "2011-02-08 03:00:00       1        0           1        3  11.48  13.635   \n",
       "2012-01-12 11:00:00       1        0           1        2  13.94  17.425   \n",
       "2012-06-13 23:00:00       2        0           1        1  25.42  31.060   \n",
       "2011-04-02 14:00:00       2        0           0        3  13.12  15.150   \n",
       "2011-04-10 08:00:00       2        0           0        2  15.58  19.695   \n",
       "\n",
       "                     humidity  windspeed  \n",
       "datetime                                  \n",
       "2011-06-18 19:00:00        51     7.0015  \n",
       "2012-09-08 17:00:00        83    12.9980  \n",
       "2011-05-01 17:00:00        82    16.9979  \n",
       "2012-11-19 00:00:00        66    15.0013  \n",
       "2011-05-16 09:00:00        69    12.9980  \n",
       "...                       ...        ...  \n",
       "2011-02-08 03:00:00        93    11.0014  \n",
       "2012-01-12 11:00:00        81     7.0015  \n",
       "2012-06-13 23:00:00        50    19.0012  \n",
       "2011-04-02 14:00:00        76    22.0028  \n",
       "2011-04-10 08:00:00        94     6.0032  \n",
       "\n",
       "[8708 rows x 8 columns]"
      ]
     },
     "execution_count": 18,
     "metadata": {},
     "output_type": "execute_result"
    }
   ],
   "source": [
    "X_train "
   ]
  },
  {
   "cell_type": "code",
   "execution_count": 19,
   "id": "12eac452-098e-408b-b85a-ddcfea0c4dad",
   "metadata": {
    "tags": []
   },
   "outputs": [
    {
     "data": {
      "text/html": [
       "<div>\n",
       "<style scoped>\n",
       "    .dataframe tbody tr th:only-of-type {\n",
       "        vertical-align: middle;\n",
       "    }\n",
       "\n",
       "    .dataframe tbody tr th {\n",
       "        vertical-align: top;\n",
       "    }\n",
       "\n",
       "    .dataframe thead th {\n",
       "        text-align: right;\n",
       "    }\n",
       "</style>\n",
       "<table border=\"1\" class=\"dataframe\">\n",
       "  <thead>\n",
       "    <tr style=\"text-align: right;\">\n",
       "      <th></th>\n",
       "      <th>casual</th>\n",
       "      <th>registered</th>\n",
       "      <th>count</th>\n",
       "    </tr>\n",
       "    <tr>\n",
       "      <th>datetime</th>\n",
       "      <th></th>\n",
       "      <th></th>\n",
       "      <th></th>\n",
       "    </tr>\n",
       "  </thead>\n",
       "  <tbody>\n",
       "    <tr>\n",
       "      <th>2011-06-18 19:00:00</th>\n",
       "      <td>99</td>\n",
       "      <td>227</td>\n",
       "      <td>326</td>\n",
       "    </tr>\n",
       "    <tr>\n",
       "      <th>2012-09-08 17:00:00</th>\n",
       "      <td>52</td>\n",
       "      <td>119</td>\n",
       "      <td>171</td>\n",
       "    </tr>\n",
       "    <tr>\n",
       "      <th>2011-05-01 17:00:00</th>\n",
       "      <td>60</td>\n",
       "      <td>136</td>\n",
       "      <td>196</td>\n",
       "    </tr>\n",
       "    <tr>\n",
       "      <th>2012-11-19 00:00:00</th>\n",
       "      <td>5</td>\n",
       "      <td>22</td>\n",
       "      <td>27</td>\n",
       "    </tr>\n",
       "    <tr>\n",
       "      <th>2011-05-16 09:00:00</th>\n",
       "      <td>38</td>\n",
       "      <td>156</td>\n",
       "      <td>194</td>\n",
       "    </tr>\n",
       "    <tr>\n",
       "      <th>...</th>\n",
       "      <td>...</td>\n",
       "      <td>...</td>\n",
       "      <td>...</td>\n",
       "    </tr>\n",
       "    <tr>\n",
       "      <th>2011-02-08 03:00:00</th>\n",
       "      <td>0</td>\n",
       "      <td>1</td>\n",
       "      <td>1</td>\n",
       "    </tr>\n",
       "    <tr>\n",
       "      <th>2012-01-12 11:00:00</th>\n",
       "      <td>18</td>\n",
       "      <td>101</td>\n",
       "      <td>119</td>\n",
       "    </tr>\n",
       "    <tr>\n",
       "      <th>2012-06-13 23:00:00</th>\n",
       "      <td>25</td>\n",
       "      <td>128</td>\n",
       "      <td>153</td>\n",
       "    </tr>\n",
       "    <tr>\n",
       "      <th>2011-04-02 14:00:00</th>\n",
       "      <td>97</td>\n",
       "      <td>93</td>\n",
       "      <td>190</td>\n",
       "    </tr>\n",
       "    <tr>\n",
       "      <th>2011-04-10 08:00:00</th>\n",
       "      <td>17</td>\n",
       "      <td>38</td>\n",
       "      <td>55</td>\n",
       "    </tr>\n",
       "  </tbody>\n",
       "</table>\n",
       "<p>8708 rows × 3 columns</p>\n",
       "</div>"
      ],
      "text/plain": [
       "                     casual  registered  count\n",
       "datetime                                      \n",
       "2011-06-18 19:00:00      99         227    326\n",
       "2012-09-08 17:00:00      52         119    171\n",
       "2011-05-01 17:00:00      60         136    196\n",
       "2012-11-19 00:00:00       5          22     27\n",
       "2011-05-16 09:00:00      38         156    194\n",
       "...                     ...         ...    ...\n",
       "2011-02-08 03:00:00       0           1      1\n",
       "2012-01-12 11:00:00      18         101    119\n",
       "2012-06-13 23:00:00      25         128    153\n",
       "2011-04-02 14:00:00      97          93    190\n",
       "2011-04-10 08:00:00      17          38     55\n",
       "\n",
       "[8708 rows x 3 columns]"
      ]
     },
     "execution_count": 19,
     "metadata": {},
     "output_type": "execute_result"
    }
   ],
   "source": [
    "y_train"
   ]
  },
  {
   "cell_type": "markdown",
   "id": "18cd78c4-89dd-4087-820e-97c17aeb10fa",
   "metadata": {},
   "source": [
    "## Exploratory Data Analysis: \n",
    "\n"
   ]
  },
  {
   "cell_type": "markdown",
   "id": "4d04a180-bcf6-45d0-b40f-7cdc1175d535",
   "metadata": {},
   "source": [
    "### Let's check the NaNs?"
   ]
  },
  {
   "cell_type": "code",
   "execution_count": 20,
   "id": "43f8a1d6-c6ee-43d2-96da-ec6898c24903",
   "metadata": {
    "tags": []
   },
   "outputs": [
    {
     "data": {
      "text/plain": [
       "season        0\n",
       "holiday       0\n",
       "workingday    0\n",
       "weather       0\n",
       "temp          0\n",
       "atemp         0\n",
       "humidity      0\n",
       "windspeed     0\n",
       "casual        0\n",
       "registered    0\n",
       "count         0\n",
       "dtype: int64"
      ]
     },
     "execution_count": 20,
     "metadata": {},
     "output_type": "execute_result"
    }
   ],
   "source": [
    "df.isna().sum()"
   ]
  },
  {
   "cell_type": "code",
   "execution_count": 21,
   "id": "9f7f8af5-62c0-4304-a016-9340dc7628f1",
   "metadata": {
    "tags": []
   },
   "outputs": [
    {
     "data": {
      "image/png": "[encoded data removed]",
      "text/plain": [
       "<Figure size 864x576 with 1 Axes>"
      ]
     },
     "metadata": {
      "needs_background": "light"
     },
     "output_type": "display_data"
    }
   ],
   "source": [
    "plt.figure(figsize=(12, 8))\n",
    "sns.heatmap(df.isna(), cbar=False);"
   ]
  },
  {
   "cell_type": "markdown",
   "id": "8ffaf1b2-4c05-4f72-a459-4c4f4774aa8e",
   "metadata": {},
   "source": [
    "### Great the there is no \"holes\" in the information"
   ]
  },
  {
   "cell_type": "markdown",
   "id": "1a11dd90-fca8-46cb-b398-441c146e09d6",
   "metadata": {},
   "source": [
    "## Is there any Correlation between the labels?"
   ]
  },
  {
   "cell_type": "code",
   "execution_count": 22,
   "id": "2c62f11b-95db-4fe9-8800-957d33072850",
   "metadata": {
    "tags": []
   },
   "outputs": [
    {
     "data": {
      "image/png": "[encoded data removed]",
      "text/plain": [
       "<Figure size 864x576 with 2 Axes>"
      ]
     },
     "metadata": {
      "needs_background": "light"
     },
     "output_type": "display_data"
    }
   ],
   "source": [
    "ax =plt.subplots(figsize=(12,8))\n",
    "pearsoncorr = df.corr(method='pearson')\n",
    "sns.heatmap(pearsoncorr, \n",
    "            xticklabels=pearsoncorr.columns,\n",
    "            yticklabels=pearsoncorr.columns,\n",
    "            cmap='Reds',\n",
    "            annot=True);"
   ]
  },
  {
   "cell_type": "markdown",
   "id": "38cbde18-3148-4287-8c03-5370ef14dc2c",
   "metadata": {},
   "source": [
    "* There is some interesting positive correlation between Count and Temperature and Weather.\n",
    "* Negative correlation with humidity, windspeed. \n",
    "* Holiday and Season seem relatevely independent of the demand.\n",
    "* Workingday has an interesting correlation with casual and registered.\n",
    "\n",
    "## In conslusion I'm going to use the following variables to modelize: \n",
    "* temp\n",
    "* humidity\n",
    "* windspeed\n",
    "* workingday"
   ]
  },
  {
   "cell_type": "markdown",
   "id": "6d7add6e-c961-48f8-8421-2e3a08faf29d",
   "metadata": {},
   "source": [
    "## Let's see in detail how this variables moves across time"
   ]
  },
  {
   "cell_type": "code",
   "execution_count": 198,
   "id": "cf989723-07bf-4bfd-bf44-ebdf94e951fc",
   "metadata": {
    "tags": []
   },
   "outputs": [
    {
     "data": {
      "image/png": "[encoded data removed]",
      "text/plain": [
       "<Figure size 432x288 with 1 Axes>"
      ]
     },
     "metadata": {
      "needs_background": "light"
     },
     "output_type": "display_data"
    }
   ],
   "source": [
    "df['registered'].plot();\n"
   ]
  },
  {
   "cell_type": "markdown",
   "id": "9a696b91-f695-41b2-b0da-73df080fe7fa",
   "metadata": {},
   "source": [
    "## Let`s see how behaves the demand along 1 day"
   ]
  },
  {
   "cell_type": "code",
   "execution_count": 24,
   "id": "e5d956b5-96dd-4b40-a78a-641816ce48f2",
   "metadata": {
    "tags": []
   },
   "outputs": [
    {
     "name": "stderr",
     "output_type": "stream",
     "text": [
      "<ipython-input-24-57349c7b7f33>:2: SettingWithCopyWarning: \n",
      "A value is trying to be set on a copy of a slice from a DataFrame.\n",
      "Try using .loc[row_indexer,col_indexer] = value instead\n",
      "\n",
      "See the caveats in the documentation: https://pandas.pydata.org/pandas-docs/stable/user_guide/indexing.html#returning-a-view-versus-a-copy\n",
      "  X_train['hour'] = X_train.index.hour\n",
      "<ipython-input-24-57349c7b7f33>:3: SettingWithCopyWarning: \n",
      "A value is trying to be set on a copy of a slice from a DataFrame.\n",
      "Try using .loc[row_indexer,col_indexer] = value instead\n",
      "\n",
      "See the caveats in the documentation: https://pandas.pydata.org/pandas-docs/stable/user_guide/indexing.html#returning-a-view-versus-a-copy\n",
      "  y_train['hour'] = y_train.index.hour\n"
     ]
    },
    {
     "data": {
      "image/png": "[encoded data removed]",
      "text/plain": [
       "<Figure size 432x288 with 1 Axes>"
      ]
     },
     "metadata": {
      "needs_background": "light"
     },
     "output_type": "display_data"
    }
   ],
   "source": [
    "df['hour']= df.index.hour\n",
    "X_train['hour'] = X_train.index.hour\n",
    "y_train['hour'] = y_train.index.hour\n",
    "df_hour= df['hour']\n",
    "df.groupby('hour')['count'].mean().plot(kind='bar');"
   ]
  },
  {
   "cell_type": "code",
   "execution_count": 25,
   "id": "09739f1a-b79b-4aba-bd8c-14945359326c",
   "metadata": {
    "tags": []
   },
   "outputs": [
    {
     "data": {
      "text/html": [
       "<div>\n",
       "<style scoped>\n",
       "    .dataframe tbody tr th:only-of-type {\n",
       "        vertical-align: middle;\n",
       "    }\n",
       "\n",
       "    .dataframe tbody tr th {\n",
       "        vertical-align: top;\n",
       "    }\n",
       "\n",
       "    .dataframe thead th {\n",
       "        text-align: right;\n",
       "    }\n",
       "</style>\n",
       "<table border=\"1\" class=\"dataframe\">\n",
       "  <thead>\n",
       "    <tr style=\"text-align: right;\">\n",
       "      <th></th>\n",
       "      <th>season</th>\n",
       "      <th>holiday</th>\n",
       "      <th>workingday</th>\n",
       "      <th>weather</th>\n",
       "      <th>temp</th>\n",
       "      <th>atemp</th>\n",
       "      <th>humidity</th>\n",
       "      <th>windspeed</th>\n",
       "      <th>casual</th>\n",
       "      <th>registered</th>\n",
       "      <th>count</th>\n",
       "      <th>hour</th>\n",
       "    </tr>\n",
       "    <tr>\n",
       "      <th>datetime</th>\n",
       "      <th></th>\n",
       "      <th></th>\n",
       "      <th></th>\n",
       "      <th></th>\n",
       "      <th></th>\n",
       "      <th></th>\n",
       "      <th></th>\n",
       "      <th></th>\n",
       "      <th></th>\n",
       "      <th></th>\n",
       "      <th></th>\n",
       "      <th></th>\n",
       "    </tr>\n",
       "  </thead>\n",
       "  <tbody>\n",
       "    <tr>\n",
       "      <th>2011-01-01 00:00:00</th>\n",
       "      <td>1</td>\n",
       "      <td>0</td>\n",
       "      <td>0</td>\n",
       "      <td>1</td>\n",
       "      <td>9.84</td>\n",
       "      <td>14.395</td>\n",
       "      <td>81</td>\n",
       "      <td>0.0000</td>\n",
       "      <td>3</td>\n",
       "      <td>13</td>\n",
       "      <td>16</td>\n",
       "      <td>0</td>\n",
       "    </tr>\n",
       "    <tr>\n",
       "      <th>2011-01-01 01:00:00</th>\n",
       "      <td>1</td>\n",
       "      <td>0</td>\n",
       "      <td>0</td>\n",
       "      <td>1</td>\n",
       "      <td>9.02</td>\n",
       "      <td>13.635</td>\n",
       "      <td>80</td>\n",
       "      <td>0.0000</td>\n",
       "      <td>8</td>\n",
       "      <td>32</td>\n",
       "      <td>40</td>\n",
       "      <td>1</td>\n",
       "    </tr>\n",
       "    <tr>\n",
       "      <th>2011-01-01 02:00:00</th>\n",
       "      <td>1</td>\n",
       "      <td>0</td>\n",
       "      <td>0</td>\n",
       "      <td>1</td>\n",
       "      <td>9.02</td>\n",
       "      <td>13.635</td>\n",
       "      <td>80</td>\n",
       "      <td>0.0000</td>\n",
       "      <td>5</td>\n",
       "      <td>27</td>\n",
       "      <td>32</td>\n",
       "      <td>2</td>\n",
       "    </tr>\n",
       "    <tr>\n",
       "      <th>2011-01-01 03:00:00</th>\n",
       "      <td>1</td>\n",
       "      <td>0</td>\n",
       "      <td>0</td>\n",
       "      <td>1</td>\n",
       "      <td>9.84</td>\n",
       "      <td>14.395</td>\n",
       "      <td>75</td>\n",
       "      <td>0.0000</td>\n",
       "      <td>3</td>\n",
       "      <td>10</td>\n",
       "      <td>13</td>\n",
       "      <td>3</td>\n",
       "    </tr>\n",
       "    <tr>\n",
       "      <th>2011-01-01 04:00:00</th>\n",
       "      <td>1</td>\n",
       "      <td>0</td>\n",
       "      <td>0</td>\n",
       "      <td>1</td>\n",
       "      <td>9.84</td>\n",
       "      <td>14.395</td>\n",
       "      <td>75</td>\n",
       "      <td>0.0000</td>\n",
       "      <td>0</td>\n",
       "      <td>1</td>\n",
       "      <td>1</td>\n",
       "      <td>4</td>\n",
       "    </tr>\n",
       "    <tr>\n",
       "      <th>...</th>\n",
       "      <td>...</td>\n",
       "      <td>...</td>\n",
       "      <td>...</td>\n",
       "      <td>...</td>\n",
       "      <td>...</td>\n",
       "      <td>...</td>\n",
       "      <td>...</td>\n",
       "      <td>...</td>\n",
       "      <td>...</td>\n",
       "      <td>...</td>\n",
       "      <td>...</td>\n",
       "      <td>...</td>\n",
       "    </tr>\n",
       "    <tr>\n",
       "      <th>2012-12-19 19:00:00</th>\n",
       "      <td>4</td>\n",
       "      <td>0</td>\n",
       "      <td>1</td>\n",
       "      <td>1</td>\n",
       "      <td>15.58</td>\n",
       "      <td>19.695</td>\n",
       "      <td>50</td>\n",
       "      <td>26.0027</td>\n",
       "      <td>7</td>\n",
       "      <td>329</td>\n",
       "      <td>336</td>\n",
       "      <td>19</td>\n",
       "    </tr>\n",
       "    <tr>\n",
       "      <th>2012-12-19 20:00:00</th>\n",
       "      <td>4</td>\n",
       "      <td>0</td>\n",
       "      <td>1</td>\n",
       "      <td>1</td>\n",
       "      <td>14.76</td>\n",
       "      <td>17.425</td>\n",
       "      <td>57</td>\n",
       "      <td>15.0013</td>\n",
       "      <td>10</td>\n",
       "      <td>231</td>\n",
       "      <td>241</td>\n",
       "      <td>20</td>\n",
       "    </tr>\n",
       "    <tr>\n",
       "      <th>2012-12-19 21:00:00</th>\n",
       "      <td>4</td>\n",
       "      <td>0</td>\n",
       "      <td>1</td>\n",
       "      <td>1</td>\n",
       "      <td>13.94</td>\n",
       "      <td>15.910</td>\n",
       "      <td>61</td>\n",
       "      <td>15.0013</td>\n",
       "      <td>4</td>\n",
       "      <td>164</td>\n",
       "      <td>168</td>\n",
       "      <td>21</td>\n",
       "    </tr>\n",
       "    <tr>\n",
       "      <th>2012-12-19 22:00:00</th>\n",
       "      <td>4</td>\n",
       "      <td>0</td>\n",
       "      <td>1</td>\n",
       "      <td>1</td>\n",
       "      <td>13.94</td>\n",
       "      <td>17.425</td>\n",
       "      <td>61</td>\n",
       "      <td>6.0032</td>\n",
       "      <td>12</td>\n",
       "      <td>117</td>\n",
       "      <td>129</td>\n",
       "      <td>22</td>\n",
       "    </tr>\n",
       "    <tr>\n",
       "      <th>2012-12-19 23:00:00</th>\n",
       "      <td>4</td>\n",
       "      <td>0</td>\n",
       "      <td>1</td>\n",
       "      <td>1</td>\n",
       "      <td>13.12</td>\n",
       "      <td>16.665</td>\n",
       "      <td>66</td>\n",
       "      <td>8.9981</td>\n",
       "      <td>4</td>\n",
       "      <td>84</td>\n",
       "      <td>88</td>\n",
       "      <td>23</td>\n",
       "    </tr>\n",
       "  </tbody>\n",
       "</table>\n",
       "<p>10886 rows × 12 columns</p>\n",
       "</div>"
      ],
      "text/plain": [
       "                     season  holiday  workingday  weather   temp   atemp  \\\n",
       "datetime                                                                   \n",
       "2011-01-01 00:00:00       1        0           0        1   9.84  14.395   \n",
       "2011-01-01 01:00:00       1        0           0        1   9.02  13.635   \n",
       "2011-01-01 02:00:00       1        0           0        1   9.02  13.635   \n",
       "2011-01-01 03:00:00       1        0           0        1   9.84  14.395   \n",
       "2011-01-01 04:00:00       1        0           0        1   9.84  14.395   \n",
       "...                     ...      ...         ...      ...    ...     ...   \n",
       "2012-12-19 19:00:00       4        0           1        1  15.58  19.695   \n",
       "2012-12-19 20:00:00       4        0           1        1  14.76  17.425   \n",
       "2012-12-19 21:00:00       4        0           1        1  13.94  15.910   \n",
       "2012-12-19 22:00:00       4        0           1        1  13.94  17.425   \n",
       "2012-12-19 23:00:00       4        0           1        1  13.12  16.665   \n",
       "\n",
       "                     humidity  windspeed  casual  registered  count  hour  \n",
       "datetime                                                                   \n",
       "2011-01-01 00:00:00        81     0.0000       3          13     16     0  \n",
       "2011-01-01 01:00:00        80     0.0000       8          32     40     1  \n",
       "2011-01-01 02:00:00        80     0.0000       5          27     32     2  \n",
       "2011-01-01 03:00:00        75     0.0000       3          10     13     3  \n",
       "2011-01-01 04:00:00        75     0.0000       0           1      1     4  \n",
       "...                       ...        ...     ...         ...    ...   ...  \n",
       "2012-12-19 19:00:00        50    26.0027       7         329    336    19  \n",
       "2012-12-19 20:00:00        57    15.0013      10         231    241    20  \n",
       "2012-12-19 21:00:00        61    15.0013       4         164    168    21  \n",
       "2012-12-19 22:00:00        61     6.0032      12         117    129    22  \n",
       "2012-12-19 23:00:00        66     8.9981       4          84     88    23  \n",
       "\n",
       "[10886 rows x 12 columns]"
      ]
     },
     "execution_count": 25,
     "metadata": {},
     "output_type": "execute_result"
    }
   ],
   "source": [
    "df"
   ]
  },
  {
   "cell_type": "markdown",
   "id": "8c8e1e43-7f30-4bdf-ba1b-31b27ba132d5",
   "metadata": {
    "tags": []
   },
   "source": [
    "## 1st Linear Regression"
   ]
  },
  {
   "cell_type": "code",
   "execution_count": 26,
   "id": "48e45dc9-06cb-4858-ad70-a9d5b9c704dd",
   "metadata": {
    "collapsed": true,
    "jupyter": {
     "outputs_hidden": true
    }
   },
   "outputs": [],
   "source": [
    "from sklearn.linear_model import LinearRegression"
   ]
  },
  {
   "cell_type": "code",
   "execution_count": 27,
   "id": "32e12eda-ba79-4a85-8f1d-bb6fa4702223",
   "metadata": {
    "collapsed": true,
    "jupyter": {
     "outputs_hidden": true
    }
   },
   "outputs": [],
   "source": [
    "m = LinearRegression()"
   ]
  },
  {
   "cell_type": "code",
   "execution_count": 28,
   "id": "705c6c2a-708a-4d49-af46-257ada87e611",
   "metadata": {
    "collapsed": true,
    "jupyter": {
     "outputs_hidden": true
    }
   },
   "outputs": [
    {
     "data": {
      "text/plain": [
       "LinearRegression()"
      ]
     },
     "execution_count": 28,
     "metadata": {},
     "output_type": "execute_result"
    }
   ],
   "source": [
    "m.fit(X_train[['hour']], y_train['count'])"
   ]
  },
  {
   "cell_type": "code",
   "execution_count": 29,
   "id": "6a550808-8f5f-4d8a-9045-99cfc5f4eebf",
   "metadata": {
    "collapsed": true,
    "jupyter": {
     "outputs_hidden": true
    }
   },
   "outputs": [],
   "source": [
    "ypred = m.predict(X_train[['hour']])"
   ]
  },
  {
   "cell_type": "code",
   "execution_count": 30,
   "id": "730e207c-5445-4d9d-823e-65ecb8806035",
   "metadata": {
    "collapsed": true,
    "jupyter": {
     "outputs_hidden": true
    },
    "tags": []
   },
   "outputs": [
    {
     "name": "stderr",
     "output_type": "stream",
     "text": [
      "<ipython-input-30-16b86c8e598b>:1: SettingWithCopyWarning: \n",
      "A value is trying to be set on a copy of a slice from a DataFrame.\n",
      "Try using .loc[row_indexer,col_indexer] = value instead\n",
      "\n",
      "See the caveats in the documentation: https://pandas.pydata.org/pandas-docs/stable/user_guide/indexing.html#returning-a-view-versus-a-copy\n",
      "  y_train['ypred'] = ypred\n"
     ]
    }
   ],
   "source": [
    "y_train['ypred'] = ypred"
   ]
  },
  {
   "cell_type": "code",
   "execution_count": 31,
   "id": "af2dfed1-7bc4-4de9-9653-c4548287bb3a",
   "metadata": {
    "collapsed": true,
    "jupyter": {
     "outputs_hidden": true
    }
   },
   "outputs": [
    {
     "data": {
      "image/png": "[encoded data removed]",
      "text/plain": [
       "<Figure size 432x288 with 1 Axes>"
      ]
     },
     "metadata": {
      "needs_background": "light"
     },
     "output_type": "display_data"
    }
   ],
   "source": [
    "y_train.groupby('hour')['ypred'].mean().plot()\n",
    "plt.scatter(X_train['hour'], y_train['count'], s=0.8);"
   ]
  },
  {
   "cell_type": "code",
   "execution_count": 32,
   "id": "3f3b1005-4b72-4fe3-8c64-95662fa860f5",
   "metadata": {
    "collapsed": true,
    "jupyter": {
     "outputs_hidden": true
    },
    "tags": []
   },
   "outputs": [
    {
     "data": {
      "text/plain": [
       "0.16139950199688713"
      ]
     },
     "execution_count": 32,
     "metadata": {},
     "output_type": "execute_result"
    }
   ],
   "source": [
    "m.score(X_train[['hour']], y_train['count'])"
   ]
  },
  {
   "cell_type": "markdown",
   "id": "61f50cf9-56c2-4424-99ce-f25af7bfefcb",
   "metadata": {},
   "source": [
    "### First conclusion: Hour is not enough to determine the demand"
   ]
  },
  {
   "cell_type": "markdown",
   "id": "3149bd9b-54e1-413c-9935-46774831d1eb",
   "metadata": {
    "tags": []
   },
   "source": [
    "## One Hot Encoder:"
   ]
  },
  {
   "cell_type": "code",
   "execution_count": 33,
   "id": "5f32a07e-6426-4c33-85fa-a0afdf0d59fb",
   "metadata": {
    "collapsed": true,
    "jupyter": {
     "outputs_hidden": true
    }
   },
   "outputs": [],
   "source": [
    "from sklearn.preprocessing import OneHotEncoder"
   ]
  },
  {
   "cell_type": "code",
   "execution_count": 34,
   "id": "60af32e7-db9c-4f93-af0f-598f2fa0f9ff",
   "metadata": {
    "collapsed": true,
    "jupyter": {
     "outputs_hidden": true
    },
    "tags": []
   },
   "outputs": [],
   "source": [
    "ohe = OneHotEncoder(sparse=False)"
   ]
  },
  {
   "cell_type": "code",
   "execution_count": 35,
   "id": "01a54f1c-c6cb-45b5-be53-f0078bc07c19",
   "metadata": {
    "collapsed": true,
    "jupyter": {
     "outputs_hidden": true
    },
    "tags": []
   },
   "outputs": [],
   "source": [
    "hour_ohe = ohe.fit_transform(X_train[['hour']])"
   ]
  },
  {
   "cell_type": "code",
   "execution_count": 36,
   "id": "04023333-1eaa-4a85-851a-6a75cc17a6fc",
   "metadata": {
    "collapsed": true,
    "jupyter": {
     "outputs_hidden": true
    },
    "tags": []
   },
   "outputs": [
    {
     "name": "stderr",
     "output_type": "stream",
     "text": [
      "<ipython-input-36-ab2f77008a57>:2: SettingWithCopyWarning: \n",
      "A value is trying to be set on a copy of a slice from a DataFrame.\n",
      "Try using .loc[row_indexer,col_indexer] = value instead\n",
      "\n",
      "See the caveats in the documentation: https://pandas.pydata.org/pandas-docs/stable/user_guide/indexing.html#returning-a-view-versus-a-copy\n",
      "  y_train['ypred_ohe'] = m.predict(hour_ohe)\n"
     ]
    }
   ],
   "source": [
    "m.fit(hour_ohe, y_train['count'])\n",
    "y_train['ypred_ohe'] = m.predict(hour_ohe)"
   ]
  },
  {
   "cell_type": "code",
   "execution_count": 196,
   "id": "ce956430-4863-40ad-88fa-df70879fbc6e",
   "metadata": {
    "tags": []
   },
   "outputs": [
    {
     "data": {
      "image/png": "[encoded data removed]",
      "text/plain": [
       "<Figure size 432x288 with 1 Axes>"
      ]
     },
     "metadata": {
      "needs_background": "light"
     },
     "output_type": "display_data"
    }
   ],
   "source": [
    "y_train.groupby('hour')['ypred_ohe'].mean().plot();\n",
    "plt.scatter(X_train['hour'], y_train['count'], s=0.8);"
   ]
  },
  {
   "cell_type": "code",
   "execution_count": 38,
   "id": "04daddf6-958b-47db-9216-c66a764a5379",
   "metadata": {
    "tags": []
   },
   "outputs": [
    {
     "data": {
      "text/plain": [
       "array([[0., 0., 0., ..., 0., 0., 0.],\n",
       "       [0., 0., 0., ..., 0., 0., 0.],\n",
       "       [0., 0., 0., ..., 0., 0., 0.],\n",
       "       ...,\n",
       "       [0., 0., 0., ..., 0., 0., 1.],\n",
       "       [0., 0., 0., ..., 0., 0., 0.],\n",
       "       [0., 0., 0., ..., 0., 0., 0.]])"
      ]
     },
     "execution_count": 38,
     "metadata": {},
     "output_type": "execute_result"
    }
   ],
   "source": [
    "hour_ohe"
   ]
  },
  {
   "cell_type": "code",
   "execution_count": 39,
   "id": "9952d9e6-483c-4e96-865d-5e1858b20403",
   "metadata": {
    "tags": []
   },
   "outputs": [],
   "source": [
    "from sklearn.preprocessing import PolynomialFeatures\n",
    "\n",
    "poly = PolynomialFeatures(degree=8)"
   ]
  },
  {
   "cell_type": "code",
   "execution_count": 40,
   "id": "a3d9e395-2d5c-41d8-96b6-24e9d6ac43c4",
   "metadata": {
    "tags": []
   },
   "outputs": [],
   "source": [
    "hour_poly = poly.fit_transform(X_train[['hour']])"
   ]
  },
  {
   "cell_type": "code",
   "execution_count": 41,
   "id": "95b2e41d-45e8-4c88-8ae1-2127b024722c",
   "metadata": {
    "tags": []
   },
   "outputs": [
    {
     "data": {
      "text/plain": [
       "LinearRegression()"
      ]
     },
     "execution_count": 41,
     "metadata": {},
     "output_type": "execute_result"
    }
   ],
   "source": [
    "m.fit(hour_poly, y_train['count'])"
   ]
  },
  {
   "cell_type": "code",
   "execution_count": 42,
   "id": "fe2a8a1b-8fad-4acd-a41d-b188f5f1dce0",
   "metadata": {
    "tags": []
   },
   "outputs": [
    {
     "name": "stderr",
     "output_type": "stream",
     "text": [
      "<ipython-input-42-164dcbd32ed1>:1: SettingWithCopyWarning: \n",
      "A value is trying to be set on a copy of a slice from a DataFrame.\n",
      "Try using .loc[row_indexer,col_indexer] = value instead\n",
      "\n",
      "See the caveats in the documentation: https://pandas.pydata.org/pandas-docs/stable/user_guide/indexing.html#returning-a-view-versus-a-copy\n",
      "  y_train['ypred_poly'] = m.predict(hour_poly)\n"
     ]
    }
   ],
   "source": [
    "y_train['ypred_poly'] = m.predict(hour_poly)"
   ]
  },
  {
   "cell_type": "code",
   "execution_count": 43,
   "id": "84f32d22-3fad-4f01-a696-f7aa1c376b30",
   "metadata": {
    "tags": []
   },
   "outputs": [
    {
     "data": {
      "text/html": [
       "<div>\n",
       "<style scoped>\n",
       "    .dataframe tbody tr th:only-of-type {\n",
       "        vertical-align: middle;\n",
       "    }\n",
       "\n",
       "    .dataframe tbody tr th {\n",
       "        vertical-align: top;\n",
       "    }\n",
       "\n",
       "    .dataframe thead th {\n",
       "        text-align: right;\n",
       "    }\n",
       "</style>\n",
       "<table border=\"1\" class=\"dataframe\">\n",
       "  <thead>\n",
       "    <tr style=\"text-align: right;\">\n",
       "      <th></th>\n",
       "      <th>casual</th>\n",
       "      <th>registered</th>\n",
       "      <th>count</th>\n",
       "      <th>hour</th>\n",
       "      <th>ypred</th>\n",
       "      <th>ypred_ohe</th>\n",
       "      <th>ypred_poly</th>\n",
       "    </tr>\n",
       "    <tr>\n",
       "      <th>datetime</th>\n",
       "      <th></th>\n",
       "      <th></th>\n",
       "      <th></th>\n",
       "      <th></th>\n",
       "      <th></th>\n",
       "      <th></th>\n",
       "      <th></th>\n",
       "    </tr>\n",
       "  </thead>\n",
       "  <tbody>\n",
       "    <tr>\n",
       "      <th>2011-06-18 19:00:00</th>\n",
       "      <td>99</td>\n",
       "      <td>227</td>\n",
       "      <td>326</td>\n",
       "      <td>19</td>\n",
       "      <td>271.494629</td>\n",
       "      <td>318.93750</td>\n",
       "      <td>348.826149</td>\n",
       "    </tr>\n",
       "    <tr>\n",
       "      <th>2012-09-08 17:00:00</th>\n",
       "      <td>52</td>\n",
       "      <td>119</td>\n",
       "      <td>171</td>\n",
       "      <td>17</td>\n",
       "      <td>250.321912</td>\n",
       "      <td>475.53125</td>\n",
       "      <td>394.104694</td>\n",
       "    </tr>\n",
       "    <tr>\n",
       "      <th>2011-05-01 17:00:00</th>\n",
       "      <td>60</td>\n",
       "      <td>136</td>\n",
       "      <td>196</td>\n",
       "      <td>17</td>\n",
       "      <td>250.321912</td>\n",
       "      <td>475.53125</td>\n",
       "      <td>394.104694</td>\n",
       "    </tr>\n",
       "    <tr>\n",
       "      <th>2012-11-19 00:00:00</th>\n",
       "      <td>5</td>\n",
       "      <td>22</td>\n",
       "      <td>27</td>\n",
       "      <td>0</td>\n",
       "      <td>70.353819</td>\n",
       "      <td>56.00000</td>\n",
       "      <td>40.192872</td>\n",
       "    </tr>\n",
       "    <tr>\n",
       "      <th>2011-05-16 09:00:00</th>\n",
       "      <td>38</td>\n",
       "      <td>156</td>\n",
       "      <td>194</td>\n",
       "      <td>9</td>\n",
       "      <td>165.631045</td>\n",
       "      <td>222.81250</td>\n",
       "      <td>253.711883</td>\n",
       "    </tr>\n",
       "    <tr>\n",
       "      <th>...</th>\n",
       "      <td>...</td>\n",
       "      <td>...</td>\n",
       "      <td>...</td>\n",
       "      <td>...</td>\n",
       "      <td>...</td>\n",
       "      <td>...</td>\n",
       "      <td>...</td>\n",
       "    </tr>\n",
       "    <tr>\n",
       "      <th>2011-02-08 03:00:00</th>\n",
       "      <td>0</td>\n",
       "      <td>1</td>\n",
       "      <td>1</td>\n",
       "      <td>3</td>\n",
       "      <td>102.112894</td>\n",
       "      <td>9.37500</td>\n",
       "      <td>-30.687959</td>\n",
       "    </tr>\n",
       "    <tr>\n",
       "      <th>2012-01-12 11:00:00</th>\n",
       "      <td>18</td>\n",
       "      <td>101</td>\n",
       "      <td>119</td>\n",
       "      <td>11</td>\n",
       "      <td>186.803761</td>\n",
       "      <td>213.65625</td>\n",
       "      <td>220.756698</td>\n",
       "    </tr>\n",
       "    <tr>\n",
       "      <th>2012-06-13 23:00:00</th>\n",
       "      <td>25</td>\n",
       "      <td>128</td>\n",
       "      <td>153</td>\n",
       "      <td>23</td>\n",
       "      <td>313.840063</td>\n",
       "      <td>88.90625</td>\n",
       "      <td>100.352710</td>\n",
       "    </tr>\n",
       "    <tr>\n",
       "      <th>2011-04-02 14:00:00</th>\n",
       "      <td>97</td>\n",
       "      <td>93</td>\n",
       "      <td>190</td>\n",
       "      <td>14</td>\n",
       "      <td>218.562837</td>\n",
       "      <td>236.15625</td>\n",
       "      <td>258.895967</td>\n",
       "    </tr>\n",
       "    <tr>\n",
       "      <th>2011-04-10 08:00:00</th>\n",
       "      <td>17</td>\n",
       "      <td>38</td>\n",
       "      <td>55</td>\n",
       "      <td>8</td>\n",
       "      <td>155.044686</td>\n",
       "      <td>363.03125</td>\n",
       "      <td>246.467002</td>\n",
       "    </tr>\n",
       "  </tbody>\n",
       "</table>\n",
       "<p>8708 rows × 7 columns</p>\n",
       "</div>"
      ],
      "text/plain": [
       "                     casual  registered  count  hour       ypred  ypred_ohe  \\\n",
       "datetime                                                                      \n",
       "2011-06-18 19:00:00      99         227    326    19  271.494629  318.93750   \n",
       "2012-09-08 17:00:00      52         119    171    17  250.321912  475.53125   \n",
       "2011-05-01 17:00:00      60         136    196    17  250.321912  475.53125   \n",
       "2012-11-19 00:00:00       5          22     27     0   70.353819   56.00000   \n",
       "2011-05-16 09:00:00      38         156    194     9  165.631045  222.81250   \n",
       "...                     ...         ...    ...   ...         ...        ...   \n",
       "2011-02-08 03:00:00       0           1      1     3  102.112894    9.37500   \n",
       "2012-01-12 11:00:00      18         101    119    11  186.803761  213.65625   \n",
       "2012-06-13 23:00:00      25         128    153    23  313.840063   88.90625   \n",
       "2011-04-02 14:00:00      97          93    190    14  218.562837  236.15625   \n",
       "2011-04-10 08:00:00      17          38     55     8  155.044686  363.03125   \n",
       "\n",
       "                     ypred_poly  \n",
       "datetime                         \n",
       "2011-06-18 19:00:00  348.826149  \n",
       "2012-09-08 17:00:00  394.104694  \n",
       "2011-05-01 17:00:00  394.104694  \n",
       "2012-11-19 00:00:00   40.192872  \n",
       "2011-05-16 09:00:00  253.711883  \n",
       "...                         ...  \n",
       "2011-02-08 03:00:00  -30.687959  \n",
       "2012-01-12 11:00:00  220.756698  \n",
       "2012-06-13 23:00:00  100.352710  \n",
       "2011-04-02 14:00:00  258.895967  \n",
       "2011-04-10 08:00:00  246.467002  \n",
       "\n",
       "[8708 rows x 7 columns]"
      ]
     },
     "execution_count": 43,
     "metadata": {},
     "output_type": "execute_result"
    }
   ],
   "source": [
    "y_train"
   ]
  },
  {
   "cell_type": "code",
   "execution_count": 197,
   "id": "0de52158-3a49-4660-bbf6-0cf2c716b33b",
   "metadata": {
    "tags": []
   },
   "outputs": [
    {
     "data": {
      "image/png": "[encoded data removed]",
      "text/plain": [
       "<Figure size 432x288 with 1 Axes>"
      ]
     },
     "metadata": {
      "needs_background": "light"
     },
     "output_type": "display_data"
    }
   ],
   "source": [
    "y_train.groupby('hour')['ypred_poly'].mean().plot();\n",
    "plt.scatter(X_train['hour'], y_train['count'], s=0.8);"
   ]
  },
  {
   "cell_type": "code",
   "execution_count": 45,
   "id": "60f69bcb-f903-415e-837a-a91478a193ef",
   "metadata": {
    "tags": []
   },
   "outputs": [
    {
     "data": {
      "text/plain": [
       "0.45983704399021874"
      ]
     },
     "execution_count": 45,
     "metadata": {},
     "output_type": "execute_result"
    }
   ],
   "source": [
    "m.score(hour_poly, y_train['count'])"
   ]
  },
  {
   "cell_type": "markdown",
   "id": "a1f335e9-dd1c-4a66-921d-12255554414f",
   "metadata": {
    "tags": []
   },
   "source": [
    "### A little better than before, but still needs a lot of work, let's incorporate the other variables"
   ]
  },
  {
   "cell_type": "markdown",
   "id": "4534f97e-b708-4d82-85d4-bdcc80d275ab",
   "metadata": {},
   "source": [
    "## 3rd Iteration Linear Regression"
   ]
  },
  {
   "cell_type": "code",
   "execution_count": 46,
   "id": "727db47e-d1d8-4514-a385-e8288302da95",
   "metadata": {
    "tags": []
   },
   "outputs": [
    {
     "data": {
      "text/html": [
       "<div>\n",
       "<style scoped>\n",
       "    .dataframe tbody tr th:only-of-type {\n",
       "        vertical-align: middle;\n",
       "    }\n",
       "\n",
       "    .dataframe tbody tr th {\n",
       "        vertical-align: top;\n",
       "    }\n",
       "\n",
       "    .dataframe thead th {\n",
       "        text-align: right;\n",
       "    }\n",
       "</style>\n",
       "<table border=\"1\" class=\"dataframe\">\n",
       "  <thead>\n",
       "    <tr style=\"text-align: right;\">\n",
       "      <th></th>\n",
       "      <th>season</th>\n",
       "      <th>holiday</th>\n",
       "      <th>workingday</th>\n",
       "      <th>weather</th>\n",
       "      <th>temp</th>\n",
       "      <th>atemp</th>\n",
       "      <th>humidity</th>\n",
       "      <th>windspeed</th>\n",
       "      <th>casual</th>\n",
       "      <th>registered</th>\n",
       "      <th>count</th>\n",
       "      <th>hour</th>\n",
       "    </tr>\n",
       "    <tr>\n",
       "      <th>datetime</th>\n",
       "      <th></th>\n",
       "      <th></th>\n",
       "      <th></th>\n",
       "      <th></th>\n",
       "      <th></th>\n",
       "      <th></th>\n",
       "      <th></th>\n",
       "      <th></th>\n",
       "      <th></th>\n",
       "      <th></th>\n",
       "      <th></th>\n",
       "      <th></th>\n",
       "    </tr>\n",
       "  </thead>\n",
       "  <tbody>\n",
       "    <tr>\n",
       "      <th>2011-01-01 00:00:00</th>\n",
       "      <td>1</td>\n",
       "      <td>0</td>\n",
       "      <td>0</td>\n",
       "      <td>1</td>\n",
       "      <td>9.84</td>\n",
       "      <td>14.395</td>\n",
       "      <td>81</td>\n",
       "      <td>0.0</td>\n",
       "      <td>3</td>\n",
       "      <td>13</td>\n",
       "      <td>16</td>\n",
       "      <td>0</td>\n",
       "    </tr>\n",
       "    <tr>\n",
       "      <th>2011-01-01 01:00:00</th>\n",
       "      <td>1</td>\n",
       "      <td>0</td>\n",
       "      <td>0</td>\n",
       "      <td>1</td>\n",
       "      <td>9.02</td>\n",
       "      <td>13.635</td>\n",
       "      <td>80</td>\n",
       "      <td>0.0</td>\n",
       "      <td>8</td>\n",
       "      <td>32</td>\n",
       "      <td>40</td>\n",
       "      <td>1</td>\n",
       "    </tr>\n",
       "    <tr>\n",
       "      <th>2011-01-01 02:00:00</th>\n",
       "      <td>1</td>\n",
       "      <td>0</td>\n",
       "      <td>0</td>\n",
       "      <td>1</td>\n",
       "      <td>9.02</td>\n",
       "      <td>13.635</td>\n",
       "      <td>80</td>\n",
       "      <td>0.0</td>\n",
       "      <td>5</td>\n",
       "      <td>27</td>\n",
       "      <td>32</td>\n",
       "      <td>2</td>\n",
       "    </tr>\n",
       "    <tr>\n",
       "      <th>2011-01-01 03:00:00</th>\n",
       "      <td>1</td>\n",
       "      <td>0</td>\n",
       "      <td>0</td>\n",
       "      <td>1</td>\n",
       "      <td>9.84</td>\n",
       "      <td>14.395</td>\n",
       "      <td>75</td>\n",
       "      <td>0.0</td>\n",
       "      <td>3</td>\n",
       "      <td>10</td>\n",
       "      <td>13</td>\n",
       "      <td>3</td>\n",
       "    </tr>\n",
       "    <tr>\n",
       "      <th>2011-01-01 04:00:00</th>\n",
       "      <td>1</td>\n",
       "      <td>0</td>\n",
       "      <td>0</td>\n",
       "      <td>1</td>\n",
       "      <td>9.84</td>\n",
       "      <td>14.395</td>\n",
       "      <td>75</td>\n",
       "      <td>0.0</td>\n",
       "      <td>0</td>\n",
       "      <td>1</td>\n",
       "      <td>1</td>\n",
       "      <td>4</td>\n",
       "    </tr>\n",
       "  </tbody>\n",
       "</table>\n",
       "</div>"
      ],
      "text/plain": [
       "                     season  holiday  workingday  weather  temp   atemp  \\\n",
       "datetime                                                                  \n",
       "2011-01-01 00:00:00       1        0           0        1  9.84  14.395   \n",
       "2011-01-01 01:00:00       1        0           0        1  9.02  13.635   \n",
       "2011-01-01 02:00:00       1        0           0        1  9.02  13.635   \n",
       "2011-01-01 03:00:00       1        0           0        1  9.84  14.395   \n",
       "2011-01-01 04:00:00       1        0           0        1  9.84  14.395   \n",
       "\n",
       "                     humidity  windspeed  casual  registered  count  hour  \n",
       "datetime                                                                   \n",
       "2011-01-01 00:00:00        81        0.0       3          13     16     0  \n",
       "2011-01-01 01:00:00        80        0.0       8          32     40     1  \n",
       "2011-01-01 02:00:00        80        0.0       5          27     32     2  \n",
       "2011-01-01 03:00:00        75        0.0       3          10     13     3  \n",
       "2011-01-01 04:00:00        75        0.0       0           1      1     4  "
      ]
     },
     "execution_count": 46,
     "metadata": {},
     "output_type": "execute_result"
    }
   ],
   "source": [
    "df.head(5)"
   ]
  },
  {
   "cell_type": "code",
   "execution_count": 47,
   "id": "56a5d8f3-a15b-405e-ae25-e7b028c22c2e",
   "metadata": {},
   "outputs": [],
   "source": [
    "x = X_train[['hour','workingday','temp','humidity','windspeed']]"
   ]
  },
  {
   "cell_type": "code",
   "execution_count": 48,
   "id": "19a95bc5-52d5-4a2e-9883-c7c30d6faeec",
   "metadata": {},
   "outputs": [],
   "source": [
    "poly_2 = PolynomialFeatures(degree=8)"
   ]
  },
  {
   "cell_type": "code",
   "execution_count": 49,
   "id": "422a0c0f-617d-4114-bb6b-39bf8155e793",
   "metadata": {},
   "outputs": [
    {
     "data": {
      "text/plain": [
       "PolynomialFeatures(degree=8)"
      ]
     },
     "execution_count": 49,
     "metadata": {},
     "output_type": "execute_result"
    }
   ],
   "source": [
    "poly_2.fit(x)"
   ]
  },
  {
   "cell_type": "code",
   "execution_count": 50,
   "id": "e713ebc8-d18d-4733-a311-dd8be3c50e8c",
   "metadata": {
    "tags": []
   },
   "outputs": [],
   "source": [
    "from sklearn.preprocessing import MinMaxScaler, StandardScaler\n",
    "from sklearn.preprocessing import KBinsDiscretizer\n",
    "from sklearn.pipeline import Pipeline\n",
    "from sklearn.compose import ColumnTransformer"
   ]
  },
  {
   "cell_type": "code",
   "execution_count": 51,
   "id": "48d66543-9fdd-4cc2-bba4-002b9dde5c47",
   "metadata": {
    "collapsed": true,
    "jupyter": {
     "outputs_hidden": true
    },
    "tags": []
   },
   "outputs": [],
   "source": [
    "#  numerical_columns = ['hour','temp','humidity','windspeed']\n",
    "#  categorical_columns = ['workingday']"
   ]
  },
  {
   "cell_type": "code",
   "execution_count": 52,
   "id": "81024ebd-2555-468d-a9d1-557f665f4877",
   "metadata": {
    "collapsed": true,
    "jupyter": {
     "outputs_hidden": true
    },
    "tags": []
   },
   "outputs": [],
   "source": [
    "#column_transformer = ColumnTransformer([('scaler', StandardScaler(), numerical_columns)], remainder = 'passthrough' )"
   ]
  },
  {
   "cell_type": "code",
   "execution_count": 53,
   "id": "af8edb78-c5c1-43cf-9b99-35eb732fbad7",
   "metadata": {
    "collapsed": true,
    "jupyter": {
     "outputs_hidden": true
    },
    "tags": []
   },
   "outputs": [
    {
     "ename": "NameError",
     "evalue": "name 'column_transformer' is not defined",
     "output_type": "error",
     "traceback": [
      "\u001b[1;31m---------------------------------------------------------------------------\u001b[0m",
      "\u001b[1;31mNameError\u001b[0m                                 Traceback (most recent call last)",
      "\u001b[1;32m<ipython-input-53-51e4ebc04894>\u001b[0m in \u001b[0;36m<module>\u001b[1;34m\u001b[0m\n\u001b[0;32m      1\u001b[0m \u001b[1;31m#column_transformer.fit(x)\u001b[0m\u001b[1;33m\u001b[0m\u001b[1;33m\u001b[0m\u001b[1;33m\u001b[0m\u001b[0m\n\u001b[1;32m----> 2\u001b[1;33m \u001b[0mx_fe\u001b[0m \u001b[1;33m=\u001b[0m \u001b[0mcolumn_transformer\u001b[0m\u001b[1;33m.\u001b[0m\u001b[0mtransform\u001b[0m\u001b[1;33m(\u001b[0m\u001b[0mx\u001b[0m\u001b[1;33m)\u001b[0m\u001b[1;33m\u001b[0m\u001b[1;33m\u001b[0m\u001b[0m\n\u001b[0m",
      "\u001b[1;31mNameError\u001b[0m: name 'column_transformer' is not defined"
     ]
    }
   ],
   "source": [
    "#column_transformer.fit(x)\n",
    "# x_fe = column_transformer.transform(x)"
   ]
  },
  {
   "cell_type": "code",
   "execution_count": 54,
   "id": "ce60771e-57ba-44b1-93b6-20c2d61429ec",
   "metadata": {},
   "outputs": [],
   "source": [
    "Xpoly = poly_2.transform(x).astype(int)\n"
   ]
  },
  {
   "cell_type": "code",
   "execution_count": 55,
   "id": "9f31d41f-1b8f-4f17-a0e2-ffc1f96887b1",
   "metadata": {},
   "outputs": [
    {
     "data": {
      "text/plain": [
       "LinearRegression()"
      ]
     },
     "execution_count": 55,
     "metadata": {},
     "output_type": "execute_result"
    }
   ],
   "source": [
    "m.fit(Xpoly, y_train['count'])"
   ]
  },
  {
   "cell_type": "code",
   "execution_count": 56,
   "id": "b7093675-b675-44da-a988-f1b6736bc921",
   "metadata": {
    "collapsed": true,
    "jupyter": {
     "outputs_hidden": true
    },
    "tags": []
   },
   "outputs": [
    {
     "data": {
      "text/plain": [
       "(8708, 1287)"
      ]
     },
     "execution_count": 56,
     "metadata": {},
     "output_type": "execute_result"
    }
   ],
   "source": [
    "Xpoly.shape"
   ]
  },
  {
   "cell_type": "code",
   "execution_count": 57,
   "id": "a0f3df3e-9428-4a40-9491-6f0c347d2ba4",
   "metadata": {
    "collapsed": true,
    "jupyter": {
     "outputs_hidden": true
    },
    "tags": []
   },
   "outputs": [
    {
     "name": "stderr",
     "output_type": "stream",
     "text": [
      "<ipython-input-57-811f4c958336>:1: SettingWithCopyWarning: \n",
      "A value is trying to be set on a copy of a slice from a DataFrame.\n",
      "Try using .loc[row_indexer,col_indexer] = value instead\n",
      "\n",
      "See the caveats in the documentation: https://pandas.pydata.org/pandas-docs/stable/user_guide/indexing.html#returning-a-view-versus-a-copy\n",
      "  y_train['ypred_Xpoly'] = m.predict(Xpoly)\n"
     ]
    }
   ],
   "source": [
    "y_train['ypred_Xpoly'] = m.predict(Xpoly)"
   ]
  },
  {
   "cell_type": "code",
   "execution_count": 58,
   "id": "79bb8ce8-8daa-41df-977c-91f6da18e550",
   "metadata": {},
   "outputs": [
    {
     "data": {
      "text/plain": [
       "0.7598453162283364"
      ]
     },
     "execution_count": 58,
     "metadata": {},
     "output_type": "execute_result"
    }
   ],
   "source": [
    "m.score(Xpoly, y_train['count'])"
   ]
  },
  {
   "cell_type": "markdown",
   "id": "fde144fe-3976-4331-b013-81d4ca905bb7",
   "metadata": {},
   "source": [
    "## Far better score than before, let's plot it..."
   ]
  },
  {
   "cell_type": "code",
   "execution_count": 59,
   "id": "1b7650a4-5b32-47ac-b620-5ee92c7eea6a",
   "metadata": {},
   "outputs": [
    {
     "data": {
      "image/png": "[encoded data removed]",
      "text/plain": [
       "<Figure size 432x288 with 1 Axes>"
      ]
     },
     "metadata": {
      "needs_background": "light"
     },
     "output_type": "display_data"
    }
   ],
   "source": [
    "y_train.groupby('hour')['ypred_Xpoly'].mean().plot();\n",
    "y_train.groupby('hour')['count'].mean().plot();\n",
    "plt.legend();"
   ]
  },
  {
   "cell_type": "markdown",
   "id": "8a2a3873-38f1-401e-bbf6-34638ecab2ce",
   "metadata": {},
   "source": [
    "## Scoretest"
   ]
  },
  {
   "cell_type": "code",
   "execution_count": 61,
   "id": "0454f05b-ad8d-4798-b319-818f996fe039",
   "metadata": {
    "tags": []
   },
   "outputs": [
    {
     "name": "stderr",
     "output_type": "stream",
     "text": [
      "<ipython-input-61-9d6e0f6bb5cf>:1: SettingWithCopyWarning: \n",
      "A value is trying to be set on a copy of a slice from a DataFrame.\n",
      "Try using .loc[row_indexer,col_indexer] = value instead\n",
      "\n",
      "See the caveats in the documentation: https://pandas.pydata.org/pandas-docs/stable/user_guide/indexing.html#returning-a-view-versus-a-copy\n",
      "  y_test['hour']=y_test.index.hour\n"
     ]
    }
   ],
   "source": [
    "y_test['hour']=y_test.index.hour"
   ]
  },
  {
   "cell_type": "code",
   "execution_count": 62,
   "id": "b0fa48d8-e767-4ad7-935e-50e7d8355929",
   "metadata": {},
   "outputs": [
    {
     "data": {
      "text/html": [
       "<div>\n",
       "<style scoped>\n",
       "    .dataframe tbody tr th:only-of-type {\n",
       "        vertical-align: middle;\n",
       "    }\n",
       "\n",
       "    .dataframe tbody tr th {\n",
       "        vertical-align: top;\n",
       "    }\n",
       "\n",
       "    .dataframe thead th {\n",
       "        text-align: right;\n",
       "    }\n",
       "</style>\n",
       "<table border=\"1\" class=\"dataframe\">\n",
       "  <thead>\n",
       "    <tr style=\"text-align: right;\">\n",
       "      <th></th>\n",
       "      <th>casual</th>\n",
       "      <th>registered</th>\n",
       "      <th>count</th>\n",
       "      <th>hour</th>\n",
       "    </tr>\n",
       "    <tr>\n",
       "      <th>datetime</th>\n",
       "      <th></th>\n",
       "      <th></th>\n",
       "      <th></th>\n",
       "      <th></th>\n",
       "    </tr>\n",
       "  </thead>\n",
       "  <tbody>\n",
       "    <tr>\n",
       "      <th>2012-07-10 13:00:00</th>\n",
       "      <td>77</td>\n",
       "      <td>203</td>\n",
       "      <td>280</td>\n",
       "      <td>13</td>\n",
       "    </tr>\n",
       "    <tr>\n",
       "      <th>2012-10-07 13:00:00</th>\n",
       "      <td>80</td>\n",
       "      <td>240</td>\n",
       "      <td>320</td>\n",
       "      <td>13</td>\n",
       "    </tr>\n",
       "    <tr>\n",
       "      <th>2012-01-11 14:00:00</th>\n",
       "      <td>3</td>\n",
       "      <td>70</td>\n",
       "      <td>73</td>\n",
       "      <td>14</td>\n",
       "    </tr>\n",
       "    <tr>\n",
       "      <th>2012-09-19 21:00:00</th>\n",
       "      <td>25</td>\n",
       "      <td>324</td>\n",
       "      <td>349</td>\n",
       "      <td>21</td>\n",
       "    </tr>\n",
       "    <tr>\n",
       "      <th>2012-04-02 04:00:00</th>\n",
       "      <td>2</td>\n",
       "      <td>2</td>\n",
       "      <td>4</td>\n",
       "      <td>4</td>\n",
       "    </tr>\n",
       "    <tr>\n",
       "      <th>...</th>\n",
       "      <td>...</td>\n",
       "      <td>...</td>\n",
       "      <td>...</td>\n",
       "      <td>...</td>\n",
       "    </tr>\n",
       "    <tr>\n",
       "      <th>2012-05-10 06:00:00</th>\n",
       "      <td>9</td>\n",
       "      <td>130</td>\n",
       "      <td>139</td>\n",
       "      <td>6</td>\n",
       "    </tr>\n",
       "    <tr>\n",
       "      <th>2011-07-10 21:00:00</th>\n",
       "      <td>65</td>\n",
       "      <td>162</td>\n",
       "      <td>227</td>\n",
       "      <td>21</td>\n",
       "    </tr>\n",
       "    <tr>\n",
       "      <th>2011-02-07 04:00:00</th>\n",
       "      <td>1</td>\n",
       "      <td>1</td>\n",
       "      <td>2</td>\n",
       "      <td>4</td>\n",
       "    </tr>\n",
       "    <tr>\n",
       "      <th>2011-11-17 14:00:00</th>\n",
       "      <td>5</td>\n",
       "      <td>105</td>\n",
       "      <td>110</td>\n",
       "      <td>14</td>\n",
       "    </tr>\n",
       "    <tr>\n",
       "      <th>2011-01-01 00:00:00</th>\n",
       "      <td>3</td>\n",
       "      <td>13</td>\n",
       "      <td>16</td>\n",
       "      <td>0</td>\n",
       "    </tr>\n",
       "  </tbody>\n",
       "</table>\n",
       "<p>2178 rows × 4 columns</p>\n",
       "</div>"
      ],
      "text/plain": [
       "                     casual  registered  count  hour\n",
       "datetime                                            \n",
       "2012-07-10 13:00:00      77         203    280    13\n",
       "2012-10-07 13:00:00      80         240    320    13\n",
       "2012-01-11 14:00:00       3          70     73    14\n",
       "2012-09-19 21:00:00      25         324    349    21\n",
       "2012-04-02 04:00:00       2           2      4     4\n",
       "...                     ...         ...    ...   ...\n",
       "2012-05-10 06:00:00       9         130    139     6\n",
       "2011-07-10 21:00:00      65         162    227    21\n",
       "2011-02-07 04:00:00       1           1      2     4\n",
       "2011-11-17 14:00:00       5         105    110    14\n",
       "2011-01-01 00:00:00       3          13     16     0\n",
       "\n",
       "[2178 rows x 4 columns]"
      ]
     },
     "execution_count": 62,
     "metadata": {},
     "output_type": "execute_result"
    }
   ],
   "source": [
    "y_test"
   ]
  },
  {
   "cell_type": "code",
   "execution_count": 77,
   "id": "9cfb4473-297d-47b5-b36a-7d1dda9c4b8f",
   "metadata": {},
   "outputs": [],
   "source": [
    "X_test['hour']=X_test.index.hour"
   ]
  },
  {
   "cell_type": "code",
   "execution_count": 65,
   "id": "60823552-2bdd-4f62-b593-fd4dc6cb6d2b",
   "metadata": {},
   "outputs": [],
   "source": [
    "xtest = X_test[['hour','workingday','temp','humidity','windspeed']]"
   ]
  },
  {
   "cell_type": "code",
   "execution_count": 66,
   "id": "44875f63-b846-4311-b8dd-203762d96660",
   "metadata": {},
   "outputs": [],
   "source": [
    "poly_3 = PolynomialFeatures(degree=8)"
   ]
  },
  {
   "cell_type": "code",
   "execution_count": 67,
   "id": "688436f3-87b2-48d1-bd56-add48488994b",
   "metadata": {},
   "outputs": [
    {
     "data": {
      "text/plain": [
       "PolynomialFeatures(degree=8)"
      ]
     },
     "execution_count": 67,
     "metadata": {},
     "output_type": "execute_result"
    }
   ],
   "source": [
    "poly_3.fit(xtest)"
   ]
  },
  {
   "cell_type": "code",
   "execution_count": 68,
   "id": "444690a0-a52e-4248-b599-00faf630a17f",
   "metadata": {},
   "outputs": [],
   "source": [
    "Xpoly_test = poly_3.transform(xtest).astype(int)\n"
   ]
  },
  {
   "cell_type": "code",
   "execution_count": 69,
   "id": "a7b4e454-ffdb-4a9b-a2c3-5dd91015da48",
   "metadata": {},
   "outputs": [
    {
     "data": {
      "text/plain": [
       "LinearRegression()"
      ]
     },
     "execution_count": 69,
     "metadata": {},
     "output_type": "execute_result"
    }
   ],
   "source": [
    "m.fit(Xpoly_test, y_test['count'])"
   ]
  },
  {
   "cell_type": "code",
   "execution_count": 70,
   "id": "a2c319d4-bcba-477e-aef4-23bfc0e73230",
   "metadata": {
    "collapsed": true,
    "jupyter": {
     "outputs_hidden": true
    },
    "tags": []
   },
   "outputs": [
    {
     "name": "stderr",
     "output_type": "stream",
     "text": [
      "<ipython-input-70-3ff66a0148d8>:1: SettingWithCopyWarning: \n",
      "A value is trying to be set on a copy of a slice from a DataFrame.\n",
      "Try using .loc[row_indexer,col_indexer] = value instead\n",
      "\n",
      "See the caveats in the documentation: https://pandas.pydata.org/pandas-docs/stable/user_guide/indexing.html#returning-a-view-versus-a-copy\n",
      "  y_test['ypred_Xpoly_test'] = m.predict(Xpoly_test)\n"
     ]
    }
   ],
   "source": [
    "y_test['ypred_Xpoly_test'] = m.predict(Xpoly_test)"
   ]
  },
  {
   "cell_type": "code",
   "execution_count": 71,
   "id": "82ad20fc-e1b7-4e18-9c3a-8529ac2495cf",
   "metadata": {},
   "outputs": [
    {
     "data": {
      "text/plain": [
       "0.8187928815321611"
      ]
     },
     "execution_count": 71,
     "metadata": {},
     "output_type": "execute_result"
    }
   ],
   "source": [
    "m.score(Xpoly_test, y_test['count'])"
   ]
  },
  {
   "cell_type": "code",
   "execution_count": 72,
   "id": "4d14375c-04a3-42d5-a8b1-e4c28fc47d79",
   "metadata": {
    "tags": []
   },
   "outputs": [
    {
     "data": {
      "text/plain": [
       "(array([-3.22933394e+01, -3.06002083e+02, -2.79262094e+04, ...,\n",
       "         2.16857643e-09, -2.86661361e-10, -5.82213033e-09]),\n",
       " 2559.1828896878947)"
      ]
     },
     "execution_count": 72,
     "metadata": {},
     "output_type": "execute_result"
    }
   ],
   "source": [
    "m.coef_, m.intercept_"
   ]
  },
  {
   "cell_type": "code",
   "execution_count": 73,
   "id": "e36a12a7-1282-407b-bf3c-486105558805",
   "metadata": {},
   "outputs": [
    {
     "data": {
      "image/png": "[encoded data removed]",
      "text/plain": [
       "<Figure size 432x288 with 1 Axes>"
      ]
     },
     "metadata": {
      "needs_background": "light"
     },
     "output_type": "display_data"
    }
   ],
   "source": [
    "y_test.groupby('hour')['ypred_Xpoly_test'].mean().plot();\n",
    "y_test.groupby('hour')['count'].mean().plot();\n",
    "\n",
    "plt.legend();"
   ]
  },
  {
   "cell_type": "markdown",
   "id": "a7d25f32-801f-4163-ac18-f81c518a96ec",
   "metadata": {},
   "source": [
    "## It seems that needs some adjusment on the rush hours, but it predicts particularlly good at 2pm. Also the difference between Train and test score is around 6%. So even though it's acceptable, there is still room for improvement..."
   ]
  },
  {
   "cell_type": "markdown",
   "id": "d41b6dd4-7bf8-42c2-8fe4-7717f1bab5df",
   "metadata": {
    "tags": []
   },
   "source": [
    "# Regularization"
   ]
  },
  {
   "cell_type": "code",
   "execution_count": 74,
   "id": "9f4d5118-41b5-4af8-853c-fdee044bd64d",
   "metadata": {
    "collapsed": true,
    "jupyter": {
     "outputs_hidden": true
    },
    "tags": []
   },
   "outputs": [
    {
     "name": "stderr",
     "output_type": "stream",
     "text": [
      "C:\\Users\\andre\\anaconda3\\lib\\site-packages\\sklearn\\linear_model\\_coordinate_descent.py:530: ConvergenceWarning: Objective did not converge. You might want to increase the number of iterations. Duality gap: 42285597.645634376, tolerance: 28807.065471933856\n",
      "  model = cd_fast.enet_coordinate_descent(\n"
     ]
    },
    {
     "data": {
      "text/plain": [
       "<matplotlib.legend.Legend at 0x23399659d00>"
      ]
     },
     "execution_count": 74,
     "metadata": {},
     "output_type": "execute_result"
    },
    {
     "data": {
      "image/png": "[encoded data removed]",
      "text/plain": [
       "<Figure size 864x576 with 1 Axes>"
      ]
     },
     "metadata": {
      "needs_background": "light"
     },
     "output_type": "display_data"
    }
   ],
   "source": [
    "from sklearn.linear_model import Ridge\n",
    "from sklearn.linear_model import Lasso\n",
    "m = LinearRegression() #no regularization \n",
    "m_ridge = Ridge(alpha=0.5) #ridge regularization\n",
    "m_lasso = Lasso(alpha=0.5) #lasso regularization\n",
    "\n",
    "m.fit(Xpoly, y_train['count'])       \n",
    "m_ridge.fit(Xpoly, y_train['count'])  \n",
    "m_lasso.fit(Xpoly, y_train['count'])  \n",
    "\n",
    "ypred_reg = m.predict(Xpoly)\n",
    "ypred_ridge = m_ridge.predict(Xpoly)\n",
    "ypred_lasso = m_lasso.predict(Xpoly)\n",
    "\n",
    "plt.figure(figsize=(12, 8))\n",
    "plt.scatter(x['hour'], y_train['count'], s=8)\n",
    "plt.plot(x['hour'], ypred_reg)\n",
    "plt.plot(x['hour'], ypred_ridge)\n",
    "plt.plot(x['hour'], ypred_lasso)\n",
    "plt.legend(['No regularization', 'Ridge Regularization', 'Lasso Regularization'])"
   ]
  },
  {
   "cell_type": "markdown",
   "id": "be0dc756-2a33-444c-b4bb-3fbca0d2ecb0",
   "metadata": {
    "tags": []
   },
   "source": [
    "# Let's try to forecast Saturday 2pm"
   ]
  },
  {
   "cell_type": "code",
   "execution_count": 106,
   "id": "32013da4-3161-4c19-ac49-8e256ddebe2b",
   "metadata": {
    "tags": []
   },
   "outputs": [
    {
     "data": {
      "text/html": [
       "<div>\n",
       "<style scoped>\n",
       "    .dataframe tbody tr th:only-of-type {\n",
       "        vertical-align: middle;\n",
       "    }\n",
       "\n",
       "    .dataframe tbody tr th {\n",
       "        vertical-align: top;\n",
       "    }\n",
       "\n",
       "    .dataframe thead th {\n",
       "        text-align: right;\n",
       "    }\n",
       "</style>\n",
       "<table border=\"1\" class=\"dataframe\">\n",
       "  <thead>\n",
       "    <tr style=\"text-align: right;\">\n",
       "      <th></th>\n",
       "      <th>season</th>\n",
       "      <th>holiday</th>\n",
       "      <th>workingday</th>\n",
       "      <th>weather</th>\n",
       "      <th>temp</th>\n",
       "      <th>atemp</th>\n",
       "      <th>humidity</th>\n",
       "      <th>windspeed</th>\n",
       "      <th>hour</th>\n",
       "    </tr>\n",
       "    <tr>\n",
       "      <th>datetime</th>\n",
       "      <th></th>\n",
       "      <th></th>\n",
       "      <th></th>\n",
       "      <th></th>\n",
       "      <th></th>\n",
       "      <th></th>\n",
       "      <th></th>\n",
       "      <th></th>\n",
       "      <th></th>\n",
       "    </tr>\n",
       "  </thead>\n",
       "  <tbody>\n",
       "    <tr>\n",
       "      <th>2012-07-10 13:00:00</th>\n",
       "      <td>3</td>\n",
       "      <td>0</td>\n",
       "      <td>1</td>\n",
       "      <td>1</td>\n",
       "      <td>33.62</td>\n",
       "      <td>36.365</td>\n",
       "      <td>38</td>\n",
       "      <td>12.9980</td>\n",
       "      <td>13</td>\n",
       "    </tr>\n",
       "    <tr>\n",
       "      <th>2012-10-07 13:00:00</th>\n",
       "      <td>4</td>\n",
       "      <td>0</td>\n",
       "      <td>0</td>\n",
       "      <td>2</td>\n",
       "      <td>18.04</td>\n",
       "      <td>21.970</td>\n",
       "      <td>72</td>\n",
       "      <td>6.0032</td>\n",
       "      <td>13</td>\n",
       "    </tr>\n",
       "    <tr>\n",
       "      <th>2012-01-11 14:00:00</th>\n",
       "      <td>1</td>\n",
       "      <td>0</td>\n",
       "      <td>1</td>\n",
       "      <td>3</td>\n",
       "      <td>13.12</td>\n",
       "      <td>16.665</td>\n",
       "      <td>81</td>\n",
       "      <td>7.0015</td>\n",
       "      <td>14</td>\n",
       "    </tr>\n",
       "    <tr>\n",
       "      <th>2012-09-19 21:00:00</th>\n",
       "      <td>3</td>\n",
       "      <td>0</td>\n",
       "      <td>1</td>\n",
       "      <td>1</td>\n",
       "      <td>20.50</td>\n",
       "      <td>24.240</td>\n",
       "      <td>59</td>\n",
       "      <td>11.0014</td>\n",
       "      <td>21</td>\n",
       "    </tr>\n",
       "    <tr>\n",
       "      <th>2012-04-02 04:00:00</th>\n",
       "      <td>2</td>\n",
       "      <td>0</td>\n",
       "      <td>1</td>\n",
       "      <td>1</td>\n",
       "      <td>16.40</td>\n",
       "      <td>20.455</td>\n",
       "      <td>76</td>\n",
       "      <td>32.9975</td>\n",
       "      <td>4</td>\n",
       "    </tr>\n",
       "    <tr>\n",
       "      <th>...</th>\n",
       "      <td>...</td>\n",
       "      <td>...</td>\n",
       "      <td>...</td>\n",
       "      <td>...</td>\n",
       "      <td>...</td>\n",
       "      <td>...</td>\n",
       "      <td>...</td>\n",
       "      <td>...</td>\n",
       "      <td>...</td>\n",
       "    </tr>\n",
       "    <tr>\n",
       "      <th>2012-05-10 06:00:00</th>\n",
       "      <td>2</td>\n",
       "      <td>0</td>\n",
       "      <td>1</td>\n",
       "      <td>1</td>\n",
       "      <td>18.04</td>\n",
       "      <td>21.970</td>\n",
       "      <td>72</td>\n",
       "      <td>15.0013</td>\n",
       "      <td>6</td>\n",
       "    </tr>\n",
       "    <tr>\n",
       "      <th>2011-07-10 21:00:00</th>\n",
       "      <td>3</td>\n",
       "      <td>0</td>\n",
       "      <td>0</td>\n",
       "      <td>1</td>\n",
       "      <td>30.34</td>\n",
       "      <td>34.090</td>\n",
       "      <td>62</td>\n",
       "      <td>16.9979</td>\n",
       "      <td>21</td>\n",
       "    </tr>\n",
       "    <tr>\n",
       "      <th>2011-02-07 04:00:00</th>\n",
       "      <td>1</td>\n",
       "      <td>0</td>\n",
       "      <td>1</td>\n",
       "      <td>1</td>\n",
       "      <td>8.20</td>\n",
       "      <td>12.880</td>\n",
       "      <td>86</td>\n",
       "      <td>0.0000</td>\n",
       "      <td>4</td>\n",
       "    </tr>\n",
       "    <tr>\n",
       "      <th>2011-11-17 14:00:00</th>\n",
       "      <td>4</td>\n",
       "      <td>0</td>\n",
       "      <td>1</td>\n",
       "      <td>2</td>\n",
       "      <td>13.94</td>\n",
       "      <td>15.150</td>\n",
       "      <td>49</td>\n",
       "      <td>26.0027</td>\n",
       "      <td>14</td>\n",
       "    </tr>\n",
       "    <tr>\n",
       "      <th>2011-01-01 00:00:00</th>\n",
       "      <td>1</td>\n",
       "      <td>0</td>\n",
       "      <td>0</td>\n",
       "      <td>1</td>\n",
       "      <td>9.84</td>\n",
       "      <td>14.395</td>\n",
       "      <td>81</td>\n",
       "      <td>0.0000</td>\n",
       "      <td>0</td>\n",
       "    </tr>\n",
       "  </tbody>\n",
       "</table>\n",
       "<p>2178 rows × 9 columns</p>\n",
       "</div>"
      ],
      "text/plain": [
       "                     season  holiday  workingday  weather   temp   atemp  \\\n",
       "datetime                                                                   \n",
       "2012-07-10 13:00:00       3        0           1        1  33.62  36.365   \n",
       "2012-10-07 13:00:00       4        0           0        2  18.04  21.970   \n",
       "2012-01-11 14:00:00       1        0           1        3  13.12  16.665   \n",
       "2012-09-19 21:00:00       3        0           1        1  20.50  24.240   \n",
       "2012-04-02 04:00:00       2        0           1        1  16.40  20.455   \n",
       "...                     ...      ...         ...      ...    ...     ...   \n",
       "2012-05-10 06:00:00       2        0           1        1  18.04  21.970   \n",
       "2011-07-10 21:00:00       3        0           0        1  30.34  34.090   \n",
       "2011-02-07 04:00:00       1        0           1        1   8.20  12.880   \n",
       "2011-11-17 14:00:00       4        0           1        2  13.94  15.150   \n",
       "2011-01-01 00:00:00       1        0           0        1   9.84  14.395   \n",
       "\n",
       "                     humidity  windspeed  hour  \n",
       "datetime                                        \n",
       "2012-07-10 13:00:00        38    12.9980    13  \n",
       "2012-10-07 13:00:00        72     6.0032    13  \n",
       "2012-01-11 14:00:00        81     7.0015    14  \n",
       "2012-09-19 21:00:00        59    11.0014    21  \n",
       "2012-04-02 04:00:00        76    32.9975     4  \n",
       "...                       ...        ...   ...  \n",
       "2012-05-10 06:00:00        72    15.0013     6  \n",
       "2011-07-10 21:00:00        62    16.9979    21  \n",
       "2011-02-07 04:00:00        86     0.0000     4  \n",
       "2011-11-17 14:00:00        49    26.0027    14  \n",
       "2011-01-01 00:00:00        81     0.0000     0  \n",
       "\n",
       "[2178 rows x 9 columns]"
      ]
     },
     "execution_count": 106,
     "metadata": {},
     "output_type": "execute_result"
    }
   ],
   "source": [
    "X_test"
   ]
  },
  {
   "cell_type": "markdown",
   "id": "b8996f2b-a30c-4b21-9123-f5fc94314b58",
   "metadata": {},
   "source": [
    "## According to https://weather.com/weather/hourbyhour/l/57cc6eb02c4a08a4b126b05ffd2f41db82b40e54868394e6087105b9f5d4d83d#detailIndex4\n",
    "## Saturday 17th,2pm,  Berlin\n"
   ]
  },
  {
   "cell_type": "code",
   "execution_count": 78,
   "id": "6effb811-ae3f-4a6b-9058-1427d834ba6d",
   "metadata": {},
   "outputs": [],
   "source": [
    "temp_sat = 26\n",
    "humidity_sat = 68\n",
    "windspeed_sat= 18"
   ]
  },
  {
   "cell_type": "code",
   "execution_count": 79,
   "id": "230d9116-1abf-49f5-9dad-8c4b8f304b14",
   "metadata": {},
   "outputs": [
    {
     "data": {
      "text/plain": [
       "20.230859819952173"
      ]
     },
     "execution_count": 79,
     "metadata": {},
     "output_type": "execute_result"
    }
   ],
   "source": [
    "df['temp'].mean()"
   ]
  },
  {
   "cell_type": "code",
   "execution_count": 80,
   "id": "7bb68670-189c-4179-9f8b-b7559802d95b",
   "metadata": {},
   "outputs": [
    {
     "data": {
      "text/plain": [
       "61.88645967297446"
      ]
     },
     "execution_count": 80,
     "metadata": {},
     "output_type": "execute_result"
    }
   ],
   "source": [
    "df['humidity'].mean()"
   ]
  },
  {
   "cell_type": "code",
   "execution_count": 81,
   "id": "9c1b7fa7-84ac-42b4-b513-5d720adb467c",
   "metadata": {},
   "outputs": [
    {
     "data": {
      "text/plain": [
       "12.799395406945093"
      ]
     },
     "execution_count": 81,
     "metadata": {},
     "output_type": "execute_result"
    }
   ],
   "source": [
    "df['windspeed'].mean()"
   ]
  },
  {
   "cell_type": "code",
   "execution_count": 82,
   "id": "4d45a686-0a22-4f72-87f2-01363c6dd1ca",
   "metadata": {},
   "outputs": [],
   "source": [
    "x_dummy = {'hour':14,'workingday':0,'temp':temp_sat,'humidity':humidity_sat,'windspeed':windspeed_sat } # It's is going to be created to be able to add to the data set."
   ]
  },
  {
   "cell_type": "code",
   "execution_count": 83,
   "id": "6ee479e1-1242-46ce-8540-eb60187deb42",
   "metadata": {},
   "outputs": [],
   "source": [
    "x_dummy_df = pd.DataFrame(x_dummy, index=[len(df)])"
   ]
  },
  {
   "cell_type": "code",
   "execution_count": 84,
   "id": "bcd14c12-da9c-4379-9eef-5c8a5d662cc0",
   "metadata": {},
   "outputs": [
    {
     "data": {
      "text/html": [
       "<div>\n",
       "<style scoped>\n",
       "    .dataframe tbody tr th:only-of-type {\n",
       "        vertical-align: middle;\n",
       "    }\n",
       "\n",
       "    .dataframe tbody tr th {\n",
       "        vertical-align: top;\n",
       "    }\n",
       "\n",
       "    .dataframe thead th {\n",
       "        text-align: right;\n",
       "    }\n",
       "</style>\n",
       "<table border=\"1\" class=\"dataframe\">\n",
       "  <thead>\n",
       "    <tr style=\"text-align: right;\">\n",
       "      <th></th>\n",
       "      <th>hour</th>\n",
       "      <th>workingday</th>\n",
       "      <th>temp</th>\n",
       "      <th>humidity</th>\n",
       "      <th>windspeed</th>\n",
       "    </tr>\n",
       "  </thead>\n",
       "  <tbody>\n",
       "    <tr>\n",
       "      <th>10886</th>\n",
       "      <td>14</td>\n",
       "      <td>0</td>\n",
       "      <td>26</td>\n",
       "      <td>68</td>\n",
       "      <td>18</td>\n",
       "    </tr>\n",
       "  </tbody>\n",
       "</table>\n",
       "</div>"
      ],
      "text/plain": [
       "       hour  workingday  temp  humidity  windspeed\n",
       "10886    14           0    26        68         18"
      ]
     },
     "execution_count": 84,
     "metadata": {},
     "output_type": "execute_result"
    }
   ],
   "source": [
    "x_dummy_df"
   ]
  },
  {
   "cell_type": "code",
   "execution_count": 85,
   "id": "58bd3ccd-963c-40ab-99e9-5b8dbfd04a5b",
   "metadata": {},
   "outputs": [],
   "source": [
    "poly_4 = PolynomialFeatures(degree=8)"
   ]
  },
  {
   "cell_type": "code",
   "execution_count": 86,
   "id": "fee622fb-0024-4b1e-b242-cd6a59887430",
   "metadata": {},
   "outputs": [
    {
     "data": {
      "text/plain": [
       "PolynomialFeatures(degree=8)"
      ]
     },
     "execution_count": 86,
     "metadata": {},
     "output_type": "execute_result"
    }
   ],
   "source": [
    "poly_4.fit(x_dummy_df)"
   ]
  },
  {
   "cell_type": "code",
   "execution_count": 87,
   "id": "acac1f81-2226-45bc-987d-c22249f80f86",
   "metadata": {},
   "outputs": [],
   "source": [
    "Xpoly_dummy = poly_4.transform(x_dummy_df).astype(int)"
   ]
  },
  {
   "cell_type": "code",
   "execution_count": 88,
   "id": "b3c2a0e9-a093-4ab1-8fa1-05179648cd08",
   "metadata": {},
   "outputs": [],
   "source": [
    "ypred_sat= m.predict (Xpoly_dummy)"
   ]
  },
  {
   "cell_type": "code",
   "execution_count": 89,
   "id": "41f8cbb6-2789-4028-b391-8f1360a7fdbf",
   "metadata": {},
   "outputs": [
    {
     "data": {
      "text/plain": [
       "array([442.29023452])"
      ]
     },
     "execution_count": 89,
     "metadata": {},
     "output_type": "execute_result"
    }
   ],
   "source": [
    "ypred_sat"
   ]
  },
  {
   "cell_type": "markdown",
   "id": "3d9aa620-5466-43fd-a26f-57802ef51c53",
   "metadata": {},
   "source": [
    "# Under this conditions... \n",
    "* temp_sat = 26 \n",
    "* humidity_sat = 68 \n",
    "* windspeed_sat= 18 \n",
    "# the forecast says that it is expected **442** bycicles for that hour\n"
   ]
  },
  {
   "cell_type": "code",
   "execution_count": 94,
   "id": "97c67dd1-0836-4344-b2b8-d8d331722d15",
   "metadata": {},
   "outputs": [
    {
     "data": {
      "image/png": "[encoded data removed]",
      "text/plain": [
       "<Figure size 432x288 with 1 Axes>"
      ]
     },
     "metadata": {
      "needs_background": "light"
     },
     "output_type": "display_data"
    }
   ],
   "source": [
    "y_test.groupby('hour')['ypred_Xpoly_test'].mean().plot();\n",
    "y_test.groupby('hour')['count'].mean().plot();\n",
    "\n",
    "plt.scatter(df['hour'], df['count'], s=0.8);"
   ]
  },
  {
   "cell_type": "markdown",
   "id": "ba910a85-881a-4726-bd7e-d75384b52333",
   "metadata": {},
   "source": [
    "# RMSLE Train and Test "
   ]
  },
  {
   "cell_type": "code",
   "execution_count": 90,
   "id": "44e326ef-fa06-4429-b6f6-458102c8a280",
   "metadata": {},
   "outputs": [],
   "source": [
    "from sklearn.metrics import mean_squared_log_error\n"
   ]
  },
  {
   "cell_type": "code",
   "execution_count": 91,
   "id": "1d4ad85c-2904-4f10-af80-a3b75c5b6dfb",
   "metadata": {},
   "outputs": [],
   "source": [
    "def rmsle(p,a):\n",
    "    return np.sqrt(mean_squared_log_error(p,a))"
   ]
  },
  {
   "cell_type": "code",
   "execution_count": 92,
   "id": "128b3d94-c880-4006-98bd-c996a5c66a86",
   "metadata": {
    "collapsed": true,
    "jupyter": {
     "outputs_hidden": true
    },
    "tags": []
   },
   "outputs": [
    {
     "name": "stderr",
     "output_type": "stream",
     "text": [
      "<ipython-input-92-a393bd25d71e>:2: SettingWithCopyWarning: \n",
      "A value is trying to be set on a copy of a slice from a DataFrame\n",
      "\n",
      "See the caveats in the documentation: https://pandas.pydata.org/pandas-docs/stable/user_guide/indexing.html#returning-a-view-versus-a-copy\n",
      "  ypred_rmsle_train[ypred_rmsle_train < 0] = 0.0\n",
      "C:\\Users\\andre\\anaconda3\\lib\\site-packages\\pandas\\core\\series.py:992: SettingWithCopyWarning: \n",
      "A value is trying to be set on a copy of a slice from a DataFrame\n",
      "\n",
      "See the caveats in the documentation: https://pandas.pydata.org/pandas-docs/stable/user_guide/indexing.html#returning-a-view-versus-a-copy\n",
      "  self._where(~key, value, inplace=True)\n"
     ]
    }
   ],
   "source": [
    "ypred_rmsle_train= y_train['ypred_Xpoly']\n",
    "ypred_rmsle_train[ypred_rmsle_train < 0] = 0.0"
   ]
  },
  {
   "cell_type": "code",
   "execution_count": 95,
   "id": "34598b26-1d57-40aa-afcc-2bb7dd3c421b",
   "metadata": {},
   "outputs": [
    {
     "data": {
      "text/plain": [
       "0.9576581915844316"
      ]
     },
     "execution_count": 95,
     "metadata": {},
     "output_type": "execute_result"
    }
   ],
   "source": [
    "rmsle(y_train['count'],ypred_rmsle_train)"
   ]
  },
  {
   "cell_type": "code",
   "execution_count": 96,
   "id": "cfc0f86c-5e44-4776-981b-1cb5815b65c9",
   "metadata": {
    "collapsed": true,
    "jupyter": {
     "outputs_hidden": true
    },
    "tags": []
   },
   "outputs": [
    {
     "name": "stderr",
     "output_type": "stream",
     "text": [
      "<ipython-input-96-3dcd572f9f13>:2: SettingWithCopyWarning: \n",
      "A value is trying to be set on a copy of a slice from a DataFrame\n",
      "\n",
      "See the caveats in the documentation: https://pandas.pydata.org/pandas-docs/stable/user_guide/indexing.html#returning-a-view-versus-a-copy\n",
      "  ypred_rmsle_test[ypred_rmsle_test < 0] = 0.0\n",
      "C:\\Users\\andre\\anaconda3\\lib\\site-packages\\pandas\\core\\series.py:992: SettingWithCopyWarning: \n",
      "A value is trying to be set on a copy of a slice from a DataFrame\n",
      "\n",
      "See the caveats in the documentation: https://pandas.pydata.org/pandas-docs/stable/user_guide/indexing.html#returning-a-view-versus-a-copy\n",
      "  self._where(~key, value, inplace=True)\n"
     ]
    }
   ],
   "source": [
    "ypred_rmsle_test= y_test['ypred_Xpoly_test']\n",
    "ypred_rmsle_test[ypred_rmsle_test < 0] = 0.0"
   ]
  },
  {
   "cell_type": "code",
   "execution_count": 97,
   "id": "47d2ab9a-d6d8-4d75-a7ae-e4eb10f81688",
   "metadata": {},
   "outputs": [
    {
     "data": {
      "text/plain": [
       "0.9447592549914082"
      ]
     },
     "execution_count": 97,
     "metadata": {},
     "output_type": "execute_result"
    }
   ],
   "source": [
    "rmsle(y_test['count'],ypred_rmsle_test)"
   ]
  },
  {
   "cell_type": "markdown",
   "id": "5a19bf13-64ff-41fc-aab2-52e846fc4480",
   "metadata": {},
   "source": [
    "## Kaggle Submission"
   ]
  },
  {
   "cell_type": "code",
   "execution_count": 114,
   "id": "0ef54a5f-7c6c-4fdd-bfea-d5f5c876b1b2",
   "metadata": {
    "collapsed": true,
    "jupyter": {
     "outputs_hidden": true
    },
    "tags": []
   },
   "outputs": [
    {
     "data": {
      "text/html": [
       "<div>\n",
       "<style scoped>\n",
       "    .dataframe tbody tr th:only-of-type {\n",
       "        vertical-align: middle;\n",
       "    }\n",
       "\n",
       "    .dataframe tbody tr th {\n",
       "        vertical-align: top;\n",
       "    }\n",
       "\n",
       "    .dataframe thead th {\n",
       "        text-align: right;\n",
       "    }\n",
       "</style>\n",
       "<table border=\"1\" class=\"dataframe\">\n",
       "  <thead>\n",
       "    <tr style=\"text-align: right;\">\n",
       "      <th></th>\n",
       "      <th>season</th>\n",
       "      <th>holiday</th>\n",
       "      <th>workingday</th>\n",
       "      <th>weather</th>\n",
       "      <th>temp</th>\n",
       "      <th>atemp</th>\n",
       "      <th>humidity</th>\n",
       "      <th>windspeed</th>\n",
       "    </tr>\n",
       "    <tr>\n",
       "      <th>datetime</th>\n",
       "      <th></th>\n",
       "      <th></th>\n",
       "      <th></th>\n",
       "      <th></th>\n",
       "      <th></th>\n",
       "      <th></th>\n",
       "      <th></th>\n",
       "      <th></th>\n",
       "    </tr>\n",
       "  </thead>\n",
       "  <tbody>\n",
       "    <tr>\n",
       "      <th>2011-01-20 00:00:00</th>\n",
       "      <td>1</td>\n",
       "      <td>0</td>\n",
       "      <td>1</td>\n",
       "      <td>1</td>\n",
       "      <td>10.66</td>\n",
       "      <td>11.365</td>\n",
       "      <td>56</td>\n",
       "      <td>26.0027</td>\n",
       "    </tr>\n",
       "    <tr>\n",
       "      <th>2011-01-20 01:00:00</th>\n",
       "      <td>1</td>\n",
       "      <td>0</td>\n",
       "      <td>1</td>\n",
       "      <td>1</td>\n",
       "      <td>10.66</td>\n",
       "      <td>13.635</td>\n",
       "      <td>56</td>\n",
       "      <td>0.0000</td>\n",
       "    </tr>\n",
       "    <tr>\n",
       "      <th>2011-01-20 02:00:00</th>\n",
       "      <td>1</td>\n",
       "      <td>0</td>\n",
       "      <td>1</td>\n",
       "      <td>1</td>\n",
       "      <td>10.66</td>\n",
       "      <td>13.635</td>\n",
       "      <td>56</td>\n",
       "      <td>0.0000</td>\n",
       "    </tr>\n",
       "    <tr>\n",
       "      <th>2011-01-20 03:00:00</th>\n",
       "      <td>1</td>\n",
       "      <td>0</td>\n",
       "      <td>1</td>\n",
       "      <td>1</td>\n",
       "      <td>10.66</td>\n",
       "      <td>12.880</td>\n",
       "      <td>56</td>\n",
       "      <td>11.0014</td>\n",
       "    </tr>\n",
       "    <tr>\n",
       "      <th>2011-01-20 04:00:00</th>\n",
       "      <td>1</td>\n",
       "      <td>0</td>\n",
       "      <td>1</td>\n",
       "      <td>1</td>\n",
       "      <td>10.66</td>\n",
       "      <td>12.880</td>\n",
       "      <td>56</td>\n",
       "      <td>11.0014</td>\n",
       "    </tr>\n",
       "    <tr>\n",
       "      <th>...</th>\n",
       "      <td>...</td>\n",
       "      <td>...</td>\n",
       "      <td>...</td>\n",
       "      <td>...</td>\n",
       "      <td>...</td>\n",
       "      <td>...</td>\n",
       "      <td>...</td>\n",
       "      <td>...</td>\n",
       "    </tr>\n",
       "    <tr>\n",
       "      <th>2012-12-31 19:00:00</th>\n",
       "      <td>1</td>\n",
       "      <td>0</td>\n",
       "      <td>1</td>\n",
       "      <td>2</td>\n",
       "      <td>10.66</td>\n",
       "      <td>12.880</td>\n",
       "      <td>60</td>\n",
       "      <td>11.0014</td>\n",
       "    </tr>\n",
       "    <tr>\n",
       "      <th>2012-12-31 20:00:00</th>\n",
       "      <td>1</td>\n",
       "      <td>0</td>\n",
       "      <td>1</td>\n",
       "      <td>2</td>\n",
       "      <td>10.66</td>\n",
       "      <td>12.880</td>\n",
       "      <td>60</td>\n",
       "      <td>11.0014</td>\n",
       "    </tr>\n",
       "    <tr>\n",
       "      <th>2012-12-31 21:00:00</th>\n",
       "      <td>1</td>\n",
       "      <td>0</td>\n",
       "      <td>1</td>\n",
       "      <td>1</td>\n",
       "      <td>10.66</td>\n",
       "      <td>12.880</td>\n",
       "      <td>60</td>\n",
       "      <td>11.0014</td>\n",
       "    </tr>\n",
       "    <tr>\n",
       "      <th>2012-12-31 22:00:00</th>\n",
       "      <td>1</td>\n",
       "      <td>0</td>\n",
       "      <td>1</td>\n",
       "      <td>1</td>\n",
       "      <td>10.66</td>\n",
       "      <td>13.635</td>\n",
       "      <td>56</td>\n",
       "      <td>8.9981</td>\n",
       "    </tr>\n",
       "    <tr>\n",
       "      <th>2012-12-31 23:00:00</th>\n",
       "      <td>1</td>\n",
       "      <td>0</td>\n",
       "      <td>1</td>\n",
       "      <td>1</td>\n",
       "      <td>10.66</td>\n",
       "      <td>13.635</td>\n",
       "      <td>65</td>\n",
       "      <td>8.9981</td>\n",
       "    </tr>\n",
       "  </tbody>\n",
       "</table>\n",
       "<p>6493 rows × 8 columns</p>\n",
       "</div>"
      ],
      "text/plain": [
       "                     season  holiday  workingday  weather   temp   atemp  \\\n",
       "datetime                                                                   \n",
       "2011-01-20 00:00:00       1        0           1        1  10.66  11.365   \n",
       "2011-01-20 01:00:00       1        0           1        1  10.66  13.635   \n",
       "2011-01-20 02:00:00       1        0           1        1  10.66  13.635   \n",
       "2011-01-20 03:00:00       1        0           1        1  10.66  12.880   \n",
       "2011-01-20 04:00:00       1        0           1        1  10.66  12.880   \n",
       "...                     ...      ...         ...      ...    ...     ...   \n",
       "2012-12-31 19:00:00       1        0           1        2  10.66  12.880   \n",
       "2012-12-31 20:00:00       1        0           1        2  10.66  12.880   \n",
       "2012-12-31 21:00:00       1        0           1        1  10.66  12.880   \n",
       "2012-12-31 22:00:00       1        0           1        1  10.66  13.635   \n",
       "2012-12-31 23:00:00       1        0           1        1  10.66  13.635   \n",
       "\n",
       "                     humidity  windspeed  \n",
       "datetime                                  \n",
       "2011-01-20 00:00:00        56    26.0027  \n",
       "2011-01-20 01:00:00        56     0.0000  \n",
       "2011-01-20 02:00:00        56     0.0000  \n",
       "2011-01-20 03:00:00        56    11.0014  \n",
       "2011-01-20 04:00:00        56    11.0014  \n",
       "...                       ...        ...  \n",
       "2012-12-31 19:00:00        60    11.0014  \n",
       "2012-12-31 20:00:00        60    11.0014  \n",
       "2012-12-31 21:00:00        60    11.0014  \n",
       "2012-12-31 22:00:00        56     8.9981  \n",
       "2012-12-31 23:00:00        65     8.9981  \n",
       "\n",
       "[6493 rows x 8 columns]"
      ]
     },
     "execution_count": 114,
     "metadata": {},
     "output_type": "execute_result"
    }
   ],
   "source": [
    "df_kag=pd.read_csv('C:/Users/andre/Documents/SPICED/unsupervised-lemon-encounter-notes/week_03/data/test.csv', sep=',', parse_dates=True, index_col=0)\n",
    "df_kag"
   ]
  },
  {
   "cell_type": "code",
   "execution_count": 115,
   "id": "ac3d543b-5d54-4ed6-881a-e425462dcd71",
   "metadata": {},
   "outputs": [],
   "source": [
    "x_kag = df_kag.iloc[:,:8]"
   ]
  },
  {
   "cell_type": "code",
   "execution_count": 116,
   "id": "8c79dcb0-8ceb-42f5-b0db-a35a1a7731a9",
   "metadata": {},
   "outputs": [],
   "source": [
    "y_kag = df_kag.iloc[:,8:]"
   ]
  },
  {
   "cell_type": "code",
   "execution_count": 118,
   "id": "848fe230-86f4-4c80-8f38-85df1b01deb3",
   "metadata": {},
   "outputs": [],
   "source": [
    "x_kag['hour'] = x_kag.index.hour"
   ]
  },
  {
   "cell_type": "code",
   "execution_count": 121,
   "id": "4817dfd9-c9da-45ce-8d8f-08b58a876797",
   "metadata": {},
   "outputs": [],
   "source": [
    "x_kag_poly = x_kag[['hour','workingday','temp','humidity','windspeed']]"
   ]
  },
  {
   "cell_type": "code",
   "execution_count": 122,
   "id": "7770cadc-311f-4a9c-a6e3-bc66b4ab10a4",
   "metadata": {},
   "outputs": [],
   "source": [
    "poly_kag = PolynomialFeatures(degree=8)"
   ]
  },
  {
   "cell_type": "code",
   "execution_count": 123,
   "id": "60d6e263-5f92-40f3-9ace-534a4558914b",
   "metadata": {},
   "outputs": [
    {
     "data": {
      "text/plain": [
       "PolynomialFeatures(degree=8)"
      ]
     },
     "execution_count": 123,
     "metadata": {},
     "output_type": "execute_result"
    }
   ],
   "source": [
    "poly_kag.fit(x_kag_poly)"
   ]
  },
  {
   "cell_type": "code",
   "execution_count": 126,
   "id": "c1c5de66-777f-4557-82d5-10e8722af943",
   "metadata": {},
   "outputs": [],
   "source": [
    "Xpoly_kag = poly_kag.transform(x_kag_poly).astype(int)"
   ]
  },
  {
   "cell_type": "code",
   "execution_count": 176,
   "id": "0d2ff0dc-9335-4a41-b68d-05901f0a5716",
   "metadata": {},
   "outputs": [],
   "source": [
    "y_pred_kag= m.predict(Xpoly_kag)"
   ]
  },
  {
   "cell_type": "code",
   "execution_count": 194,
   "id": "e11e1449-db68-4dee-ba30-dc7d9bce9043",
   "metadata": {
    "collapsed": true,
    "jupyter": {
     "outputs_hidden": true
    },
    "tags": []
   },
   "outputs": [
    {
     "name": "stderr",
     "output_type": "stream",
     "text": [
      "<ipython-input-194-ead50b5a1f94>:4: SettingWithCopyWarning: \n",
      "A value is trying to be set on a copy of a slice from a DataFrame\n",
      "\n",
      "See the caveats in the documentation: https://pandas.pydata.org/pandas-docs/stable/user_guide/indexing.html#returning-a-view-versus-a-copy\n",
      "  kag_df['count'][kag_df['count']<0] = 0.0\n"
     ]
    },
    {
     "data": {
      "text/html": [
       "<div>\n",
       "<style scoped>\n",
       "    .dataframe tbody tr th:only-of-type {\n",
       "        vertical-align: middle;\n",
       "    }\n",
       "\n",
       "    .dataframe tbody tr th {\n",
       "        vertical-align: top;\n",
       "    }\n",
       "\n",
       "    .dataframe thead th {\n",
       "        text-align: right;\n",
       "    }\n",
       "</style>\n",
       "<table border=\"1\" class=\"dataframe\">\n",
       "  <thead>\n",
       "    <tr style=\"text-align: right;\">\n",
       "      <th></th>\n",
       "      <th>datetime</th>\n",
       "      <th>count</th>\n",
       "    </tr>\n",
       "  </thead>\n",
       "  <tbody>\n",
       "    <tr>\n",
       "      <th>0</th>\n",
       "      <td>2011-01-20 00:00:00</td>\n",
       "      <td>24.726713</td>\n",
       "    </tr>\n",
       "    <tr>\n",
       "      <th>1</th>\n",
       "      <td>2011-01-20 01:00:00</td>\n",
       "      <td>37.755833</td>\n",
       "    </tr>\n",
       "    <tr>\n",
       "      <th>2</th>\n",
       "      <td>2011-01-20 02:00:00</td>\n",
       "      <td>0.000000</td>\n",
       "    </tr>\n",
       "    <tr>\n",
       "      <th>3</th>\n",
       "      <td>2011-01-20 03:00:00</td>\n",
       "      <td>9.889049</td>\n",
       "    </tr>\n",
       "    <tr>\n",
       "      <th>4</th>\n",
       "      <td>2011-01-20 04:00:00</td>\n",
       "      <td>32.834362</td>\n",
       "    </tr>\n",
       "    <tr>\n",
       "      <th>...</th>\n",
       "      <td>...</td>\n",
       "      <td>...</td>\n",
       "    </tr>\n",
       "    <tr>\n",
       "      <th>6488</th>\n",
       "      <td>2012-12-31 19:00:00</td>\n",
       "      <td>191.903767</td>\n",
       "    </tr>\n",
       "    <tr>\n",
       "      <th>6489</th>\n",
       "      <td>2012-12-31 20:00:00</td>\n",
       "      <td>135.007038</td>\n",
       "    </tr>\n",
       "    <tr>\n",
       "      <th>6490</th>\n",
       "      <td>2012-12-31 21:00:00</td>\n",
       "      <td>75.157917</td>\n",
       "    </tr>\n",
       "    <tr>\n",
       "      <th>6491</th>\n",
       "      <td>2012-12-31 22:00:00</td>\n",
       "      <td>97.432209</td>\n",
       "    </tr>\n",
       "    <tr>\n",
       "      <th>6492</th>\n",
       "      <td>2012-12-31 23:00:00</td>\n",
       "      <td>60.326144</td>\n",
       "    </tr>\n",
       "  </tbody>\n",
       "</table>\n",
       "<p>6493 rows × 2 columns</p>\n",
       "</div>"
      ],
      "text/plain": [
       "                datetime       count\n",
       "0    2011-01-20 00:00:00   24.726713\n",
       "1    2011-01-20 01:00:00   37.755833\n",
       "2    2011-01-20 02:00:00    0.000000\n",
       "3    2011-01-20 03:00:00    9.889049\n",
       "4    2011-01-20 04:00:00   32.834362\n",
       "...                  ...         ...\n",
       "6488 2012-12-31 19:00:00  191.903767\n",
       "6489 2012-12-31 20:00:00  135.007038\n",
       "6490 2012-12-31 21:00:00   75.157917\n",
       "6491 2012-12-31 22:00:00   97.432209\n",
       "6492 2012-12-31 23:00:00   60.326144\n",
       "\n",
       "[6493 rows x 2 columns]"
      ]
     },
     "execution_count": 194,
     "metadata": {},
     "output_type": "execute_result"
    }
   ],
   "source": [
    "kag_df = {\"datetime\": y_kag.index,\n",
    "                 \"count\": y_pred_kag}\n",
    "kag_df = pd.DataFrame(kag_df)\n",
    "kag_df['count'][kag_df['count']<0] = 0.0\n",
    "kag_df"
   ]
  },
  {
   "cell_type": "code",
   "execution_count": 195,
   "id": "0901612c-48ca-46c5-b7c8-dbe7e0321a37",
   "metadata": {},
   "outputs": [],
   "source": [
    "kag_df.to_csv(\"kag_df_bikes.csv\",index=False)"
   ]
  },
  {
   "cell_type": "markdown",
   "id": "4c837f9d-5084-45fe-8048-34e6ec20c60e",
   "metadata": {},
   "source": [
    "## Kaggle Score 1.105"
   ]
  },
  {
   "cell_type": "markdown",
   "id": "596a54f8-1960-43c7-951d-a2decf1600db",
   "metadata": {},
   "source": [
    "# Let's try to improve a little bit the model with Random Forests"
   ]
  },
  {
   "cell_type": "code",
   "execution_count": 98,
   "id": "3ded3fca-4fe1-458c-8993-f5388ad31fc2",
   "metadata": {},
   "outputs": [],
   "source": [
    "from sklearn.ensemble import RandomForestClassifier\n",
    "from sklearn.metrics import accuracy_score\n"
   ]
  },
  {
   "cell_type": "code",
   "execution_count": 170,
   "id": "8fd6021f-2480-4ba3-ba44-0ac48af40922",
   "metadata": {
    "tags": []
   },
   "outputs": [],
   "source": [
    "rf = RandomForestClassifier(n_estimators=500, max_depth=10, min_samples_leaf=3)"
   ]
  },
  {
   "cell_type": "code",
   "execution_count": 171,
   "id": "8ceef6cd-8ebe-4939-9d68-0691876d2e33",
   "metadata": {},
   "outputs": [
    {
     "data": {
      "text/plain": [
       "RandomForestClassifier(max_depth=10, min_samples_leaf=3, n_estimators=500)"
      ]
     },
     "execution_count": 171,
     "metadata": {},
     "output_type": "execute_result"
    }
   ],
   "source": [
    "rf.fit(x,y_train['count'])"
   ]
  },
  {
   "cell_type": "code",
   "execution_count": 172,
   "id": "da9b2670-9020-4b2e-9914-bbd1389d03e4",
   "metadata": {},
   "outputs": [],
   "source": [
    "ypred_rf = rf.predict(x)"
   ]
  },
  {
   "cell_type": "code",
   "execution_count": 173,
   "id": "eac1f777-f89a-423d-804a-818c0bc1fd54",
   "metadata": {},
   "outputs": [
    {
     "data": {
      "text/plain": [
       "0.7103812586127699"
      ]
     },
     "execution_count": 173,
     "metadata": {},
     "output_type": "execute_result"
    }
   ],
   "source": [
    "accuracy_score(ypred_rf,y_train['count'])"
   ]
  },
  {
   "cell_type": "markdown",
   "id": "9c9b6d05-6119-43cf-b5c6-73458bfd4a4a",
   "metadata": {},
   "source": [
    "## It's acceptable but not so good as with linear regression"
   ]
  },
  {
   "cell_type": "code",
   "execution_count": 174,
   "id": "1f744b48-00d5-4cdb-b1c9-9d9e20b34473",
   "metadata": {
    "collapsed": true,
    "jupyter": {
     "outputs_hidden": true
    },
    "tags": []
   },
   "outputs": [
    {
     "data": {
      "text/plain": [
       "array([0.25919966, 0.05583824, 0.24176152, 0.23587926, 0.20732132])"
      ]
     },
     "execution_count": 174,
     "metadata": {},
     "output_type": "execute_result"
    }
   ],
   "source": [
    "rf.feature_importances_"
   ]
  },
  {
   "cell_type": "markdown",
   "id": "cf857b37-ac05-4f1d-93fa-5770532ae79a",
   "metadata": {
    "tags": []
   },
   "source": [
    "## Maybe I can improve it using Grid Search"
   ]
  },
  {
   "cell_type": "code",
   "execution_count": 105,
   "id": "9320309f-633f-4eef-93c8-0def67c60883",
   "metadata": {},
   "outputs": [],
   "source": [
    "from sklearn.model_selection import GridSearchCV"
   ]
  },
  {
   "cell_type": "code",
   "execution_count": null,
   "id": "eaedea8d-9f8a-4087-a1e8-b326fa2e285f",
   "metadata": {},
   "outputs": [],
   "source": [
    "rf_opti = RandomForestClassifier()"
   ]
  },
  {
   "cell_type": "code",
   "execution_count": null,
   "id": "43d2b2ac-1fd3-47a5-81da-1ec4634e4c2f",
   "metadata": {
    "tags": []
   },
   "outputs": [],
   "source": [
    "hyperparams = {\n",
    "    'max_depth': [2, 5, 7, 10], \n",
    "    'n_estimators': [50, 100,150,200],\n",
    "    'min_samples_leaf': [1,2,3,4]\n",
    "}"
   ]
  },
  {
   "cell_type": "code",
   "execution_count": null,
   "id": "422d4d4d-0786-48ec-bde5-f280ebb426f5",
   "metadata": {},
   "outputs": [],
   "source": [
    "g = GridSearchCV(rf_opti, hyperparams, cv=10, scoring='r2')"
   ]
  },
  {
   "cell_type": "code",
   "execution_count": null,
   "id": "5191ef2a-a06b-40d0-b47d-7259d0a26aff",
   "metadata": {
    "tags": []
   },
   "outputs": [],
   "source": [
    "g.fit(x, y_train['count'])"
   ]
  },
  {
   "cell_type": "code",
   "execution_count": null,
   "id": "a8f4334d-0770-4539-bf0e-515f14dff20f",
   "metadata": {},
   "outputs": [],
   "source": [
    "g.best_params_    "
   ]
  },
  {
   "cell_type": "code",
   "execution_count": null,
   "id": "41c65d64-ad01-4390-9ff1-71fc272aae26",
   "metadata": {},
   "outputs": [],
   "source": [
    "pd.DataFrame(g.cv_results_)"
   ]
  },
  {
   "cell_type": "code",
   "execution_count": null,
   "id": "3e4454b2-4dee-4d6f-855f-393ad8725634",
   "metadata": {},
   "outputs": [],
   "source": []
  },
  {
   "cell_type": "code",
   "execution_count": null,
   "id": "f79ddd6e-85f2-4a45-a7fe-71c8e4c6a91b",
   "metadata": {},
   "outputs": [],
   "source": [
    "rf_best = g.best_estimator_"
   ]
  },
  {
   "cell_type": "code",
   "execution_count": null,
   "id": "284e2067-1541-4779-a5cc-1e2aac13e8fe",
   "metadata": {},
   "outputs": [],
   "source": [
    "rf_best.predict(Xtest)"
   ]
  },
  {
   "cell_type": "code",
   "execution_count": null,
   "id": "adf44fa7-705f-47af-a7e8-ae8df1192952",
   "metadata": {},
   "outputs": [],
   "source": [
    "rf_best.score(Xtest, ytest)"
   ]
  },
  {
   "cell_type": "code",
   "execution_count": null,
   "id": "46e9f82c-2ac8-41b2-b4a2-f3df640d3987",
   "metadata": {
    "tags": []
   },
   "outputs": [],
   "source": []
  }
 ],
 "metadata": {
  "kernelspec": {
   "display_name": "Python 3",
   "language": "python",
   "name": "python3"
  },
  "language_info": {
   "codemirror_mode": {
    "name": "ipython",
    "version": 3
   },
   "file_extension": ".py",
   "mimetype": "text/x-python",
   "name": "python",
   "nbconvert_exporter": "python",
   "pygments_lexer": "ipython3",
   "version": "3.8.8"
  }
 },
 "nbformat": 4,
 "nbformat_minor": 5
}
